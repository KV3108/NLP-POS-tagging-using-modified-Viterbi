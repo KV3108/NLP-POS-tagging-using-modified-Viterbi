{
 "cells": [
  {
   "cell_type": "markdown",
   "metadata": {},
   "source": [
    "## POS tagging using modified Viterbi \n",
    "####   Submitted by:- Koustav Chakraborty"
   ]
  },
  {
   "cell_type": "markdown",
   "metadata": {},
   "source": [
    "**Problem Statement**<br>\n",
    " The vanilla Viterbi algorithm we had written had resulted in ~87% accuracy. The approx. 13% loss of accuracy was majorly due to the fact that when the algorithm encountered an unknown word (i.e. not present in the training set, such as 'Twitter'), it assigned an incorrect tag arbitrarily. This is because, for unknown words, the emission probabilities for all candidate tags are 0, so the algorithm arbitrarily chooses (the first) tag.\n",
    "\n",
    "\n",
    "In this assignment, you need to modify the Viterbi algorithm to solve the problem of unknown words using at least two techniques. Though there could be multiple ways to solve this problem, you may use the following hints:\n",
    "\n",
    "Which tag class do you think most unknown words belong to? Can you identify rules (e.g. based on morphological cues) that can be used to tag unknown words? You may define separate python functions to exploit these rules so that they work in tandem with the original Viterbi algorithm.\n",
    "Why does the Viterbi algorithm choose a random tag on encountering an unknown word? Can you modify the Viterbi algorithm so that it considers only one of the transition or emission probabilities for unknown words?\n",
    " \n",
    "You have been given a 'test' file below containing some sample sentences with unknown words. Look at the sentences and try to observe rules which may be useful to tag unknown words. Your final model will be evaluated on a similar test file."
   ]
  },
  {
   "cell_type": "markdown",
   "metadata": {},
   "source": [
    "### Data Preparation"
   ]
  },
  {
   "cell_type": "markdown",
   "metadata": {},
   "source": [
    "#### Exploring Treebank Tagged Corpus"
   ]
  },
  {
   "cell_type": "code",
   "execution_count": 1,
   "metadata": {},
   "outputs": [],
   "source": [
    "#Importing libraries as required\n",
    "import nltk, re, pprint\n",
    "import numpy as np\n",
    "import pandas as pd\n",
    "import requests\n",
    "import matplotlib.pyplot as plt\n",
    "import seaborn as sns\n",
    "import pprint, time\n",
    "import random\n",
    "from sklearn.model_selection import train_test_split\n",
    "from nltk.tokenize import word_tokenize\n",
    "import codecs"
   ]
  },
  {
   "cell_type": "code",
   "execution_count": 2,
   "metadata": {},
   "outputs": [],
   "source": [
    "# reading the Treebank tagged sentences\n",
    "nltk_data = list(nltk.corpus.treebank.tagged_sents(tagset='universal'))"
   ]
  },
  {
   "cell_type": "code",
   "execution_count": 3,
   "metadata": {},
   "outputs": [
    {
     "data": {
      "text/plain": [
       "[[('Pierre', 'NOUN'),\n",
       "  ('Vinken', 'NOUN'),\n",
       "  (',', '.'),\n",
       "  ('61', 'NUM'),\n",
       "  ('years', 'NOUN'),\n",
       "  ('old', 'ADJ'),\n",
       "  (',', '.'),\n",
       "  ('will', 'VERB'),\n",
       "  ('join', 'VERB'),\n",
       "  ('the', 'DET'),\n",
       "  ('board', 'NOUN'),\n",
       "  ('as', 'ADP'),\n",
       "  ('a', 'DET'),\n",
       "  ('nonexecutive', 'ADJ'),\n",
       "  ('director', 'NOUN'),\n",
       "  ('Nov.', 'NOUN'),\n",
       "  ('29', 'NUM'),\n",
       "  ('.', '.')],\n",
       " [('Mr.', 'NOUN'),\n",
       "  ('Vinken', 'NOUN'),\n",
       "  ('is', 'VERB'),\n",
       "  ('chairman', 'NOUN'),\n",
       "  ('of', 'ADP'),\n",
       "  ('Elsevier', 'NOUN'),\n",
       "  ('N.V.', 'NOUN'),\n",
       "  (',', '.'),\n",
       "  ('the', 'DET'),\n",
       "  ('Dutch', 'NOUN'),\n",
       "  ('publishing', 'VERB'),\n",
       "  ('group', 'NOUN'),\n",
       "  ('.', '.')],\n",
       " [('Rudolph', 'NOUN'),\n",
       "  ('Agnew', 'NOUN'),\n",
       "  (',', '.'),\n",
       "  ('55', 'NUM'),\n",
       "  ('years', 'NOUN'),\n",
       "  ('old', 'ADJ'),\n",
       "  ('and', 'CONJ'),\n",
       "  ('former', 'ADJ'),\n",
       "  ('chairman', 'NOUN'),\n",
       "  ('of', 'ADP'),\n",
       "  ('Consolidated', 'NOUN'),\n",
       "  ('Gold', 'NOUN'),\n",
       "  ('Fields', 'NOUN'),\n",
       "  ('PLC', 'NOUN'),\n",
       "  (',', '.'),\n",
       "  ('was', 'VERB'),\n",
       "  ('named', 'VERB'),\n",
       "  ('*-1', 'X'),\n",
       "  ('a', 'DET'),\n",
       "  ('nonexecutive', 'ADJ'),\n",
       "  ('director', 'NOUN'),\n",
       "  ('of', 'ADP'),\n",
       "  ('this', 'DET'),\n",
       "  ('British', 'ADJ'),\n",
       "  ('industrial', 'ADJ'),\n",
       "  ('conglomerate', 'NOUN'),\n",
       "  ('.', '.')],\n",
       " [('A', 'DET'),\n",
       "  ('form', 'NOUN'),\n",
       "  ('of', 'ADP'),\n",
       "  ('asbestos', 'NOUN'),\n",
       "  ('once', 'ADV'),\n",
       "  ('used', 'VERB'),\n",
       "  ('*', 'X'),\n",
       "  ('*', 'X'),\n",
       "  ('to', 'PRT'),\n",
       "  ('make', 'VERB'),\n",
       "  ('Kent', 'NOUN'),\n",
       "  ('cigarette', 'NOUN'),\n",
       "  ('filters', 'NOUN'),\n",
       "  ('has', 'VERB'),\n",
       "  ('caused', 'VERB'),\n",
       "  ('a', 'DET'),\n",
       "  ('high', 'ADJ'),\n",
       "  ('percentage', 'NOUN'),\n",
       "  ('of', 'ADP'),\n",
       "  ('cancer', 'NOUN'),\n",
       "  ('deaths', 'NOUN'),\n",
       "  ('among', 'ADP'),\n",
       "  ('a', 'DET'),\n",
       "  ('group', 'NOUN'),\n",
       "  ('of', 'ADP'),\n",
       "  ('workers', 'NOUN'),\n",
       "  ('exposed', 'VERB'),\n",
       "  ('*', 'X'),\n",
       "  ('to', 'PRT'),\n",
       "  ('it', 'PRON'),\n",
       "  ('more', 'ADV'),\n",
       "  ('than', 'ADP'),\n",
       "  ('30', 'NUM'),\n",
       "  ('years', 'NOUN'),\n",
       "  ('ago', 'ADP'),\n",
       "  (',', '.'),\n",
       "  ('researchers', 'NOUN'),\n",
       "  ('reported', 'VERB'),\n",
       "  ('0', 'X'),\n",
       "  ('*T*-1', 'X'),\n",
       "  ('.', '.')],\n",
       " [('The', 'DET'),\n",
       "  ('asbestos', 'NOUN'),\n",
       "  ('fiber', 'NOUN'),\n",
       "  (',', '.'),\n",
       "  ('crocidolite', 'NOUN'),\n",
       "  (',', '.'),\n",
       "  ('is', 'VERB'),\n",
       "  ('unusually', 'ADV'),\n",
       "  ('resilient', 'ADJ'),\n",
       "  ('once', 'ADP'),\n",
       "  ('it', 'PRON'),\n",
       "  ('enters', 'VERB'),\n",
       "  ('the', 'DET'),\n",
       "  ('lungs', 'NOUN'),\n",
       "  (',', '.'),\n",
       "  ('with', 'ADP'),\n",
       "  ('even', 'ADV'),\n",
       "  ('brief', 'ADJ'),\n",
       "  ('exposures', 'NOUN'),\n",
       "  ('to', 'PRT'),\n",
       "  ('it', 'PRON'),\n",
       "  ('causing', 'VERB'),\n",
       "  ('symptoms', 'NOUN'),\n",
       "  ('that', 'DET'),\n",
       "  ('*T*-1', 'X'),\n",
       "  ('show', 'VERB'),\n",
       "  ('up', 'PRT'),\n",
       "  ('decades', 'NOUN'),\n",
       "  ('later', 'ADJ'),\n",
       "  (',', '.'),\n",
       "  ('researchers', 'NOUN'),\n",
       "  ('said', 'VERB'),\n",
       "  ('0', 'X'),\n",
       "  ('*T*-2', 'X'),\n",
       "  ('.', '.')]]"
      ]
     },
     "execution_count": 3,
     "metadata": {},
     "output_type": "execute_result"
    }
   ],
   "source": [
    "#First five tagged sentences in the dataset\n",
    "nltk_data[:5]\n"
   ]
  },
  {
   "cell_type": "code",
   "execution_count": 4,
   "metadata": {},
   "outputs": [
    {
     "name": "stdout",
     "output_type": "stream",
     "text": [
      "3718\n",
      "196\n"
     ]
    }
   ],
   "source": [
    "#Now setting the random seed\n",
    "random.seed(1234)\n",
    "\n",
    "#Splitting into train and test\n",
    "train_set, test_set = train_test_split(nltk_data,train_size=0.95) # as mentioned in the question to use 95:5 ratio for train and test.\n",
    "\n",
    "#Get the length of training and test sets\n",
    "print(len(train_set))\n",
    "print(len(test_set))"
   ]
  },
  {
   "cell_type": "code",
   "execution_count": 5,
   "metadata": {},
   "outputs": [
    {
     "name": "stdout",
     "output_type": "stream",
     "text": [
      "[[('In', 'ADP'), ('Champagne', 'NOUN'), (',', '.'), ('some', 'DET'), ('of', 'ADP'), ('the', 'DET'), ('prestige', 'NOUN'), ('cuvees', 'NOUN'), ('are', 'VERB'), ('inching', 'VERB'), ('toward', 'ADP'), ('$', '.'), ('100', 'NUM'), ('*U*', 'X'), ('a', 'DET'), ('bottle', 'NOUN'), ('.', '.')], [('May', 'NOUN'), ('Stores', 'NOUN'), (',', '.'), ('St.', 'NOUN'), ('Louis', 'NOUN'), (',', '.'), ('runs', 'VERB'), ('such', 'ADJ'), ('well-known', 'ADJ'), ('department', 'NOUN'), ('stores', 'NOUN'), ('as', 'ADP'), ('Lord', 'NOUN'), ('&', 'CONJ'), ('Taylor', 'NOUN'), ('.', '.')], [('However', 'ADV'), (',', '.'), ('none', 'NOUN'), ('of', 'ADP'), ('the', 'DET'), ('big', 'ADJ'), ('three', 'NUM'), ('weeklies', 'NOUN'), ('recorded', 'VERB'), ('circulation', 'NOUN'), ('gains', 'NOUN'), ('recently', 'ADV'), ('.', '.')], [('That', 'DET'), ('has', 'VERB'), ('been', 'VERB'), ('particularly', 'ADV'), ('true', 'ADJ'), ('this', 'DET'), ('year', 'NOUN'), ('with', 'ADP'), ('many', 'ADJ'), ('companies', 'NOUN'), ('raising', 'VERB'), ('their', 'PRON'), ('payouts', 'NOUN'), ('more', 'ADJ'), ('than', 'ADP'), ('10', 'NUM'), ('%', 'NOUN'), ('.', '.')], [('Metallgesellschaft', 'NOUN'), ('AG', 'NOUN'), ('said', 'VERB'), ('0', 'X'), ('it', 'PRON'), ('agreed', 'VERB'), ('*-1', 'X'), ('to', 'PRT'), ('acquire', 'VERB'), ('51', 'NUM'), ('%', 'NOUN'), ('of', 'ADP'), ('Lentjes', 'NOUN'), ('AG', 'NOUN'), ('from', 'ADP'), ('the', 'DET'), ('Ferdinand', 'NOUN'), ('Lentjes', 'NOUN'), ('Foundation', 'NOUN'), ('.', '.')]]\n"
     ]
    }
   ],
   "source": [
    "print(train_set[:5])"
   ]
  },
  {
   "cell_type": "code",
   "execution_count": 6,
   "metadata": {},
   "outputs": [
    {
     "data": {
      "text/plain": [
       "95774"
      ]
     },
     "execution_count": 6,
     "metadata": {},
     "output_type": "execute_result"
    }
   ],
   "source": [
    "# To get list of tagged words in training set\n",
    "train_tagged_words = [tup for sent in train_set for tup in sent]\n",
    "#To get the length of the total tagged words in training set\n",
    "len(train_tagged_words)"
   ]
  },
  {
   "cell_type": "code",
   "execution_count": 7,
   "metadata": {},
   "outputs": [
    {
     "data": {
      "text/plain": [
       "['In',\n",
       " 'Champagne',\n",
       " ',',\n",
       " 'some',\n",
       " 'of',\n",
       " 'the',\n",
       " 'prestige',\n",
       " 'cuvees',\n",
       " 'are',\n",
       " 'inching']"
      ]
     },
     "execution_count": 7,
     "metadata": {},
     "output_type": "execute_result"
    }
   ],
   "source": [
    "#Now let's see the first 10 tokens/words in the training set\n",
    "tokens = [pair[0] for pair in train_tagged_words]\n",
    "tokens[:10]"
   ]
  },
  {
   "cell_type": "code",
   "execution_count": 8,
   "metadata": {},
   "outputs": [
    {
     "name": "stdout",
     "output_type": "stream",
     "text": [
      "12105\n"
     ]
    }
   ],
   "source": [
    "# Vocabulary\n",
    "V = set(tokens)\n",
    "print(len(V))"
   ]
  },
  {
   "cell_type": "code",
   "execution_count": 9,
   "metadata": {},
   "outputs": [
    {
     "name": "stdout",
     "output_type": "stream",
     "text": [
      "12\n"
     ]
    }
   ],
   "source": [
    "# number of pos tags in the training corpus\n",
    "T = set([pair[1] for pair in train_tagged_words])\n",
    "print(len(T))"
   ]
  },
  {
   "cell_type": "code",
   "execution_count": 10,
   "metadata": {},
   "outputs": [
    {
     "name": "stdout",
     "output_type": "stream",
     "text": [
      "{'ADP', 'ADV', '.', 'NUM', 'ADJ', 'VERB', 'PRT', 'PRON', 'DET', 'NOUN', 'X', 'CONJ'}\n"
     ]
    }
   ],
   "source": [
    "print(T)"
   ]
  },
  {
   "cell_type": "markdown",
   "metadata": {},
   "source": [
    "We got expected outcome as there are 12 tags which are part of universal tagset"
   ]
  },
  {
   "cell_type": "markdown",
   "metadata": {},
   "source": [
    "### Build the vanilla Viterbi based POS tagger"
   ]
  },
  {
   "cell_type": "markdown",
   "metadata": {},
   "source": [
    "We'll use the HMM algorithm to tag the words. Given a sequence of words to be tagged, the task is to assign the most probable tag to the word.\n",
    "\n",
    "In other words, to every word w, assign the tag t that maximises the likelihood P(t/w). Since P(t/w) = P(w/t). P(t) / P(w), after ignoring P(w), we have to compute P(w/t) and P(t).\n",
    "\n",
    "P(w/t) is basically the probability that given a tag (say NN), what is the probability of it being w (say 'building'). This can be computed by computing the fraction of all NNs which are equal to w, i.e.\n",
    "\n",
    "P(w/t) = count(w, t) / count(t).\n",
    "\n",
    "The term P(t) is the probability of tag t, and in a tagging task, we assume that a tag will depend only on the previous tag. In other words, the probability of a tag being NN will depend only on the previous tag t(n-1). So for e.g. if t(n-1) is a JJ, then t(n) is likely to be an NN since adjectives often precede a noun (blue coat, tall building etc.).\n",
    "\n",
    "Given the penn treebank tagged dataset, we can compute the two terms P(w/t) and P(t) and store them in two large matrices. The matrix of P(w/t) will be sparse, since each word will not be seen with most tags ever, and those terms will thus be zero."
   ]
  },
  {
   "cell_type": "markdown",
   "metadata": {},
   "source": [
    "#### Emission Probabilities"
   ]
  },
  {
   "cell_type": "code",
   "execution_count": 11,
   "metadata": {},
   "outputs": [],
   "source": [
    "#Now let's Create numpy array of no of pos tags by total vocabulary\n",
    "t = len(T)\n",
    "v = len(V)\n",
    "w_given_t = np.zeros((t, v))"
   ]
  },
  {
   "cell_type": "code",
   "execution_count": 12,
   "metadata": {},
   "outputs": [],
   "source": [
    "# compute word given tag: Emission Probability\n",
    "def word_given_tag(word, tag, train_bag = train_tagged_words):\n",
    "    tag_list = [pair for pair in train_bag if pair[1]==tag]\n",
    "    count_tag = len(tag_list)\n",
    "    w_given_tag_list = [pair[0] for pair in tag_list if pair[0]==word]\n",
    "    count_w_given_tag = len(w_given_tag_list)\n",
    "    \n",
    "    return (count_w_given_tag, count_tag)"
   ]
  },
  {
   "cell_type": "markdown",
   "metadata": {},
   "source": [
    "#### Transition Probabilities"
   ]
  },
  {
   "cell_type": "code",
   "execution_count": 13,
   "metadata": {},
   "outputs": [],
   "source": [
    "# compute tag given tag: tag2(t2) given tag1 (t1), i.e. Transition Probability\n",
    "\n",
    "def t2_given_t1(t2, t1, train_bag = train_tagged_words):\n",
    "    tags = [pair[1] for pair in train_bag]\n",
    "    count_t1 = len([t for t in tags if t==t1])\n",
    "    count_t2_t1 = 0\n",
    "    for index in range(len(tags)-1):\n",
    "        if tags[index]==t1 and tags[index+1] == t2:\n",
    "            count_t2_t1 += 1\n",
    "    return (count_t2_t1, count_t1)"
   ]
  },
  {
   "cell_type": "code",
   "execution_count": 14,
   "metadata": {},
   "outputs": [],
   "source": [
    "# creating t x t (pos tags x pos tags)transition matrix of tags\n",
    "# each column is t2, each row is t1\n",
    "# thus M(i, j) represents P(tj given ti)\n",
    "\n",
    "tags_matrix = np.zeros((len(T), len(T)), dtype='float32')\n",
    "for i, t1 in enumerate(list(T)):\n",
    "    for j, t2 in enumerate(list(T)): \n",
    "        tags_matrix[i, j] = t2_given_t1(t2, t1)[0]/t2_given_t1(t2, t1)[1]"
   ]
  },
  {
   "cell_type": "code",
   "execution_count": 15,
   "metadata": {},
   "outputs": [
    {
     "data": {
      "text/plain": [
       "array([[1.65439211e-02, 1.38755469e-02, 3.95986773e-02, 6.28669038e-02,\n",
       "        1.06948450e-01, 8.53879843e-03, 1.28081976e-03, 6.91642687e-02,\n",
       "        3.22659850e-01, 3.23086768e-01, 3.45821343e-02, 8.53879843e-04],\n",
       "       [1.16887420e-01, 7.84768239e-02, 1.37086093e-01, 3.21192071e-02,\n",
       "        1.29801318e-01, 3.45364243e-01, 1.45695368e-02, 1.49006620e-02,\n",
       "        6.88741729e-02, 3.11258286e-02, 2.35099345e-02, 7.28476839e-03],\n",
       "       [9.03295353e-02, 5.20786569e-02, 9.35619995e-02, 8.10810775e-02,\n",
       "        4.45362292e-02, 8.79051834e-02, 2.42435117e-03, 6.60860166e-02,\n",
       "        1.74283922e-01, 2.22232193e-01, 2.69372370e-02, 5.84538020e-02],\n",
       "       [3.59477140e-02, 3.26797389e-03, 1.16755791e-01, 1.83006540e-01,\n",
       "        3.32739167e-02, 1.78253110e-02, 2.76292339e-02, 1.18835410e-03,\n",
       "        3.26797389e-03, 3.52644086e-01, 2.11527035e-01, 1.36660729e-02],\n",
       "       [7.63672218e-02, 4.43422562e-03, 6.40499294e-02, 2.00361311e-02,\n",
       "        6.68418482e-02, 1.24815237e-02, 1.11676790e-02, 6.56922348e-04,\n",
       "        5.09114796e-03, 7.01921523e-01, 2.08572838e-02, 1.60945971e-02],\n",
       "       [9.23267901e-02, 8.21630880e-02, 3.45255658e-02, 2.30429042e-02,\n",
       "        6.49390966e-02, 1.69214055e-01, 3.12669724e-02, 3.49910781e-02,\n",
       "        1.34610906e-01, 1.10249050e-01, 2.17317089e-01, 5.35340235e-03],\n",
       "       [2.01954395e-02, 1.00977197e-02, 4.36482094e-02, 5.63517921e-02,\n",
       "        8.37133527e-02, 4.01628673e-01, 1.95439742e-03, 1.82410423e-02,\n",
       "        1.00651465e-01, 2.48534203e-01, 1.27035826e-02, 2.28013028e-03],\n",
       "       [2.11864412e-02, 3.42835113e-02, 4.08320501e-02, 7.31895212e-03,\n",
       "        7.47303516e-02, 4.84591693e-01, 1.23266568e-02, 6.93374407e-03,\n",
       "        9.63020045e-03, 2.10323572e-01, 9.24499258e-02, 5.39291231e-03],\n",
       "       [9.16325022e-03, 1.24186156e-02, 1.78442243e-02, 2.19435729e-02,\n",
       "        2.04364598e-01, 3.89438160e-02, 2.41138172e-04, 3.61707248e-03,\n",
       "        5.66674722e-03, 6.38895571e-01, 4.64190990e-02, 4.82276344e-04],\n",
       "       [1.76932588e-01, 1.74169149e-02, 2.39509851e-01, 9.49021894e-03,\n",
       "        1.22172935e-02, 1.46389350e-01, 4.39604409e-02, 4.79965098e-03,\n",
       "        1.32354014e-02, 2.64308065e-01, 2.87979059e-02, 4.29423302e-02],\n",
       "       [1.44405484e-01, 2.45457441e-02, 1.64647758e-01, 2.70959525e-03,\n",
       "        1.70545112e-02, 2.05610454e-01, 1.85368180e-01, 5.49888425e-02,\n",
       "        5.40325157e-02, 6.16831370e-02, 7.42747858e-02, 1.06789926e-02],\n",
       "       [5.21217696e-02, 5.53505532e-02, 3.41328420e-02, 4.15129140e-02,\n",
       "        1.17158674e-01, 1.56826571e-01, 5.07380068e-03, 5.85793369e-02,\n",
       "        1.20387457e-01, 3.50553513e-01, 7.84132816e-03, 4.61254618e-04]],\n",
       "      dtype=float32)"
      ]
     },
     "execution_count": 15,
     "metadata": {},
     "output_type": "execute_result"
    }
   ],
   "source": [
    "tags_matrix"
   ]
  },
  {
   "cell_type": "code",
   "execution_count": 16,
   "metadata": {},
   "outputs": [],
   "source": [
    "# convert the matrix to a df for better readability\n",
    "tags_df = pd.DataFrame(tags_matrix, columns = list(T), index=list(T))"
   ]
  },
  {
   "cell_type": "code",
   "execution_count": 17,
   "metadata": {},
   "outputs": [
    {
     "data": {
      "text/html": [
       "<div>\n",
       "<style scoped>\n",
       "    .dataframe tbody tr th:only-of-type {\n",
       "        vertical-align: middle;\n",
       "    }\n",
       "\n",
       "    .dataframe tbody tr th {\n",
       "        vertical-align: top;\n",
       "    }\n",
       "\n",
       "    .dataframe thead th {\n",
       "        text-align: right;\n",
       "    }\n",
       "</style>\n",
       "<table border=\"1\" class=\"dataframe\">\n",
       "  <thead>\n",
       "    <tr style=\"text-align: right;\">\n",
       "      <th></th>\n",
       "      <th>ADP</th>\n",
       "      <th>ADV</th>\n",
       "      <th>.</th>\n",
       "      <th>NUM</th>\n",
       "      <th>ADJ</th>\n",
       "      <th>VERB</th>\n",
       "      <th>PRT</th>\n",
       "      <th>PRON</th>\n",
       "      <th>DET</th>\n",
       "      <th>NOUN</th>\n",
       "      <th>X</th>\n",
       "      <th>CONJ</th>\n",
       "    </tr>\n",
       "  </thead>\n",
       "  <tbody>\n",
       "    <tr>\n",
       "      <th>ADP</th>\n",
       "      <td>0.016544</td>\n",
       "      <td>0.013876</td>\n",
       "      <td>0.039599</td>\n",
       "      <td>0.062867</td>\n",
       "      <td>0.106948</td>\n",
       "      <td>0.008539</td>\n",
       "      <td>0.001281</td>\n",
       "      <td>0.069164</td>\n",
       "      <td>0.322660</td>\n",
       "      <td>0.323087</td>\n",
       "      <td>0.034582</td>\n",
       "      <td>0.000854</td>\n",
       "    </tr>\n",
       "    <tr>\n",
       "      <th>ADV</th>\n",
       "      <td>0.116887</td>\n",
       "      <td>0.078477</td>\n",
       "      <td>0.137086</td>\n",
       "      <td>0.032119</td>\n",
       "      <td>0.129801</td>\n",
       "      <td>0.345364</td>\n",
       "      <td>0.014570</td>\n",
       "      <td>0.014901</td>\n",
       "      <td>0.068874</td>\n",
       "      <td>0.031126</td>\n",
       "      <td>0.023510</td>\n",
       "      <td>0.007285</td>\n",
       "    </tr>\n",
       "    <tr>\n",
       "      <th>.</th>\n",
       "      <td>0.090330</td>\n",
       "      <td>0.052079</td>\n",
       "      <td>0.093562</td>\n",
       "      <td>0.081081</td>\n",
       "      <td>0.044536</td>\n",
       "      <td>0.087905</td>\n",
       "      <td>0.002424</td>\n",
       "      <td>0.066086</td>\n",
       "      <td>0.174284</td>\n",
       "      <td>0.222232</td>\n",
       "      <td>0.026937</td>\n",
       "      <td>0.058454</td>\n",
       "    </tr>\n",
       "    <tr>\n",
       "      <th>NUM</th>\n",
       "      <td>0.035948</td>\n",
       "      <td>0.003268</td>\n",
       "      <td>0.116756</td>\n",
       "      <td>0.183007</td>\n",
       "      <td>0.033274</td>\n",
       "      <td>0.017825</td>\n",
       "      <td>0.027629</td>\n",
       "      <td>0.001188</td>\n",
       "      <td>0.003268</td>\n",
       "      <td>0.352644</td>\n",
       "      <td>0.211527</td>\n",
       "      <td>0.013666</td>\n",
       "    </tr>\n",
       "    <tr>\n",
       "      <th>ADJ</th>\n",
       "      <td>0.076367</td>\n",
       "      <td>0.004434</td>\n",
       "      <td>0.064050</td>\n",
       "      <td>0.020036</td>\n",
       "      <td>0.066842</td>\n",
       "      <td>0.012482</td>\n",
       "      <td>0.011168</td>\n",
       "      <td>0.000657</td>\n",
       "      <td>0.005091</td>\n",
       "      <td>0.701922</td>\n",
       "      <td>0.020857</td>\n",
       "      <td>0.016095</td>\n",
       "    </tr>\n",
       "    <tr>\n",
       "      <th>VERB</th>\n",
       "      <td>0.092327</td>\n",
       "      <td>0.082163</td>\n",
       "      <td>0.034526</td>\n",
       "      <td>0.023043</td>\n",
       "      <td>0.064939</td>\n",
       "      <td>0.169214</td>\n",
       "      <td>0.031267</td>\n",
       "      <td>0.034991</td>\n",
       "      <td>0.134611</td>\n",
       "      <td>0.110249</td>\n",
       "      <td>0.217317</td>\n",
       "      <td>0.005353</td>\n",
       "    </tr>\n",
       "    <tr>\n",
       "      <th>PRT</th>\n",
       "      <td>0.020195</td>\n",
       "      <td>0.010098</td>\n",
       "      <td>0.043648</td>\n",
       "      <td>0.056352</td>\n",
       "      <td>0.083713</td>\n",
       "      <td>0.401629</td>\n",
       "      <td>0.001954</td>\n",
       "      <td>0.018241</td>\n",
       "      <td>0.100651</td>\n",
       "      <td>0.248534</td>\n",
       "      <td>0.012704</td>\n",
       "      <td>0.002280</td>\n",
       "    </tr>\n",
       "    <tr>\n",
       "      <th>PRON</th>\n",
       "      <td>0.021186</td>\n",
       "      <td>0.034284</td>\n",
       "      <td>0.040832</td>\n",
       "      <td>0.007319</td>\n",
       "      <td>0.074730</td>\n",
       "      <td>0.484592</td>\n",
       "      <td>0.012327</td>\n",
       "      <td>0.006934</td>\n",
       "      <td>0.009630</td>\n",
       "      <td>0.210324</td>\n",
       "      <td>0.092450</td>\n",
       "      <td>0.005393</td>\n",
       "    </tr>\n",
       "    <tr>\n",
       "      <th>DET</th>\n",
       "      <td>0.009163</td>\n",
       "      <td>0.012419</td>\n",
       "      <td>0.017844</td>\n",
       "      <td>0.021944</td>\n",
       "      <td>0.204365</td>\n",
       "      <td>0.038944</td>\n",
       "      <td>0.000241</td>\n",
       "      <td>0.003617</td>\n",
       "      <td>0.005667</td>\n",
       "      <td>0.638896</td>\n",
       "      <td>0.046419</td>\n",
       "      <td>0.000482</td>\n",
       "    </tr>\n",
       "    <tr>\n",
       "      <th>NOUN</th>\n",
       "      <td>0.176933</td>\n",
       "      <td>0.017417</td>\n",
       "      <td>0.239510</td>\n",
       "      <td>0.009490</td>\n",
       "      <td>0.012217</td>\n",
       "      <td>0.146389</td>\n",
       "      <td>0.043960</td>\n",
       "      <td>0.004800</td>\n",
       "      <td>0.013235</td>\n",
       "      <td>0.264308</td>\n",
       "      <td>0.028798</td>\n",
       "      <td>0.042942</td>\n",
       "    </tr>\n",
       "    <tr>\n",
       "      <th>X</th>\n",
       "      <td>0.144405</td>\n",
       "      <td>0.024546</td>\n",
       "      <td>0.164648</td>\n",
       "      <td>0.002710</td>\n",
       "      <td>0.017055</td>\n",
       "      <td>0.205610</td>\n",
       "      <td>0.185368</td>\n",
       "      <td>0.054989</td>\n",
       "      <td>0.054033</td>\n",
       "      <td>0.061683</td>\n",
       "      <td>0.074275</td>\n",
       "      <td>0.010679</td>\n",
       "    </tr>\n",
       "    <tr>\n",
       "      <th>CONJ</th>\n",
       "      <td>0.052122</td>\n",
       "      <td>0.055351</td>\n",
       "      <td>0.034133</td>\n",
       "      <td>0.041513</td>\n",
       "      <td>0.117159</td>\n",
       "      <td>0.156827</td>\n",
       "      <td>0.005074</td>\n",
       "      <td>0.058579</td>\n",
       "      <td>0.120387</td>\n",
       "      <td>0.350554</td>\n",
       "      <td>0.007841</td>\n",
       "      <td>0.000461</td>\n",
       "    </tr>\n",
       "  </tbody>\n",
       "</table>\n",
       "</div>"
      ],
      "text/plain": [
       "           ADP       ADV         .       NUM       ADJ      VERB       PRT  \\\n",
       "ADP   0.016544  0.013876  0.039599  0.062867  0.106948  0.008539  0.001281   \n",
       "ADV   0.116887  0.078477  0.137086  0.032119  0.129801  0.345364  0.014570   \n",
       ".     0.090330  0.052079  0.093562  0.081081  0.044536  0.087905  0.002424   \n",
       "NUM   0.035948  0.003268  0.116756  0.183007  0.033274  0.017825  0.027629   \n",
       "ADJ   0.076367  0.004434  0.064050  0.020036  0.066842  0.012482  0.011168   \n",
       "VERB  0.092327  0.082163  0.034526  0.023043  0.064939  0.169214  0.031267   \n",
       "PRT   0.020195  0.010098  0.043648  0.056352  0.083713  0.401629  0.001954   \n",
       "PRON  0.021186  0.034284  0.040832  0.007319  0.074730  0.484592  0.012327   \n",
       "DET   0.009163  0.012419  0.017844  0.021944  0.204365  0.038944  0.000241   \n",
       "NOUN  0.176933  0.017417  0.239510  0.009490  0.012217  0.146389  0.043960   \n",
       "X     0.144405  0.024546  0.164648  0.002710  0.017055  0.205610  0.185368   \n",
       "CONJ  0.052122  0.055351  0.034133  0.041513  0.117159  0.156827  0.005074   \n",
       "\n",
       "          PRON       DET      NOUN         X      CONJ  \n",
       "ADP   0.069164  0.322660  0.323087  0.034582  0.000854  \n",
       "ADV   0.014901  0.068874  0.031126  0.023510  0.007285  \n",
       ".     0.066086  0.174284  0.222232  0.026937  0.058454  \n",
       "NUM   0.001188  0.003268  0.352644  0.211527  0.013666  \n",
       "ADJ   0.000657  0.005091  0.701922  0.020857  0.016095  \n",
       "VERB  0.034991  0.134611  0.110249  0.217317  0.005353  \n",
       "PRT   0.018241  0.100651  0.248534  0.012704  0.002280  \n",
       "PRON  0.006934  0.009630  0.210324  0.092450  0.005393  \n",
       "DET   0.003617  0.005667  0.638896  0.046419  0.000482  \n",
       "NOUN  0.004800  0.013235  0.264308  0.028798  0.042942  \n",
       "X     0.054989  0.054033  0.061683  0.074275  0.010679  \n",
       "CONJ  0.058579  0.120387  0.350554  0.007841  0.000461  "
      ]
     },
     "execution_count": 17,
     "metadata": {},
     "output_type": "execute_result"
    }
   ],
   "source": [
    "tags_df"
   ]
  },
  {
   "cell_type": "code",
   "execution_count": 18,
   "metadata": {},
   "outputs": [
    {
     "data": {
      "text/plain": [
       "ADP     0.090330\n",
       "ADV     0.052079\n",
       ".       0.093562\n",
       "NUM     0.081081\n",
       "ADJ     0.044536\n",
       "VERB    0.087905\n",
       "PRT     0.002424\n",
       "PRON    0.066086\n",
       "DET     0.174284\n",
       "NOUN    0.222232\n",
       "X       0.026937\n",
       "CONJ    0.058454\n",
       "Name: ., dtype: float32"
      ]
     },
     "execution_count": 18,
     "metadata": {},
     "output_type": "execute_result"
    }
   ],
   "source": [
    "tags_df.loc['.', :]"
   ]
  },
  {
   "cell_type": "code",
   "execution_count": 19,
   "metadata": {},
   "outputs": [
    {
     "data": {
      "image/png": "[encoded data removed]",
      "text/plain": [
       "<Figure size 1296x864 with 2 Axes>"
      ]
     },
     "metadata": {
      "needs_background": "light"
     },
     "output_type": "display_data"
    }
   ],
   "source": [
    "# heatmap of tags matrix\n",
    "# T(i, j) indicates P(tag j given tag i)\n",
    "plt.figure(figsize=(18, 12))\n",
    "sns.heatmap(tags_df)\n",
    "plt.show()"
   ]
  },
  {
   "cell_type": "code",
   "execution_count": 20,
   "metadata": {},
   "outputs": [
    {
     "data": {
      "image/png": "[encoded data removed]",
      "text/plain": [
       "<Figure size 1296x864 with 2 Axes>"
      ]
     },
     "metadata": {
      "needs_background": "light"
     },
     "output_type": "display_data"
    }
   ],
   "source": [
    "# frequent tags\n",
    "# filter the df to get P(t2, t1) > 0.5\n",
    "tags_frequent = tags_df[tags_df>0.5]\n",
    "plt.figure(figsize=(18, 12))\n",
    "sns.heatmap(tags_frequent)\n",
    "plt.show()"
   ]
  },
  {
   "cell_type": "markdown",
   "metadata": {},
   "source": [
    "According to the expectation Noun and Adjective and Noun and Determiner are highly correlated."
   ]
  },
  {
   "cell_type": "markdown",
   "metadata": {},
   "source": [
    "#### Viterbi Algorithm"
   ]
  },
  {
   "cell_type": "markdown",
   "metadata": {},
   "source": [
    "Let's now use the computed probabilities P(w, tag) and P(t2, t1) to assign tags to each word in the document. We'll run through each word w and compute P(tag/w)=P(w/tag).P(tag) for each tag in the tag set, and then assign the tag having the max P(tag/w).\n",
    "\n",
    "We'll store the assigned tags in a list of tuples, similar to the list 'train_tagged_words'. Each tuple will be a (token, assigned_tag). As we progress further in the list, each tag to be assigned will use the tag of the previous token.\n",
    "\n",
    "Note: P(tag|start) = P(tag|'.')"
   ]
  },
  {
   "cell_type": "code",
   "execution_count": 21,
   "metadata": {},
   "outputs": [
    {
     "data": {
      "text/plain": [
       "95774"
      ]
     },
     "execution_count": 21,
     "metadata": {},
     "output_type": "execute_result"
    }
   ],
   "source": [
    "#Let's see the total length of tagged words in training corpus\n",
    "len(train_tagged_words)"
   ]
  },
  {
   "cell_type": "code",
   "execution_count": 22,
   "metadata": {},
   "outputs": [],
   "source": [
    "# Viterbi Heuristic\n",
    "def Viterbi(words, train_bag = train_tagged_words):\n",
    "    state = []\n",
    "    T = list(set([pair[1] for pair in train_bag]))\n",
    "    \n",
    "    for key, word in enumerate(words):\n",
    "        #initialise list of probability column for a given observation\n",
    "        p = [] \n",
    "        for tag in T:\n",
    "            if key == 0:\n",
    "                transition_p = tags_df.loc['.', tag]\n",
    "            else:\n",
    "                transition_p = tags_df.loc[state[-1], tag]\n",
    "                \n",
    "            # compute emission and state probabilities\n",
    "            emission_p = word_given_tag(words[key], tag)[0]/word_given_tag(words[key], tag)[1]\n",
    "            state_probability = emission_p * transition_p    \n",
    "            p.append(state_probability)\n",
    "            \n",
    "        pmax = max(p)\n",
    "        # getting state for which probability is maximum\n",
    "        state_max = T[p.index(pmax)] \n",
    "        state.append(state_max)\n",
    "    return list(zip(words, state))"
   ]
  },
  {
   "cell_type": "markdown",
   "metadata": {},
   "source": [
    "#### Evaluating on Test Set"
   ]
  },
  {
   "cell_type": "code",
   "execution_count": 23,
   "metadata": {},
   "outputs": [],
   "source": [
    "# Running on entire test dataset would take more than 3-4hrs. \n",
    "# Let's test our Viterbi algorithm on a few sample sentences of test dataset\n",
    "random.seed(1234)\n",
    "\n",
    "# list of tagged words in test set\n",
    "test_run_base = [tup for sent in test_set for tup in sent]\n",
    "\n",
    "# list of  words which are untagged in test set\n",
    "test_tagged_words = [tup[0] for sent in test_set for tup in sent]"
   ]
  },
  {
   "cell_type": "code",
   "execution_count": 24,
   "metadata": {},
   "outputs": [],
   "source": [
    "# tagging the test sentences\n",
    "start = time.time()\n",
    "tagged_seq = Viterbi(test_tagged_words)\n",
    "end = time.time()\n",
    "difference = end-start"
   ]
  },
  {
   "cell_type": "code",
   "execution_count": 25,
   "metadata": {},
   "outputs": [
    {
     "name": "stdout",
     "output_type": "stream",
     "text": [
      "Time taken in seconds:  910.7210195064545\n",
      "[('The', 'DET'), ('company', 'NOUN'), ('said', 'VERB'), ('0', 'X'), ('it', 'PRON'), ('has', 'VERB'), ('offered', 'VERB'), ('*-1', 'X'), ('to', 'PRT'), ('withdraw', 'VERB'), ('its', 'PRON'), ('bids', 'NOUN'), ('in', 'ADP'), ('Hiroshima', 'NOUN'), ('and', 'CONJ'), ('Nagano', 'NOUN'), ('.', '.'), ('Odd-year', 'ADP'), ('elections', 'NOUN'), ('attract', 'VERB'), ('relatively', 'ADV'), ('few', 'ADJ'), ('ballot', 'NOUN'), ('issues', 'NOUN'), ('.', '.'), ('Voters', 'ADP'), ('generally', 'ADV'), ('agree', 'VERB'), ('when', 'ADV'), ('they', 'PRON'), ('are', 'VERB'), ('given', 'VERB'), ('*-1', 'X'), ('a', 'DET'), ('chance', 'NOUN'), ('*', 'X'), ('to', 'PRT'), ('decide', 'VERB'), ('if', 'ADP'), ('they', 'PRON'), ('want', 'VERB'), ('*-3', 'X'), ('to', 'PRT'), ('sink', 'VERB'), ('their', 'PRON'), ('own', 'ADJ'), ('tax', 'NOUN'), ('dollars', 'NOUN'), ('into', 'ADP'), ('a', 'DET'), ('new', 'ADJ'), ('mega-stadium', 'ADP'), ('*T*-2', 'X'), ('.', '.'), ('The', 'DET'), ('department', 'NOUN'), (\"'s\", 'PRT'), ('roof-crush', 'ADJ'), ('proposal', 'NOUN'), ('would', 'VERB'), ('apply', 'VERB'), ('to', 'PRT'), ('vehicles', 'NOUN'), ('weighing', 'ADP'), ('10,000', 'NUM'), ('pounds', 'NOUN'), ('or', 'CONJ'), ('less', 'ADJ'), ('.', '.'), ('But', 'CONJ'), ('voters', 'NOUN'), ('decided', 'VERB'), ('that', 'ADP'), ('if', 'ADP'), ('the', 'DET'), ('stadium', 'NOUN'), ('was', 'VERB'), ('such', 'ADJ'), ('a', 'DET'), ('good', 'ADJ'), ('idea', 'NOUN'), ('someone', 'NOUN'), ('would', 'VERB'), ('build', 'VERB'), ('it', 'PRON'), ('himself', 'PRON'), (',', '.'), ('and', 'CONJ'), ('rejected', 'VERB'), ('it', 'PRON'), ('59', 'NUM'), ('%', 'NOUN'), ('to', 'PRT'), ('41', 'NUM'), ('%', 'NOUN'), ('*U*', 'X'), ('.', '.'), ('A', 'DET'), ('few', 'ADJ'), ('years', 'NOUN'), ('ago', 'ADP'), (',', '.'), ('the', 'DET'), ('company', 'NOUN'), ('offered', 'VERB'), ('two', 'NUM'), ('round-trip', 'ADP'), ('tickets', 'NOUN'), ('on', 'ADP'), ('Trans', 'ADP'), ('World', 'NOUN'), ('Airlines', 'NOUN'), ('to', 'PRT'), ('buyers', 'NOUN'), ('of', 'ADP'), ('its', 'PRON'), ('Riviera', 'NOUN'), ('luxury', 'NOUN'), ('car', 'NOUN'), ('.', '.'), ('*-2', 'X'), ('Reached', 'ADP'), ('*-1', 'X'), ('at', 'ADP'), ('his', 'PRON'), ('office', 'NOUN'), (',', '.'), ('Mr.', 'NOUN'), ('McFall', 'NOUN'), (',', '.'), ('currently', 'ADV'), ('chairman', 'NOUN'), (',', '.'), ('said', 'VERB'), (',', '.'), ('``', '.'), ('An', 'DET'), ('implication', 'ADP'), ('that', 'DET'), ('we', 'PRON'), ('failed', 'VERB'), ('*-3', 'X'), ('to', 'PRT'), ('return', 'NOUN'), ('investor', 'NOUN'), ('funds', 'NOUN'), ('is', 'VERB'), ('inappropriate', 'ADJ'), ('and', 'CONJ'), ('inaccurate', 'ADJ'), ('.', '.'), (\"''\", '.'), ('Named', 'ADP'), ('*-2', 'X'), ('as', 'ADP'), ('defendants', 'NOUN'), ('were', 'VERB'), ('*T*-1', 'X'), ('Roland', 'ADP'), ('Matthews', 'ADP'), (',', '.'), ('president', 'NOUN'), (',', '.'), ('and', 'CONJ'), ('Peter', 'NOUN'), ('Jonas', 'ADP'), (',', '.'), ('executive', 'NOUN'), ('vice', 'NOUN'), ('president', 'NOUN'), ('and', 'CONJ'), ('chief', 'NOUN'), ('financial', 'ADJ'), ('officer', 'NOUN'), (',', '.'), ('as', 'ADP'), ('well', 'ADV'), ('as', 'ADP'), ('a', 'DET'), ('former', 'ADJ'), ('plant', 'NOUN'), ('manager', 'NOUN'), ('.', '.'), ('In', 'ADP'), ('both', 'DET'), ('cases', 'NOUN'), (',', '.'), ('NEC', 'NOUN'), ('lost', 'VERB'), ('the', 'DET'), ('contract', 'NOUN'), ('to', 'PRT'), ('Fujitsu', 'NOUN'), (',', '.'), ('which', 'DET'), ('*T*-139', 'ADP'), ('made', 'VERB'), ('the', 'DET'), ('same', 'ADJ'), ('bid', 'NOUN'), ('and', 'CONJ'), ('won', 'VERB'), ('a', 'DET'), ('tie-breaking', 'ADP'), ('lottery', 'NOUN'), ('.', '.'), ('By', 'ADP'), ('this', 'DET'), ('September', 'NOUN'), (',', '.'), ('program', 'NOUN'), ('traders', 'NOUN'), ('were', 'VERB'), ('doing', 'VERB'), ('a', 'DET'), ('record', 'NOUN'), ('13.8', 'NUM'), ('%', 'NOUN'), ('of', 'ADP'), ('the', 'DET'), ('Big', 'NOUN'), ('Board', 'NOUN'), (\"'s\", 'PRT'), ('average', 'ADJ'), ('daily', 'ADJ'), ('trading', 'NOUN'), ('volume', 'NOUN'), ('.', '.'), ('As', 'ADP'), ('a', 'DET'), ('result', 'NOUN'), (',', '.'), ('Ms.', 'NOUN'), ('Ganes', 'NOUN'), ('said', 'VERB'), ('0', 'X'), ('*T*-2', 'X'), (',', '.'), ('it', 'PRON'), ('is', 'VERB'), ('believed', 'VERB'), ('that', 'ADP'), ('little', 'ADJ'), ('or', 'CONJ'), ('no', 'DET'), ('sugar', 'NOUN'), ('from', 'ADP'), ('the', 'DET'), ('1989-90', 'NUM'), ('crop', 'NOUN'), ('has', 'VERB'), ('been', 'VERB'), ('shipped', 'VERB'), ('*-1', 'X'), ('yet', 'ADV'), (',', '.'), ('even', 'ADV'), ('though', 'ADP'), ('the', 'DET'), ('crop', 'NOUN'), ('year', 'NOUN'), ('is', 'VERB'), ('six', 'NUM'), ('months', 'NOUN'), ('old', 'ADJ'), ('.', '.'), ('Dealers', 'NOUN'), ('said', 'VERB'), ('0', 'X'), ('the', 'DET'), ('U.K.', 'NOUN'), ('government', 'NOUN'), (\"'s\", 'PRT'), ('decision', 'NOUN'), ('*ICH*-1', 'X'), ('Tuesday', 'NOUN'), ('*', 'X'), ('to', 'PRT'), ('waive', 'ADP'), ('its', 'PRON'), ('protective', 'ADP'), ('``', '.'), ('golden', 'ADP'), ('share', 'NOUN'), (\"''\", '.'), ('in', 'ADP'), ('the', 'DET'), ('auto', 'NOUN'), ('maker', 'NOUN'), ('raised', 'VERB'), ('prospects', 'NOUN'), ('of', 'ADP'), ('a', 'DET'), ('bidding', 'NOUN'), ('war', 'NOUN'), ('between', 'ADP'), ('the', 'DET'), ('two', 'NUM'), ('U.S.', 'NOUN'), ('auto', 'NOUN'), ('giants', 'NOUN'), ('.', '.'), ('Spending', 'ADP'), ('on', 'ADP'), ('private', 'ADJ'), (',', '.'), ('nonresidential', 'ADP'), ('construction', 'NOUN'), ('was', 'VERB'), ('off', 'PRT'), ('2.6', 'NUM'), ('%', 'NOUN'), ('to', 'PRT'), ('an', 'DET'), ('annual', 'ADJ'), ('rate', 'NOUN'), ('of', 'ADP'), ('$', '.'), ('99.1', 'ADP'), ('billion', 'NUM'), ('*U*', 'X'), ('with', 'ADP'), ('no', 'DET'), ('sector', 'NOUN'), ('showing', 'VERB'), ('strength', 'NOUN'), ('.', '.'), ('Campbell', 'NOUN'), ('said', 'VERB'), ('0', 'X'), ('Mr.', 'NOUN'), ('McGovern', 'NOUN'), ('had', 'VERB'), ('withdrawn', 'VERB'), ('his', 'PRON'), ('name', 'NOUN'), ('as', 'ADP'), ('a', 'DET'), ('candidate', 'NOUN'), ('for', 'ADP'), ('re-election', 'NOUN'), ('as', 'ADP'), ('a', 'DET'), ('director', 'NOUN'), ('at', 'ADP'), ('the', 'DET'), ('annual', 'ADJ'), ('shareholder', 'NOUN'), ('meeting', 'NOUN'), (',', '.'), ('scheduled', 'VERB'), ('*', 'X'), ('for', 'ADP'), ('Nov.', 'NOUN'), ('17', 'NUM'), ('.', '.'), ('Put', 'VERB'), ('option', 'NOUN'), ('on', 'ADP'), ('Dec.', 'NOUN'), ('31', 'NUM'), (',', '.'), ('1991', 'NUM'), (',', '.'), ('at', 'ADP'), ('a', 'DET'), ('fixed', 'VERB'), ('106', 'ADP'), ('7\\\\/8', 'NUM'), ('*', 'X'), ('to', 'PRT'), ('yield', 'VERB'), ('3.42', 'ADP'), ('%', 'NOUN'), ('.', '.'), ('In', 'ADP'), ('October', 'NOUN'), ('1988', 'NUM'), (',', '.'), ('21.1', 'ADP'), ('%', 'NOUN'), ('said', 'VERB'), ('0', 'X'), ('business', 'NOUN'), ('conditions', 'NOUN'), ('would', 'VERB'), ('improve', 'VERB'), ('.', '.'), ('With', 'ADP'), ('the', 'DET'), ('limit', 'NOUN'), ('in', 'ADP'), ('effect', 'NOUN'), (',', '.'), ('members', 'NOUN'), ('would', 'VERB'), ('be', 'VERB'), ('able', 'ADJ'), ('*-1', 'X'), ('to', 'PRT'), ('execute', 'VERB'), ('trades', 'NOUN'), ('at', 'ADP'), ('the', 'DET'), ('limit', 'NOUN'), ('price', 'NOUN'), ('or', 'CONJ'), ('at', 'ADP'), ('higher', 'ADJ'), ('prices', 'NOUN'), (',', '.'), ('but', 'CONJ'), ('not', 'ADV'), ('below', 'ADP'), ('it', 'PRON'), ('.', '.'), ('The', 'DET'), ('idea', 'NOUN'), (',', '.'), ('of', 'ADP'), ('course', 'NOUN'), (':', '.'), ('*', 'X'), ('to', 'PRT'), ('prove', 'VERB'), ('to', 'PRT'), ('125', 'NUM'), ('corporate', 'ADJ'), ('decision', 'NOUN'), ('makers', 'NOUN'), ('that', 'ADP'), ('the', 'DET'), ('buckle', 'ADP'), ('on', 'ADP'), ('the', 'DET'), ('Rust', 'ADP'), ('Belt', 'NOUN'), ('is', 'VERB'), (\"n't\", 'ADV'), ('so', 'ADV'), ('rusty', 'ADP'), ('after', 'ADP'), ('all', 'DET'), (',', '.'), ('that', 'DET'), ('it', 'PRON'), (\"'s\", 'VERB'), ('a', 'DET'), ('good', 'ADJ'), ('place', 'NOUN'), ('0', 'X'), ('for', 'ADP'), ('a', 'DET'), ('company', 'NOUN'), ('to', 'PRT'), ('expand', 'VERB'), ('*T*-1', 'X'), ('.', '.'), ('In', 'ADP'), ('Thailand', 'NOUN'), (',', '.'), ('for', 'ADP'), ('example', 'NOUN'), (',', '.'), ('the', 'DET'), ('government', 'NOUN'), (\"'s\", 'PRT'), ('Board', 'NOUN'), ('of', 'ADP'), ('Investment', 'NOUN'), ('approved', 'VERB'), ('$', '.'), ('705.6', 'ADP'), ('million', 'NUM'), ('*U*', 'X'), ('of', 'ADP'), ('Japanese', 'ADJ'), ('investment', 'NOUN'), ('*ICH*-1', 'X'), ('in', 'ADP'), ('1988', 'NUM'), (',', '.'), ('10', 'NUM'), ('times', 'NOUN'), ('the', 'DET'), ('U.S.', 'NOUN'), ('investment', 'NOUN'), ('figure', 'VERB'), ('for', 'ADP'), ('the', 'DET'), ('year', 'NOUN'), ('.', '.'), ('``', '.'), ('That', 'DET'), ('attracts', 'ADP'), ('attention', 'NOUN'), ('...', '.'), ('Czechoslovakia', 'NOUN'), ('said', 'VERB'), ('in', 'ADP'), ('May', 'NOUN'), ('0', 'X'), ('it', 'PRON'), ('could', 'VERB'), ('seek', 'VERB'), ('$', '.'), ('2', 'NUM'), ('billion', 'NUM'), ('*U*', 'X'), ('from', 'ADP'), ('Hungary', 'NOUN'), ('if', 'ADP'), ('the', 'DET'), ('twindam', 'ADP'), ('contract', 'NOUN'), ('were', 'VERB'), ('broken', 'VERB'), ('*-68', 'ADP'), ('.', '.'), ('Long-term', 'ADP'), ('bond', 'NOUN'), ('prices', 'NOUN'), ('rose', 'VERB'), ('despite', 'ADP'), ('prospects', 'NOUN'), ('of', 'ADP'), ('a', 'DET'), ('huge', 'ADJ'), ('new', 'ADJ'), ('supply', 'NOUN'), ('of', 'ADP'), ('Treasury', 'NOUN'), ('debt', 'NOUN'), ('this', 'DET'), ('month', 'NOUN'), ('.', '.'), ('A', 'DET'), ('marketing', 'NOUN'), ('study', 'NOUN'), ('indicates', 'VERB'), ('that', 'ADP'), ('Hong', 'NOUN'), ('Kong', 'NOUN'), ('consumers', 'NOUN'), ('are', 'VERB'), ('the', 'DET'), ('most', 'ADJ'), ('materialistic', 'ADJ'), ('in', 'ADP'), ('the', 'DET'), ('14', 'NUM'), ('major', 'ADJ'), ('markets', 'NOUN'), ('where', 'ADV'), ('the', 'DET'), ('survey', 'NOUN'), ('was', 'VERB'), ('carried', 'VERB'), ('out', 'PRT'), ('*T*-1', 'X'), ('.', '.'), ('Under', 'ADP'), ('the', 'DET'), ('stars', 'NOUN'), ('and', 'CONJ'), ('moons', 'ADP'), ('of', 'ADP'), ('the', 'DET'), ('renovated', 'ADP'), ('Indiana', 'NOUN'), ('Roof', 'ADP'), ('ballroom', 'ADP'), (',', '.'), ('nine', 'NUM'), ('of', 'ADP'), ('the', 'DET'), ('hottest', 'ADP'), ('chefs', 'NOUN'), ('in', 'ADP'), ('town', 'NOUN'), ('fed', 'VERB'), ('them', 'PRON'), ('Indiana', 'NOUN'), ('duckling', 'ADP'), ('mousseline', 'ADP'), (',', '.'), ('lobster', 'ADP'), ('consomme', 'ADP'), (',', '.'), ('veal', 'ADP'), ('mignon', 'ADP'), ('and', 'CONJ'), ('chocolate', 'ADP'), ('terrine', 'ADP'), ('with', 'ADP'), ('a', 'DET'), ('raspberry', 'ADP'), ('sauce', 'ADP'), ('.', '.'), ('Despite', 'ADP'), ('a', 'DET'), ('deluge', 'ADP'), ('of', 'ADP'), ('economic', 'ADJ'), ('news', 'NOUN'), (',', '.'), ('the', 'DET'), ('Treasury', 'NOUN'), ('market', 'NOUN'), ('remained', 'VERB'), ('quiet', 'ADJ'), ('but', 'CONJ'), ('the', 'DET'), ('corporate', 'ADJ'), ('market', 'NOUN'), ('was', 'VERB'), ('abuzz', 'ADP'), ('over', 'ADP'), ('International', 'NOUN'), ('Business', 'NOUN'), ('Machines', 'NOUN'), ('Corp.', 'NOUN'), (\"'s\", 'PRT'), ('huge', 'ADJ'), ('debt', 'NOUN'), ('offering', 'NOUN'), ('.', '.'), ('Like', 'ADP'), ('virtually', 'ADV'), ('everything', 'NOUN'), ('on', 'ADP'), ('Wall', 'NOUN'), ('Street', 'NOUN'), (',', '.'), ('the', 'DET'), ('program-trading', 'ADJ'), ('battle', 'NOUN'), ('is', 'VERB'), ('over', 'ADP'), ('money', 'NOUN'), (',', '.'), ('and', 'CONJ'), ('the', 'DET'), ('traditionalists', 'ADP'), ('have', 'VERB'), ('been', 'VERB'), ('losing', 'VERB'), ('out', 'PRT'), ('on', 'ADP'), ('bundles', 'ADP'), ('of', 'ADP'), ('it', 'PRON'), ('to', 'PRT'), ('the', 'DET'), ('New', 'NOUN'), ('Guard', 'NOUN'), ('in', 'ADP'), ('recent', 'ADJ'), ('years', 'NOUN'), ('.', '.'), ('World', 'NOUN'), ('sugar', 'NOUN'), ('futures', 'NOUN'), ('prices', 'NOUN'), ('soared', 'VERB'), ('on', 'ADP'), ('rumors', 'NOUN'), ('that', 'ADP'), ('Brazil', 'NOUN'), (',', '.'), ('a', 'DET'), ('major', 'ADJ'), ('grower', 'ADP'), ('and', 'CONJ'), ('exporter', 'NOUN'), (',', '.'), ('might', 'VERB'), ('not', 'ADV'), ('ship', 'VERB'), ('sugar', 'NOUN'), ('this', 'DET'), ('crop', 'NOUN'), ('year', 'NOUN'), ('and', 'CONJ'), ('next', 'ADJ'), ('.', '.'), ('``', '.'), ('We', 'PRON'), ('feel', 'VERB'), ('very', 'ADV'), ('strongly', 'ADV'), ('that', 'ADP'), ('we', 'PRON'), ('really', 'ADV'), ('need', 'VERB'), ('action', 'NOUN'), ('across', 'ADP'), ('the', 'DET'), ('full', 'ADJ'), ('range', 'NOUN'), ('of', 'ADP'), ('issues', 'NOUN'), ('0', 'X'), ('we', 'PRON'), (\"'ve\", 'VERB'), ('identified', 'VERB'), ('*T*-1', 'X'), (',', '.'), ('and', 'CONJ'), ('we', 'PRON'), ('need', 'VERB'), ('it', 'PRON'), ('by', 'ADP'), ('next', 'ADJ'), ('spring', 'NOUN'), (',', '.'), (\"''\", '.'), ('Mr.', 'NOUN'), ('Dallara', 'NOUN'), ('says', 'VERB'), ('*T*-2', 'X'), ('.', '.'), ('More', 'ADJ'), ('often', 'ADV'), ('than', 'ADP'), ('not', 'ADV'), (',', '.'), ('ringers', 'NOUN'), ('think', 'VERB'), ('of', 'ADP'), ('the', 'DET'), ('church', 'NOUN'), ('as', 'ADP'), ('something', 'NOUN'), ('stuck', 'ADP'), ('*', 'X'), ('on', 'ADP'), ('the', 'DET'), ('bottom', 'NOUN'), ('of', 'ADP'), ('the', 'DET'), ('belfry', 'NOUN'), ('.', '.'), ('But', 'CONJ'), ('he', 'PRON'), ('also', 'ADV'), ('showed', 'VERB'), ('a', 'DET'), ('willingness', 'ADP'), ('*-1', 'X'), ('to', 'PRT'), ('take', 'VERB'), ('a', 'DET'), ('strong', 'ADJ'), ('stand', 'NOUN'), ('.', '.'), ('A', 'DET'), ('year', 'NOUN'), ('earlier', 'ADV'), (',', '.'), ('net', 'ADJ'), ('income', 'NOUN'), ('was', 'VERB'), ('$', '.'), ('2.1', 'NUM'), ('million', 'NUM'), ('*U*', 'X'), (',', '.'), ('or', 'CONJ'), ('six', 'NUM'), ('cents', 'NOUN'), ('a', 'DET'), ('share', 'NOUN'), (',', '.'), ('on', 'ADP'), ('revenue', 'NOUN'), ('of', 'ADP'), ('$', '.'), ('169.9', 'ADP'), ('million', 'NUM'), ('*U*', 'X'), ('.', '.'), ('The', 'DET'), ('government', 'NOUN'), (\"'s\", 'PRT'), ('construction', 'NOUN'), ('spending', 'NOUN'), ('figures', 'NOUN'), ('contrast', 'NOUN'), ('with', 'ADP'), ('a', 'DET'), ('report', 'NOUN'), ('issued', 'VERB'), ('*', 'X'), ('earlier', 'ADV'), ('in', 'ADP'), ('the', 'DET'), ('week', 'NOUN'), ('by', 'ADP'), ('McGraw-Hill', 'NOUN'), ('Inc.', 'NOUN'), (\"'s\", 'PRT'), ('F.W.', 'ADP'), ('Dodge', 'NOUN'), ('Group', 'NOUN'), ('.', '.'), ('The', 'DET'), ('defense', 'NOUN'), ('lawyers', 'NOUN'), (\"'\", 'PRT'), ('group', 'NOUN'), ('formed', 'VERB'), ('a', 'DET'), ('task', 'NOUN'), ('force', 'NOUN'), ('*ICH*-1', 'X'), ('*ICH*-3', 'X'), ('this', 'DET'), ('week', 'NOUN'), (',', '.'), ('chaired', 'VERB'), ('*', 'X'), ('by', 'ADP'), ('New', 'NOUN'), ('York', 'NOUN'), ('attorney', 'NOUN'), ('Gerald', 'NOUN'), ('Lefcourt', 'ADP'), (',', '.'), ('0', 'X'), ('*T*-2', 'X'), ('to', 'PRT'), ('deal', 'NOUN'), ('with', 'ADP'), ('the', 'DET'), ('matter', 'NOUN'), ('.', '.'), ('But', 'CONJ'), ('Mr.', 'NOUN'), ('Ackerman', 'NOUN'), ('said', 'VERB'), ('0', 'X'), ('the', 'DET'), ('buy-back', 'ADJ'), (',', '.'), ('and', 'CONJ'), ('the', 'DET'), ('above-market', 'ADP'), ('price', 'NOUN'), ('paid', 'VERB'), ('*', 'X'), (',', '.'), ('prove', 'VERB'), ('that', 'ADP'), ('Mr.', 'NOUN'), ('Edelman', 'NOUN'), ('is', 'VERB'), ('running', 'VERB'), ('*-1', 'X'), ('scared', 'VERB'), ('.', '.'), ('Mr.', 'NOUN'), ('van', 'NOUN'), ('Dover', 'NOUN'), ('said', 'VERB'), ('0', 'X'), ('the', 'DET'), ('AT&T', 'NOUN'), ('team', 'NOUN'), ('created', 'VERB'), ('the', 'DET'), ('desired', 'VERB'), ('crystal', 'NOUN'), ('changes', 'NOUN'), ('by', 'ADP'), ('*-2', 'X'), ('bombarding', 'ADP'), ('superconductor', 'NOUN'), ('samples', 'NOUN'), ('with', 'ADP'), ('neutrons', 'ADP'), (',', '.'), ('a', 'DET'), ('process', 'NOUN'), ('that', 'ADP'), ('*T*-1', 'X'), ('creates', 'VERB'), ('some', 'DET'), ('radioactivity', 'ADP'), ('in', 'ADP'), ('the', 'DET'), ('samples', 'NOUN'), ('and', 'CONJ'), ('may', 'VERB'), ('not', 'ADV'), ('be', 'VERB'), ('feasible', 'ADJ'), ('for', 'ADP'), ('large-scale', 'ADP'), ('commercial', 'ADJ'), ('use', 'NOUN'), ('.', '.'), ('F.H.', 'ADP'), ('Faulding', 'NOUN'), ('&', 'CONJ'), ('Co.', 'NOUN'), (',', '.'), ('an', 'DET'), ('Australian', 'ADJ'), ('pharmaceuticals', 'NOUN'), ('company', 'NOUN'), (',', '.'), ('said', 'VERB'), ('0', 'X'), ('its', 'PRON'), ('Moleculon', 'NOUN'), ('Inc.', 'NOUN'), ('affiliate', 'NOUN'), ('acquired', 'VERB'), ('Kalipharma', 'NOUN'), ('Inc.', 'NOUN'), ('for', 'ADP'), ('$', '.'), ('23', 'NUM'), ('million', 'NUM'), ('*U*', 'X'), ('.', '.'), ('Compromises', 'ADP'), ('are', 'VERB'), ('possible', 'ADJ'), ('.', '.'), ('Dreyfus', 'ADP'), ('World-Wide', 'ADP'), ('Dollar', 'NOUN'), (',', '.'), ('the', 'DET'), ('top-yielding', 'ADP'), ('fund', 'NOUN'), (',', '.'), ('had', 'VERB'), ('a', 'DET'), ('seven-day', 'ADJ'), ('compound', 'NOUN'), ('yield', 'VERB'), ('of', 'ADP'), ('9.37', 'ADP'), ('%', 'NOUN'), ('during', 'ADP'), ('the', 'DET'), ('latest', 'ADJ'), ('week', 'NOUN'), (',', '.'), ('down', 'ADV'), ('from', 'ADP'), ('9.45', 'ADP'), ('%', 'NOUN'), ('a', 'DET'), ('week', 'NOUN'), ('earlier', 'ADV'), ('.', '.'), ('The', 'DET'), ('30-day', 'ADJ'), ('simple', 'ADJ'), ('yield', 'NOUN'), ('fell', 'VERB'), ('to', 'PRT'), ('an', 'DET'), ('average', 'ADJ'), ('8.19', 'ADP'), ('%', 'NOUN'), ('from', 'ADP'), ('8.22', 'ADP'), ('%', 'NOUN'), (';', '.'), ('the', 'DET'), ('30-day', 'ADJ'), ('compound', 'NOUN'), ('yield', 'VERB'), ('slid', 'VERB'), ('to', 'PRT'), ('an', 'DET'), ('average', 'ADJ'), ('8.53', 'ADP'), ('%', 'NOUN'), ('from', 'ADP'), ('8.56', 'ADP'), ('%', 'NOUN'), ('.', '.'), ('Mr.', 'NOUN'), ('Black', 'NOUN'), ('said', 'VERB'), ('0', 'X'), ('he', 'PRON'), ('is', 'VERB'), ('``', '.'), ('pleased', 'VERB'), (\"''\", '.'), ('with', 'ADP'), ('the', 'DET'), ('economy', 'NOUN'), (\"'s\", 'PRT'), ('recent', 'ADJ'), ('performance', 'NOUN'), (',', '.'), ('and', 'CONJ'), ('does', 'VERB'), (\"n't\", 'ADV'), ('see', 'VERB'), ('``', '.'), ('a', 'DET'), ('lot', 'NOUN'), ('of', 'ADP'), ('excesses', 'ADP'), ('*ICH*-1', 'X'), ('out', 'PRT'), ('there', 'DET'), ('that', 'ADP'), ('*T*-3', 'X'), ('would', 'VERB'), ('tilt', 'ADP'), ('us', 'PRON'), ('into', 'ADP'), ('recession', 'NOUN'), ('.', '.'), (\"''\", '.'), ('In', 'ADP'), ('his', 'PRON'), ('ruling', 'NOUN'), (',', '.'), ('Judge', 'NOUN'), ('Curry', 'NOUN'), ('added', 'VERB'), ('an', 'DET'), ('additional', 'ADJ'), ('$', '.'), ('55', 'NUM'), ('million', 'NUM'), ('*U*', 'X'), ('to', 'PRT'), ('the', 'DET'), ('commission', 'NOUN'), (\"'s\", 'PRT'), ('calculations', 'ADP'), ('.', '.'), ('Trading', 'NOUN'), ('was', 'VERB'), ('muted', 'ADP'), ('*-1', 'X'), ('in', 'ADP'), ('part', 'NOUN'), ('because', 'ADP'), ('of', 'ADP'), ('the', 'DET'), ('observance', 'ADP'), ('of', 'ADP'), ('All', 'DET'), ('Saints', 'ADP'), (\"'\", '.'), ('Day', 'ADP'), ('across', 'ADP'), ('much', 'ADJ'), ('of', 'ADP'), ('Europe', 'NOUN'), ('.', '.'), ('The', 'DET'), ('purchases', 'NOUN'), ('show', 'NOUN'), ('the', 'DET'), ('strong', 'ADJ'), ('interest', 'NOUN'), ('of', 'ADP'), ('Japanese', 'ADJ'), ('investors', 'NOUN'), ('in', 'ADP'), ('U.S.', 'NOUN'), ('mortgage-based', 'ADP'), ('instruments', 'NOUN'), (',', '.'), ('Fannie', 'NOUN'), ('Mae', 'NOUN'), (\"'s\", 'PRT'), ('chairman', 'NOUN'), (',', '.'), ('David', 'NOUN'), ('O.', 'ADP'), ('Maxwell', 'NOUN'), (',', '.'), ('said', 'VERB'), ('0', 'X'), ('*T*-1', 'X'), ('at', 'ADP'), ('a', 'DET'), ('news', 'NOUN'), ('conference', 'NOUN'), ('.', '.'), ('Strong', 'ADP'), ('dividend', 'NOUN'), ('growth', 'NOUN'), (',', '.'), ('he', 'PRON'), ('says', 'VERB'), ('0', 'X'), ('*T*-1', 'X'), (',', '.'), ('is', 'VERB'), ('``', '.'), ('the', 'DET'), ('black', 'ADJ'), ('widow', 'ADP'), ('of', 'ADP'), ('valuation', 'NOUN'), (\"''\", '.'), ('--', '.'), ('a', 'DET'), ('reference', 'NOUN'), ('to', 'PRT'), ('the', 'DET'), ('female', 'ADJ'), ('spiders', 'ADP'), ('that', 'DET'), ('*T*-231', 'ADP'), ('attract', 'VERB'), ('males', 'ADP'), ('and', 'CONJ'), ('then', 'ADV'), ('kill', 'VERB'), ('them', 'PRON'), ('after', 'ADP'), ('mating', 'ADP'), ('.', '.'), ('USX', 'NOUN'), ('has', 'VERB'), ('about', 'ADP'), ('$', '.'), ('5.5', 'NUM'), ('billion', 'NUM'), ('*U*', 'X'), ('in', 'ADP'), ('long-term', 'ADJ'), ('debt', 'NOUN'), ('and', 'CONJ'), ('257', 'ADP'), ('million', 'NUM'), ('shares', 'NOUN'), ('outstanding', 'ADJ'), ('.', '.'), ('After', 'ADP'), ('these', 'DET'), ('payments', 'NOUN'), (',', '.'), ('about', 'ADP'), ('$', '.'), ('225,000', 'ADP'), ('*U*', 'X'), ('will', 'VERB'), ('be', 'VERB'), ('available', 'ADJ'), ('for', 'ADP'), ('the', 'DET'), ('20', 'NUM'), ('million', 'NUM'), ('common', 'ADJ'), ('shares', 'NOUN'), ('outstanding', 'ADJ'), ('.', '.'), ('At', 'ADP'), ('one', 'NUM'), ('point', 'NOUN'), (',', '.'), ('Hammersmith', 'NOUN'), ('is', 'VERB'), ('reported', 'VERB'), ('*-1', 'X'), ('to', 'PRT'), ('have', 'VERB'), ('accounted', 'ADP'), ('for', 'ADP'), ('as', 'ADP'), ('much', 'ADJ'), ('as', 'ADP'), ('10', 'NUM'), ('%', 'NOUN'), ('of', 'ADP'), ('the', 'DET'), ('sterling', 'ADP'), ('market', 'NOUN'), ('in', 'ADP'), ('interest-rate', 'NOUN'), ('swap', 'NOUN'), ('dealings', 'NOUN'), ('.', '.'), ('NL', 'NOUN'), ('is', 'VERB'), ('officially', 'ADV'), ('making', 'VERB'), ('the', 'DET'), ('offer', 'NOUN'), ('.', '.'), ('And', 'CONJ'), ('my', 'PRON'), ('newspaper', 'NOUN'), ('can', 'VERB'), ('print', 'VERB'), ('the', 'DET'), ('text', 'NOUN'), ('of', 'ADP'), ('those', 'DET'), ('broadcasts', 'VERB'), ('.', '.'), ('Unlike', 'ADP'), ('many', 'ADJ'), ('U.S.', 'NOUN'), ('investors', 'NOUN'), (',', '.'), ('those', 'DET'), ('in', 'ADP'), ('Asia', 'NOUN'), ('or', 'CONJ'), ('Europe', 'NOUN'), ('seeking', 'VERB'), ('foreign-stock', 'ADP'), ('exposure', 'NOUN'), ('may', 'VERB'), ('be', 'VERB'), ('less', 'ADJ'), ('resistant', 'ADP'), ('to', 'PRT'), ('*', 'X'), ('paying', 'VERB'), ('higher', 'ADJ'), ('prices', 'NOUN'), ('for', 'ADP'), ('country', 'NOUN'), ('funds', 'NOUN'), ('.', '.'), ('The', 'DET'), ('recent', 'ADJ'), ('explosion', 'NOUN'), ('of', 'ADP'), ('country', 'NOUN'), ('funds', 'NOUN'), ('mirrors', 'ADP'), ('the', 'DET'), ('``', '.'), ('closed-end', 'ADJ'), ('fund', 'NOUN'), ('mania', 'ADP'), (\"''\", '.'), ('of', 'ADP'), ('the', 'DET'), ('1920s', 'NUM'), (',', '.'), ('Mr.', 'NOUN'), ('Foot', 'NOUN'), ('says', 'VERB'), ('0', 'X'), ('*T*-2', 'X'), (',', '.'), ('when', 'ADV'), ('narrowly', 'ADP'), ('focused', 'VERB'), ('funds', 'NOUN'), ('grew', 'VERB'), ('wildly', 'ADP'), ('popular', 'ADJ'), ('*T*-1', 'X'), ('.', '.'), ('Mr.', 'NOUN'), ('Otero', 'NOUN'), (',', '.'), ('who', 'PRON'), ('*T*-249', 'ADP'), ('apparently', 'ADV'), ('has', 'VERB'), ('an', 'DET'), ('unpublished', 'ADJ'), ('number', 'NOUN'), (',', '.'), ('also', 'ADV'), ('could', 'VERB'), (\"n't\", 'ADV'), ('be', 'VERB'), ('reached', 'VERB'), ('*-155', 'ADP'), ('.', '.'), ('Excluding', 'VERB'), ('these', 'DET'), ('orders', 'NOUN'), (',', '.'), ('backlogs', 'NOUN'), ('declined', 'VERB'), ('0.3', 'NUM'), ('%', 'NOUN'), ('.', '.'), ('The', 'DET'), ('start', 'NOUN'), ('of', 'ADP'), ('the', 'DET'), ('whole', 'ADJ'), ('process', 'NOUN'), ('is', 'VERB'), ('the', 'DET'), ('key', 'ADJ'), ('-', '.'), ('someone', 'NOUN'), ('must', 'VERB'), ('fundamentally', 'ADP'), ('increase', 'NOUN'), ('or', 'CONJ'), ('decrease', 'NOUN'), ('his', 'PRON'), ('ownership', 'NOUN'), ('in', 'ADP'), ('widgets', 'NOUN'), ('*-1', 'X'), ('to', 'PRT'), ('make', 'VERB'), ('widget', 'NOUN'), ('prices', 'NOUN'), ('move', 'NOUN'), ('.', '.'), ('While', 'ADP'), ('U.S.', 'NOUN'), ('officials', 'NOUN'), ('voice', 'NOUN'), ('optimism', 'NOUN'), ('about', 'ADP'), ('Japan', 'NOUN'), (\"'s\", 'PRT'), ('enlarged', 'ADP'), ('role', 'NOUN'), ('in', 'ADP'), ('Asia', 'NOUN'), (',', '.'), ('they', 'PRON'), ('also', 'ADV'), ('convey', 'ADP'), ('an', 'DET'), ('undertone', 'ADP'), ('of', 'ADP'), ('caution', 'NOUN'), ('.', '.'), ('Buick', 'NOUN'), ('has', 'VERB'), ('been', 'VERB'), ('seeking', 'VERB'), ('for', 'ADP'), ('the', 'DET'), ('past', 'ADJ'), ('few', 'ADJ'), ('years', 'NOUN'), ('*-1', 'X'), ('to', 'PRT'), ('restore', 'VERB'), ('its', 'PRON'), ('reputation', 'NOUN'), ('as', 'ADP'), ('``', '.'), ('the', 'DET'), ('doctor', 'ADP'), (\"'s\", 'PRT'), ('car', 'NOUN'), (\"''\", '.'), ('--', '.'), ('a', 'DET'), ('product', 'NOUN'), ('for', 'ADP'), ('upscale', 'ADJ'), ('professionals', 'NOUN'), ('.', '.'), ('But', 'CONJ'), ('Mr.', 'NOUN'), ('Hahn', 'NOUN'), ('rose', 'VERB'), ('swiftly', 'ADV'), ('through', 'ADP'), ('the', 'DET'), ('ranks', 'NOUN'), (',', '.'), ('*-1', 'X'), ('demonstrating', 'ADP'), ('a', 'DET'), ('raw', 'ADP'), ('intelligence', 'NOUN'), ('that', 'ADP'), ('he', 'PRON'), ('says', 'VERB'), ('0', 'X'), ('he', 'PRON'), ('knew', 'VERB'), ('0', 'X'), ('he', 'PRON'), ('possessed', 'ADP'), ('*T*-2', 'X'), ('early', 'ADV'), ('on', 'ADP'), ('.', '.'), ('``', '.'), ('I', 'PRON'), ('sense', 'NOUN'), ('that', 'ADP'), ('some', 'DET'), ('people', 'NOUN'), ('are', 'VERB'), ('reluctant', 'ADP'), ('*-2', 'X'), ('to', 'PRT'), ('stick', 'ADP'), ('their', 'PRON'), ('necks', 'ADP'), ('out', 'ADP'), ('in', 'ADP'), ('any', 'DET'), ('aggressive', 'ADJ'), ('way', 'NOUN'), ('until', 'ADP'), ('after', 'ADP'), ('the', 'DET'), ('figures', 'NOUN'), ('come', 'VERB'), ('out', 'PRT'), (',', '.'), (\"''\", '.'), ('said', 'VERB'), ('*T*-1', 'X'), ('Richard', 'NOUN'), ('Eakle', 'ADP'), (',', '.'), ('president', 'NOUN'), ('of', 'ADP'), ('Eakle', 'ADP'), ('Associates', 'NOUN'), (',', '.'), ('Fair', 'NOUN'), ('Haven', 'NOUN'), (',', '.'), ('The', 'DET'), ('percent', 'ADP'), ('difference', 'NOUN'), ('compares', 'VERB'), ('actual', 'ADJ'), ('profit', 'NOUN'), ('with', 'ADP'), ('the', 'DET'), ('30-day', 'ADJ'), ('estimate', 'NOUN'), ('where', 'ADV'), ('at', 'ADP'), ('least', 'ADJ'), ('three', 'NUM'), ('analysts', 'NOUN'), ('have', 'VERB'), ('issues', 'NOUN'), ('forecasts', 'NOUN'), ('in', 'ADP'), ('the', 'DET'), ('past', 'ADJ'), ('30', 'NUM'), ('days', 'NOUN'), ('*T*-1', 'X'), ('.', '.'), ('``', '.'), ('If', 'ADP'), ('I', 'PRON'), ('took', 'VERB'), ('-LCB-', '.'), ('these', 'DET'), ('preparation', 'NOUN'), ('booklets', 'NOUN'), ('-RCB-', '.'), ('into', 'ADP'), ('my', 'PRON'), ('classroom', 'NOUN'), (',', '.'), ('I', 'PRON'), (\"'d\", 'VERB'), ('have', 'VERB'), ('a', 'DET'), ('hard', 'ADJ'), ('time', 'NOUN'), ('*-1', 'X'), ('justifying', 'ADP'), ('to', 'PRT'), ('my', 'PRON'), ('students', 'NOUN'), ('and', 'CONJ'), ('parents', 'NOUN'), ('that', 'ADP'), ('it', 'PRON'), ('was', 'VERB'), (\"n't\", 'ADV'), ('cheating', 'NOUN'), (',', '.'), (\"''\", '.'), ('says', 'VERB'), ('*T*-2', 'X'), ('John', 'NOUN'), ('Kaminski', 'NOUN'), (',', '.'), ('a', 'DET'), ('Traverse', 'ADP'), ('City', 'NOUN'), (',', '.'), ('Mich.', 'NOUN'), (',', '.'), ('teacher', 'NOUN'), ('who', 'PRON'), ('*T*-103', 'ADP'), ('has', 'VERB'), ('studied', 'VERB'), ('test', 'NOUN'), ('coaching', 'NOUN'), ('.', '.'), ('GenCorp', 'NOUN'), ('tumbled', 'VERB'), ('2', 'NUM'), ('to', 'PRT'), ('14', 'NUM'), ('.', '.'), ('Cara', 'NOUN'), (',', '.'), ('a', 'DET'), ('food', 'NOUN'), ('services', 'NOUN'), ('chain', 'NOUN'), ('operator', 'NOUN'), ('and', 'CONJ'), ('Unicorp', 'NOUN'), (',', '.'), ('a', 'DET'), ('holding', 'NOUN'), ('company', 'NOUN'), (',', '.'), ('are', 'VERB'), ('based', 'VERB'), ('*-1', 'X'), ('in', 'ADP'), ('Toronto', 'NOUN'), ('.', '.'), ('Mr.', 'NOUN'), ('Gartner', 'ADP'), ('is', 'VERB'), ('editor', 'NOUN'), ('and', 'CONJ'), ('co-owner', 'NOUN'), ('of', 'ADP'), ('the', 'DET'), ('Daily', 'NOUN'), ('Tribune', 'ADP'), ('in', 'ADP'), ('Ames', 'ADP'), (',', '.'), ('Iowa', 'NOUN'), (',', '.'), ('and', 'CONJ'), ('president', 'NOUN'), ('of', 'ADP'), ('NBC', 'NOUN'), ('News', 'NOUN'), ('in', 'ADP'), ('New', 'NOUN'), ('York', 'NOUN'), ('.', '.'), ('Program', 'NOUN'), ('trading', 'NOUN'), ('has', 'VERB'), ('taken', 'VERB'), ('off', 'PRT'), ('in', 'ADP'), ('Japan', 'NOUN'), ('since', 'ADP'), ('last', 'ADJ'), ('year', 'NOUN'), (\"'s\", 'PRT'), ('introduction', 'NOUN'), ('of', 'ADP'), ('home-market', 'ADP'), ('stock-index', 'ADJ'), ('futures', 'NOUN'), ('trading', 'NOUN'), ('on', 'ADP'), ('the', 'DET'), ('Tokyo', 'NOUN'), ('and', 'CONJ'), ('Osaka', 'ADP'), ('stock', 'NOUN'), ('exchanges', 'NOUN'), ('.', '.'), ('The', 'DET'), ('company', 'NOUN'), ('has', 'VERB'), ('reported', 'VERB'), ('declines', 'VERB'), ('in', 'ADP'), ('operating', 'NOUN'), ('profit', 'NOUN'), ('in', 'ADP'), ('each', 'DET'), ('of', 'ADP'), ('the', 'DET'), ('past', 'ADJ'), ('three', 'NUM'), ('years', 'NOUN'), (',', '.'), ('despite', 'ADP'), ('steady', 'ADJ'), ('sales', 'NOUN'), ('growth', 'NOUN'), ('.', '.'), ('Stock-index', 'NOUN'), ('arbitrage', 'NOUN'), ('--', '.'), ('*', 'X'), ('Buying', 'VERB'), ('or', 'CONJ'), ('selling', 'VERB'), ('baskets', 'NOUN'), ('of', 'ADP'), ('stocks', 'NOUN'), ('while', 'ADP'), ('at', 'ADP'), ('the', 'DET'), ('same', 'ADJ'), ('time', 'NOUN'), ('*-1', 'X'), ('executing', 'VERB'), ('offsetting', 'VERB'), ('trades', 'NOUN'), ('in', 'ADP'), ('stock-index', 'ADJ'), ('futures', 'NOUN'), ('or', 'CONJ'), ('options', 'NOUN'), ('.', '.'), ('Spreads', 'ADP'), ('will', 'VERB'), ('become', 'VERB'), ('so', 'ADV'), ('tight', 'ADJ'), ('that', 'ADP'), ('it', 'PRON'), ('wo', 'VERB'), (\"n't\", 'ADV'), ('matter', 'NOUN'), ('which', 'DET'), ('market', 'NOUN'), ('an', 'DET'), ('investor', 'NOUN'), ('chooses', 'VERB'), ('*T*-79', 'X'), ('--', '.'), ('arbitrage', 'NOUN'), ('will', 'VERB'), ('prevent', 'VERB'), ('him', 'PRON'), ('from', 'ADP'), ('*-1', 'X'), ('gaining', 'VERB'), ('any', 'DET'), ('temporary', 'ADP'), ('profit', 'NOUN'), ('.', '.'), ('It', 'PRON'), ('*EXP*-1', 'X'), (\"'s\", 'PRT'), ('also', 'ADV'), ('refreshing', 'ADP'), ('*', 'X'), ('to', 'PRT'), ('read', 'VERB'), ('a', 'DET'), ('Japanese', 'ADJ'), ('author', 'NOUN'), ('who', 'PRON'), ('*T*-52', 'X'), ('clearly', 'ADV'), ('does', 'VERB'), (\"n't\", 'ADV'), ('belong', 'VERB'), ('to', 'PRT'), ('the', 'DET'), ('self-aggrandizing', 'ADP'), ('``', '.'), ('we-Japanese', 'ADP'), (\"''\", '.'), ('school', 'NOUN'), ('of', 'ADP'), ('writers', 'NOUN'), ('who', 'PRON'), ('*T*-53', 'X'), ('perpetuate', 'ADP'), ('the', 'DET'), ('notion', 'NOUN'), ('of', 'ADP'), ('the', 'DET'), ('unique', 'ADP'), ('Japanese', 'ADJ'), (',', '.'), ('unfathomable', 'ADP'), ('by', 'ADP'), ('outsiders', 'ADP'), ('.', '.'), ('``', '.'), ('*-1', 'X'), ('To', 'PRT'), ('ring', 'VERB'), ('for', 'ADP'), ('even', 'ADV'), ('one', 'NUM'), ('service', 'NOUN'), ('at', 'ADP'), ('this', 'DET'), ('tower', 'NOUN'), (',', '.'), ('we', 'PRON'), ('have', 'VERB'), ('*-1', 'X'), ('to', 'PRT'), ('scrape', 'ADP'), (',', '.'), (\"''\", '.'), ('says', 'VERB'), ('*T*-2', 'X'), ('Mr.', 'NOUN'), ('Hammond', 'NOUN'), (',', '.'), ('a', 'DET'), ('retired', 'VERB'), ('water-authority', 'ADP'), ('worker', 'NOUN'), ('.', '.'), ('The', 'DET'), ('reduced', 'VERB'), ('dividend', 'NOUN'), ('is', 'VERB'), ('payable', 'ADP'), ('Jan.', 'ADP'), ('2', 'NUM'), ('to', 'PRT'), ('stock', 'NOUN'), ('of', 'ADP'), ('record', 'NOUN'), ('Dec.', 'NOUN'), ('15', 'NUM'), ('.', '.'), ('``', '.'), ('They', 'PRON'), ('wo', 'VERB'), (\"n't\", 'ADV'), ('buy', 'VERB'), ('if', 'ADP'), ('the', 'DET'), ('quality', 'NOUN'), ('is', 'VERB'), ('not', 'ADV'), ('there', 'DET'), (',', '.'), (\"''\", '.'), ('said', 'VERB'), ('*T*-1', 'X'), ('Cedric', 'ADP'), ('Martin', 'NOUN'), ('of', 'ADP'), ('Martin', 'NOUN'), ('Wine', 'NOUN'), ('Cellar', 'ADP'), ('in', 'ADP'), ('New', 'NOUN'), ('Orleans', 'NOUN'), ('.', '.'), ('In', 'ADP'), ('all', 'DET'), (',', '.'), ('the', 'DET'), ('company', 'NOUN'), ('hopes', 'VERB'), ('*-2', 'X'), ('to', 'PRT'), ('repay', 'ADP'), ('$', '.'), ('45', 'NUM'), ('million', 'NUM'), ('*U*', 'X'), ('in', 'ADP'), ('debt', 'NOUN'), ('through', 'ADP'), ('the', 'DET'), ('sales', 'NOUN'), (',', '.'), ('which', 'DET'), ('*T*-1', 'X'), ('will', 'VERB'), ('completely', 'ADV'), ('discharge', 'ADP'), ('its', 'PRON'), ('secured', 'VERB'), ('debt', 'NOUN'), (',', '.'), ('the', 'DET'), ('company', 'NOUN'), ('said', 'VERB'), ('0', 'X'), ('*T*-3', 'X'), ('.', '.'), ('In', 'ADP'), ('the', 'DET'), ('1988', 'NUM'), ('period', 'NOUN'), (',', '.'), ('USX', 'NOUN'), ('also', 'ADV'), ('had', 'VERB'), ('a', 'DET'), ('$', '.'), ('71', 'NUM'), ('million', 'NUM'), ('*U*', 'X'), ('after-tax', 'ADJ'), ('gain', 'NOUN'), ('from', 'ADP'), ('a', 'DET'), ('tax', 'NOUN'), ('dispute', 'NOUN'), ('settlement', 'NOUN'), ('.', '.'), ('When', 'ADV'), ('two', 'NUM'), ('parties', 'NOUN'), ('engage', 'VERB'), ('in', 'ADP'), ('an', 'DET'), ('interest-rate', 'NOUN'), ('swap', 'NOUN'), ('*T*-1', 'X'), (',', '.'), ('they', 'PRON'), ('are', 'VERB'), ('betting', 'ADP'), ('against', 'ADP'), ('each', 'DET'), ('other', 'ADJ'), ('on', 'ADP'), ('future', 'ADJ'), ('rates', 'NOUN'), ('.', '.'), ('They', 'PRON'), ('take', 'VERB'), ('place', 'NOUN'), ('in', 'ADP'), ('government', 'NOUN'), ('programs', 'NOUN'), ('that', 'ADP'), ('*T*-1', 'X'), ('seem', 'VERB'), ('tailor-made', 'ADP'), ('for', 'ADP'), ('corruption', 'NOUN'), ('.', '.'), ('While', 'ADP'), ('researchers', 'NOUN'), ('believe', 'VERB'), ('0', 'X'), ('such', 'ADJ'), ('transplants', 'NOUN'), ('could', 'VERB'), ('help', 'VERB'), ('*-1', 'X'), ('treat', 'VERB'), ('diseases', 'NOUN'), ('like', 'ADP'), ('Alzheimer', 'NOUN'), (\"'s\", 'PRT'), (',', '.'), ('anti-abortionists', 'NOUN'), ('oppose', 'VERB'), ('the', 'DET'), ('research', 'NOUN'), ('.', '.'), ('Viacom', 'NOUN'), ('denies', 'VERB'), ('0', 'X'), ('it', 'PRON'), (\"'s\", 'VERB'), ('using', 'VERB'), ('pressure', 'NOUN'), ('tactics', 'ADP'), ('.', '.'), ('`', '.'), ('*', 'X'), ('Sit', 'ADP'), ('down', 'ADV'), ('!', '.'), ('Dan', 'NOUN'), ('Droz', 'NOUN'), (',', '.'), ('leader', 'NOUN'), ('of', 'ADP'), ('the', 'DET'), ('Carnegie-Mellon', 'NOUN'), ('group', 'NOUN'), (',', '.'), ('sees', 'VERB'), ('benefits', 'NOUN'), ('all', 'DET'), ('around', 'ADP'), ('.', '.'), ('A.L.', 'NOUN'), ('Williams', 'NOUN'), ('Corp.', 'NOUN'), ('was', 'VERB'), ('merged', 'VERB'), ('*-1', 'X'), ('into', 'ADP'), ('Primerica', 'NOUN'), ('Corp.', 'NOUN'), (',', '.'), ('New', 'NOUN'), ('York', 'NOUN'), (',', '.'), ('after', 'ADP'), ('a', 'DET'), ('special', 'ADJ'), ('meeting', 'NOUN'), ('of', 'ADP'), ('Williams', 'NOUN'), ('shareholders', 'NOUN'), ('cleared', 'ADP'), ('the', 'DET'), ('transaction', 'NOUN'), (',', '.'), ('the', 'DET'), ('companies', 'NOUN'), ('said', 'VERB'), ('0', 'X'), ('*T*-2', 'X'), ('.', '.'), ('Then', 'ADV'), (',', '.'), ('just', 'ADV'), ('as', 'ADP'), ('the', 'DET'), ('Tramp', 'NOUN'), ('is', 'VERB'), ('given', 'VERB'), ('*-72', 'X'), ('a', 'DET'), ('blind', 'ADJ'), ('girl', 'NOUN'), ('0', 'X'), ('*', 'X'), ('to', 'PRT'), ('cure', 'ADP'), ('*T*-2', 'X'), ('in', 'ADP'), ('``', '.'), ('City', 'NOUN'), ('Lights', 'NOUN'), (',', '.'), (\"''\", '.'), ('the', 'DET'), ('Artist', 'NOUN'), ('is', 'VERB'), ('put', 'VERB'), ('*-73', 'X'), ('in', 'ADP'), ('charge', 'NOUN'), ('of', 'ADP'), ('*-73', 'X'), ('returning', 'VERB'), ('a', 'DET'), ('two-year-old', 'ADP'), ('waif', 'ADP'), ('-LRB-', '.'), ('Nicole', 'ADP'), ('Alysia', 'ADP'), ('-RRB-', '.'), (',', '.'), ('whose', 'PRON'), ('father', 'NOUN'), ('*T*-1', 'X'), ('has', 'VERB'), ('been', 'VERB'), ('murdered', 'VERB'), ('*-74', 'X'), ('by', 'ADP'), ('thugs', 'ADP'), (',', '.'), ('to', 'PRT'), ('her', 'PRON'), ('mother', 'NOUN'), ('.', '.'), ('Under', 'ADP'), ('terms', 'NOUN'), ('of', 'ADP'), ('the', 'DET'), ('agreement', 'NOUN'), (',', '.'), ('shareholders', 'NOUN'), ('other', 'ADJ'), ('than', 'ADP'), ('the', 'DET'), ('Underwoods', 'ADP'), ('will', 'VERB'), ('receive', 'VERB'), ('$', '.'), ('3,500', 'NUM'), ('*U*', 'X'), ('a', 'DET'), ('share', 'NOUN'), ('at', 'ADP'), ('closing', 'ADJ'), (',', '.'), ('which', 'DET'), ('*T*-2', 'X'), ('is', 'VERB'), ('expected', 'VERB'), ('*-1', 'X'), ('in', 'ADP'), ('December', 'NOUN'), ('.', '.'), ('Japanese', 'ADJ'), ('money', 'NOUN'), ('will', 'VERB'), ('help', 'VERB'), ('*-1', 'X'), ('turn', 'VERB'), ('Southeast', 'ADJ'), ('Asia', 'NOUN'), ('into', 'ADP'), ('a', 'DET'), ('more', 'ADJ'), ('cohesive', 'ADP'), ('economic', 'ADJ'), ('region', 'NOUN'), ('.', '.'), ('The', 'DET'), ('Treasury', 'NOUN'), ('will', 'VERB'), ('raise', 'VERB'), ('$', '.'), ('10', 'NUM'), ('billion', 'NUM'), ('*U*', 'X'), ('in', 'ADP'), ('fresh', 'ADJ'), ('cash', 'NOUN'), ('by', 'ADP'), ('*-1', 'X'), ('selling', 'VERB'), ('$', '.'), ('30', 'NUM'), ('billion', 'NUM'), ('*U*', 'X'), ('of', 'ADP'), ('securities', 'NOUN'), (',', '.'), ('including', 'VERB'), ('$', '.'), ('10', 'NUM'), ('billion', 'NUM'), ('*U*', 'X'), ('of', 'ADP'), ('new', 'ADJ'), ('three-year', 'ADJ'), ('notes', 'NOUN'), ('and', 'CONJ'), ('$', '.'), ('10', 'NUM'), ('billion', 'NUM'), ('*U*', 'X'), ('of', 'ADP'), ('new', 'ADJ'), ('10-year', 'ADJ'), ('notes', 'NOUN'), ('.', '.'), ('So', 'ADV'), ('did', 'VERB'), ('*?*', 'X'), ('*T*-1', 'X'), ('the', 'DET'), ('Federal', 'NOUN'), ('Reserve', 'NOUN'), ('Board', 'NOUN'), (\"'s\", 'PRT'), ('industrial-production', 'ADP'), ('index', 'NOUN'), ('.', '.'), ('That', 'DET'), ('response', 'NOUN'), ('annoyed', 'ADP'), ('Rep.', 'NOUN'), ('Markey', 'NOUN'), (',', '.'), ('House', 'NOUN'), ('aides', 'NOUN'), ('said', 'VERB'), ('0', 'X'), ('*T*-1', 'X'), (',', '.'), ('and', 'CONJ'), ('the', 'DET'), ('congressman', 'ADP'), ('snapped', 'VERB'), ('back', 'ADV'), ('that', 'ADP'), ('there', 'DET'), ('had', 'VERB'), ('been', 'VERB'), ('enough', 'ADV'), ('studies', 'NOUN'), ('of', 'ADP'), ('the', 'DET'), ('issue', 'NOUN'), ('and', 'CONJ'), ('that', 'DET'), ('it', 'PRON'), ('was', 'VERB'), ('time', 'NOUN'), ('for', 'ADP'), ('action', 'NOUN'), ('on', 'ADP'), ('the', 'DET'), ('matter', 'NOUN'), ('.', '.'), ('DISCOUNT', 'ADP'), ('RATE', 'ADP'), (':', '.'), ('7', 'NUM'), ('%', 'NOUN'), ('.', '.'), ('West', 'NOUN'), ('Texas', 'NOUN'), ('Intermediate', 'NOUN'), ('for', 'ADP'), ('December', 'NOUN'), ('delivery', 'NOUN'), ('advanced', 'VERB'), ('22', 'NUM'), ('cents', 'NOUN'), ('to', 'PRT'), ('$', '.'), ('19.94', 'ADP'), ('*U*', 'X'), ('a', 'DET'), ('barrel', 'NOUN'), ('.', '.'), ('President', 'NOUN'), ('Reagan', 'NOUN'), ('learned', 'VERB'), ('that', 'ADP'), ('lesson', 'NOUN'), ('.', '.'), ('The', 'DET'), ('earnings', 'NOUN'), ('drop', 'NOUN'), ('appears', 'VERB'), ('particularly', 'ADV'), ('steep', 'ADJ'), ('in', 'ADP'), ('comparison', 'ADP'), ('with', 'ADP'), ('last', 'ADJ'), ('year', 'NOUN'), (\"'s\", 'PRT'), ('unusually', 'ADV'), ('strong', 'ADJ'), ('third', 'ADJ'), ('quarter', 'NOUN'), (',', '.'), ('when', 'ADV'), ('the', 'DET'), ('company', 'NOUN'), ('was', 'VERB'), ('riding', 'ADP'), ('an', 'DET'), ('industrywide', 'ADP'), ('boom', 'NOUN'), ('in', 'ADP'), ('demand', 'NOUN'), ('and', 'CONJ'), ('pricing', 'NOUN'), ('*T*-1', 'X'), ('.', '.'), ('For', 'ADP'), ('six', 'NUM'), ('years', 'NOUN'), (',', '.'), ('T.', 'NOUN'), ('Marshall', 'NOUN'), ('Hahn', 'NOUN'), ('Jr.', 'NOUN'), ('has', 'VERB'), ('made', 'VERB'), ('corporate', 'ADJ'), ('acquisitions', 'NOUN'), ('in', 'ADP'), ('the', 'DET'), ('George', 'NOUN'), ('Bush', 'NOUN'), ('mode', 'ADP'), (':', '.'), ('kind', 'NOUN'), ('and', 'CONJ'), ('gentle', 'ADP'), ('.', '.'), ('``', '.'), ('You', 'PRON'), (\"'re\", 'VERB'), ('not', 'ADV'), ('going', 'VERB'), ('*-2', 'X'), ('to', 'PRT'), ('stop', 'VERB'), ('the', 'DET'), ('idea', 'NOUN'), ('of', 'ADP'), ('*', 'X'), ('trading', 'NOUN'), ('a', 'DET'), ('basket', 'NOUN'), ('of', 'ADP'), ('stocks', 'NOUN'), (',', '.'), (\"''\", '.'), ('says', 'VERB'), ('*T*-1', 'X'), ('Vanderbilt', 'NOUN'), (\"'s\", 'PRT'), ('Prof.', 'NOUN'), ('Stoll', 'NOUN'), ('.', '.'), ('``', '.'), ('In', 'ADP'), ('his', 'PRON'), ('talks', 'NOUN'), (',', '.'), ('the', 'DET'), ('former', 'ADJ'), ('president', 'NOUN'), ('urged', 'VERB'), ('China', 'NOUN'), (\"'s\", 'PRT'), ('leaders', 'NOUN'), ('*-1', 'X'), ('to', 'PRT'), ('acknowledge', 'ADP'), ('that', 'DET'), ('their', 'PRON'), ('nation', 'NOUN'), ('is', 'VERB'), ('part', 'NOUN'), ('of', 'ADP'), ('the', 'DET'), ('world', 'NOUN'), ('community', 'NOUN'), ('and', 'CONJ'), ('welcome', 'VERB'), ('the', 'DET'), ('infusion', 'ADP'), ('of', 'ADP'), ('outside', 'ADJ'), ('contacts', 'NOUN'), ('and', 'CONJ'), ('ideas', 'NOUN'), ('.', '.'), ('The', 'DET'), ('scientists', 'NOUN'), ('said', 'VERB'), ('0', 'X'), ('they', 'PRON'), ('created', 'VERB'), ('small', 'ADJ'), ('changes', 'NOUN'), ('in', 'ADP'), ('the', 'DET'), ('crystal-lattice', 'ADP'), ('structures', 'NOUN'), ('of', 'ADP'), ('the', 'DET'), ('superconductors', 'NOUN'), ('*-2', 'X'), ('to', 'PRT'), ('raise', 'VERB'), ('the', 'DET'), ('amount', 'NOUN'), ('of', 'ADP'), ('current', 'ADJ'), ('that', 'ADP'), ('single', 'ADJ'), ('crystals', 'NOUN'), ('could', 'VERB'), ('carry', 'VERB'), ('*T*-1', 'X'), ('to', 'PRT'), ('600,000', 'NUM'), ('amps', 'ADP'), ('per', 'ADP'), ('square', 'ADJ'), ('centimeter', 'ADP'), ('in', 'ADP'), ('a', 'DET'), ('moderately', 'ADV'), ('strong', 'ADJ'), ('magnetic', 'ADJ'), ('field', 'NOUN'), ('.', '.'), ('Komatsu', 'NOUN'), ('predicted', 'VERB'), ('that', 'ADP'), ('for', 'ADP'), ('the', 'DET'), ('fiscal', 'ADJ'), ('year', 'NOUN'), ('ending', 'VERB'), ('March', 'NOUN'), ('31', 'NUM'), ('sales', 'NOUN'), ('will', 'VERB'), ('climb', 'ADP'), ('to', 'PRT'), ('600', 'NUM'), ('billion', 'NUM'), ('yen', 'NOUN'), ('from', 'ADP'), ('566.54', 'ADP'), ('billion', 'NUM'), ('yen', 'NOUN'), (';', '.'), ('pretax', 'NOUN'), ('profit', 'NOUN'), ('was', 'VERB'), ('forecast', 'VERB'), ('*-1', 'X'), ('at', 'ADP'), ('35', 'NUM'), ('billion', 'NUM'), ('yen', 'NOUN'), (',', '.'), ('up', 'ADV'), ('from', 'ADP'), ('28.53', 'ADP'), ('billion', 'NUM'), ('yen', 'NOUN'), ('in', 'ADP'), ('fiscal', 'ADJ'), ('1989', 'NUM'), ('.', '.'), ('Interleukin-3', 'NOUN'), ('may', 'VERB'), ('help', 'VERB'), ('in', 'ADP'), ('*', 'X'), ('treating', 'VERB'), ('blood', 'NOUN'), ('cell', 'NOUN'), ('deficiencies', 'NOUN'), ('associated', 'VERB'), ('*', 'X'), ('with', 'ADP'), ('cancer', 'NOUN'), ('treatment', 'NOUN'), (',', '.'), ('bone', 'NOUN'), ('marrow', 'ADP'), ('transplants', 'NOUN'), ('and', 'CONJ'), ('other', 'ADJ'), ('blood-cell', 'ADP'), ('disorders', 'NOUN'), (',', '.'), ('Genetics', 'NOUN'), ('Institute', 'NOUN'), ('said', 'VERB'), ('0', 'X'), ('*T*-1', 'X'), ('.', '.'), ('President', 'NOUN'), ('Bush', 'NOUN'), ('should', 'VERB'), ('veto', 'NOUN'), ('appropriations', 'NOUN'), ('acts', 'VERB'), ('that', 'ADP'), ('*T*-1', 'X'), ('contain', 'VERB'), ('these', 'DET'), ('kinds', 'NOUN'), ('of', 'ADP'), ('unconstitutional', 'ADJ'), ('conditions', 'NOUN'), ('on', 'ADP'), ('the', 'DET'), ('president', 'NOUN'), (\"'s\", 'PRT'), ('ability', 'NOUN'), ('*', 'X'), ('to', 'PRT'), ('discharge', 'ADP'), ('his', 'PRON'), ('duties', 'NOUN'), ('and', 'CONJ'), ('exercise', 'VERB'), ('his', 'PRON'), ('prerogatives', 'NOUN'), ('.', '.'), ('``', '.'), ('The', 'DET'), ('sustained', 'VERB'), ('level', 'NOUN'), ('of', 'ADP'), ('confidence', 'NOUN'), ('can', 'VERB'), ('be', 'VERB'), ('attributed', 'VERB'), ('*-3', 'X'), ('to', 'PRT'), ('the', 'DET'), ('continued', 'VERB'), ('favorable', 'ADJ'), ('circumstances', 'NOUN'), ('which', 'DET'), ('*T*-1', 'X'), ('affect', 'VERB'), ('the', 'DET'), ('consumer', 'NOUN'), (\"'s\", 'PRT'), ('day-to-day', 'ADP'), ('economic', 'ADJ'), ('life', 'NOUN'), (',', '.'), (\"''\", '.'), ('said', 'VERB'), ('*T*-2', 'X'), ('Mr.', 'NOUN'), ('Linden', 'NOUN'), ('.', '.'), ('Herbert', 'ADP'), ('M.', 'NOUN'), ('Baum', 'NOUN'), (',', '.'), ('the', 'DET'), ('53-year-old', 'ADP'), ('president', 'NOUN'), ('of', 'ADP'), ('the', 'DET'), ('company', 'NOUN'), (\"'s\", 'PRT'), ('Campbell', 'NOUN'), ('U.S.A.', 'NOUN'), ('unit', 'NOUN'), (',', '.'), ('and', 'CONJ'), ('Edwin', 'ADP'), ('L.', 'NOUN'), ('Harper', 'NOUN'), (',', '.'), ('47', 'NUM'), (',', '.'), ('the', 'DET'), ('chief', 'NOUN'), ('financial', 'ADJ'), ('officer', 'NOUN'), (',', '.'), ('will', 'VERB'), ('run', 'VERB'), ('Campbell', 'NOUN'), ('as', 'ADP'), ('a', 'DET'), ('team', 'NOUN'), (',', '.'), ('*-1', 'X'), ('dividing', 'ADP'), ('responsibilities', 'NOUN'), ('rather', 'ADV'), ('evenly', 'ADV'), ('until', 'ADP'), ('a', 'DET'), ('successor', 'NOUN'), ('is', 'VERB'), ('named', 'VERB'), ('*-38', 'X'), ('.', '.'), ('But', 'CONJ'), ('*', 'X'), ('maintaining', 'VERB'), ('U.S.', 'NOUN'), ('influence', 'NOUN'), ('will', 'VERB'), ('be', 'VERB'), ('difficult', 'ADJ'), ('in', 'ADP'), ('the', 'DET'), ('face', 'NOUN'), ('of', 'ADP'), ('Japanese', 'ADJ'), ('dominance', 'ADP'), ('in', 'ADP'), ('the', 'DET'), ('region', 'NOUN'), ('.', '.'), ('It', 'PRON'), ('was', 'VERB'), ('outrageous', 'ADP'), ('.', '.'), ('The', 'DET'), ('yield', 'NOUN'), ('fell', 'VERB'), ('to', 'PRT'), ('7.88', 'NUM'), ('%', 'NOUN'), ('.', '.'), ('Moreover', 'ADV'), (',', '.'), ('the', 'DET'), ('Japanese', 'ADJ'), ('government', 'NOUN'), (',', '.'), ('now', 'ADV'), ('the', 'DET'), ('world', 'NOUN'), (\"'s\", 'PRT'), ('largest', 'ADJ'), ('aid', 'NOUN'), ('donor', 'NOUN'), (',', '.'), ('is', 'VERB'), ('pumping', 'VERB'), ('far', 'ADV'), ('more', 'ADJ'), ('assistance', 'NOUN'), ('*ICH*-2', 'X'), ('into', 'ADP'), ('the', 'DET'), ('region', 'NOUN'), ('than', 'ADP'), ('the', 'DET'), ('U.S.', 'NOUN'), ('is', 'VERB'), ('*?*', 'X'), ('.', '.'), ('Altogether', 'ADP'), (',', '.'), ('NBI', 'NOUN'), ('said', 'VERB'), ('0', 'X'), ('it', 'PRON'), ('will', 'VERB'), ('eliminate', 'VERB'), ('266', 'ADP'), ('jobs', 'NOUN'), ('at', 'ADP'), ('its', 'PRON'), ('Boulder', 'NOUN'), ('headquarters', 'NOUN'), (',', '.'), ('176', 'ADP'), ('field', 'NOUN'), ('sales', 'NOUN'), ('jobs', 'NOUN'), ('and', 'CONJ'), ('50', 'NUM'), ('jobs', 'NOUN'), ('at', 'ADP'), ('its', 'PRON'), ('Canadian', 'ADJ'), ('and', 'CONJ'), ('United', 'NOUN'), ('Kingdom', 'NOUN'), ('headquarters', 'NOUN'), ('.', '.'), ('An', 'DET'), ('appeal', 'NOUN'), ('is', 'VERB'), ('expected', 'VERB'), ('*-68', 'ADP'), ('.', '.'), ('The', 'DET'), ('strong', 'ADJ'), ('growth', 'NOUN'), ('followed', 'VERB'), ('year-to-year', 'ADP'), ('increases', 'NOUN'), ('of', 'ADP'), ('21', 'NUM'), ('%', 'NOUN'), ('in', 'ADP'), ('August', 'NOUN'), ('and', 'CONJ'), ('12', 'NUM'), ('%', 'NOUN'), ('in', 'ADP'), ('September', 'NOUN'), ('.', '.'), ('Esso', 'NOUN'), ('said', 'VERB'), ('0', 'X'), ('the', 'DET'), ('Whiting', 'NOUN'), ('field', 'NOUN'), ('started', 'VERB'), ('production', 'NOUN'), ('Tuesday', 'NOUN'), ('.', '.'), ('Syndicate', 'ADP'), ('officials', 'NOUN'), ('at', 'ADP'), ('lead', 'NOUN'), ('underwriter', 'NOUN'), ('Salomon', 'NOUN'), ('Brothers', 'NOUN'), ('Inc.', 'NOUN'), ('said', 'VERB'), ('0', 'X'), ('the', 'DET'), ('debentures', 'NOUN'), ('were', 'VERB'), ('snapped', 'VERB'), ('by', 'ADP'), ('up', 'ADV'), ('*-1', 'X'), ('pension', 'NOUN'), ('funds', 'NOUN'), (',', '.'), ('banks', 'NOUN'), (',', '.'), ('insurance', 'NOUN'), ('companies', 'NOUN'), ('and', 'CONJ'), ('other', 'ADJ'), ('institutional', 'ADJ'), ('investors', 'NOUN'), ('.', '.'), ('Mr.', 'NOUN'), ('Stearn', 'NOUN'), (',', '.'), ('who', 'PRON'), ('*T*-196', 'ADP'), ('had', 'VERB'), ('been', 'VERB'), ('with', 'ADP'), ('the', 'DET'), ('company', 'NOUN'), ('more', 'ADV'), ('than', 'ADP'), ('20', 'NUM'), ('years', 'NOUN'), ('and', 'CONJ'), ('had', 'VERB'), ('been', 'VERB'), ('president', 'NOUN'), ('since', 'ADP'), ('1984', 'NUM'), (',', '.'), ('will', 'VERB'), ('act', 'VERB'), ('as', 'ADP'), ('a', 'DET'), ('consultant', 'NOUN'), ('to', 'PRT'), ('Hudson', 'NOUN'), ('General', 'NOUN'), ('.', '.'), ('Tony', 'NOUN'), ('Lama', 'NOUN'), ('Co.', 'NOUN'), ('said', 'VERB'), ('that', 'ADP'), ('Equus', 'NOUN'), ('Investment', 'NOUN'), ('II', 'NOUN'), ('Limited', 'NOUN'), ('Partnership', 'NOUN'), ('has', 'VERB'), ('proposed', 'VERB'), ('*-1', 'X'), ('changing', 'VERB'), ('the', 'DET'), ('offer', 'NOUN'), ('for', 'ADP'), ('the', 'DET'), ('company', 'NOUN'), ('to', 'PRT'), ('$', '.'), ('13.65', 'NUM'), ('*U*', 'X'), ('in', 'ADP'), ('cash', 'NOUN'), ('and', 'CONJ'), ('stock', 'NOUN'), ('from', 'ADP'), ('an', 'DET'), ('all-cash', 'ADP'), ('transaction', 'NOUN'), ('.', '.'), ('The', 'DET'), ('new', 'ADJ'), (',', '.'), ('seven-year', 'ADP'), ('funds', 'NOUN'), ('--', '.'), ('one', 'NUM'), ('offering', 'NOUN'), ('a', 'DET'), ('fixed-rate', 'ADJ'), ('return', 'NOUN'), ('and', 'CONJ'), ('the', 'DET'), ('other', 'ADJ'), ('with', 'ADP'), ('a', 'DET'), ('floating-rate', 'ADJ'), ('return', 'NOUN'), ('linked', 'VERB'), ('*', 'X'), ('to', 'PRT'), ('the', 'DET'), ('London', 'NOUN'), ('interbank', 'NOUN'), ('offered', 'VERB'), ('rate', 'NOUN'), ('--', '.'), ('offer', 'NOUN'), ('two', 'NUM'), ('key', 'ADJ'), ('advantages', 'NOUN'), ('to', 'PRT'), ('Japanese', 'ADJ'), ('investors', 'NOUN'), ('.', '.'), ('Terms', 'NOUN'), ('were', 'VERB'), (\"n't\", 'ADV'), ('disclosed', 'VERB'), ('*-1', 'X'), ('.', '.'), ('Annualized', 'ADP'), ('average', 'ADJ'), ('rate', 'NOUN'), ('of', 'ADP'), ('return', 'NOUN'), ('after', 'ADP'), ('expenses', 'NOUN'), ('for', 'ADP'), ('the', 'DET'), ('past', 'ADJ'), ('30', 'NUM'), ('days', 'NOUN'), (';', '.'), ('not', 'ADV'), ('a', 'DET'), ('forecast', 'NOUN'), ('of', 'ADP'), ('future', 'ADJ'), ('returns', 'NOUN'), ('.', '.'), ('In', 'ADP'), ('most', 'ADJ'), ('of', 'ADP'), ('the', 'DET'), ('British', 'ADJ'), ('transactions', 'NOUN'), (',', '.'), ('the', 'DET'), ('municipalities', 'NOUN'), ('agreed', 'VERB'), ('*-1', 'X'), ('to', 'PRT'), ('make', 'VERB'), ('floating-rate', 'ADJ'), ('payments', 'NOUN'), ('to', 'PRT'), ('banks', 'NOUN'), (',', '.'), ('which', 'DET'), ('*T*-62', 'X'), ('would', 'VERB'), ('make', 'VERB'), ('fixed-rate', 'ADJ'), ('payments', 'NOUN'), ('.', '.'), ('With', 'ADP'), ('lipsticks', 'ADP'), (',', '.'), ('liners', 'ADP'), (',', '.'), ('lotions', 'ADP'), ('and', 'CONJ'), ('creams', 'ADP'), (',', '.'), ('There', 'DET'), ('are', 'VERB'), ('still', 'ADV'), ('beauty', 'NOUN'), ('plans', 'VERB'), ('left', 'VERB'), ('0', 'X'), ('*', 'X'), ('to', 'PRT'), ('tackle', 'ADP'), ('*T*-1', 'X'), (':', '.'), ('But', 'CONJ'), ('as', 'ADP'), ('the', 'DET'), ('years', 'NOUN'), ('go', 'VERB'), ('by', 'ADP'), (',', '.'), ('it', 'PRON'), ('seems', 'VERB'), ('That', 'DET'), ('before', 'ADP'), ('I', 'PRON'), ('paint', 'ADP'), (',', '.'), ('I', 'PRON'), ('should', 'VERB'), ('spackle', 'ADP'), ('.', '.'), ('And', 'CONJ'), ('it', 'PRON'), ('*EXP*-2', 'X'), ('is', 'VERB'), (\"n't\", 'ADV'), ('clear', 'ADJ'), ('that', 'ADP'), ('the', 'DET'), ('Soviet', 'ADJ'), ('Union', 'NOUN'), ('will', 'VERB'), ('stay', 'VERB'), ('on', 'ADP'), ('its', 'PRON'), ('record', 'NOUN'), ('buying', 'VERB'), ('pace', 'NOUN'), ('.', '.'), ('Ralston', 'NOUN'), ('Purina', 'ADP'), ('Co.', 'NOUN'), ('reported', 'VERB'), ('a', 'DET'), ('47', 'NUM'), ('%', 'NOUN'), ('decline', 'NOUN'), ('in', 'ADP'), ('fourth-quarter', 'NOUN'), ('earnings', 'NOUN'), (',', '.'), ('*', 'X'), ('reflecting', 'VERB'), ('restructuring', 'NOUN'), ('costs', 'NOUN'), ('as', 'ADP'), ('well', 'ADV'), ('as', 'ADP'), ('a', 'DET'), ('more', 'ADJ'), ('difficult', 'ADJ'), ('pet', 'NOUN'), ('food', 'NOUN'), ('market', 'NOUN'), ('.', '.'), ('These', 'DET'), ('funds', 'NOUN'), ('now', 'ADV'), ('account', 'VERB'), ('for', 'ADP'), ('several', 'ADJ'), ('billions', 'NOUN'), ('of', 'ADP'), ('dollars', 'NOUN'), ('in', 'ADP'), ('assets', 'NOUN'), ('.', '.'), ('``', '.'), ('The', 'DET'), ('morbidity', 'ADP'), ('rate', 'NOUN'), ('is', 'VERB'), ('a', 'DET'), ('striking', 'ADJ'), ('finding', 'NOUN'), ('among', 'ADP'), ('those', 'DET'), ('of', 'ADP'), ('us', 'PRON'), ('who', 'PRON'), ('*T*-5', 'X'), ('study', 'VERB'), ('asbestos-related', 'ADJ'), ('diseases', 'NOUN'), (',', '.'), (\"''\", '.'), ('said', 'VERB'), ('*T*-1', 'X'), ('Dr.', 'NOUN'), ('Talcott', 'NOUN'), ('.', '.'), ('``', '.'), ('Many', 'ADJ'), ('in', 'ADP'), ('the', 'DET'), ('United', 'NOUN'), ('States', 'NOUN'), (',', '.'), ('including', 'VERB'), ('many', 'ADJ'), ('friends', 'NOUN'), ('of', 'ADP'), ('China', 'NOUN'), (',', '.'), ('believe', 'VERB'), ('0', 'X'), ('the', 'DET'), ('crackdown', 'NOUN'), ('was', 'VERB'), ('excessive', 'ADJ'), ('and', 'CONJ'), ('unjustified', 'ADJ'), (',', '.'), (\"''\", '.'), ('Mr.', 'NOUN'), ('Nixon', 'NOUN'), ('told', 'VERB'), ('Mr.', 'NOUN'), ('Yang', 'NOUN'), (',', '.'), ('who', 'PRON'), ('*T*-242', 'ADP'), ('was', 'VERB'), ('directly', 'ADV'), ('involved', 'VERB'), ('*-2', 'X'), ('in', 'ADP'), ('*', 'X'), ('ordering', 'ADP'), ('the', 'DET'), ('attack', 'NOUN'), ('*T*-1', 'X'), ('.', '.'), ('``', '.'), ('Nor', 'ADP'), ('are', 'VERB'), ('you', 'PRON'), ('free', 'ADJ'), ('*-2', 'X'), ('to', 'PRT'), ('reprint', 'ADP'), ('such', 'ADJ'), ('material', 'NOUN'), (',', '.'), (\"''\", '.'), ('I', 'PRON'), ('was', 'VERB'), ('advised', 'VERB'), ('*-31', 'X'), ('*T*-1', 'X'), ('.', '.'), ('During', 'ADP'), ('the', 'DET'), ('coming', 'VERB'), ('weeks', 'NOUN'), (',', '.'), ('President', 'NOUN'), ('Bush', 'NOUN'), ('must', 'VERB'), ('decide', 'VERB'), ('whether', 'ADP'), ('*', 'X'), ('to', 'PRT'), ('veto', 'NOUN'), ('the', 'DET'), ('bills', 'NOUN'), ('containing', 'ADP'), ('them', 'PRON'), ('--', '.'), ('or', 'CONJ'), (',', '.'), ('alternatively', 'ADP'), (',', '.'), ('*', 'X'), ('to', 'PRT'), ('sign', 'NOUN'), ('these', 'DET'), ('bills', 'NOUN'), ('into', 'ADP'), ('law', 'NOUN'), ('with', 'ADP'), ('a', 'DET'), ('statement', 'NOUN'), ('declaring', 'VERB'), ('their', 'PRON'), ('intrusions', 'ADP'), ('on', 'ADP'), ('executive', 'ADJ'), ('power', 'NOUN'), ('to', 'PRT'), ('be', 'VERB'), ('in', 'ADP'), ('violation', 'NOUN'), ('of', 'ADP'), ('Article', 'NOUN'), ('II', 'NOUN'), (',', '.'), ('and', 'CONJ'), ('thus', 'ADV'), ('void', 'ADP'), ('and', 'CONJ'), ('severable', 'ADJ'), ('.', '.'), ('If', 'ADP'), ('you', 'PRON'), ('were', 'VERB'), ('not', 'ADV'), ('an', 'DET'), ('effective', 'ADJ'), ('crook', 'ADP'), (',', '.'), ('you', 'PRON'), ('found', 'VERB'), ('yourself', 'PRON'), ('out', 'PRT'), ('in', 'ADP'), ('the', 'DET'), ('cold', 'ADJ'), (',', '.'), ('a', 'DET'), ('fate', 'NOUN'), ('that', 'ADP'), ('*T*-1', 'X'), ('eventually', 'ADV'), ('befell', 'ADP'), ('Mr.', 'NOUN'), ('Mariotta', 'NOUN'), (',', '.'), ('the', 'DET'), ('firm', 'NOUN'), (\"'s\", 'PRT'), ('semiliterate', 'ADP'), ('``', '.'), ('minority', 'NOUN'), (\"''\", '.'), ('person', 'NOUN'), ('.', '.'), ('In', 'ADP'), ('one', 'NUM'), ('feature', 'ADP'), (',', '.'), ('called', 'VERB'), ('*', 'X'), ('``', '.'), ('In', 'ADP'), ('the', 'DET'), ('Dumpster', 'NOUN'), (',', '.'), (\"''\", '.'), ('editors', 'NOUN'), ('point', 'NOUN'), ('out', 'PRT'), ('a', 'DET'), ('product', 'NOUN'), ('0', 'X'), ('they', 'PRON'), ('deem', 'ADP'), ('*T*-1', 'X'), ('to', 'PRT'), ('be', 'VERB'), ('a', 'DET'), ('particularly', 'ADV'), ('bad', 'ADJ'), ('offender', 'NOUN'), ('.', '.'), ('He', 'PRON'), ('said', 'VERB'), ('0', 'X'), ('U.S.', 'NOUN'), ('assistance', 'NOUN'), ('should', 'VERB'), ('be', 'VERB'), ('used', 'VERB'), ('*-1', 'X'), ('*', 'X'), ('to', 'PRT'), ('demobilize', 'ADP'), ('the', 'DET'), ('rebels', 'NOUN'), ('.', '.'), ('The', 'DET'), ('issue', 'NOUN'), ('could', 'VERB'), ('be', 'VERB'), ('relaunched', 'ADP'), ('*-1', 'X'), (',', '.'), ('possibly', 'ADV'), ('in', 'ADP'), ('a', 'DET'), ('restructured', 'VERB'), ('form', 'NOUN'), (',', '.'), ('as', 'ADP'), ('early', 'ADJ'), ('as', 'ADP'), ('next', 'ADJ'), ('week', 'NOUN'), (',', '.'), ('according', 'VERB'), ('to', 'PRT'), ('the', 'DET'), ('lead', 'NOUN'), ('underwriter', 'NOUN'), ('.', '.'), ('Texas', 'NOUN'), ('Instruments', 'ADP'), ('Japan', 'NOUN'), ('Ltd.', 'NOUN'), (',', '.'), ('a', 'DET'), ('unit', 'NOUN'), ('of', 'ADP'), ('Texas', 'NOUN'), ('Instruments', 'ADP'), ('Inc.', 'NOUN'), (',', '.'), ('said', 'VERB'), ('0', 'X'), ('it', 'PRON'), ('opened', 'VERB'), ('a', 'DET'), ('plant', 'NOUN'), ('*ICH*-3', 'X'), ('in', 'ADP'), ('South', 'NOUN'), ('Korea', 'NOUN'), ('0', 'X'), ('*T*-2', 'X'), ('to', 'PRT'), ('manufacture', 'VERB'), ('control', 'NOUN'), ('devices', 'NOUN'), ('.', '.'), ('*-1', 'X'), ('Currently', 'ADV'), ('a', 'DET'), ('$', '.'), ('300', 'NUM'), ('million-a-year', 'ADP'), ('business', 'NOUN'), (',', '.'), ('900', 'NUM'), ('telephone', 'NOUN'), ('service', 'NOUN'), ('is', 'VERB'), ('expected', 'VERB'), ('*-1', 'X'), ('to', 'PRT'), ('hit', 'VERB'), ('$', '.'), ('500', 'NUM'), ('million', 'NUM'), ('*U*', 'X'), ('next', 'ADJ'), ('year', 'NOUN'), ('and', 'CONJ'), ('near', 'ADP'), ('$', '.'), ('2', 'NUM'), ('billion', 'NUM'), ('*U*', 'X'), ('by', 'ADP'), ('1992', 'NUM'), ('as', 'ADP'), ('uses', 'NOUN'), ('for', 'ADP'), ('the', 'DET'), ('service', 'NOUN'), ('continue', 'VERB'), ('*-3', 'X'), ('to', 'PRT'), ('expand', 'VERB'), (',', '.'), ('says', 'VERB'), ('0', 'X'), ('*T*-2', 'X'), ('Joel', 'ADP'), ('Gross', 'ADP'), ('of', 'ADP'), ('Donaldson', 'NOUN'), (',', '.'), ('Lufkin', 'NOUN'), ('&', 'CONJ'), ('Jenrette', 'NOUN'), ('Inc', 'NOUN'), ('.', '.'), ('``', '.'), ('So', 'ADV'), ('the', 'DET'), ('focus', 'NOUN'), ('turned', 'VERB'), ('to', 'PRT'), ('other', 'ADJ'), ('fixed-income', 'ADP'), ('markets', 'NOUN'), (',', '.'), ('corporate', 'ADJ'), ('and', 'CONJ'), ('mortgages', 'NOUN'), ('in', 'ADP'), ('particular', 'ADJ'), (',', '.'), (\"''\", '.'), ('she', 'PRON'), ('said', 'VERB'), ('*T*-1', 'X'), ('.', '.'), ('They', 'PRON'), ('are', 'VERB'), (\"n't\", 'ADV'), ('accepted', 'VERB'), ('*-1', 'X'), ('everywhere', 'ADV'), (',', '.'), ('however', 'ADV'), ('.', '.'), ('He', 'PRON'), ('succeeds', 'VERB'), ('James', 'NOUN'), ('A.', 'NOUN'), ('Taylor', 'NOUN'), (',', '.'), ('who', 'PRON'), ('*T*-1', 'X'), ('stepped', 'VERB'), ('down', 'ADV'), ('as', 'ADP'), ('chairman', 'NOUN'), (',', '.'), ('president', 'NOUN'), ('and', 'CONJ'), ('chief', 'NOUN'), ('executive', 'NOUN'), ('in', 'ADP'), ('March', 'NOUN'), ('for', 'ADP'), ('health', 'NOUN'), ('reasons', 'NOUN'), ('.', '.'), ('The', 'DET'), ('proposal', 'NOUN'), ('comes', 'VERB'), ('as', 'ADP'), ('a', 'DET'), ('surprise', 'NOUN'), ('even', 'ADV'), ('to', 'PRT'), ('administration', 'NOUN'), ('officials', 'NOUN'), ('and', 'CONJ'), ('temporarily', 'ADV'), ('throws', 'VERB'), ('into', 'ADP'), ('chaos', 'ADP'), ('the', 'DET'), ('House', 'NOUN'), (\"'s\", 'PRT'), ('work', 'VERB'), ('on', 'ADP'), ('clean-air', 'ADJ'), ('legislation', 'NOUN'), ('.', '.'), ('*', 'X'), ('Determining', 'ADP'), ('that', 'DET'), ('may', 'VERB'), ('enable', 'ADP'), ('them', 'PRON'), ('to', 'PRT'), ('develop', 'VERB'), ('better', 'ADV'), ('ways', 'NOUN'), ('0', 'X'), ('*', 'X'), ('to', 'PRT'), ('introduce', 'VERB'), ('the', 'DET'), ('needed', 'VERB'), ('crystal-lattice', 'ADP'), ('patterns', 'NOUN'), ('*T*-1', 'X'), ('.', '.'), ('In', 'ADP'), ('response', 'NOUN'), ('to', 'PRT'), ('the', 'DET'), ('ruling', 'NOUN'), (',', '.'), ('gilt', 'ADP'), ('futures', 'NOUN'), ('swiftly', 'ADV'), ('plunged', 'VERB'), ('more', 'ADV'), ('than', 'ADP'), ('a', 'DET'), ('point', 'NOUN'), ('yesterday', 'NOUN'), ('before', 'ADP'), ('*-1', 'X'), ('recovering', 'ADP'), ('much', 'ADJ'), ('of', 'ADP'), ('the', 'DET'), ('loss', 'NOUN'), ('by', 'ADP'), ('the', 'DET'), ('end', 'NOUN'), ('of', 'ADP'), ('the', 'DET'), ('session', 'NOUN'), ('.', '.'), ('He', 'PRON'), ('will', 'VERB'), ('continue', 'VERB'), ('*-1', 'X'), ('to', 'PRT'), ('report', 'NOUN'), ('to', 'PRT'), ('Donald', 'NOUN'), ('Pardus', 'ADP'), (',', '.'), ('president', 'NOUN'), ('and', 'CONJ'), ('chief', 'NOUN'), ('executive', 'NOUN'), ('officer', 'NOUN'), ('.', '.'), ('Georgia', 'NOUN'), ('Gulf', 'NOUN'), ('added', 'VERB'), ('1', 'NUM'), ('3\\\\/4', 'NUM'), ('to', 'PRT'), ('51', 'NUM'), ('1\\\\/4', 'NUM'), ('after', 'ADP'), ('NL', 'NOUN'), ('Industries', 'NOUN'), (',', '.'), ('controlled', 'ADJ'), ('*', 'X'), ('by', 'ADP'), ('Dallas', 'NOUN'), ('investor', 'NOUN'), ('Harold', 'NOUN'), ('Simmons', 'NOUN'), (',', '.'), ('offered', 'VERB'), ('*-2', 'X'), ('to', 'PRT'), ('acquire', 'VERB'), ('the', 'DET'), ('stock', 'NOUN'), ('0', 'X'), ('it', 'PRON'), ('does', 'VERB'), (\"n't\", 'ADV'), ('already', 'ADV'), ('own', 'ADJ'), ('*T*-1', 'X'), ('for', 'ADP'), ('$', '.'), ('50', 'NUM'), ('*U*', 'X'), ('a', 'DET'), ('share', 'NOUN'), ('.', '.'), ('GMAC', 'NOUN'), ('screened', 'ADP'), ('the', 'DET'), ('card-member', 'ADP'), ('list', 'NOUN'), ('for', 'ADP'), ('holders', 'NOUN'), ('more', 'ADV'), ('than', 'ADP'), ('30', 'NUM'), ('years', 'NOUN'), ('old', 'ADJ'), ('with', 'ADP'), ('household', 'NOUN'), ('incomes', 'ADP'), ('over', 'ADP'), ('$', '.'), ('45,000', 'NUM'), ('*U*', 'X'), ('who', 'PRON'), ('*T*-54', 'X'), ('had', 'VERB'), (\"n't\", 'ADV'), ('``', '.'), ('missed', 'ADP'), ('any', 'DET'), ('payments', 'NOUN'), (',', '.'), (\"''\", '.'), ('the', 'DET'), ('Buick', 'NOUN'), ('spokeswoman', 'NOUN'), ('says', 'VERB'), ('0', 'X'), ('*T*-1', 'X'), ('.', '.'), ('If', 'ADP'), ('``', '.'), ('A', 'DET'), ('Wild', 'NOUN'), ('Sheep', 'NOUN'), ('Chase', 'NOUN'), (\"''\", '.'), ('carries', 'VERB'), ('an', 'DET'), ('implicit', 'ADP'), ('message', 'NOUN'), ('for', 'ADP'), ('international', 'ADJ'), ('relations', 'NOUN'), (',', '.'), ('it', 'PRON'), (\"'s\", 'VERB'), ('that', 'ADP'), ('the', 'DET'), ('Japanese', 'ADJ'), ('are', 'VERB'), ('more', 'ADV'), ('like', 'ADP'), ('us', 'PRON'), ('than', 'ADP'), ('most', 'ADJ'), ('of', 'ADP'), ('us', 'PRON'), ('think', 'VERB'), ('0', 'X'), ('*?*', 'X'), ('.', '.'), ('Chairman', 'NOUN'), ('Theodore', 'ADP'), ('Cooper', 'NOUN'), ('called', 'VERB'), ('the', 'DET'), ('program', 'NOUN'), ('part', 'NOUN'), ('of', 'ADP'), ('the', 'DET'), ('company', 'NOUN'), (\"'s\", 'PRT'), ('two-year', 'ADJ'), ('strategy', 'NOUN'), ('0', 'X'), ('*', 'X'), ('to', 'PRT'), ('implement', 'VERB'), ('budget', 'NOUN'), ('constraints', 'NOUN'), ('and', 'CONJ'), ('``', '.'), ('an', 'DET'), ('effective', 'ADJ'), ('headcount-control', 'ADP'), ('program', 'NOUN'), ('*T*-1', 'X'), ('.', '.'), (\"''\", '.'), ('Moreover', 'ADV'), (',', '.'), ('they', 'PRON'), ('said', 'VERB'), ('0', 'X'), ('the', 'DET'), ('first', 'ADJ'), ('appropriations', 'NOUN'), ('bill', 'NOUN'), ('passed', 'VERB'), ('*', 'X'), ('200', 'NUM'), ('years', 'NOUN'), ('ago', 'ADP'), ('covered', 'VERB'), ('many', 'ADJ'), ('different', 'ADJ'), ('items', 'NOUN'), (',', '.'), ('and', 'CONJ'), ('there', 'DET'), ('was', 'VERB'), ('no', 'DET'), ('discussion', 'NOUN'), ('of', 'ADP'), ('a', 'DET'), ('line-item', 'ADJ'), ('veto', 'NOUN'), ('.', '.'), ('Bob', 'NOUN'), ('has', 'VERB'), ('an', 'DET'), ('agenda', 'NOUN'), ('and', 'CONJ'), ('this', 'DET'), ('seemed', 'VERB'), ('like', 'ADP'), ('the', 'DET'), ('natural', 'ADJ'), ('time', 'NOUN'), ('.', '.'), (\"''\", '.'), ('*-2', 'X'), ('Developed', 'ADP'), ('*-1', 'X'), ('by', 'ADP'), ('Avrett', 'ADP'), (',', '.'), ('Free', 'NOUN'), ('&', 'CONJ'), ('Ginsberg', 'ADP'), (',', '.'), ('New', 'NOUN'), ('York', 'NOUN'), (',', '.'), ('the', 'DET'), ('$', '.'), ('6', 'NUM'), ('million', 'NUM'), ('*U*', 'X'), ('campaign', 'NOUN'), ('pitches', 'ADP'), ('Enterprise', 'NOUN'), (\"'s\", 'PRT'), ('consumer-driven', 'ADP'), ('service', 'NOUN'), ('and', 'CONJ'), ('its', 'PRON'), ('free', 'ADJ'), ('pick-up', 'ADP'), ('and', 'CONJ'), ('drop-off', 'ADP'), ('service', 'NOUN'), ('.', '.'), ('Many', 'ADJ'), ('grain', 'NOUN'), ('processors', 'NOUN'), ('and', 'CONJ'), ('exporters', 'NOUN'), ('use', 'VERB'), ('the', 'DET'), ('price', 'NOUN'), ('of', 'ADP'), ('the', 'DET'), ('corn', 'NOUN'), ('futures', 'NOUN'), ('contracts', 'NOUN'), ('traded', 'VERB'), ('*', 'X'), ('there', 'DET'), ('*-1', 'X'), ('to', 'PRT'), ('calculate', 'VERB'), ('the', 'DET'), ('price', 'NOUN'), ('0', 'X'), ('they', 'PRON'), ('offer', 'VERB'), ('*T*-2', 'X'), ('*-3', 'X'), ('to', 'PRT'), ('buy', 'VERB'), ('corn', 'NOUN'), ('from', 'ADP'), ('farmers', 'NOUN'), ('.', '.'), ('The', 'DET'), ('framers', 'NOUN'), ('hardly', 'ADV'), ('discussed', 'VERB'), ('the', 'DET'), ('appropriations', 'NOUN'), ('clause', 'NOUN'), ('at', 'ADP'), ('the', 'DET'), ('Constitutional', 'ADP'), ('Convention', 'ADP'), ('of', 'ADP'), ('1787', 'ADP'), (',', '.'), ('according', 'VERB'), ('to', 'PRT'), ('Madison', 'NOUN'), (\"'s\", 'PRT'), ('notes', 'NOUN'), ('.', '.'), ('He', 'PRON'), ('spends', 'VERB'), ('his', 'PRON'), ('days', 'NOUN'), ('*-1', 'X'), ('sketching', 'ADP'), ('passers-by', 'ADP'), (',', '.'), ('or', 'CONJ'), ('*-1', 'X'), ('trying', 'VERB'), ('*-2', 'X'), ('to', 'PRT'), ('*?*', 'X'), ('.', '.'), ('Yet', 'CONJ'), ('this', 'DET'), ('woman', 'NOUN'), (',', '.'), ('Marie-Louise', 'NOUN'), ('Giraud', 'ADP'), (',', '.'), ('carries', 'VERB'), ('historical', 'ADJ'), ('significance', 'ADP'), (',', '.'), ('both', 'DET'), ('as', 'ADP'), ('one', 'NUM'), ('of', 'ADP'), ('the', 'DET'), ('last', 'ADJ'), ('women', 'NOUN'), ('0', 'X'), ('*T*-1', 'X'), ('to', 'PRT'), ('be', 'VERB'), ('executed', 'VERB'), ('*-2', 'X'), ('in', 'ADP'), ('France', 'NOUN'), ('and', 'CONJ'), ('as', 'ADP'), ('a', 'DET'), ('symbol', 'NOUN'), ('of', 'ADP'), ('the', 'DET'), ('Vichy', 'NOUN'), ('government', 'NOUN'), (\"'s\", 'PRT'), ('hypocrisy', 'ADP'), ('.', '.'), ('Program', 'NOUN'), ('traders', 'NOUN'), ('are', 'VERB'), ('fond', 'ADP'), ('of', 'ADP'), ('*-1', 'X'), ('predicting', 'VERB'), ('that', 'ADP'), ('if', 'ADP'), ('they', 'PRON'), ('are', 'VERB'), ('blocked', 'ADP'), ('*-159', 'ADP'), ('in', 'ADP'), ('the', 'DET'), ('U.S.', 'NOUN'), (',', '.'), ('they', 'PRON'), ('will', 'VERB'), ('simply', 'ADV'), ('emigrate', 'ADP'), ('to', 'PRT'), ('foreign', 'ADJ'), ('stock', 'NOUN'), ('markets', 'NOUN'), ('.', '.'), ('Much', 'ADV'), ('of', 'ADP'), ('the', 'DET'), ('800', 'NUM'), ('service', 'NOUN'), ('will', 'VERB'), ('``', '.'), ('migrate', 'ADP'), ('to', 'PRT'), ('900', 'NUM'), (',', '.'), (\"''\", '.'), ('predicts', 'ADP'), ('*T*-1', 'X'), ('Jack', 'NOUN'), ('Lawless', 'ADP'), (',', '.'), ('general', 'ADJ'), ('manager', 'NOUN'), ('of', 'ADP'), ('US', 'ADP'), ('Sprint', 'ADP'), (\"'s\", 'PRT'), ('900', 'NUM'), ('product', 'NOUN'), ('.', '.'), ('The', 'DET'), ('refund', 'NOUN'), ('was', 'VERB'), ('about', 'ADP'), ('$', '.'), ('55', 'NUM'), ('million', 'NUM'), ('*U*', 'X'), ('more', 'ADV'), ('than', 'ADP'), ('*', 'X'), ('previously', 'ADV'), ('ordered', 'VERB'), ('*-1', 'X'), ('by', 'ADP'), ('the', 'DET'), ('Illinois', 'NOUN'), ('Commerce', 'NOUN'), ('Commission', 'NOUN'), ('and', 'CONJ'), ('trade', 'NOUN'), ('groups', 'NOUN'), ('said', 'VERB'), ('0', 'X'), ('it', 'PRON'), ('may', 'VERB'), ('be', 'VERB'), ('the', 'DET'), ('largest', 'ADJ'), ('ever', 'ADV'), ('required', 'VERB'), ('*', 'X'), ('of', 'ADP'), ('a', 'DET'), ('state', 'NOUN'), ('or', 'CONJ'), ('local', 'ADJ'), ('utility', 'NOUN'), ('.', '.'), ('Speculation', 'NOUN'), ('had', 'VERB'), ('it', 'PRON'), ('that', 'ADP'), ('the', 'DET'), ('company', 'NOUN'), ('was', 'VERB'), ('asking', 'VERB'), ('$', '.'), ('100', 'NUM'), ('million', 'NUM'), ('*U*', 'X'), ('for', 'ADP'), ('an', 'DET'), ('operation', 'NOUN'), ('said', 'VERB'), ('*', 'X'), ('to', 'PRT'), ('be', 'VERB'), ('losing', 'VERB'), ('about', 'ADP'), ('$', '.'), ('20', 'NUM'), ('million', 'NUM'), ('*U*', 'X'), ('a', 'DET'), ('year', 'NOUN'), (',', '.'), ('but', 'CONJ'), ('others', 'NOUN'), ('said', 'VERB'), ('0', 'X'), ('Hearst', 'NOUN'), ('might', 'VERB'), ('have', 'VERB'), ('virtually', 'ADV'), ('given', 'VERB'), ('the', 'DET'), ('paper', 'NOUN'), ('away', 'ADV'), ('.', '.'), ('It', 'PRON'), ('recently', 'ADV'), ('signed', 'VERB'), ('a', 'DET'), ('preliminary', 'ADJ'), ('agreement', 'NOUN'), ('*', 'X'), ('to', 'PRT'), ('negotiate', 'VERB'), ('exclusively', 'ADP'), ('with', 'ADP'), ('the', 'DET'), ('Bank', 'NOUN'), ('of', 'ADP'), ('Tokyo', 'NOUN'), ('Ltd.', 'NOUN'), ('for', 'ADP'), ('the', 'DET'), ('sale', 'NOUN'), ('of', 'ADP'), ('part', 'NOUN'), ('of', 'ADP'), ('its', 'PRON'), ('leasing', 'ADP'), ('business', 'NOUN'), ('to', 'PRT'), ('the', 'DET'), ('Japanese', 'ADJ'), ('bank', 'NOUN'), ('.', '.'), ('The', 'DET'), ('fire', 'NOUN'), ('is', 'VERB'), ('also', 'ADV'), ('fueled', 'VERB'), ('*-1', 'X'), ('by', 'ADP'), ('growing', 'VERB'), ('international', 'ADJ'), ('interest', 'NOUN'), ('in', 'ADP'), ('Japanese', 'ADJ'), ('behavior', 'ADP'), ('.', '.'), ('The', 'DET'), ('dollar', 'NOUN'), ('posted', 'VERB'), ('gains', 'NOUN'), ('against', 'ADP'), ('all', 'DET'), ('major', 'ADJ'), ('currencies', 'NOUN'), ('yesterday', 'NOUN'), (',', '.'), ('*-1', 'X'), ('buoyed', 'ADP'), ('*-2', 'X'), ('by', 'ADP'), ('persistent', 'ADJ'), ('Japanese', 'ADJ'), ('demand', 'NOUN'), ('for', 'ADP'), ('U.S.', 'NOUN'), ('bond', 'NOUN'), ('issues', 'NOUN'), ('.', '.'), ('The', 'DET'), ('Japanese', 'ADJ'), ('industrial', 'ADJ'), ('companies', 'NOUN'), ('should', 'VERB'), ('know', 'VERB'), ('better', 'ADV'), ('.', '.'), ('Lentjes', 'NOUN'), ('had', 'VERB'), ('1988', 'NUM'), ('sales', 'NOUN'), ('of', 'ADP'), ('800', 'NUM'), ('million', 'NUM'), ('marks', 'NOUN'), ('-LRB-', '.'), ('$', '.'), ('434.4', 'ADP'), ('million', 'NUM'), ('*U*', 'X'), ('-RRB-', '.'), ('and', 'CONJ'), ('has', 'VERB'), ('a', 'DET'), ('current', 'ADJ'), ('order', 'NOUN'), ('backlog', 'NOUN'), ('of', 'ADP'), ('2.5', 'NUM'), ('billion', 'NUM'), ('marks', 'NOUN'), ('.', '.'), ('ACQUISITION', 'ADP'), (':', '.'), ('``', '.'), ('They', 'PRON'), ('are', 'VERB'), (\"n't\", 'ADV'), ('really', 'ADV'), ('a', 'DET'), ('thrift', 'NOUN'), (',', '.'), (\"''\", '.'), ('says', 'VERB'), ('*T*-1', 'X'), ('Jonathan', 'NOUN'), ('Gray', 'NOUN'), (',', '.'), ('a', 'DET'), ('Sanford', 'ADP'), ('C.', 'NOUN'), ('Bernstein', 'NOUN'), ('analyst', 'NOUN'), ('.', '.'), ('Mr.', 'NOUN'), ('Dahl', 'NOUN'), (',', '.'), ('a', 'DET'), ('registered', 'VERB'), ('representative', 'NOUN'), ('in', 'ADP'), ('the', 'DET'), ('insurance', 'NOUN'), ('business', 'NOUN'), (',', '.'), ('said', 'VERB'), ('0', 'X'), ('he', 'PRON'), ('``', '.'), ('screwed', 'ADP'), ('up', 'ADV'), (\"''\", '.'), ('because', 'ADP'), ('he', 'PRON'), ('did', 'VERB'), (\"n't\", 'ADV'), ('realize', 'VERB'), ('0', 'X'), ('he', 'PRON'), ('was', 'VERB'), ('breaking', 'ADP'), ('securities', 'NOUN'), ('laws', 'NOUN'), ('.', '.'), ('Gary', 'NOUN'), ('Hoffman', 'ADP'), (',', '.'), ('a', 'DET'), ('Washington', 'NOUN'), ('lawyer', 'NOUN'), ('specializing', 'ADP'), ('in', 'ADP'), ('intellectual-property', 'ADJ'), ('cases', 'NOUN'), (',', '.'), ('said', 'VERB'), ('0', 'X'), ('the', 'DET'), ('threat', 'NOUN'), ('of', 'ADP'), ('U.S.', 'NOUN'), ('retaliation', 'ADP'), (',', '.'), ('combined', 'VERB'), ('*', 'X'), ('with', 'ADP'), ('a', 'DET'), ('growing', 'VERB'), ('recognition', 'NOUN'), ('that', 'ADP'), ('*', 'X'), ('protecting', 'VERB'), ('intellectual', 'ADJ'), ('property', 'NOUN'), ('is', 'VERB'), ('in', 'ADP'), ('a', 'DET'), ('country', 'NOUN'), (\"'s\", 'PRT'), ('own', 'ADJ'), ('interest', 'NOUN'), (',', '.'), ('prompted', 'VERB'), ('the', 'DET'), ('improvements', 'ADP'), ('made', 'VERB'), ('*', 'X'), ('by', 'ADP'), ('South', 'NOUN'), ('Korea', 'NOUN'), (',', '.'), ('Taiwan', 'NOUN'), ('and', 'CONJ'), ('Saudi', 'NOUN'), ('Arabia', 'NOUN'), ('.', '.'), ('``', '.'), ('Feeding', 'NOUN'), ('Frenzy', 'NOUN'), (\"''\", '.'), ('does', 'VERB'), ('provide', 'VERB'), ('a', 'DET'), ('few', 'ADJ'), ('clues', 'NOUN'), ('.', '.'), ('But', 'CONJ'), ('in', 'ADP'), ('1988', 'NUM'), (',', '.'), ('McGraw-Hill', 'NOUN'), ('purchased', 'VERB'), ('the', 'DET'), ('Random', 'NOUN'), ('House', 'NOUN'), ('unit', 'NOUN'), ('that', 'ADP'), ('*T*-108', 'ADP'), ('publishes', 'VERB'), ('Scoring', 'NOUN'), ('High', 'NOUN'), (',', '.'), ('which', 'DET'), ('*T*-109', 'ADP'), ('later', 'ADJ'), ('became', 'VERB'), ('part', 'NOUN'), ('of', 'ADP'), ('Macmillan\\\\/McGraw', 'NOUN'), ('.', '.'), ('The', 'DET'), ('U.S.', 'NOUN'), ('Chamber', 'NOUN'), ('of', 'ADP'), ('Commerce', 'NOUN'), (',', '.'), ('*-1', 'X'), ('still', 'ADV'), ('opposed', 'VERB'), ('to', 'PRT'), ('any', 'DET'), ('mininum-wage', 'ADP'), ('increase', 'NOUN'), (',', '.'), ('said', 'VERB'), ('0', 'X'), ('the', 'DET'), ('compromise', 'NOUN'), ('plan', 'NOUN'), ('*', 'X'), ('to', 'PRT'), ('lift', 'VERB'), ('the', 'DET'), ('wage', 'NOUN'), ('floor', 'NOUN'), ('27', 'NUM'), ('%', 'NOUN'), ('in', 'ADP'), ('two', 'NUM'), ('stages', 'NOUN'), ('between', 'ADP'), ('April', 'NOUN'), ('1990', 'NUM'), ('and', 'CONJ'), ('April', 'NOUN'), ('1991', 'NUM'), ('``', '.'), ('will', 'VERB'), ('be', 'VERB'), ('impossible', 'ADJ'), ('for', 'ADP'), ('many', 'ADJ'), ('employers', 'ADP'), ('to', 'PRT'), ('accommodate', 'VERB'), ('and', 'CONJ'), ('will', 'VERB'), ('result', 'VERB'), ('in', 'ADP'), ('the', 'DET'), ('elimination', 'ADP'), ('of', 'ADP'), ('jobs', 'NOUN'), ('for', 'ADP'), ('American', 'ADJ'), ('workers', 'NOUN'), ('and', 'CONJ'), ('higher', 'ADJ'), ('prices', 'NOUN'), ('for', 'ADP'), ('American', 'ADJ'), ('consumers', 'NOUN'), ('.', '.'), ('Newsweek', 'NOUN'), (\"'s\", 'PRT'), ('circulation', 'NOUN'), ('for', 'ADP'), ('the', 'DET'), ('first', 'ADJ'), ('six', 'NUM'), ('months', 'NOUN'), ('of', 'ADP'), ('1989', 'NUM'), ('was', 'VERB'), ('3,288,453', 'ADP'), (',', '.'), ('*-1', 'X'), ('flat', 'ADJ'), ('from', 'ADP'), ('the', 'DET'), ('same', 'ADJ'), ('period', 'NOUN'), ('last', 'ADJ'), ('year', 'NOUN'), ('.', '.'), ('The', 'DET'), ('Chicago', 'NOUN'), ('Merc', 'NOUN'), ('plans', 'VERB'), ('an', 'DET'), ('additional', 'ADJ'), ('``', '.'), ('circuit', 'NOUN'), ('breaker', 'NOUN'), (\"''\", '.'), ('0', 'X'), ('*', 'X'), ('to', 'PRT'), ('stem', 'VERB'), ('sharp', 'ADJ'), ('drops', 'ADP'), ('in', 'ADP'), ('the', 'DET'), ('market', 'NOUN'), ('*T*-1', 'X'), ('.', '.'), ('If', 'ADP'), ('those', 'DET'), ('words', 'NOUN'), ('were', 'VERB'), (\"n't\", 'ADV'), ('there', 'DET'), (',', '.'), ('the', 'DET'), ('nice', 'ADJ'), ('people', 'NOUN'), ('at', 'ADP'), ('the', 'DET'), ('Voice', 'NOUN'), ('would', 'VERB'), ('be', 'VERB'), ('able', 'ADJ'), ('*-1', 'X'), ('to', 'PRT'), ('send', 'VERB'), ('you', 'PRON'), ('the', 'DET'), ('information', 'NOUN'), ('or', 'CONJ'), (',', '.'), ('at', 'ADP'), ('the', 'DET'), ('very', 'ADV'), ('least', 'ADJ'), (',', '.'), ('let', 'VERB'), ('you', 'PRON'), ('photocopy', 'ADP'), ('it', 'PRON'), ('.', '.'), ('Arthur', 'NOUN'), ('A.', 'NOUN'), ('Hatch', 'NOUN'), (',', '.'), ('59', 'NUM'), (',', '.'), ('was', 'VERB'), ('named', 'VERB'), ('*-28', 'X'), ('executive', 'NOUN'), ('vice', 'NOUN'), ('president', 'NOUN'), ('of', 'ADP'), ('the', 'DET'), ('company', 'NOUN'), ('.', '.'), ('In', 'ADP'), ('less', 'ADJ'), ('parched', 'ADP'), ('areas', 'NOUN'), (',', '.'), ('meanwhile', 'ADV'), (',', '.'), ('farmers', 'NOUN'), ('who', 'PRON'), ('*T*-43', 'X'), ('had', 'VERB'), ('little', 'ADV'), ('or', 'CONJ'), ('no', 'DET'), ('loss', 'NOUN'), ('of', 'ADP'), ('production', 'NOUN'), ('profited', 'ADP'), ('greatly', 'ADV'), ('from', 'ADP'), ('the', 'DET'), ('higher', 'ADJ'), ('prices', 'NOUN'), ('.', '.'), ('``', '.'), ('In', 'ADP'), ('addition', 'NOUN'), (',', '.'), ('recent', 'ADJ'), ('industry', 'NOUN'), ('forecasts', 'NOUN'), ('for', 'ADP'), ('1990', 'NUM'), ('indicate', 'VERB'), ('a', 'DET'), ('slow', 'ADJ'), ('environment', 'NOUN'), (',', '.'), ('at', 'ADP'), ('least', 'ADJ'), ('until', 'ADP'), ('midyear', 'ADP'), ('.', '.'), (\"''\", '.'), ('Big', 'NOUN'), ('Board', 'NOUN'), ('volume', 'NOUN'), ('amounted', 'VERB'), ('to', 'PRT'), ('154,240,000', 'NUM'), ('shares', 'NOUN'), (',', '.'), ('down', 'ADV'), ('from', 'ADP'), ('176.1', 'ADP'), ('million', 'NUM'), ('Tuesday', 'NOUN'), ('.', '.'), ('The', 'DET'), ('U.S.', 'NOUN'), ('wants', 'VERB'), ('the', 'DET'), ('removal', 'ADP'), ('of', 'ADP'), ('what', 'PRON'), ('it', 'PRON'), ('perceives', 'ADP'), ('*T*-183', 'ADP'), ('as', 'ADP'), ('barriers', 'NOUN'), ('to', 'PRT'), ('investment', 'NOUN'), (';', '.'), ('Japan', 'NOUN'), ('denies', 'VERB'), ('0', 'X'), ('there', 'DET'), ('are', 'VERB'), ('real', 'ADJ'), ('barriers', 'NOUN'), ('.', '.'), ('Areas', 'ADP'), ('of', 'ADP'), ('the', 'DET'), ('factory', 'NOUN'), ('*ICH*-2', 'X'), ('were', 'VERB'), ('particularly', 'ADV'), ('dusty', 'ADP'), ('where', 'ADV'), ('the', 'DET'), ('crocidolite', 'NOUN'), ('was', 'VERB'), ('used', 'VERB'), ('*-8', 'X'), ('*T*-1', 'X'), ('.', '.'), ('But', 'CONJ'), ('in', 'ADP'), ('the', 'DET'), ('three', 'NUM'), ('leading', 'VERB'), ('political', 'ADJ'), ('contests', 'NOUN'), ('of', 'ADP'), ('1989', 'NUM'), (',', '.'), ('the', 'DET'), ('negative', 'ADJ'), ('ads', 'NOUN'), ('have', 'VERB'), ('reached', 'VERB'), ('new', 'ADJ'), ('levels', 'NOUN'), ('of', 'ADP'), ('hostility', 'ADP'), (',', '.'), ('*-1', 'X'), ('raising', 'VERB'), ('fears', 'NOUN'), ('that', 'ADP'), ('this', 'DET'), ('kind', 'NOUN'), ('of', 'ADP'), ('mudslinging', 'ADP'), (',', '.'), ('empty', 'ADP'), ('of', 'ADP'), ('significant', 'ADJ'), ('issues', 'NOUN'), (',', '.'), ('is', 'VERB'), ('ushering', 'ADP'), ('in', 'ADP'), ('a', 'DET'), ('new', 'ADJ'), ('era', 'NOUN'), ('of', 'ADP'), ('campaigns', 'NOUN'), ('without', 'ADP'), ('content', 'ADJ'), ('.', '.'), ('The', 'DET'), ('federal', 'ADJ'), ('government', 'NOUN'), ('suspended', 'VERB'), ('sales', 'NOUN'), ('of', 'ADP'), ('U.S.', 'NOUN'), ('savings', 'NOUN'), ('bonds', 'NOUN'), ('because', 'ADP'), ('Congress', 'NOUN'), ('has', 'VERB'), (\"n't\", 'ADV'), ('lifted', 'VERB'), ('the', 'DET'), ('ceiling', 'NOUN'), ('on', 'ADP'), ('government', 'NOUN'), ('debt', 'NOUN'), ('.', '.'), ('Ray', 'NOUN'), ('Shaw', 'NOUN'), (',', '.'), ('chairman', 'NOUN'), ('of', 'ADP'), ('American', 'ADJ'), ('City', 'NOUN'), (',', '.'), ('said', 'VERB'), ('0', 'X'), ('he', 'PRON'), ('would', 'VERB'), ('assume', 'VERB'), ('Mr.', 'NOUN'), ('Russell', 'NOUN'), (\"'s\", 'PRT'), ('responsibilities', 'NOUN'), ('if', 'ADP'), ('a', 'DET'), ('successor', 'NOUN'), ('is', 'VERB'), (\"n't\", 'ADV'), ('found', 'VERB'), ('*-1', 'X'), ('this', 'DET'), ('month', 'NOUN'), ('.', '.'), ('This', 'DET'), ('has', 'VERB'), ('some', 'DET'), ('logic', 'NOUN'), ('.', '.'), ('Wall', 'NOUN'), ('Street', 'NOUN'), (\"'s\", 'PRT'), ('big', 'ADJ'), ('securities', 'NOUN'), ('firms', 'NOUN'), ('face', 'VERB'), ('the', 'DET'), ('prospect', 'NOUN'), ('of', 'ADP'), ('*', 'X'), ('having', 'VERB'), ('their', 'PRON'), ('credit', 'NOUN'), ('ratings', 'NOUN'), ('lowered', 'VERB'), ('.', '.'), ('The', 'DET'), ('language', 'NOUN'), ('of', 'ADP'), ('the', 'DET'), ('appropriations', 'NOUN'), ('rider', 'NOUN'), ('implies', 'VERB'), ('that', 'ADP'), ('any', 'DET'), ('nomination', 'NOUN'), ('to', 'PRT'), ('any', 'DET'), ('position', 'NOUN'), ('of', 'ADP'), ('a', 'DET'), ('rejected', 'VERB'), ('nominee', 'ADP'), ('will', 'VERB'), ('result', 'VERB'), ('in', 'ADP'), ('the', 'DET'), ('president', 'NOUN'), ('being', 'VERB'), ('denied', 'VERB'), ('*-55', 'X'), ('funding', 'NOUN'), ('0', 'X'), ('*', 'X'), ('to', 'PRT'), ('pay', 'VERB'), ('that', 'ADP'), ('person', 'NOUN'), (\"'s\", 'PRT'), ('salary', 'NOUN'), ('*T*-1', 'X'), ('.', '.'), ('The', 'DET'), ('Lorillard', 'NOUN'), ('spokeswoman', 'NOUN'), ('said', 'VERB'), ('0', 'X'), ('asbestos', 'NOUN'), ('was', 'VERB'), ('used', 'VERB'), ('*-1', 'X'), ('in', 'ADP'), ('``', '.'), ('very', 'ADV'), ('modest', 'ADJ'), ('amounts', 'NOUN'), (\"''\", '.'), ('in', 'ADP'), ('*', 'X'), ('making', 'VERB'), ('paper', 'NOUN'), ('for', 'ADP'), ('the', 'DET'), ('filters', 'NOUN'), ('in', 'ADP'), ('the', 'DET'), ('early', 'ADJ'), ('1950s', 'NUM'), ('and', 'CONJ'), ('replaced', 'VERB'), ('*-1', 'X'), ('with', 'ADP'), ('a', 'DET'), ('different', 'ADJ'), ('type', 'NOUN'), ('of', 'ADP'), ('filter', 'ADP'), ('in', 'ADP'), ('1956', 'NUM'), ('.', '.'), ('``', '.'), ('They', 'PRON'), ('got', 'VERB'), ('us', 'PRON'), ('thinking', 'VERB'), ('0', 'X'), ('maybe', 'ADP'), ('we', 'PRON'), ('should', 'VERB'), ('be', 'VERB'), ('helping', 'VERB'), ('U.S.', 'NOUN'), ('companies', 'NOUN'), ('improve', 'VERB'), ('existing', 'VERB'), ('products', 'NOUN'), ('rather', 'ADV'), ('than', 'ADP'), ('*-1', 'X'), ('always', 'ADV'), ('developing', 'VERB'), ('new', 'ADJ'), ('ones', 'NOUN'), ('.', '.'), (\"''\", '.'), ('By', 'ADP'), ('comparison', 'ADP'), (',', '.'), ('for', 'ADP'), ('the', 'DET'), ('first', 'ADJ'), ('nine', 'NUM'), ('months', 'NOUN'), (',', '.'), ('Xerox', 'NOUN'), ('earned', 'VERB'), ('$', '.'), ('492', 'ADP'), ('million', 'NUM'), ('*U*', 'X'), (',', '.'), ('or', 'CONJ'), ('$', '.'), ('4.55', 'ADP'), ('*U*', 'X'), ('a', 'DET'), ('share', 'NOUN'), (',', '.'), ('on', 'ADP'), ('revenue', 'NOUN'), ('of', 'ADP'), ('$', '.'), ('12.97', 'ADP'), ('billion', 'NUM'), ('*U*', 'X'), ('.', '.'), ('Fees', 'NOUN'), ('1', 'NUM'), ('3\\\\/4', 'NUM'), ('.', '.'), ('They', 'PRON'), ('found', 'VERB'), ('students', 'NOUN'), ('in', 'ADP'), ('an', 'DET'), ('advanced', 'ADJ'), ('class', 'NOUN'), ('a', 'DET'), ('year', 'NOUN'), ('earlier', 'ADV'), ('who', 'PRON'), ('*T*-95', 'ADP'), ('said', 'VERB'), ('0', 'X'), ('she', 'PRON'), ('gave', 'VERB'), ('them', 'PRON'), ('similar', 'ADJ'), ('help', 'NOUN'), (',', '.'), ('although', 'ADP'), ('because', 'ADP'), ('the', 'DET'), ('case', 'NOUN'), ('was', 'VERB'), (\"n't\", 'ADV'), ('tried', 'VERB'), ('in', 'ADP'), ('court', 'NOUN'), (',', '.'), ('this', 'DET'), ('evidence', 'NOUN'), ('was', 'VERB'), ('never', 'ADV'), ('presented', 'VERB'), ('*-1', 'X'), ('publicly', 'ADV'), ('.', '.'), ('The', 'DET'), ('dollar', 'NOUN'), ('rose', 'VERB'), ('.', '.'), ('PRIME', 'NOUN'), ('RATE', 'ADP'), (':', '.'), ('10', 'NUM'), ('1\\\\/2', 'NUM'), ('%', 'NOUN'), ('.', '.'), ('Instead', 'ADV'), ('of', 'ADP'), ('50\\\\/50', 'ADP'), ('it', 'PRON'), ('became', 'VERB'), (',', '.'), ('on', 'ADP'), ('paper', 'NOUN'), ('only', 'ADV'), (',', '.'), ('two-thirds', 'NOUN'), ('Mariotta', 'NOUN'), (',', '.'), ('one-third', 'NOUN'), ('Neuberger', 'NOUN'), (',', '.'), ('and', 'CONJ'), ('they', 'PRON'), ('were', 'VERB'), ('in', 'ADP'), ('the', 'DET'), ('program', 'NOUN'), ('and', 'CONJ'), ('off', 'ADP'), ('to', 'PRT'), ('the', 'DET'), ('races', 'ADP'), ('.', '.'), ('The', 'DET'), ('company', 'NOUN'), (\"'s\", 'PRT'), ('proposal', 'NOUN'), ('*', 'X'), ('to', 'PRT'), ('sell', 'VERB'), ('a', 'DET'), ('20', 'NUM'), ('%', 'NOUN'), ('stake', 'NOUN'), ('in', 'ADP'), ('its', 'PRON'), ('real-estate', 'NOUN'), ('unit', 'NOUN'), ('for', 'ADP'), ('around', 'ADP'), ('$', '.'), ('400', 'NUM'), ('million', 'NUM'), ('*U*', 'X'), ('has', 'VERB'), ('caused', 'VERB'), ('analysts', 'NOUN'), ('to', 'PRT'), ('consider', 'VERB'), ('whether', 'ADP'), ('*-1', 'X'), ('to', 'PRT'), ('cut', 'VERB'), ('their', 'PRON'), ('estimates', 'VERB'), ('of', 'ADP'), ('Santa', 'NOUN'), ('Fe', 'NOUN'), (\"'s\", 'PRT'), ('asset', 'NOUN'), ('value', 'NOUN'), ('.', '.'), ('If', 'ADP'), ('you', 'PRON'), (\"'d\", 'VERB'), ('really', 'ADV'), ('rather', 'ADV'), ('have', 'VERB'), ('a', 'DET'), ('Buick', 'NOUN'), (',', '.'), ('*', 'X'), ('do', 'VERB'), (\"n't\", 'ADV'), ('leave', 'VERB'), ('home', 'NOUN'), ('without', 'ADP'), ('the', 'DET'), ('American', 'ADJ'), ('Express', 'NOUN'), ('card', 'NOUN'), ('.', '.'), ('Sales', 'NOUN'), ('for', 'ADP'), ('the', 'DET'), ('full', 'ADJ'), ('year', 'NOUN'), ('were', 'VERB'), ('$', '.'), ('6.6', 'NUM'), ('billion', 'NUM'), ('*U*', 'X'), (',', '.'), ('up', 'ADV'), ('13', 'NUM'), ('%', 'NOUN'), ('from', 'ADP'), ('$', '.'), ('5.8', 'ADP'), ('billion', 'NUM'), ('*U*', 'X'), ('.', '.'), ('``', '.'), ('It', 'PRON'), ('*EXP*-1', 'X'), (\"'s\", 'PRT'), ('hard', 'ADJ'), ('*', 'X'), ('to', 'PRT'), ('explain', 'VERB'), ('to', 'PRT'), ('a', 'DET'), ('17-year-old', 'ADP'), ('why', 'ADV'), ('someone', 'NOUN'), ('0', 'X'), ('they', 'PRON'), ('like', 'VERB'), ('*T*-2', 'X'), ('had', 'VERB'), ('*-3', 'X'), ('to', 'PRT'), ('go', 'VERB'), (',', '.'), (\"''\", '.'), ('says', 'VERB'), ('*T*-4', 'X'), ('Mrs.', 'NOUN'), ('Ward', 'NOUN'), ('.', '.'), ('``', '.'), ('You', 'PRON'), (\"'re\", 'VERB'), ('dead', 'ADJ'), ('in', 'ADP'), ('the', 'DET'), ('water', 'NOUN'), ('if', 'ADP'), ('you', 'PRON'), ('are', 'VERB'), (\"n't\", 'ADV'), ('segmenting', 'ADP'), ('the', 'DET'), ('market', 'NOUN'), (',', '.'), (\"''\", '.'), ('says', 'VERB'), ('*T*-1', 'X'), ('Anne', 'NOUN'), ('Moore', 'NOUN'), (',', '.'), ('president', 'NOUN'), ('of', 'ADP'), ('Synergistics', 'NOUN'), ('Research', 'NOUN'), ('Corp.', 'NOUN'), (',', '.'), ('a', 'DET'), ('bank', 'NOUN'), ('consulting', 'NOUN'), ('firm', 'NOUN'), ('in', 'ADP'), ('Atlanta', 'NOUN'), ('.', '.'), ('Indexing', 'ADP'), ('--', '.'), ('Many', 'ADJ'), ('investors', 'NOUN'), (',', '.'), ('mainly', 'ADV'), ('institutions', 'NOUN'), (',', '.'), ('follow', 'VERB'), ('an', 'DET'), ('investment', 'NOUN'), ('strategy', 'NOUN'), ('of', 'ADP'), ('*', 'X'), ('buying', 'VERB'), ('and', 'CONJ'), ('holding', 'VERB'), ('a', 'DET'), ('mix', 'NOUN'), ('of', 'ADP'), ('stocks', 'NOUN'), ('0', 'X'), ('*T*-1', 'X'), ('to', 'PRT'), ('match', 'VERB'), ('the', 'DET'), ('performance', 'NOUN'), ('of', 'ADP'), ('a', 'DET'), ('broad', 'ADJ'), ('stock-market', 'NOUN'), ('barometer', 'ADP'), ('such', 'ADJ'), ('as', 'ADP'), ('the', 'DET'), ('S&P', 'NOUN'), ('500', 'NUM'), ('.', '.'), ('The', 'DET'), ('following', 'NOUN'), ('individuals', 'NOUN'), ('were', 'VERB'), ('fined', 'VERB'), ('*-2', 'X'), ('as', 'ADP'), ('*', 'X'), ('indicated', 'VERB'), ('*-1', 'X'), ('and', 'CONJ'), ('barred', 'VERB'), ('*-2', 'X'), ('from', 'ADP'), ('association', 'NOUN'), ('with', 'ADP'), ('NASD', 'NOUN'), ('members', 'NOUN'), (',', '.'), ('or', 'CONJ'), (',', '.'), ('where', 'ADV'), ('*', 'X'), ('noted', 'VERB'), ('*-3', 'X'), ('*T*-4', 'X'), (',', '.'), ('suspended', 'VERB'), ('*-2', 'X'), ('.', '.'), ('William', 'NOUN'), ('Randolph', 'NOUN'), ('Hearst', 'NOUN'), ('had', 'VERB'), ('kept', 'VERB'), ('an', 'DET'), ('apartment', 'NOUN'), ('in', 'ADP'), ('the', 'DET'), ('Spanish', 'ADP'), ('Renaissance-style', 'ADP'), ('building', 'NOUN'), ('.', '.'), ('Mr.', 'NOUN'), ('Bush', 'NOUN'), ('has', 'VERB'), ('said', 'VERB'), ('0', 'X'), ('he', 'PRON'), ('would', 'VERB'), ('like', 'ADP'), ('*-1', 'X'), ('to', 'PRT'), ('be', 'VERB'), ('able', 'ADJ'), ('*-2', 'X'), ('to', 'PRT'), ('use', 'VERB'), ('this', 'DET'), ('procedure', 'NOUN'), ('.', '.'), ('``', '.'), ('Just', 'ADV'), ('as', 'ADP'), ('the', 'DET'), ('1980s', 'NOUN'), ('bull', 'NOUN'), ('market', 'NOUN'), ('transformed', 'VERB'), ('the', 'DET'), ('U.S.', 'NOUN'), ('securities', 'NOUN'), ('business', 'NOUN'), (',', '.'), ('so', 'ADV'), ('too', 'ADV'), ('will', 'VERB'), ('*?*', 'X'), ('the', 'DET'), ('more', 'ADJ'), ('difficult', 'ADJ'), ('environment', 'NOUN'), ('of', 'ADP'), ('the', 'DET'), ('1990s', 'NOUN'), (',', '.'), (\"''\", '.'), ('says', 'VERB'), ('*T*-1', 'X'), ('Christopher', 'NOUN'), ('T.', 'NOUN'), ('Mahoney', 'NOUN'), (',', '.'), ('a', 'DET'), ('Moody', 'NOUN'), (\"'s\", 'PRT'), ('vice', 'NOUN'), ('president', 'NOUN'), ('.', '.'), ('James', 'NOUN'), ('Mason', 'NOUN'), (',', '.'), ('assistant', 'NOUN'), ('secretary', 'NOUN'), ('for', 'ADP'), ('health', 'NOUN'), (',', '.'), ('said', 'VERB'), ('0', 'X'), ('the', 'DET'), ('ban', 'NOUN'), ('on', 'ADP'), ('federal', 'ADJ'), ('funding', 'NOUN'), ('of', 'ADP'), ('fetal-tissue', 'ADJ'), ('transplant', 'NOUN'), ('research', 'NOUN'), ('``', '.'), ('should', 'VERB'), ('be', 'VERB'), ('continued', 'VERB'), ('*-1', 'X'), ('indefinitely', 'ADV'), ('.', '.'), (\"''\", '.')]\n"
     ]
    }
   ],
   "source": [
    "#Print total time taken to train the algorithm\n",
    "print(\"Time taken in seconds: \", difference)\n",
    "print(tagged_seq)"
   ]
  },
  {
   "cell_type": "code",
   "execution_count": 26,
   "metadata": {},
   "outputs": [
    {
     "name": "stdout",
     "output_type": "stream",
     "text": [
      "0.9133006935944512\n"
     ]
    }
   ],
   "source": [
    "#Accuracy of model\n",
    "check = [i for i, j in zip(tagged_seq, test_run_base) if i == j] \n",
    "accuracy = len(check)/len(tagged_seq)\n",
    "print(accuracy)"
   ]
  },
  {
   "cell_type": "markdown",
   "metadata": {},
   "source": [
    "We are getting around 90% of accuracy with the default Viterbi algorithm.\n",
    "\n",
    "Let's compare with the test sentences and see how it tagged the sentences."
   ]
  },
  {
   "cell_type": "code",
   "execution_count": 27,
   "metadata": {},
   "outputs": [],
   "source": [
    "incorrect_tagged_cases = [[test_run_base[i-1],j] for i, j in enumerate(zip(tagged_seq, test_run_base)) if j[0]!=j[1]]"
   ]
  },
  {
   "cell_type": "code",
   "execution_count": 28,
   "metadata": {},
   "outputs": [
    {
     "data": {
      "text/plain": [
       "[[('.', '.'), (('Odd-year', 'ADP'), ('Odd-year', 'ADJ'))],\n",
       " [('.', '.'), (('Voters', 'ADP'), ('Voters', 'NOUN'))],\n",
       " [('new', 'ADJ'), (('mega-stadium', 'ADP'), ('mega-stadium', 'NOUN'))],\n",
       " [('vehicles', 'NOUN'), (('weighing', 'ADP'), ('weighing', 'VERB'))],\n",
       " [('was', 'VERB'), (('such', 'ADJ'), ('such', 'DET'))],\n",
       " [('two', 'NUM'), (('round-trip', 'ADP'), ('round-trip', 'ADJ'))],\n",
       " [('on', 'ADP'), (('Trans', 'ADP'), ('Trans', 'NOUN'))],\n",
       " [('*-2', 'X'), (('Reached', 'ADP'), ('Reached', 'VERB'))],\n",
       " [('An', 'DET'), (('implication', 'ADP'), ('implication', 'NOUN'))],\n",
       " [('implication', 'NOUN'), (('that', 'DET'), ('that', 'ADP'))],\n",
       " [('to', 'PRT'), (('return', 'NOUN'), ('return', 'VERB'))],\n",
       " [(\"''\", '.'), (('Named', 'ADP'), ('Named', 'VERB'))],\n",
       " [('*T*-1', 'X'), (('Roland', 'ADP'), ('Roland', 'NOUN'))],\n",
       " [('Roland', 'NOUN'), (('Matthews', 'ADP'), ('Matthews', 'NOUN'))],\n",
       " [('Peter', 'NOUN'), (('Jonas', 'ADP'), ('Jonas', 'NOUN'))],\n",
       " [(',', '.'), (('executive', 'NOUN'), ('executive', 'ADJ'))],\n",
       " [(',', '.'), (('as', 'ADP'), ('as', 'ADV'))],\n",
       " [('which', 'DET'), (('*T*-139', 'ADP'), ('*T*-139', 'X'))],\n",
       " [('a', 'DET'), (('tie-breaking', 'ADP'), ('tie-breaking', 'ADJ'))],\n",
       " [('to', 'PRT'), (('waive', 'ADP'), ('waive', 'VERB'))],\n",
       " [('its', 'PRON'), (('protective', 'ADP'), ('protective', 'ADJ'))],\n",
       " [('``', '.'), (('golden', 'ADP'), ('golden', 'ADJ'))],\n",
       " [('.', '.'), (('Spending', 'ADP'), ('Spending', 'NOUN'))],\n",
       " [(',', '.'), (('nonresidential', 'ADP'), ('nonresidential', 'ADJ'))],\n",
       " [('was', 'VERB'), (('off', 'PRT'), ('off', 'ADJ'))],\n",
       " [('$', '.'), (('99.1', 'ADP'), ('99.1', 'NUM'))],\n",
       " [('fixed', 'VERB'), (('106', 'ADP'), ('106', 'NUM'))],\n",
       " [('yield', 'VERB'), (('3.42', 'ADP'), ('3.42', 'NUM'))],\n",
       " [(',', '.'), (('21.1', 'ADP'), ('21.1', 'NUM'))],\n",
       " [('the', 'DET'), (('buckle', 'ADP'), ('buckle', 'NOUN'))],\n",
       " [('the', 'DET'), (('Rust', 'ADP'), ('Rust', 'NOUN'))],\n",
       " [('so', 'ADV'), (('rusty', 'ADP'), ('rusty', 'ADJ'))],\n",
       " [(',', '.'), (('that', 'DET'), ('that', 'ADP'))],\n",
       " [('$', '.'), (('705.6', 'ADP'), ('705.6', 'NUM'))],\n",
       " [('investment', 'NOUN'), (('figure', 'VERB'), ('figure', 'NOUN'))],\n",
       " [('That', 'DET'), (('attracts', 'ADP'), ('attracts', 'VERB'))],\n",
       " [('the', 'DET'), (('twindam', 'ADP'), ('twindam', 'NOUN'))],\n",
       " [('broken', 'VERB'), (('*-68', 'ADP'), ('*-68', 'X'))],\n",
       " [('.', '.'), (('Long-term', 'ADP'), ('Long-term', 'ADJ'))],\n",
       " [('the', 'DET'), (('most', 'ADJ'), ('most', 'ADV'))],\n",
       " [('and', 'CONJ'), (('moons', 'ADP'), ('moons', 'NOUN'))],\n",
       " [('the', 'DET'), (('renovated', 'ADP'), ('renovated', 'VERB'))],\n",
       " [('Indiana', 'NOUN'), (('Roof', 'ADP'), ('Roof', 'NOUN'))],\n",
       " [('Roof', 'NOUN'), (('ballroom', 'ADP'), ('ballroom', 'NOUN'))],\n",
       " [('the', 'DET'), (('hottest', 'ADP'), ('hottest', 'ADJ'))],\n",
       " [('Indiana', 'NOUN'), (('duckling', 'ADP'), ('duckling', 'NOUN'))],\n",
       " [('duckling', 'NOUN'), (('mousseline', 'ADP'), ('mousseline', 'NOUN'))],\n",
       " [(',', '.'), (('lobster', 'ADP'), ('lobster', 'NOUN'))],\n",
       " [('lobster', 'NOUN'), (('consomme', 'ADP'), ('consomme', 'NOUN'))],\n",
       " [(',', '.'), (('veal', 'ADP'), ('veal', 'NOUN'))],\n",
       " [('veal', 'NOUN'), (('mignon', 'ADP'), ('mignon', 'NOUN'))],\n",
       " [('and', 'CONJ'), (('chocolate', 'ADP'), ('chocolate', 'ADJ'))],\n",
       " [('chocolate', 'ADJ'), (('terrine', 'ADP'), ('terrine', 'NOUN'))],\n",
       " [('a', 'DET'), (('raspberry', 'ADP'), ('raspberry', 'NOUN'))],\n",
       " [('raspberry', 'NOUN'), (('sauce', 'ADP'), ('sauce', 'NOUN'))],\n",
       " [('a', 'DET'), (('deluge', 'ADP'), ('deluge', 'NOUN'))],\n",
       " [('was', 'VERB'), (('abuzz', 'ADP'), ('abuzz', 'ADJ'))],\n",
       " [('the', 'DET'), (('traditionalists', 'ADP'), ('traditionalists', 'NOUN'))],\n",
       " [('on', 'ADP'), (('bundles', 'ADP'), ('bundles', 'NOUN'))],\n",
       " [('major', 'ADJ'), (('grower', 'ADP'), ('grower', 'NOUN'))],\n",
       " [('.', '.'), (('More', 'ADJ'), ('More', 'ADV'))],\n",
       " [('something', 'NOUN'), (('stuck', 'ADP'), ('stuck', 'VERB'))],\n",
       " [('a', 'DET'), (('willingness', 'ADP'), ('willingness', 'NOUN'))],\n",
       " [('year', 'NOUN'), (('earlier', 'ADV'), ('earlier', 'ADJ'))],\n",
       " [('$', '.'), (('169.9', 'ADP'), ('169.9', 'NUM'))],\n",
       " [('figures', 'NOUN'), (('contrast', 'NOUN'), ('contrast', 'VERB'))],\n",
       " [(\"'s\", 'PRT'), (('F.W.', 'ADP'), ('F.W.', 'NOUN'))],\n",
       " [('Gerald', 'NOUN'), (('Lefcourt', 'ADP'), ('Lefcourt', 'NOUN'))],\n",
       " [('to', 'PRT'), (('deal', 'NOUN'), ('deal', 'VERB'))],\n",
       " [('the', 'DET'), (('buy-back', 'ADJ'), ('buy-back', 'NOUN'))],\n",
       " [('the', 'DET'), (('above-market', 'ADP'), ('above-market', 'ADJ'))],\n",
       " [('*-1', 'X'), (('scared', 'VERB'), ('scared', 'ADJ'))],\n",
       " [('*-2', 'X'), (('bombarding', 'ADP'), ('bombarding', 'VERB'))],\n",
       " [('with', 'ADP'), (('neutrons', 'ADP'), ('neutrons', 'NOUN'))],\n",
       " [('process', 'NOUN'), (('that', 'ADP'), ('that', 'DET'))],\n",
       " [('some', 'DET'), (('radioactivity', 'ADP'), ('radioactivity', 'NOUN'))],\n",
       " [('for', 'ADP'), (('large-scale', 'ADP'), ('large-scale', 'ADJ'))],\n",
       " [('.', '.'), (('F.H.', 'ADP'), ('F.H.', 'NOUN'))],\n",
       " [('.', '.'), (('Compromises', 'ADP'), ('Compromises', 'NOUN'))],\n",
       " [('.', '.'), (('Dreyfus', 'ADP'), ('Dreyfus', 'NOUN'))],\n",
       " [('Dreyfus', 'NOUN'), (('World-Wide', 'ADP'), ('World-Wide', 'NOUN'))],\n",
       " [('the', 'DET'), (('top-yielding', 'ADP'), ('top-yielding', 'ADJ'))],\n",
       " [('compound', 'NOUN'), (('yield', 'VERB'), ('yield', 'NOUN'))],\n",
       " [('of', 'ADP'), (('9.37', 'ADP'), ('9.37', 'NUM'))],\n",
       " [('from', 'ADP'), (('9.45', 'ADP'), ('9.45', 'NUM'))],\n",
       " [('week', 'NOUN'), (('earlier', 'ADV'), ('earlier', 'ADJ'))],\n",
       " [('average', 'ADJ'), (('8.19', 'ADP'), ('8.19', 'NUM'))],\n",
       " [('from', 'ADP'), (('8.22', 'ADP'), ('8.22', 'NUM'))],\n",
       " [('compound', 'NOUN'), (('yield', 'VERB'), ('yield', 'NOUN'))],\n",
       " [('average', 'ADJ'), (('8.53', 'ADP'), ('8.53', 'NUM'))],\n",
       " [('from', 'ADP'), (('8.56', 'ADP'), ('8.56', 'NUM'))],\n",
       " [('of', 'ADP'), (('excesses', 'ADP'), ('excesses', 'NOUN'))],\n",
       " [('*ICH*-1', 'X'), (('out', 'PRT'), ('out', 'ADP'))],\n",
       " [('out', 'ADP'), (('there', 'DET'), ('there', 'ADV'))],\n",
       " [('there', 'ADV'), (('that', 'ADP'), ('that', 'DET'))],\n",
       " [('would', 'VERB'), (('tilt', 'ADP'), ('tilt', 'VERB'))],\n",
       " [(\"'s\", 'PRT'), (('calculations', 'ADP'), ('calculations', 'NOUN'))],\n",
       " [('was', 'VERB'), (('muted', 'ADP'), ('muted', 'VERB'))],\n",
       " [('the', 'DET'), (('observance', 'ADP'), ('observance', 'NOUN'))],\n",
       " [('of', 'ADP'), (('All', 'DET'), ('All', 'NOUN'))],\n",
       " [('All', 'NOUN'), (('Saints', 'ADP'), ('Saints', 'NOUN'))],\n",
       " [('Saints', 'NOUN'), ((\"'\", '.'), (\"'\", 'PRT'))],\n",
       " [(\"'\", 'PRT'), (('Day', 'ADP'), ('Day', 'NOUN'))],\n",
       " [('purchases', 'NOUN'), (('show', 'NOUN'), ('show', 'VERB'))],\n",
       " [('U.S.', 'NOUN'), (('mortgage-based', 'ADP'), ('mortgage-based', 'ADJ'))],\n",
       " [('David', 'NOUN'), (('O.', 'ADP'), ('O.', 'NOUN'))],\n",
       " [('.', '.'), (('Strong', 'ADP'), ('Strong', 'ADJ'))],\n",
       " [('black', 'ADJ'), (('widow', 'ADP'), ('widow', 'NOUN'))],\n",
       " [('female', 'ADJ'), (('spiders', 'ADP'), ('spiders', 'NOUN'))],\n",
       " [('that', 'DET'), (('*T*-231', 'ADP'), ('*T*-231', 'X'))],\n",
       " [('attract', 'VERB'), (('males', 'ADP'), ('males', 'NOUN'))],\n",
       " [('after', 'ADP'), (('mating', 'ADP'), ('mating', 'VERB'))],\n",
       " [('and', 'CONJ'), (('257', 'ADP'), ('257', 'NUM'))],\n",
       " [('$', '.'), (('225,000', 'ADP'), ('225,000', 'NUM'))],\n",
       " [('have', 'VERB'), (('accounted', 'ADP'), ('accounted', 'VERB'))],\n",
       " [('for', 'ADP'), (('as', 'ADP'), ('as', 'ADV'))],\n",
       " [('the', 'DET'), (('sterling', 'ADP'), ('sterling', 'NOUN'))],\n",
       " [('those', 'DET'), (('broadcasts', 'VERB'), ('broadcasts', 'NOUN'))],\n",
       " [('seeking', 'VERB'), (('foreign-stock', 'ADP'), ('foreign-stock', 'ADJ'))],\n",
       " [('be', 'VERB'), (('less', 'ADJ'), ('less', 'ADV'))],\n",
       " [('less', 'ADV'), (('resistant', 'ADP'), ('resistant', 'ADJ'))],\n",
       " [('funds', 'NOUN'), (('mirrors', 'ADP'), ('mirrors', 'VERB'))],\n",
       " [('fund', 'NOUN'), (('mania', 'ADP'), ('mania', 'NOUN'))],\n",
       " [('the', 'DET'), (('1920s', 'NUM'), ('1920s', 'NOUN'))],\n",
       " [('when', 'ADV'), (('narrowly', 'ADP'), ('narrowly', 'ADV'))],\n",
       " [('grew', 'VERB'), (('wildly', 'ADP'), ('wildly', 'ADV'))],\n",
       " [('who', 'PRON'), (('*T*-249', 'ADP'), ('*T*-249', 'X'))],\n",
       " [('reached', 'VERB'), (('*-155', 'ADP'), ('*-155', 'X'))],\n",
       " [('the', 'DET'), (('key', 'ADJ'), ('key', 'NOUN'))],\n",
       " [('must', 'VERB'), (('fundamentally', 'ADP'), ('fundamentally', 'ADV'))],\n",
       " [('fundamentally', 'ADV'), (('increase', 'NOUN'), ('increase', 'VERB'))],\n",
       " [('or', 'CONJ'), (('decrease', 'NOUN'), ('decrease', 'VERB'))],\n",
       " [('prices', 'NOUN'), (('move', 'NOUN'), ('move', 'VERB'))],\n",
       " [('officials', 'NOUN'), (('voice', 'NOUN'), ('voice', 'VERB'))],\n",
       " [(\"'s\", 'PRT'), (('enlarged', 'ADP'), ('enlarged', 'ADJ'))],\n",
       " [('also', 'ADV'), (('convey', 'ADP'), ('convey', 'VERB'))],\n",
       " [('an', 'DET'), (('undertone', 'ADP'), ('undertone', 'NOUN'))],\n",
       " [('the', 'DET'), (('doctor', 'ADP'), ('doctor', 'NOUN'))],\n",
       " [('for', 'ADP'), (('upscale', 'ADJ'), ('upscale', 'NOUN'))],\n",
       " [('*-1', 'X'), (('demonstrating', 'ADP'), ('demonstrating', 'VERB'))],\n",
       " [('a', 'DET'), (('raw', 'ADP'), ('raw', 'ADJ'))],\n",
       " [('he', 'PRON'), (('possessed', 'ADP'), ('possessed', 'VERB'))],\n",
       " [('I', 'PRON'), (('sense', 'NOUN'), ('sense', 'VERB'))],\n",
       " [('are', 'VERB'), (('reluctant', 'ADP'), ('reluctant', 'ADJ'))],\n",
       " [('to', 'PRT'), (('stick', 'ADP'), ('stick', 'VERB'))],\n",
       " [('their', 'PRON'), (('necks', 'ADP'), ('necks', 'NOUN'))],\n",
       " [('necks', 'NOUN'), (('out', 'ADP'), ('out', 'PRT'))],\n",
       " [('come', 'VERB'), (('out', 'PRT'), ('out', 'ADP'))],\n",
       " [('Richard', 'NOUN'), (('Eakle', 'ADP'), ('Eakle', 'NOUN'))],\n",
       " [('of', 'ADP'), (('Eakle', 'ADP'), ('Eakle', 'NOUN'))],\n",
       " [('The', 'DET'), (('percent', 'ADP'), ('percent', 'NOUN'))],\n",
       " [('*-1', 'X'), (('justifying', 'ADP'), ('justifying', 'VERB'))],\n",
       " [('a', 'DET'), (('Traverse', 'ADP'), ('Traverse', 'NOUN'))],\n",
       " [('who', 'PRON'), (('*T*-103', 'ADP'), ('*T*-103', 'X'))],\n",
       " [('a', 'DET'), (('holding', 'NOUN'), ('holding', 'VERB'))],\n",
       " [('Mr.', 'NOUN'), (('Gartner', 'ADP'), ('Gartner', 'NOUN'))],\n",
       " [('Daily', 'NOUN'), (('Tribune', 'ADP'), ('Tribune', 'NOUN'))],\n",
       " [('in', 'ADP'), (('Ames', 'ADP'), ('Ames', 'NOUN'))],\n",
       " [('taken', 'VERB'), (('off', 'PRT'), ('off', 'ADV'))],\n",
       " [('of', 'ADP'), (('home-market', 'ADP'), ('home-market', 'ADJ'))],\n",
       " [('home-market', 'ADJ'), (('stock-index', 'ADJ'), ('stock-index', 'NOUN'))],\n",
       " [('and', 'CONJ'), (('Osaka', 'ADP'), ('Osaka', 'NOUN'))],\n",
       " [('reported', 'VERB'), (('declines', 'VERB'), ('declines', 'NOUN'))],\n",
       " [('in', 'ADP'), (('stock-index', 'ADJ'), ('stock-index', 'NOUN'))],\n",
       " [('.', '.'), (('Spreads', 'ADP'), ('Spreads', 'NOUN'))],\n",
       " [('so', 'ADV'), (('tight', 'ADJ'), ('tight', 'ADV'))],\n",
       " [(\"n't\", 'ADV'), (('matter', 'NOUN'), ('matter', 'VERB'))],\n",
       " [('any', 'DET'), (('temporary', 'ADP'), ('temporary', 'ADJ'))],\n",
       " [('*EXP*-1', 'X'), ((\"'s\", 'PRT'), (\"'s\", 'VERB'))],\n",
       " [('also', 'ADV'), (('refreshing', 'ADP'), ('refreshing', 'VERB'))],\n",
       " [('the', 'DET'),\n",
       "  (('self-aggrandizing', 'ADP'), ('self-aggrandizing', 'ADJ'))],\n",
       " [('``', '.'), (('we-Japanese', 'ADP'), ('we-Japanese', 'ADJ'))],\n",
       " [('*T*-53', 'X'), (('perpetuate', 'ADP'), ('perpetuate', 'VERB'))],\n",
       " [('the', 'DET'), (('unique', 'ADP'), ('unique', 'ADJ'))],\n",
       " [('unique', 'ADJ'), (('Japanese', 'ADJ'), ('Japanese', 'NOUN'))],\n",
       " [(',', '.'), (('unfathomable', 'ADP'), ('unfathomable', 'ADJ'))],\n",
       " [('by', 'ADP'), (('outsiders', 'ADP'), ('outsiders', 'NOUN'))],\n",
       " [('to', 'PRT'), (('scrape', 'ADP'), ('scrape', 'VERB'))],\n",
       " [('retired', 'VERB'),\n",
       "  (('water-authority', 'ADP'), ('water-authority', 'NOUN'))],\n",
       " [('is', 'VERB'), (('payable', 'ADP'), ('payable', 'ADJ'))],\n",
       " [('payable', 'ADJ'), (('Jan.', 'ADP'), ('Jan.', 'NOUN'))],\n",
       " [('not', 'ADV'), (('there', 'DET'), ('there', 'ADV'))],\n",
       " [('*T*-1', 'X'), (('Cedric', 'ADP'), ('Cedric', 'NOUN'))],\n",
       " [('Wine', 'NOUN'), (('Cellar', 'ADP'), ('Cellar', 'NOUN'))],\n",
       " [('to', 'PRT'), (('repay', 'ADP'), ('repay', 'VERB'))],\n",
       " [('completely', 'ADV'), (('discharge', 'ADP'), ('discharge', 'VERB'))],\n",
       " [('are', 'VERB'), (('betting', 'ADP'), ('betting', 'VERB'))],\n",
       " [('programs', 'NOUN'), (('that', 'ADP'), ('that', 'DET'))],\n",
       " [('seem', 'VERB'), (('tailor-made', 'ADP'), ('tailor-made', 'ADJ'))],\n",
       " [('pressure', 'NOUN'), (('tactics', 'ADP'), ('tactics', 'NOUN'))],\n",
       " [('*', 'X'), (('Sit', 'ADP'), ('Sit', 'VERB'))],\n",
       " [('shareholders', 'NOUN'), (('cleared', 'ADP'), ('cleared', 'VERB'))],\n",
       " [('to', 'PRT'), (('cure', 'ADP'), ('cure', 'VERB'))],\n",
       " [('a', 'DET'), (('two-year-old', 'ADP'), ('two-year-old', 'ADJ'))],\n",
       " [('two-year-old', 'ADJ'), (('waif', 'ADP'), ('waif', 'NOUN'))],\n",
       " [('-LRB-', '.'), (('Nicole', 'ADP'), ('Nicole', 'NOUN'))],\n",
       " [('Nicole', 'NOUN'), (('Alysia', 'ADP'), ('Alysia', 'NOUN'))],\n",
       " [('by', 'ADP'), (('thugs', 'ADP'), ('thugs', 'NOUN'))],\n",
       " [('the', 'DET'), (('Underwoods', 'ADP'), ('Underwoods', 'NOUN'))],\n",
       " [('at', 'ADP'), (('closing', 'ADJ'), ('closing', 'NOUN'))],\n",
       " [('turn', 'VERB'), (('Southeast', 'ADJ'), ('Southeast', 'NOUN'))],\n",
       " [('a', 'DET'), (('more', 'ADJ'), ('more', 'ADV'))],\n",
       " [('more', 'ADV'), (('cohesive', 'ADP'), ('cohesive', 'ADJ'))],\n",
       " [(\"'s\", 'PRT'),\n",
       "  (('industrial-production', 'ADP'), ('industrial-production', 'ADJ'))],\n",
       " [('response', 'NOUN'), (('annoyed', 'ADP'), ('annoyed', 'VERB'))],\n",
       " [('the', 'DET'), (('congressman', 'ADP'), ('congressman', 'NOUN'))],\n",
       " [('snapped', 'VERB'), (('back', 'ADV'), ('back', 'PRT'))],\n",
       " [('been', 'VERB'), (('enough', 'ADV'), ('enough', 'ADJ'))],\n",
       " [('and', 'CONJ'), (('that', 'DET'), ('that', 'ADP'))],\n",
       " [('.', '.'), (('DISCOUNT', 'ADP'), ('DISCOUNT', 'NOUN'))],\n",
       " [('DISCOUNT', 'NOUN'), (('RATE', 'ADP'), ('RATE', 'NOUN'))],\n",
       " [('$', '.'), (('19.94', 'ADP'), ('19.94', 'NUM'))],\n",
       " [('learned', 'VERB'), (('that', 'ADP'), ('that', 'DET'))],\n",
       " [('in', 'ADP'), (('comparison', 'ADP'), ('comparison', 'NOUN'))],\n",
       " [('was', 'VERB'), (('riding', 'ADP'), ('riding', 'VERB'))],\n",
       " [('an', 'DET'), (('industrywide', 'ADP'), ('industrywide', 'ADJ'))],\n",
       " [('Bush', 'NOUN'), (('mode', 'ADP'), ('mode', 'NOUN'))],\n",
       " [(':', '.'), (('kind', 'NOUN'), ('kind', 'ADJ'))],\n",
       " [('and', 'CONJ'), (('gentle', 'ADP'), ('gentle', 'ADJ'))],\n",
       " [('*', 'X'), (('trading', 'NOUN'), ('trading', 'VERB'))],\n",
       " [('to', 'PRT'), (('acknowledge', 'ADP'), ('acknowledge', 'VERB'))],\n",
       " [('the', 'DET'), (('infusion', 'ADP'), ('infusion', 'NOUN'))],\n",
       " [('the', 'DET'), (('crystal-lattice', 'ADP'), ('crystal-lattice', 'ADJ'))],\n",
       " [('of', 'ADP'), (('current', 'ADJ'), ('current', 'NOUN'))],\n",
       " [('600,000', 'NUM'), (('amps', 'ADP'), ('amps', 'NOUN'))],\n",
       " [('square', 'ADJ'), (('centimeter', 'ADP'), ('centimeter', 'NOUN'))],\n",
       " [('will', 'VERB'), (('climb', 'ADP'), ('climb', 'VERB'))],\n",
       " [('from', 'ADP'), (('566.54', 'ADP'), ('566.54', 'NUM'))],\n",
       " [('from', 'ADP'), (('28.53', 'ADP'), ('28.53', 'NUM'))],\n",
       " [('bone', 'NOUN'), (('marrow', 'ADP'), ('marrow', 'NOUN'))],\n",
       " [('other', 'ADJ'), (('blood-cell', 'ADP'), ('blood-cell', 'NOUN'))],\n",
       " [('should', 'VERB'), (('veto', 'NOUN'), ('veto', 'VERB'))],\n",
       " [('appropriations', 'NOUN'), (('acts', 'VERB'), ('acts', 'NOUN'))],\n",
       " [('acts', 'NOUN'), (('that', 'ADP'), ('that', 'DET'))],\n",
       " [('to', 'PRT'), (('discharge', 'ADP'), ('discharge', 'VERB'))],\n",
       " [(\"'s\", 'PRT'), (('day-to-day', 'ADP'), ('day-to-day', 'ADJ'))],\n",
       " [('.', '.'), (('Herbert', 'ADP'), ('Herbert', 'NOUN'))],\n",
       " [('the', 'DET'), (('53-year-old', 'ADP'), ('53-year-old', 'ADJ'))],\n",
       " [('and', 'CONJ'), (('Edwin', 'ADP'), ('Edwin', 'NOUN'))],\n",
       " [('*-1', 'X'), (('dividing', 'ADP'), ('dividing', 'VERB'))],\n",
       " [('Japanese', 'ADJ'), (('dominance', 'ADP'), ('dominance', 'NOUN'))],\n",
       " [('was', 'VERB'), (('outrageous', 'ADP'), ('outrageous', 'ADJ'))],\n",
       " [('.', '.'), (('Altogether', 'ADP'), ('Altogether', 'ADV'))],\n",
       " [('eliminate', 'VERB'), (('266', 'ADP'), ('266', 'NUM'))],\n",
       " [(',', '.'), (('176', 'ADP'), ('176', 'NUM'))],\n",
       " [('expected', 'VERB'), (('*-68', 'ADP'), ('*-68', 'X'))],\n",
       " [('followed', 'VERB'), (('year-to-year', 'ADP'), ('year-to-year', 'ADJ'))],\n",
       " [('.', '.'), (('Syndicate', 'ADP'), ('Syndicate', 'NOUN'))],\n",
       " [('by', 'ADP'), (('up', 'ADV'), ('up', 'PRT'))],\n",
       " [('who', 'PRON'), (('*T*-196', 'ADP'), ('*T*-196', 'X'))],\n",
       " [('company', 'NOUN'), (('more', 'ADV'), ('more', 'ADJ'))],\n",
       " [('an', 'DET'), (('all-cash', 'ADP'), ('all-cash', 'ADJ'))],\n",
       " [(',', '.'), (('seven-year', 'ADP'), ('seven-year', 'ADJ'))],\n",
       " [('one', 'NUM'), (('offering', 'NOUN'), ('offering', 'VERB'))],\n",
       " [('--', '.'), (('offer', 'NOUN'), ('offer', 'VERB'))],\n",
       " [('.', '.'), (('Annualized', 'ADP'), ('Annualized', 'VERB'))],\n",
       " [('With', 'ADP'), (('lipsticks', 'ADP'), ('lipsticks', 'NOUN'))],\n",
       " [(',', '.'), (('liners', 'ADP'), ('liners', 'NOUN'))],\n",
       " [(',', '.'), (('lotions', 'ADP'), ('lotions', 'NOUN'))],\n",
       " [('and', 'CONJ'), (('creams', 'ADP'), ('creams', 'NOUN'))],\n",
       " [('beauty', 'NOUN'), (('plans', 'VERB'), ('plans', 'NOUN'))],\n",
       " [('to', 'PRT'), (('tackle', 'ADP'), ('tackle', 'VERB'))],\n",
       " [('seems', 'VERB'), (('That', 'DET'), ('That', 'ADP'))],\n",
       " [('I', 'PRON'), (('paint', 'ADP'), ('paint', 'VERB'))],\n",
       " [('should', 'VERB'), (('spackle', 'ADP'), ('spackle', 'VERB'))],\n",
       " [('the', 'DET'), (('Soviet', 'ADJ'), ('Soviet', 'NOUN'))],\n",
       " [('Ralston', 'NOUN'), (('Purina', 'ADP'), ('Purina', 'NOUN'))],\n",
       " [('costs', 'NOUN'), (('as', 'ADP'), ('as', 'ADV'))],\n",
       " [('a', 'DET'), (('more', 'ADJ'), ('more', 'ADV'))],\n",
       " [('The', 'DET'), (('morbidity', 'ADP'), ('morbidity', 'NOUN'))],\n",
       " [('who', 'PRON'), (('*T*-242', 'ADP'), ('*T*-242', 'X'))],\n",
       " [('*', 'X'), (('ordering', 'ADP'), ('ordering', 'VERB'))],\n",
       " [('``', '.'), (('Nor', 'ADP'), ('Nor', 'CONJ'))],\n",
       " [('to', 'PRT'), (('reprint', 'ADP'), ('reprint', 'VERB'))],\n",
       " [('to', 'PRT'), (('veto', 'NOUN'), ('veto', 'VERB'))],\n",
       " [('bills', 'NOUN'), (('containing', 'ADP'), ('containing', 'VERB'))],\n",
       " [(',', '.'), (('alternatively', 'ADP'), ('alternatively', 'ADV'))],\n",
       " [('to', 'PRT'), (('sign', 'NOUN'), ('sign', 'VERB'))],\n",
       " [('their', 'PRON'), (('intrusions', 'ADP'), ('intrusions', 'NOUN'))],\n",
       " [('thus', 'ADV'), (('void', 'ADP'), ('void', 'ADJ'))],\n",
       " [('effective', 'ADJ'), (('crook', 'ADP'), ('crook', 'NOUN'))],\n",
       " [('yourself', 'PRON'), (('out', 'PRT'), ('out', 'ADP'))],\n",
       " [('the', 'DET'), (('cold', 'ADJ'), ('cold', 'NOUN'))],\n",
       " [('fate', 'NOUN'), (('that', 'ADP'), ('that', 'DET'))],\n",
       " [('eventually', 'ADV'), (('befell', 'ADP'), ('befell', 'VERB'))],\n",
       " [(\"'s\", 'PRT'), (('semiliterate', 'ADP'), ('semiliterate', 'ADJ'))],\n",
       " [('one', 'NUM'), (('feature', 'ADP'), ('feature', 'NOUN'))],\n",
       " [('``', '.'), (('In', 'ADP'), ('In', 'NOUN'))],\n",
       " [('editors', 'NOUN'), (('point', 'NOUN'), ('point', 'VERB'))],\n",
       " [('they', 'PRON'), (('deem', 'ADP'), ('deem', 'VERB'))],\n",
       " [('to', 'PRT'), (('demobilize', 'ADP'), ('demobilize', 'VERB'))],\n",
       " [('be', 'VERB'), (('relaunched', 'ADP'), ('relaunched', 'VERB'))],\n",
       " [(',', '.'), (('as', 'ADP'), ('as', 'ADV'))],\n",
       " [('as', 'ADV'), (('early', 'ADJ'), ('early', 'ADV'))],\n",
       " [('Texas', 'NOUN'), (('Instruments', 'ADP'), ('Instruments', 'NOUN'))],\n",
       " [('Texas', 'NOUN'), (('Instruments', 'ADP'), ('Instruments', 'NOUN'))],\n",
       " [('300', 'NUM'), (('million-a-year', 'ADP'), ('million-a-year', 'ADJ'))],\n",
       " [('*T*-2', 'X'), (('Joel', 'ADP'), ('Joel', 'NOUN'))],\n",
       " [('Joel', 'NOUN'), (('Gross', 'ADP'), ('Gross', 'NOUN'))],\n",
       " [('``', '.'), (('So', 'ADV'), ('So', 'ADP'))],\n",
       " [('other', 'ADJ'), (('fixed-income', 'ADP'), ('fixed-income', 'ADJ'))],\n",
       " [('stepped', 'VERB'), (('down', 'ADV'), ('down', 'PRT'))],\n",
       " [('into', 'ADP'), (('chaos', 'ADP'), ('chaos', 'NOUN'))],\n",
       " [(\"'s\", 'PRT'), (('work', 'VERB'), ('work', 'NOUN'))],\n",
       " [('*', 'X'), (('Determining', 'ADP'), ('Determining', 'VERB'))],\n",
       " [('may', 'VERB'), (('enable', 'ADP'), ('enable', 'VERB'))],\n",
       " [('develop', 'VERB'), (('better', 'ADV'), ('better', 'ADJ'))],\n",
       " [('needed', 'VERB'),\n",
       "  (('crystal-lattice', 'ADP'), ('crystal-lattice', 'NOUN'))],\n",
       " [(',', '.'), (('gilt', 'ADP'), ('gilt', 'ADJ'))],\n",
       " [('plunged', 'VERB'), (('more', 'ADV'), ('more', 'ADJ'))],\n",
       " [('*-1', 'X'), (('recovering', 'ADP'), ('recovering', 'VERB'))],\n",
       " [('to', 'PRT'), (('report', 'NOUN'), ('report', 'VERB'))],\n",
       " [('Donald', 'NOUN'), (('Pardus', 'ADP'), ('Pardus', 'NOUN'))],\n",
       " [(',', '.'), (('controlled', 'ADJ'), ('controlled', 'VERB'))],\n",
       " [('already', 'ADV'), (('own', 'ADJ'), ('own', 'VERB'))],\n",
       " [('GMAC', 'NOUN'), (('screened', 'ADP'), ('screened', 'VERB'))],\n",
       " [('the', 'DET'), (('card-member', 'ADP'), ('card-member', 'NOUN'))],\n",
       " [('holders', 'NOUN'), (('more', 'ADV'), ('more', 'ADJ'))],\n",
       " [('household', 'NOUN'), (('incomes', 'ADP'), ('incomes', 'NOUN'))],\n",
       " [('``', '.'), (('missed', 'ADP'), ('missed', 'VERB'))],\n",
       " [('an', 'DET'), (('implicit', 'ADP'), ('implicit', 'ADJ'))],\n",
       " [('the', 'DET'), (('Japanese', 'ADJ'), ('Japanese', 'NOUN'))],\n",
       " [('Chairman', 'NOUN'), (('Theodore', 'ADP'), ('Theodore', 'NOUN'))],\n",
       " [('effective', 'ADJ'),\n",
       "  (('headcount-control', 'ADP'), ('headcount-control', 'NOUN'))],\n",
       " [('*-2', 'X'), (('Developed', 'ADP'), ('Developed', 'VERB'))],\n",
       " [('by', 'ADP'), (('Avrett', 'ADP'), ('Avrett', 'NOUN'))],\n",
       " [('&', 'CONJ'), (('Ginsberg', 'ADP'), ('Ginsberg', 'NOUN'))],\n",
       " [('campaign', 'NOUN'), (('pitches', 'ADP'), ('pitches', 'VERB'))],\n",
       " [(\"'s\", 'PRT'), (('consumer-driven', 'ADP'), ('consumer-driven', 'ADJ'))],\n",
       " [('free', 'ADJ'), (('pick-up', 'ADP'), ('pick-up', 'ADJ'))],\n",
       " [('and', 'CONJ'), (('drop-off', 'ADP'), ('drop-off', 'ADJ'))],\n",
       " [('*', 'X'), (('there', 'DET'), ('there', 'ADV'))],\n",
       " [('the', 'DET'), (('Constitutional', 'ADP'), ('Constitutional', 'NOUN'))],\n",
       " [('Constitutional', 'NOUN'), (('Convention', 'ADP'), ('Convention', 'NOUN'))],\n",
       " [('of', 'ADP'), (('1787', 'ADP'), ('1787', 'NUM'))],\n",
       " [('*-1', 'X'), (('sketching', 'ADP'), ('sketching', 'VERB'))],\n",
       " [('sketching', 'VERB'), (('passers-by', 'ADP'), ('passers-by', 'NOUN'))],\n",
       " [('.', '.'), (('Yet', 'CONJ'), ('Yet', 'ADV'))],\n",
       " [('Marie-Louise', 'NOUN'), (('Giraud', 'ADP'), ('Giraud', 'NOUN'))],\n",
       " [('historical', 'ADJ'), (('significance', 'ADP'), ('significance', 'NOUN'))],\n",
       " [(\"'s\", 'PRT'), (('hypocrisy', 'ADP'), ('hypocrisy', 'NOUN'))],\n",
       " [('are', 'VERB'), (('fond', 'ADP'), ('fond', 'ADJ'))],\n",
       " [('are', 'VERB'), (('blocked', 'ADP'), ('blocked', 'VERB'))],\n",
       " [('blocked', 'VERB'), (('*-159', 'ADP'), ('*-159', 'X'))],\n",
       " [('simply', 'ADV'), (('emigrate', 'ADP'), ('emigrate', 'VERB'))],\n",
       " [('.', '.'), (('Much', 'ADV'), ('Much', 'ADJ'))],\n",
       " [('``', '.'), (('migrate', 'ADP'), ('migrate', 'VERB'))],\n",
       " [(\"''\", '.'), (('predicts', 'ADP'), ('predicts', 'VERB'))],\n",
       " [('Jack', 'NOUN'), (('Lawless', 'ADP'), ('Lawless', 'NOUN'))],\n",
       " [('of', 'ADP'), (('US', 'ADP'), ('US', 'NOUN'))],\n",
       " [('US', 'NOUN'), (('Sprint', 'ADP'), ('Sprint', 'NOUN'))],\n",
       " [('*U*', 'X'), (('more', 'ADV'), ('more', 'ADJ'))],\n",
       " [('negotiate', 'VERB'), (('exclusively', 'ADP'), ('exclusively', 'ADV'))],\n",
       " [('its', 'PRON'), (('leasing', 'ADP'), ('leasing', 'NOUN'))],\n",
       " [('by', 'ADP'), (('growing', 'VERB'), ('growing', 'ADJ'))],\n",
       " [('Japanese', 'ADJ'), (('behavior', 'ADP'), ('behavior', 'NOUN'))],\n",
       " [('*-1', 'X'), (('buoyed', 'ADP'), ('buoyed', 'VERB'))],\n",
       " [('know', 'VERB'), (('better', 'ADV'), ('better', 'ADJ'))],\n",
       " [('$', '.'), (('434.4', 'ADP'), ('434.4', 'NUM'))],\n",
       " [('.', '.'), (('ACQUISITION', 'ADP'), ('ACQUISITION', 'NOUN'))],\n",
       " [('a', 'DET'), (('Sanford', 'ADP'), ('Sanford', 'NOUN'))],\n",
       " [('``', '.'), (('screwed', 'ADP'), ('screwed', 'VERB'))],\n",
       " [('screwed', 'VERB'), (('up', 'ADV'), ('up', 'PRT'))],\n",
       " [('was', 'VERB'), (('breaking', 'ADP'), ('breaking', 'VERB'))],\n",
       " [('Gary', 'NOUN'), (('Hoffman', 'ADP'), ('Hoffman', 'NOUN'))],\n",
       " [('lawyer', 'NOUN'), (('specializing', 'ADP'), ('specializing', 'VERB'))],\n",
       " [('U.S.', 'NOUN'), (('retaliation', 'ADP'), ('retaliation', 'NOUN'))],\n",
       " [('the', 'DET'), (('improvements', 'ADP'), ('improvements', 'NOUN'))],\n",
       " [('unit', 'NOUN'), (('that', 'ADP'), ('that', 'DET'))],\n",
       " [('that', 'DET'), (('*T*-108', 'ADP'), ('*T*-108', 'X'))],\n",
       " [('which', 'DET'), (('*T*-109', 'ADP'), ('*T*-109', 'X'))],\n",
       " [('*T*-109', 'X'), (('later', 'ADJ'), ('later', 'ADV'))],\n",
       " [('any', 'DET'), (('mininum-wage', 'ADP'), ('mininum-wage', 'NOUN'))],\n",
       " [('many', 'ADJ'), (('employers', 'ADP'), ('employers', 'NOUN'))],\n",
       " [('the', 'DET'), (('elimination', 'ADP'), ('elimination', 'NOUN'))],\n",
       " [('was', 'VERB'), (('3,288,453', 'ADP'), ('3,288,453', 'NUM'))],\n",
       " [('sharp', 'ADJ'), (('drops', 'ADP'), ('drops', 'NOUN'))],\n",
       " [(\"n't\", 'ADV'), (('there', 'DET'), ('there', 'ADV'))],\n",
       " [('you', 'PRON'), (('photocopy', 'ADP'), ('photocopy', 'VERB'))],\n",
       " [('less', 'ADJ'), (('parched', 'ADP'), ('parched', 'VERB'))],\n",
       " [('had', 'VERB'), (('little', 'ADV'), ('little', 'ADJ'))],\n",
       " [('production', 'NOUN'), (('profited', 'ADP'), ('profited', 'VERB'))],\n",
       " [('until', 'ADP'), (('midyear', 'ADP'), ('midyear', 'NOUN'))],\n",
       " [(',', '.'), (('down', 'ADV'), ('down', 'ADP'))],\n",
       " [('from', 'ADP'), (('176.1', 'ADP'), ('176.1', 'NUM'))],\n",
       " [('the', 'DET'), (('removal', 'ADP'), ('removal', 'NOUN'))],\n",
       " [('it', 'PRON'), (('perceives', 'ADP'), ('perceives', 'VERB'))],\n",
       " [('perceives', 'VERB'), (('*T*-183', 'ADP'), ('*T*-183', 'X'))],\n",
       " [('.', '.'), (('Areas', 'ADP'), ('Areas', 'NOUN'))],\n",
       " [('particularly', 'ADV'), (('dusty', 'ADP'), ('dusty', 'ADJ'))],\n",
       " [('.', '.'), (('But', 'CONJ'), ('But', 'ADP'))],\n",
       " [('of', 'ADP'), (('hostility', 'ADP'), ('hostility', 'NOUN'))],\n",
       " [('of', 'ADP'), (('mudslinging', 'ADP'), ('mudslinging', 'NOUN'))],\n",
       " [(',', '.'), (('empty', 'ADP'), ('empty', 'ADJ'))],\n",
       " [('is', 'VERB'), (('ushering', 'ADP'), ('ushering', 'VERB'))],\n",
       " [('without', 'ADP'), (('content', 'ADJ'), ('content', 'NOUN'))],\n",
       " [('of', 'ADP'), (('American', 'ADJ'), ('American', 'NOUN'))],\n",
       " [('rejected', 'VERB'), (('nominee', 'ADP'), ('nominee', 'NOUN'))],\n",
       " [('*-55', 'X'), (('funding', 'NOUN'), ('funding', 'VERB'))],\n",
       " [('pay', 'VERB'), (('that', 'ADP'), ('that', 'DET'))],\n",
       " [('of', 'ADP'), (('filter', 'ADP'), ('filter', 'NOUN'))],\n",
       " [('0', 'X'), (('maybe', 'ADP'), ('maybe', 'ADV'))],\n",
       " [('By', 'ADP'), (('comparison', 'ADP'), ('comparison', 'NOUN'))],\n",
       " [('$', '.'), (('492', 'ADP'), ('492', 'NUM'))],\n",
       " [('$', '.'), (('4.55', 'ADP'), ('4.55', 'NUM'))],\n",
       " [('$', '.'), (('12.97', 'ADP'), ('12.97', 'NUM'))],\n",
       " [('who', 'PRON'), (('*T*-95', 'ADP'), ('*T*-95', 'X'))],\n",
       " [('PRIME', 'NOUN'), (('RATE', 'ADP'), ('RATE', 'NOUN'))],\n",
       " [('of', 'ADP'), (('50\\\\/50', 'ADP'), ('50\\\\/50', 'NUM'))],\n",
       " [('the', 'DET'), (('races', 'ADP'), ('races', 'NOUN'))],\n",
       " [('their', 'PRON'), (('estimates', 'VERB'), ('estimates', 'NOUN'))],\n",
       " [('the', 'DET'), (('American', 'ADJ'), ('American', 'NOUN'))],\n",
       " [('$', '.'), (('5.8', 'ADP'), ('5.8', 'NUM'))],\n",
       " [('*EXP*-1', 'X'), ((\"'s\", 'PRT'), (\"'s\", 'VERB'))],\n",
       " [('a', 'DET'), (('17-year-old', 'ADP'), ('17-year-old', 'ADJ'))],\n",
       " [(\"n't\", 'ADV'), (('segmenting', 'ADP'), ('segmenting', 'VERB'))],\n",
       " [('.', '.'), (('Indexing', 'ADP'), ('Indexing', 'NOUN'))],\n",
       " [('stock-market', 'NOUN'), (('barometer', 'ADP'), ('barometer', 'NOUN'))],\n",
       " [('The', 'DET'), (('following', 'NOUN'), ('following', 'VERB'))],\n",
       " [('the', 'DET'), (('Spanish', 'ADP'), ('Spanish', 'NOUN'))],\n",
       " [('Spanish', 'NOUN'),\n",
       "  (('Renaissance-style', 'ADP'), ('Renaissance-style', 'ADJ'))],\n",
       " [('would', 'VERB'), (('like', 'ADP'), ('like', 'VERB'))],\n",
       " [('the', 'DET'), (('1980s', 'NOUN'), ('1980s', 'NUM'))],\n",
       " [('the', 'DET'), (('more', 'ADJ'), ('more', 'ADV'))],\n",
       " [('the', 'DET'), (('1990s', 'NOUN'), ('1990s', 'NUM'))]]"
      ]
     },
     "execution_count": 28,
     "metadata": {},
     "output_type": "execute_result"
    }
   ],
   "source": [
    "incorrect_tagged_cases"
   ]
  },
  {
   "cell_type": "code",
   "execution_count": 29,
   "metadata": {},
   "outputs": [
    {
     "name": "stdout",
     "output_type": "stream",
     "text": [
      "Android is a mobile operating system developed by Google.\r\n",
      "\n",
      "Android has been the best-selling OS worldwide on smartphones since 2011 and on tablets since 2013.\r\n",
      "\n",
      "Google and Twitter made a deal in 2015 that gave Google access to Twitter's firehose.\r\n",
      "\n",
      "Twitter is an online news and social networking service on which users post and interact with messages known as tweets.\r\n",
      "\n",
      "Before entering politics, Donald Trump was a domineering businessman and a television personality.\r\n",
      "\n",
      "The 2018 FIFA World Cup is the 21st FIFA World Cup, an international football tournament contested once every four years.\r\n",
      "\n",
      "This is the first World Cup to be held in Eastern Europe and the 11th time that it has been held in Europe.\r\n",
      "\n",
      "Show me the cheapest round trips from Dallas to Atlanta\r\n",
      "\n",
      "I would like to see flights from Denver to Philadelphia.\r\n",
      "\n",
      "Show me the price of the flights leaving Atlanta at about 3 in the afternoon and arriving in San Francisco.\r\n",
      "\n",
      "NASA invited social media users to experience the launch of ICESAT-2 Satellite.\n"
     ]
    }
   ],
   "source": [
    "#Read the text file\n",
    "lines=[]\n",
    "f = codecs.open(\"C:\\\\Users\\\\koustav\\\\Desktop\\\\Sample test sentences.txt\", encoding='utf-8')\n",
    "for line in f:\n",
    "    print(line)\n",
    "    lines.append(line)"
   ]
  },
  {
   "cell_type": "markdown",
   "metadata": {},
   "source": [
    "### Solve the problem of unknown words"
   ]
  },
  {
   "cell_type": "code",
   "execution_count": 30,
   "metadata": {},
   "outputs": [
    {
     "data": {
      "text/plain": [
       "['Android is a mobile operating system developed by Google.\\r\\n',\n",
       " 'Android has been the best-selling OS worldwide on smartphones since 2011 and on tablets since 2013.\\r\\n',\n",
       " \"Google and Twitter made a deal in 2015 that gave Google access to Twitter's firehose.\\r\\n\",\n",
       " 'Twitter is an online news and social networking service on which users post and interact with messages known as tweets.\\r\\n',\n",
       " 'Before entering politics, Donald Trump was a domineering businessman and a television personality.\\r\\n',\n",
       " 'The 2018 FIFA World Cup is the 21st FIFA World Cup, an international football tournament contested once every four years.\\r\\n',\n",
       " 'This is the first World Cup to be held in Eastern Europe and the 11th time that it has been held in Europe.\\r\\n',\n",
       " 'Show me the cheapest round trips from Dallas to Atlanta\\r\\n',\n",
       " 'I would like to see flights from Denver to Philadelphia.\\r\\n',\n",
       " 'Show me the price of the flights leaving Atlanta at about 3 in the afternoon and arriving in San Francisco.\\r\\n',\n",
       " 'NASA invited social media users to experience the launch of ICESAT-2 Satellite.']"
      ]
     },
     "execution_count": 30,
     "metadata": {},
     "output_type": "execute_result"
    }
   ],
   "source": [
    "lines"
   ]
  },
  {
   "cell_type": "code",
   "execution_count": 31,
   "metadata": {},
   "outputs": [
    {
     "data": {
      "text/plain": [
       "['Android is a mobile operating system developed by Google.',\n",
       " 'Android has been the best-selling OS worldwide on smartphones since 2011 and on tablets since 2013.',\n",
       " \"Google and Twitter made a deal in 2015 that gave Google access to Twitter's firehose.\",\n",
       " 'Twitter is an online news and social networking service on which users post and interact with messages known as tweets.',\n",
       " 'Before entering politics, Donald Trump was a domineering businessman and a television personality.',\n",
       " 'The 2018 FIFA World Cup is the 21st FIFA World Cup, an international football tournament contested once every four years.',\n",
       " 'This is the first World Cup to be held in Eastern Europe and the 11th time that it has been held in Europe.',\n",
       " 'Show me the cheapest round trips from Dallas to Atlanta',\n",
       " 'I would like to see flights from Denver to Philadelphia.',\n",
       " 'Show me the price of the flights leaving Atlanta at about 3 in the afternoon and arriving in San Francisco.',\n",
       " 'NASA invited social media users to experience the launch of ICESAT-2 Satellite.']"
      ]
     },
     "execution_count": 31,
     "metadata": {},
     "output_type": "execute_result"
    }
   ],
   "source": [
    "#Strip the special characters and empty strings in the list file\n",
    "test_lines =[sent.rstrip() for sent in lines if sent.rstrip()!='']\n",
    "test_lines"
   ]
  },
  {
   "cell_type": "code",
   "execution_count": 32,
   "metadata": {},
   "outputs": [
    {
     "data": {
      "text/plain": [
       "[[('.', '.'), (('Odd-year', 'ADP'), ('Odd-year', 'ADJ'))],\n",
       " [('.', '.'), (('Voters', 'ADP'), ('Voters', 'NOUN'))],\n",
       " [('new', 'ADJ'), (('mega-stadium', 'ADP'), ('mega-stadium', 'NOUN'))],\n",
       " [('vehicles', 'NOUN'), (('weighing', 'ADP'), ('weighing', 'VERB'))],\n",
       " [('was', 'VERB'), (('such', 'ADJ'), ('such', 'DET'))],\n",
       " [('two', 'NUM'), (('round-trip', 'ADP'), ('round-trip', 'ADJ'))],\n",
       " [('on', 'ADP'), (('Trans', 'ADP'), ('Trans', 'NOUN'))],\n",
       " [('*-2', 'X'), (('Reached', 'ADP'), ('Reached', 'VERB'))],\n",
       " [('An', 'DET'), (('implication', 'ADP'), ('implication', 'NOUN'))],\n",
       " [('implication', 'NOUN'), (('that', 'DET'), ('that', 'ADP'))],\n",
       " [('to', 'PRT'), (('return', 'NOUN'), ('return', 'VERB'))],\n",
       " [(\"''\", '.'), (('Named', 'ADP'), ('Named', 'VERB'))],\n",
       " [('*T*-1', 'X'), (('Roland', 'ADP'), ('Roland', 'NOUN'))],\n",
       " [('Roland', 'NOUN'), (('Matthews', 'ADP'), ('Matthews', 'NOUN'))],\n",
       " [('Peter', 'NOUN'), (('Jonas', 'ADP'), ('Jonas', 'NOUN'))],\n",
       " [(',', '.'), (('executive', 'NOUN'), ('executive', 'ADJ'))],\n",
       " [(',', '.'), (('as', 'ADP'), ('as', 'ADV'))],\n",
       " [('which', 'DET'), (('*T*-139', 'ADP'), ('*T*-139', 'X'))],\n",
       " [('a', 'DET'), (('tie-breaking', 'ADP'), ('tie-breaking', 'ADJ'))],\n",
       " [('to', 'PRT'), (('waive', 'ADP'), ('waive', 'VERB'))],\n",
       " [('its', 'PRON'), (('protective', 'ADP'), ('protective', 'ADJ'))],\n",
       " [('``', '.'), (('golden', 'ADP'), ('golden', 'ADJ'))],\n",
       " [('.', '.'), (('Spending', 'ADP'), ('Spending', 'NOUN'))],\n",
       " [(',', '.'), (('nonresidential', 'ADP'), ('nonresidential', 'ADJ'))],\n",
       " [('was', 'VERB'), (('off', 'PRT'), ('off', 'ADJ'))],\n",
       " [('$', '.'), (('99.1', 'ADP'), ('99.1', 'NUM'))],\n",
       " [('fixed', 'VERB'), (('106', 'ADP'), ('106', 'NUM'))],\n",
       " [('yield', 'VERB'), (('3.42', 'ADP'), ('3.42', 'NUM'))],\n",
       " [(',', '.'), (('21.1', 'ADP'), ('21.1', 'NUM'))],\n",
       " [('the', 'DET'), (('buckle', 'ADP'), ('buckle', 'NOUN'))],\n",
       " [('the', 'DET'), (('Rust', 'ADP'), ('Rust', 'NOUN'))],\n",
       " [('so', 'ADV'), (('rusty', 'ADP'), ('rusty', 'ADJ'))],\n",
       " [(',', '.'), (('that', 'DET'), ('that', 'ADP'))],\n",
       " [('$', '.'), (('705.6', 'ADP'), ('705.6', 'NUM'))],\n",
       " [('investment', 'NOUN'), (('figure', 'VERB'), ('figure', 'NOUN'))],\n",
       " [('That', 'DET'), (('attracts', 'ADP'), ('attracts', 'VERB'))],\n",
       " [('the', 'DET'), (('twindam', 'ADP'), ('twindam', 'NOUN'))],\n",
       " [('broken', 'VERB'), (('*-68', 'ADP'), ('*-68', 'X'))],\n",
       " [('.', '.'), (('Long-term', 'ADP'), ('Long-term', 'ADJ'))],\n",
       " [('the', 'DET'), (('most', 'ADJ'), ('most', 'ADV'))],\n",
       " [('and', 'CONJ'), (('moons', 'ADP'), ('moons', 'NOUN'))],\n",
       " [('the', 'DET'), (('renovated', 'ADP'), ('renovated', 'VERB'))],\n",
       " [('Indiana', 'NOUN'), (('Roof', 'ADP'), ('Roof', 'NOUN'))],\n",
       " [('Roof', 'NOUN'), (('ballroom', 'ADP'), ('ballroom', 'NOUN'))],\n",
       " [('the', 'DET'), (('hottest', 'ADP'), ('hottest', 'ADJ'))],\n",
       " [('Indiana', 'NOUN'), (('duckling', 'ADP'), ('duckling', 'NOUN'))],\n",
       " [('duckling', 'NOUN'), (('mousseline', 'ADP'), ('mousseline', 'NOUN'))],\n",
       " [(',', '.'), (('lobster', 'ADP'), ('lobster', 'NOUN'))],\n",
       " [('lobster', 'NOUN'), (('consomme', 'ADP'), ('consomme', 'NOUN'))],\n",
       " [(',', '.'), (('veal', 'ADP'), ('veal', 'NOUN'))],\n",
       " [('veal', 'NOUN'), (('mignon', 'ADP'), ('mignon', 'NOUN'))],\n",
       " [('and', 'CONJ'), (('chocolate', 'ADP'), ('chocolate', 'ADJ'))],\n",
       " [('chocolate', 'ADJ'), (('terrine', 'ADP'), ('terrine', 'NOUN'))],\n",
       " [('a', 'DET'), (('raspberry', 'ADP'), ('raspberry', 'NOUN'))],\n",
       " [('raspberry', 'NOUN'), (('sauce', 'ADP'), ('sauce', 'NOUN'))],\n",
       " [('a', 'DET'), (('deluge', 'ADP'), ('deluge', 'NOUN'))],\n",
       " [('was', 'VERB'), (('abuzz', 'ADP'), ('abuzz', 'ADJ'))],\n",
       " [('the', 'DET'), (('traditionalists', 'ADP'), ('traditionalists', 'NOUN'))],\n",
       " [('on', 'ADP'), (('bundles', 'ADP'), ('bundles', 'NOUN'))],\n",
       " [('major', 'ADJ'), (('grower', 'ADP'), ('grower', 'NOUN'))],\n",
       " [('.', '.'), (('More', 'ADJ'), ('More', 'ADV'))],\n",
       " [('something', 'NOUN'), (('stuck', 'ADP'), ('stuck', 'VERB'))],\n",
       " [('a', 'DET'), (('willingness', 'ADP'), ('willingness', 'NOUN'))],\n",
       " [('year', 'NOUN'), (('earlier', 'ADV'), ('earlier', 'ADJ'))],\n",
       " [('$', '.'), (('169.9', 'ADP'), ('169.9', 'NUM'))],\n",
       " [('figures', 'NOUN'), (('contrast', 'NOUN'), ('contrast', 'VERB'))],\n",
       " [(\"'s\", 'PRT'), (('F.W.', 'ADP'), ('F.W.', 'NOUN'))],\n",
       " [('Gerald', 'NOUN'), (('Lefcourt', 'ADP'), ('Lefcourt', 'NOUN'))],\n",
       " [('to', 'PRT'), (('deal', 'NOUN'), ('deal', 'VERB'))],\n",
       " [('the', 'DET'), (('buy-back', 'ADJ'), ('buy-back', 'NOUN'))],\n",
       " [('the', 'DET'), (('above-market', 'ADP'), ('above-market', 'ADJ'))],\n",
       " [('*-1', 'X'), (('scared', 'VERB'), ('scared', 'ADJ'))],\n",
       " [('*-2', 'X'), (('bombarding', 'ADP'), ('bombarding', 'VERB'))],\n",
       " [('with', 'ADP'), (('neutrons', 'ADP'), ('neutrons', 'NOUN'))],\n",
       " [('process', 'NOUN'), (('that', 'ADP'), ('that', 'DET'))],\n",
       " [('some', 'DET'), (('radioactivity', 'ADP'), ('radioactivity', 'NOUN'))],\n",
       " [('for', 'ADP'), (('large-scale', 'ADP'), ('large-scale', 'ADJ'))],\n",
       " [('.', '.'), (('F.H.', 'ADP'), ('F.H.', 'NOUN'))],\n",
       " [('.', '.'), (('Compromises', 'ADP'), ('Compromises', 'NOUN'))],\n",
       " [('.', '.'), (('Dreyfus', 'ADP'), ('Dreyfus', 'NOUN'))],\n",
       " [('Dreyfus', 'NOUN'), (('World-Wide', 'ADP'), ('World-Wide', 'NOUN'))],\n",
       " [('the', 'DET'), (('top-yielding', 'ADP'), ('top-yielding', 'ADJ'))],\n",
       " [('compound', 'NOUN'), (('yield', 'VERB'), ('yield', 'NOUN'))],\n",
       " [('of', 'ADP'), (('9.37', 'ADP'), ('9.37', 'NUM'))],\n",
       " [('from', 'ADP'), (('9.45', 'ADP'), ('9.45', 'NUM'))],\n",
       " [('week', 'NOUN'), (('earlier', 'ADV'), ('earlier', 'ADJ'))],\n",
       " [('average', 'ADJ'), (('8.19', 'ADP'), ('8.19', 'NUM'))],\n",
       " [('from', 'ADP'), (('8.22', 'ADP'), ('8.22', 'NUM'))],\n",
       " [('compound', 'NOUN'), (('yield', 'VERB'), ('yield', 'NOUN'))],\n",
       " [('average', 'ADJ'), (('8.53', 'ADP'), ('8.53', 'NUM'))],\n",
       " [('from', 'ADP'), (('8.56', 'ADP'), ('8.56', 'NUM'))],\n",
       " [('of', 'ADP'), (('excesses', 'ADP'), ('excesses', 'NOUN'))],\n",
       " [('*ICH*-1', 'X'), (('out', 'PRT'), ('out', 'ADP'))],\n",
       " [('out', 'ADP'), (('there', 'DET'), ('there', 'ADV'))],\n",
       " [('there', 'ADV'), (('that', 'ADP'), ('that', 'DET'))],\n",
       " [('would', 'VERB'), (('tilt', 'ADP'), ('tilt', 'VERB'))],\n",
       " [(\"'s\", 'PRT'), (('calculations', 'ADP'), ('calculations', 'NOUN'))],\n",
       " [('was', 'VERB'), (('muted', 'ADP'), ('muted', 'VERB'))],\n",
       " [('the', 'DET'), (('observance', 'ADP'), ('observance', 'NOUN'))],\n",
       " [('of', 'ADP'), (('All', 'DET'), ('All', 'NOUN'))],\n",
       " [('All', 'NOUN'), (('Saints', 'ADP'), ('Saints', 'NOUN'))],\n",
       " [('Saints', 'NOUN'), ((\"'\", '.'), (\"'\", 'PRT'))],\n",
       " [(\"'\", 'PRT'), (('Day', 'ADP'), ('Day', 'NOUN'))],\n",
       " [('purchases', 'NOUN'), (('show', 'NOUN'), ('show', 'VERB'))],\n",
       " [('U.S.', 'NOUN'), (('mortgage-based', 'ADP'), ('mortgage-based', 'ADJ'))],\n",
       " [('David', 'NOUN'), (('O.', 'ADP'), ('O.', 'NOUN'))],\n",
       " [('.', '.'), (('Strong', 'ADP'), ('Strong', 'ADJ'))],\n",
       " [('black', 'ADJ'), (('widow', 'ADP'), ('widow', 'NOUN'))],\n",
       " [('female', 'ADJ'), (('spiders', 'ADP'), ('spiders', 'NOUN'))],\n",
       " [('that', 'DET'), (('*T*-231', 'ADP'), ('*T*-231', 'X'))],\n",
       " [('attract', 'VERB'), (('males', 'ADP'), ('males', 'NOUN'))],\n",
       " [('after', 'ADP'), (('mating', 'ADP'), ('mating', 'VERB'))],\n",
       " [('and', 'CONJ'), (('257', 'ADP'), ('257', 'NUM'))],\n",
       " [('$', '.'), (('225,000', 'ADP'), ('225,000', 'NUM'))],\n",
       " [('have', 'VERB'), (('accounted', 'ADP'), ('accounted', 'VERB'))],\n",
       " [('for', 'ADP'), (('as', 'ADP'), ('as', 'ADV'))],\n",
       " [('the', 'DET'), (('sterling', 'ADP'), ('sterling', 'NOUN'))],\n",
       " [('those', 'DET'), (('broadcasts', 'VERB'), ('broadcasts', 'NOUN'))],\n",
       " [('seeking', 'VERB'), (('foreign-stock', 'ADP'), ('foreign-stock', 'ADJ'))],\n",
       " [('be', 'VERB'), (('less', 'ADJ'), ('less', 'ADV'))],\n",
       " [('less', 'ADV'), (('resistant', 'ADP'), ('resistant', 'ADJ'))],\n",
       " [('funds', 'NOUN'), (('mirrors', 'ADP'), ('mirrors', 'VERB'))],\n",
       " [('fund', 'NOUN'), (('mania', 'ADP'), ('mania', 'NOUN'))],\n",
       " [('the', 'DET'), (('1920s', 'NUM'), ('1920s', 'NOUN'))],\n",
       " [('when', 'ADV'), (('narrowly', 'ADP'), ('narrowly', 'ADV'))],\n",
       " [('grew', 'VERB'), (('wildly', 'ADP'), ('wildly', 'ADV'))],\n",
       " [('who', 'PRON'), (('*T*-249', 'ADP'), ('*T*-249', 'X'))],\n",
       " [('reached', 'VERB'), (('*-155', 'ADP'), ('*-155', 'X'))],\n",
       " [('the', 'DET'), (('key', 'ADJ'), ('key', 'NOUN'))],\n",
       " [('must', 'VERB'), (('fundamentally', 'ADP'), ('fundamentally', 'ADV'))],\n",
       " [('fundamentally', 'ADV'), (('increase', 'NOUN'), ('increase', 'VERB'))],\n",
       " [('or', 'CONJ'), (('decrease', 'NOUN'), ('decrease', 'VERB'))],\n",
       " [('prices', 'NOUN'), (('move', 'NOUN'), ('move', 'VERB'))],\n",
       " [('officials', 'NOUN'), (('voice', 'NOUN'), ('voice', 'VERB'))],\n",
       " [(\"'s\", 'PRT'), (('enlarged', 'ADP'), ('enlarged', 'ADJ'))],\n",
       " [('also', 'ADV'), (('convey', 'ADP'), ('convey', 'VERB'))],\n",
       " [('an', 'DET'), (('undertone', 'ADP'), ('undertone', 'NOUN'))],\n",
       " [('the', 'DET'), (('doctor', 'ADP'), ('doctor', 'NOUN'))],\n",
       " [('for', 'ADP'), (('upscale', 'ADJ'), ('upscale', 'NOUN'))],\n",
       " [('*-1', 'X'), (('demonstrating', 'ADP'), ('demonstrating', 'VERB'))],\n",
       " [('a', 'DET'), (('raw', 'ADP'), ('raw', 'ADJ'))],\n",
       " [('he', 'PRON'), (('possessed', 'ADP'), ('possessed', 'VERB'))],\n",
       " [('I', 'PRON'), (('sense', 'NOUN'), ('sense', 'VERB'))],\n",
       " [('are', 'VERB'), (('reluctant', 'ADP'), ('reluctant', 'ADJ'))],\n",
       " [('to', 'PRT'), (('stick', 'ADP'), ('stick', 'VERB'))],\n",
       " [('their', 'PRON'), (('necks', 'ADP'), ('necks', 'NOUN'))],\n",
       " [('necks', 'NOUN'), (('out', 'ADP'), ('out', 'PRT'))],\n",
       " [('come', 'VERB'), (('out', 'PRT'), ('out', 'ADP'))],\n",
       " [('Richard', 'NOUN'), (('Eakle', 'ADP'), ('Eakle', 'NOUN'))],\n",
       " [('of', 'ADP'), (('Eakle', 'ADP'), ('Eakle', 'NOUN'))],\n",
       " [('The', 'DET'), (('percent', 'ADP'), ('percent', 'NOUN'))],\n",
       " [('*-1', 'X'), (('justifying', 'ADP'), ('justifying', 'VERB'))],\n",
       " [('a', 'DET'), (('Traverse', 'ADP'), ('Traverse', 'NOUN'))],\n",
       " [('who', 'PRON'), (('*T*-103', 'ADP'), ('*T*-103', 'X'))],\n",
       " [('a', 'DET'), (('holding', 'NOUN'), ('holding', 'VERB'))],\n",
       " [('Mr.', 'NOUN'), (('Gartner', 'ADP'), ('Gartner', 'NOUN'))],\n",
       " [('Daily', 'NOUN'), (('Tribune', 'ADP'), ('Tribune', 'NOUN'))],\n",
       " [('in', 'ADP'), (('Ames', 'ADP'), ('Ames', 'NOUN'))],\n",
       " [('taken', 'VERB'), (('off', 'PRT'), ('off', 'ADV'))],\n",
       " [('of', 'ADP'), (('home-market', 'ADP'), ('home-market', 'ADJ'))],\n",
       " [('home-market', 'ADJ'), (('stock-index', 'ADJ'), ('stock-index', 'NOUN'))],\n",
       " [('and', 'CONJ'), (('Osaka', 'ADP'), ('Osaka', 'NOUN'))],\n",
       " [('reported', 'VERB'), (('declines', 'VERB'), ('declines', 'NOUN'))],\n",
       " [('in', 'ADP'), (('stock-index', 'ADJ'), ('stock-index', 'NOUN'))],\n",
       " [('.', '.'), (('Spreads', 'ADP'), ('Spreads', 'NOUN'))],\n",
       " [('so', 'ADV'), (('tight', 'ADJ'), ('tight', 'ADV'))],\n",
       " [(\"n't\", 'ADV'), (('matter', 'NOUN'), ('matter', 'VERB'))],\n",
       " [('any', 'DET'), (('temporary', 'ADP'), ('temporary', 'ADJ'))],\n",
       " [('*EXP*-1', 'X'), ((\"'s\", 'PRT'), (\"'s\", 'VERB'))],\n",
       " [('also', 'ADV'), (('refreshing', 'ADP'), ('refreshing', 'VERB'))],\n",
       " [('the', 'DET'),\n",
       "  (('self-aggrandizing', 'ADP'), ('self-aggrandizing', 'ADJ'))],\n",
       " [('``', '.'), (('we-Japanese', 'ADP'), ('we-Japanese', 'ADJ'))],\n",
       " [('*T*-53', 'X'), (('perpetuate', 'ADP'), ('perpetuate', 'VERB'))],\n",
       " [('the', 'DET'), (('unique', 'ADP'), ('unique', 'ADJ'))],\n",
       " [('unique', 'ADJ'), (('Japanese', 'ADJ'), ('Japanese', 'NOUN'))],\n",
       " [(',', '.'), (('unfathomable', 'ADP'), ('unfathomable', 'ADJ'))],\n",
       " [('by', 'ADP'), (('outsiders', 'ADP'), ('outsiders', 'NOUN'))],\n",
       " [('to', 'PRT'), (('scrape', 'ADP'), ('scrape', 'VERB'))],\n",
       " [('retired', 'VERB'),\n",
       "  (('water-authority', 'ADP'), ('water-authority', 'NOUN'))],\n",
       " [('is', 'VERB'), (('payable', 'ADP'), ('payable', 'ADJ'))],\n",
       " [('payable', 'ADJ'), (('Jan.', 'ADP'), ('Jan.', 'NOUN'))],\n",
       " [('not', 'ADV'), (('there', 'DET'), ('there', 'ADV'))],\n",
       " [('*T*-1', 'X'), (('Cedric', 'ADP'), ('Cedric', 'NOUN'))],\n",
       " [('Wine', 'NOUN'), (('Cellar', 'ADP'), ('Cellar', 'NOUN'))],\n",
       " [('to', 'PRT'), (('repay', 'ADP'), ('repay', 'VERB'))],\n",
       " [('completely', 'ADV'), (('discharge', 'ADP'), ('discharge', 'VERB'))],\n",
       " [('are', 'VERB'), (('betting', 'ADP'), ('betting', 'VERB'))],\n",
       " [('programs', 'NOUN'), (('that', 'ADP'), ('that', 'DET'))],\n",
       " [('seem', 'VERB'), (('tailor-made', 'ADP'), ('tailor-made', 'ADJ'))],\n",
       " [('pressure', 'NOUN'), (('tactics', 'ADP'), ('tactics', 'NOUN'))],\n",
       " [('*', 'X'), (('Sit', 'ADP'), ('Sit', 'VERB'))],\n",
       " [('shareholders', 'NOUN'), (('cleared', 'ADP'), ('cleared', 'VERB'))],\n",
       " [('to', 'PRT'), (('cure', 'ADP'), ('cure', 'VERB'))],\n",
       " [('a', 'DET'), (('two-year-old', 'ADP'), ('two-year-old', 'ADJ'))],\n",
       " [('two-year-old', 'ADJ'), (('waif', 'ADP'), ('waif', 'NOUN'))],\n",
       " [('-LRB-', '.'), (('Nicole', 'ADP'), ('Nicole', 'NOUN'))],\n",
       " [('Nicole', 'NOUN'), (('Alysia', 'ADP'), ('Alysia', 'NOUN'))],\n",
       " [('by', 'ADP'), (('thugs', 'ADP'), ('thugs', 'NOUN'))],\n",
       " [('the', 'DET'), (('Underwoods', 'ADP'), ('Underwoods', 'NOUN'))],\n",
       " [('at', 'ADP'), (('closing', 'ADJ'), ('closing', 'NOUN'))],\n",
       " [('turn', 'VERB'), (('Southeast', 'ADJ'), ('Southeast', 'NOUN'))],\n",
       " [('a', 'DET'), (('more', 'ADJ'), ('more', 'ADV'))],\n",
       " [('more', 'ADV'), (('cohesive', 'ADP'), ('cohesive', 'ADJ'))],\n",
       " [(\"'s\", 'PRT'),\n",
       "  (('industrial-production', 'ADP'), ('industrial-production', 'ADJ'))],\n",
       " [('response', 'NOUN'), (('annoyed', 'ADP'), ('annoyed', 'VERB'))],\n",
       " [('the', 'DET'), (('congressman', 'ADP'), ('congressman', 'NOUN'))],\n",
       " [('snapped', 'VERB'), (('back', 'ADV'), ('back', 'PRT'))],\n",
       " [('been', 'VERB'), (('enough', 'ADV'), ('enough', 'ADJ'))],\n",
       " [('and', 'CONJ'), (('that', 'DET'), ('that', 'ADP'))],\n",
       " [('.', '.'), (('DISCOUNT', 'ADP'), ('DISCOUNT', 'NOUN'))],\n",
       " [('DISCOUNT', 'NOUN'), (('RATE', 'ADP'), ('RATE', 'NOUN'))],\n",
       " [('$', '.'), (('19.94', 'ADP'), ('19.94', 'NUM'))],\n",
       " [('learned', 'VERB'), (('that', 'ADP'), ('that', 'DET'))],\n",
       " [('in', 'ADP'), (('comparison', 'ADP'), ('comparison', 'NOUN'))],\n",
       " [('was', 'VERB'), (('riding', 'ADP'), ('riding', 'VERB'))],\n",
       " [('an', 'DET'), (('industrywide', 'ADP'), ('industrywide', 'ADJ'))],\n",
       " [('Bush', 'NOUN'), (('mode', 'ADP'), ('mode', 'NOUN'))],\n",
       " [(':', '.'), (('kind', 'NOUN'), ('kind', 'ADJ'))],\n",
       " [('and', 'CONJ'), (('gentle', 'ADP'), ('gentle', 'ADJ'))],\n",
       " [('*', 'X'), (('trading', 'NOUN'), ('trading', 'VERB'))],\n",
       " [('to', 'PRT'), (('acknowledge', 'ADP'), ('acknowledge', 'VERB'))],\n",
       " [('the', 'DET'), (('infusion', 'ADP'), ('infusion', 'NOUN'))],\n",
       " [('the', 'DET'), (('crystal-lattice', 'ADP'), ('crystal-lattice', 'ADJ'))],\n",
       " [('of', 'ADP'), (('current', 'ADJ'), ('current', 'NOUN'))],\n",
       " [('600,000', 'NUM'), (('amps', 'ADP'), ('amps', 'NOUN'))],\n",
       " [('square', 'ADJ'), (('centimeter', 'ADP'), ('centimeter', 'NOUN'))],\n",
       " [('will', 'VERB'), (('climb', 'ADP'), ('climb', 'VERB'))],\n",
       " [('from', 'ADP'), (('566.54', 'ADP'), ('566.54', 'NUM'))],\n",
       " [('from', 'ADP'), (('28.53', 'ADP'), ('28.53', 'NUM'))],\n",
       " [('bone', 'NOUN'), (('marrow', 'ADP'), ('marrow', 'NOUN'))],\n",
       " [('other', 'ADJ'), (('blood-cell', 'ADP'), ('blood-cell', 'NOUN'))],\n",
       " [('should', 'VERB'), (('veto', 'NOUN'), ('veto', 'VERB'))],\n",
       " [('appropriations', 'NOUN'), (('acts', 'VERB'), ('acts', 'NOUN'))],\n",
       " [('acts', 'NOUN'), (('that', 'ADP'), ('that', 'DET'))],\n",
       " [('to', 'PRT'), (('discharge', 'ADP'), ('discharge', 'VERB'))],\n",
       " [(\"'s\", 'PRT'), (('day-to-day', 'ADP'), ('day-to-day', 'ADJ'))],\n",
       " [('.', '.'), (('Herbert', 'ADP'), ('Herbert', 'NOUN'))],\n",
       " [('the', 'DET'), (('53-year-old', 'ADP'), ('53-year-old', 'ADJ'))],\n",
       " [('and', 'CONJ'), (('Edwin', 'ADP'), ('Edwin', 'NOUN'))],\n",
       " [('*-1', 'X'), (('dividing', 'ADP'), ('dividing', 'VERB'))],\n",
       " [('Japanese', 'ADJ'), (('dominance', 'ADP'), ('dominance', 'NOUN'))],\n",
       " [('was', 'VERB'), (('outrageous', 'ADP'), ('outrageous', 'ADJ'))],\n",
       " [('.', '.'), (('Altogether', 'ADP'), ('Altogether', 'ADV'))],\n",
       " [('eliminate', 'VERB'), (('266', 'ADP'), ('266', 'NUM'))],\n",
       " [(',', '.'), (('176', 'ADP'), ('176', 'NUM'))],\n",
       " [('expected', 'VERB'), (('*-68', 'ADP'), ('*-68', 'X'))],\n",
       " [('followed', 'VERB'), (('year-to-year', 'ADP'), ('year-to-year', 'ADJ'))],\n",
       " [('.', '.'), (('Syndicate', 'ADP'), ('Syndicate', 'NOUN'))],\n",
       " [('by', 'ADP'), (('up', 'ADV'), ('up', 'PRT'))],\n",
       " [('who', 'PRON'), (('*T*-196', 'ADP'), ('*T*-196', 'X'))],\n",
       " [('company', 'NOUN'), (('more', 'ADV'), ('more', 'ADJ'))],\n",
       " [('an', 'DET'), (('all-cash', 'ADP'), ('all-cash', 'ADJ'))],\n",
       " [(',', '.'), (('seven-year', 'ADP'), ('seven-year', 'ADJ'))],\n",
       " [('one', 'NUM'), (('offering', 'NOUN'), ('offering', 'VERB'))],\n",
       " [('--', '.'), (('offer', 'NOUN'), ('offer', 'VERB'))],\n",
       " [('.', '.'), (('Annualized', 'ADP'), ('Annualized', 'VERB'))],\n",
       " [('With', 'ADP'), (('lipsticks', 'ADP'), ('lipsticks', 'NOUN'))],\n",
       " [(',', '.'), (('liners', 'ADP'), ('liners', 'NOUN'))],\n",
       " [(',', '.'), (('lotions', 'ADP'), ('lotions', 'NOUN'))],\n",
       " [('and', 'CONJ'), (('creams', 'ADP'), ('creams', 'NOUN'))],\n",
       " [('beauty', 'NOUN'), (('plans', 'VERB'), ('plans', 'NOUN'))],\n",
       " [('to', 'PRT'), (('tackle', 'ADP'), ('tackle', 'VERB'))],\n",
       " [('seems', 'VERB'), (('That', 'DET'), ('That', 'ADP'))],\n",
       " [('I', 'PRON'), (('paint', 'ADP'), ('paint', 'VERB'))],\n",
       " [('should', 'VERB'), (('spackle', 'ADP'), ('spackle', 'VERB'))],\n",
       " [('the', 'DET'), (('Soviet', 'ADJ'), ('Soviet', 'NOUN'))],\n",
       " [('Ralston', 'NOUN'), (('Purina', 'ADP'), ('Purina', 'NOUN'))],\n",
       " [('costs', 'NOUN'), (('as', 'ADP'), ('as', 'ADV'))],\n",
       " [('a', 'DET'), (('more', 'ADJ'), ('more', 'ADV'))],\n",
       " [('The', 'DET'), (('morbidity', 'ADP'), ('morbidity', 'NOUN'))],\n",
       " [('who', 'PRON'), (('*T*-242', 'ADP'), ('*T*-242', 'X'))],\n",
       " [('*', 'X'), (('ordering', 'ADP'), ('ordering', 'VERB'))],\n",
       " [('``', '.'), (('Nor', 'ADP'), ('Nor', 'CONJ'))],\n",
       " [('to', 'PRT'), (('reprint', 'ADP'), ('reprint', 'VERB'))],\n",
       " [('to', 'PRT'), (('veto', 'NOUN'), ('veto', 'VERB'))],\n",
       " [('bills', 'NOUN'), (('containing', 'ADP'), ('containing', 'VERB'))],\n",
       " [(',', '.'), (('alternatively', 'ADP'), ('alternatively', 'ADV'))],\n",
       " [('to', 'PRT'), (('sign', 'NOUN'), ('sign', 'VERB'))],\n",
       " [('their', 'PRON'), (('intrusions', 'ADP'), ('intrusions', 'NOUN'))],\n",
       " [('thus', 'ADV'), (('void', 'ADP'), ('void', 'ADJ'))],\n",
       " [('effective', 'ADJ'), (('crook', 'ADP'), ('crook', 'NOUN'))],\n",
       " [('yourself', 'PRON'), (('out', 'PRT'), ('out', 'ADP'))],\n",
       " [('the', 'DET'), (('cold', 'ADJ'), ('cold', 'NOUN'))],\n",
       " [('fate', 'NOUN'), (('that', 'ADP'), ('that', 'DET'))],\n",
       " [('eventually', 'ADV'), (('befell', 'ADP'), ('befell', 'VERB'))],\n",
       " [(\"'s\", 'PRT'), (('semiliterate', 'ADP'), ('semiliterate', 'ADJ'))],\n",
       " [('one', 'NUM'), (('feature', 'ADP'), ('feature', 'NOUN'))],\n",
       " [('``', '.'), (('In', 'ADP'), ('In', 'NOUN'))],\n",
       " [('editors', 'NOUN'), (('point', 'NOUN'), ('point', 'VERB'))],\n",
       " [('they', 'PRON'), (('deem', 'ADP'), ('deem', 'VERB'))],\n",
       " [('to', 'PRT'), (('demobilize', 'ADP'), ('demobilize', 'VERB'))],\n",
       " [('be', 'VERB'), (('relaunched', 'ADP'), ('relaunched', 'VERB'))],\n",
       " [(',', '.'), (('as', 'ADP'), ('as', 'ADV'))],\n",
       " [('as', 'ADV'), (('early', 'ADJ'), ('early', 'ADV'))],\n",
       " [('Texas', 'NOUN'), (('Instruments', 'ADP'), ('Instruments', 'NOUN'))],\n",
       " [('Texas', 'NOUN'), (('Instruments', 'ADP'), ('Instruments', 'NOUN'))],\n",
       " [('300', 'NUM'), (('million-a-year', 'ADP'), ('million-a-year', 'ADJ'))],\n",
       " [('*T*-2', 'X'), (('Joel', 'ADP'), ('Joel', 'NOUN'))],\n",
       " [('Joel', 'NOUN'), (('Gross', 'ADP'), ('Gross', 'NOUN'))],\n",
       " [('``', '.'), (('So', 'ADV'), ('So', 'ADP'))],\n",
       " [('other', 'ADJ'), (('fixed-income', 'ADP'), ('fixed-income', 'ADJ'))],\n",
       " [('stepped', 'VERB'), (('down', 'ADV'), ('down', 'PRT'))],\n",
       " [('into', 'ADP'), (('chaos', 'ADP'), ('chaos', 'NOUN'))],\n",
       " [(\"'s\", 'PRT'), (('work', 'VERB'), ('work', 'NOUN'))],\n",
       " [('*', 'X'), (('Determining', 'ADP'), ('Determining', 'VERB'))],\n",
       " [('may', 'VERB'), (('enable', 'ADP'), ('enable', 'VERB'))],\n",
       " [('develop', 'VERB'), (('better', 'ADV'), ('better', 'ADJ'))],\n",
       " [('needed', 'VERB'),\n",
       "  (('crystal-lattice', 'ADP'), ('crystal-lattice', 'NOUN'))],\n",
       " [(',', '.'), (('gilt', 'ADP'), ('gilt', 'ADJ'))],\n",
       " [('plunged', 'VERB'), (('more', 'ADV'), ('more', 'ADJ'))],\n",
       " [('*-1', 'X'), (('recovering', 'ADP'), ('recovering', 'VERB'))],\n",
       " [('to', 'PRT'), (('report', 'NOUN'), ('report', 'VERB'))],\n",
       " [('Donald', 'NOUN'), (('Pardus', 'ADP'), ('Pardus', 'NOUN'))],\n",
       " [(',', '.'), (('controlled', 'ADJ'), ('controlled', 'VERB'))],\n",
       " [('already', 'ADV'), (('own', 'ADJ'), ('own', 'VERB'))],\n",
       " [('GMAC', 'NOUN'), (('screened', 'ADP'), ('screened', 'VERB'))],\n",
       " [('the', 'DET'), (('card-member', 'ADP'), ('card-member', 'NOUN'))],\n",
       " [('holders', 'NOUN'), (('more', 'ADV'), ('more', 'ADJ'))],\n",
       " [('household', 'NOUN'), (('incomes', 'ADP'), ('incomes', 'NOUN'))],\n",
       " [('``', '.'), (('missed', 'ADP'), ('missed', 'VERB'))],\n",
       " [('an', 'DET'), (('implicit', 'ADP'), ('implicit', 'ADJ'))],\n",
       " [('the', 'DET'), (('Japanese', 'ADJ'), ('Japanese', 'NOUN'))],\n",
       " [('Chairman', 'NOUN'), (('Theodore', 'ADP'), ('Theodore', 'NOUN'))],\n",
       " [('effective', 'ADJ'),\n",
       "  (('headcount-control', 'ADP'), ('headcount-control', 'NOUN'))],\n",
       " [('*-2', 'X'), (('Developed', 'ADP'), ('Developed', 'VERB'))],\n",
       " [('by', 'ADP'), (('Avrett', 'ADP'), ('Avrett', 'NOUN'))],\n",
       " [('&', 'CONJ'), (('Ginsberg', 'ADP'), ('Ginsberg', 'NOUN'))],\n",
       " [('campaign', 'NOUN'), (('pitches', 'ADP'), ('pitches', 'VERB'))],\n",
       " [(\"'s\", 'PRT'), (('consumer-driven', 'ADP'), ('consumer-driven', 'ADJ'))],\n",
       " [('free', 'ADJ'), (('pick-up', 'ADP'), ('pick-up', 'ADJ'))],\n",
       " [('and', 'CONJ'), (('drop-off', 'ADP'), ('drop-off', 'ADJ'))],\n",
       " [('*', 'X'), (('there', 'DET'), ('there', 'ADV'))],\n",
       " [('the', 'DET'), (('Constitutional', 'ADP'), ('Constitutional', 'NOUN'))],\n",
       " [('Constitutional', 'NOUN'), (('Convention', 'ADP'), ('Convention', 'NOUN'))],\n",
       " [('of', 'ADP'), (('1787', 'ADP'), ('1787', 'NUM'))],\n",
       " [('*-1', 'X'), (('sketching', 'ADP'), ('sketching', 'VERB'))],\n",
       " [('sketching', 'VERB'), (('passers-by', 'ADP'), ('passers-by', 'NOUN'))],\n",
       " [('.', '.'), (('Yet', 'CONJ'), ('Yet', 'ADV'))],\n",
       " [('Marie-Louise', 'NOUN'), (('Giraud', 'ADP'), ('Giraud', 'NOUN'))],\n",
       " [('historical', 'ADJ'), (('significance', 'ADP'), ('significance', 'NOUN'))],\n",
       " [(\"'s\", 'PRT'), (('hypocrisy', 'ADP'), ('hypocrisy', 'NOUN'))],\n",
       " [('are', 'VERB'), (('fond', 'ADP'), ('fond', 'ADJ'))],\n",
       " [('are', 'VERB'), (('blocked', 'ADP'), ('blocked', 'VERB'))],\n",
       " [('blocked', 'VERB'), (('*-159', 'ADP'), ('*-159', 'X'))],\n",
       " [('simply', 'ADV'), (('emigrate', 'ADP'), ('emigrate', 'VERB'))],\n",
       " [('.', '.'), (('Much', 'ADV'), ('Much', 'ADJ'))],\n",
       " [('``', '.'), (('migrate', 'ADP'), ('migrate', 'VERB'))],\n",
       " [(\"''\", '.'), (('predicts', 'ADP'), ('predicts', 'VERB'))],\n",
       " [('Jack', 'NOUN'), (('Lawless', 'ADP'), ('Lawless', 'NOUN'))],\n",
       " [('of', 'ADP'), (('US', 'ADP'), ('US', 'NOUN'))],\n",
       " [('US', 'NOUN'), (('Sprint', 'ADP'), ('Sprint', 'NOUN'))],\n",
       " [('*U*', 'X'), (('more', 'ADV'), ('more', 'ADJ'))],\n",
       " [('negotiate', 'VERB'), (('exclusively', 'ADP'), ('exclusively', 'ADV'))],\n",
       " [('its', 'PRON'), (('leasing', 'ADP'), ('leasing', 'NOUN'))],\n",
       " [('by', 'ADP'), (('growing', 'VERB'), ('growing', 'ADJ'))],\n",
       " [('Japanese', 'ADJ'), (('behavior', 'ADP'), ('behavior', 'NOUN'))],\n",
       " [('*-1', 'X'), (('buoyed', 'ADP'), ('buoyed', 'VERB'))],\n",
       " [('know', 'VERB'), (('better', 'ADV'), ('better', 'ADJ'))],\n",
       " [('$', '.'), (('434.4', 'ADP'), ('434.4', 'NUM'))],\n",
       " [('.', '.'), (('ACQUISITION', 'ADP'), ('ACQUISITION', 'NOUN'))],\n",
       " [('a', 'DET'), (('Sanford', 'ADP'), ('Sanford', 'NOUN'))],\n",
       " [('``', '.'), (('screwed', 'ADP'), ('screwed', 'VERB'))],\n",
       " [('screwed', 'VERB'), (('up', 'ADV'), ('up', 'PRT'))],\n",
       " [('was', 'VERB'), (('breaking', 'ADP'), ('breaking', 'VERB'))],\n",
       " [('Gary', 'NOUN'), (('Hoffman', 'ADP'), ('Hoffman', 'NOUN'))],\n",
       " [('lawyer', 'NOUN'), (('specializing', 'ADP'), ('specializing', 'VERB'))],\n",
       " [('U.S.', 'NOUN'), (('retaliation', 'ADP'), ('retaliation', 'NOUN'))],\n",
       " [('the', 'DET'), (('improvements', 'ADP'), ('improvements', 'NOUN'))],\n",
       " [('unit', 'NOUN'), (('that', 'ADP'), ('that', 'DET'))],\n",
       " [('that', 'DET'), (('*T*-108', 'ADP'), ('*T*-108', 'X'))],\n",
       " [('which', 'DET'), (('*T*-109', 'ADP'), ('*T*-109', 'X'))],\n",
       " [('*T*-109', 'X'), (('later', 'ADJ'), ('later', 'ADV'))],\n",
       " [('any', 'DET'), (('mininum-wage', 'ADP'), ('mininum-wage', 'NOUN'))],\n",
       " [('many', 'ADJ'), (('employers', 'ADP'), ('employers', 'NOUN'))],\n",
       " [('the', 'DET'), (('elimination', 'ADP'), ('elimination', 'NOUN'))],\n",
       " [('was', 'VERB'), (('3,288,453', 'ADP'), ('3,288,453', 'NUM'))],\n",
       " [('sharp', 'ADJ'), (('drops', 'ADP'), ('drops', 'NOUN'))],\n",
       " [(\"n't\", 'ADV'), (('there', 'DET'), ('there', 'ADV'))],\n",
       " [('you', 'PRON'), (('photocopy', 'ADP'), ('photocopy', 'VERB'))],\n",
       " [('less', 'ADJ'), (('parched', 'ADP'), ('parched', 'VERB'))],\n",
       " [('had', 'VERB'), (('little', 'ADV'), ('little', 'ADJ'))],\n",
       " [('production', 'NOUN'), (('profited', 'ADP'), ('profited', 'VERB'))],\n",
       " [('until', 'ADP'), (('midyear', 'ADP'), ('midyear', 'NOUN'))],\n",
       " [(',', '.'), (('down', 'ADV'), ('down', 'ADP'))],\n",
       " [('from', 'ADP'), (('176.1', 'ADP'), ('176.1', 'NUM'))],\n",
       " [('the', 'DET'), (('removal', 'ADP'), ('removal', 'NOUN'))],\n",
       " [('it', 'PRON'), (('perceives', 'ADP'), ('perceives', 'VERB'))],\n",
       " [('perceives', 'VERB'), (('*T*-183', 'ADP'), ('*T*-183', 'X'))],\n",
       " [('.', '.'), (('Areas', 'ADP'), ('Areas', 'NOUN'))],\n",
       " [('particularly', 'ADV'), (('dusty', 'ADP'), ('dusty', 'ADJ'))],\n",
       " [('.', '.'), (('But', 'CONJ'), ('But', 'ADP'))],\n",
       " [('of', 'ADP'), (('hostility', 'ADP'), ('hostility', 'NOUN'))],\n",
       " [('of', 'ADP'), (('mudslinging', 'ADP'), ('mudslinging', 'NOUN'))],\n",
       " [(',', '.'), (('empty', 'ADP'), ('empty', 'ADJ'))],\n",
       " [('is', 'VERB'), (('ushering', 'ADP'), ('ushering', 'VERB'))],\n",
       " [('without', 'ADP'), (('content', 'ADJ'), ('content', 'NOUN'))],\n",
       " [('of', 'ADP'), (('American', 'ADJ'), ('American', 'NOUN'))],\n",
       " [('rejected', 'VERB'), (('nominee', 'ADP'), ('nominee', 'NOUN'))],\n",
       " [('*-55', 'X'), (('funding', 'NOUN'), ('funding', 'VERB'))],\n",
       " [('pay', 'VERB'), (('that', 'ADP'), ('that', 'DET'))],\n",
       " [('of', 'ADP'), (('filter', 'ADP'), ('filter', 'NOUN'))],\n",
       " [('0', 'X'), (('maybe', 'ADP'), ('maybe', 'ADV'))],\n",
       " [('By', 'ADP'), (('comparison', 'ADP'), ('comparison', 'NOUN'))],\n",
       " [('$', '.'), (('492', 'ADP'), ('492', 'NUM'))],\n",
       " [('$', '.'), (('4.55', 'ADP'), ('4.55', 'NUM'))],\n",
       " [('$', '.'), (('12.97', 'ADP'), ('12.97', 'NUM'))],\n",
       " [('who', 'PRON'), (('*T*-95', 'ADP'), ('*T*-95', 'X'))],\n",
       " [('PRIME', 'NOUN'), (('RATE', 'ADP'), ('RATE', 'NOUN'))],\n",
       " [('of', 'ADP'), (('50\\\\/50', 'ADP'), ('50\\\\/50', 'NUM'))],\n",
       " [('the', 'DET'), (('races', 'ADP'), ('races', 'NOUN'))],\n",
       " [('their', 'PRON'), (('estimates', 'VERB'), ('estimates', 'NOUN'))],\n",
       " [('the', 'DET'), (('American', 'ADJ'), ('American', 'NOUN'))],\n",
       " [('$', '.'), (('5.8', 'ADP'), ('5.8', 'NUM'))],\n",
       " [('*EXP*-1', 'X'), ((\"'s\", 'PRT'), (\"'s\", 'VERB'))],\n",
       " [('a', 'DET'), (('17-year-old', 'ADP'), ('17-year-old', 'ADJ'))],\n",
       " [(\"n't\", 'ADV'), (('segmenting', 'ADP'), ('segmenting', 'VERB'))],\n",
       " [('.', '.'), (('Indexing', 'ADP'), ('Indexing', 'NOUN'))],\n",
       " [('stock-market', 'NOUN'), (('barometer', 'ADP'), ('barometer', 'NOUN'))],\n",
       " [('The', 'DET'), (('following', 'NOUN'), ('following', 'VERB'))],\n",
       " [('the', 'DET'), (('Spanish', 'ADP'), ('Spanish', 'NOUN'))],\n",
       " [('Spanish', 'NOUN'),\n",
       "  (('Renaissance-style', 'ADP'), ('Renaissance-style', 'ADJ'))],\n",
       " [('would', 'VERB'), (('like', 'ADP'), ('like', 'VERB'))],\n",
       " [('the', 'DET'), (('1980s', 'NOUN'), ('1980s', 'NUM'))],\n",
       " [('the', 'DET'), (('more', 'ADJ'), ('more', 'ADV'))],\n",
       " [('the', 'DET'), (('1990s', 'NOUN'), ('1990s', 'NUM'))]]"
      ]
     },
     "execution_count": 32,
     "metadata": {},
     "output_type": "execute_result"
    }
   ],
   "source": [
    "#Get the words in the test set which are incorrectly classified\n",
    "incorrect_tagged_cases = [[test_run_base[i-1],j] for i, j in enumerate(zip(tagged_seq, test_run_base)) if j[0]!=j[1]]\n",
    "incorrect_tagged_cases"
   ]
  },
  {
   "cell_type": "markdown",
   "metadata": {},
   "source": [
    "Most of the words which are not present in training set are simply assigned the first pos tag in the training pos tagset\n",
    "\n",
    "Let us do the analysis on the test file which we read before"
   ]
  },
  {
   "cell_type": "code",
   "execution_count": 33,
   "metadata": {},
   "outputs": [
    {
     "data": {
      "text/plain": [
       "[('Android', 'ADP'),\n",
       " ('is', 'VERB'),\n",
       " ('a', 'DET'),\n",
       " ('mobile', 'ADJ'),\n",
       " ('operating', 'NOUN'),\n",
       " ('system', 'NOUN'),\n",
       " ('developed', 'VERB'),\n",
       " ('by', 'ADP'),\n",
       " ('Google', 'ADP'),\n",
       " ('.', '.'),\n",
       " ('Android', 'ADP'),\n",
       " ('has', 'VERB'),\n",
       " ('been', 'VERB'),\n",
       " ('the', 'DET'),\n",
       " ('best-selling', 'ADJ'),\n",
       " ('OS', 'ADP'),\n",
       " ('worldwide', 'ADP'),\n",
       " ('on', 'ADP'),\n",
       " ('smartphones', 'ADP'),\n",
       " ('since', 'ADP'),\n",
       " ('2011', 'ADP'),\n",
       " ('and', 'CONJ'),\n",
       " ('on', 'ADP'),\n",
       " ('tablets', 'NOUN'),\n",
       " ('since', 'ADP'),\n",
       " ('2013', 'ADP'),\n",
       " ('.', '.'),\n",
       " ('Google', 'ADP'),\n",
       " ('and', 'CONJ'),\n",
       " ('Twitter', 'ADP'),\n",
       " ('made', 'VERB'),\n",
       " ('a', 'DET'),\n",
       " ('deal', 'NOUN'),\n",
       " ('in', 'ADP'),\n",
       " ('2015', 'ADP'),\n",
       " ('that', 'DET'),\n",
       " ('gave', 'VERB'),\n",
       " ('Google', 'ADP'),\n",
       " ('access', 'NOUN'),\n",
       " ('to', 'PRT'),\n",
       " ('Twitter', 'ADP'),\n",
       " (\"'s\", 'PRT'),\n",
       " ('firehose', 'ADP'),\n",
       " ('.', '.'),\n",
       " ('Twitter', 'ADP'),\n",
       " ('is', 'VERB'),\n",
       " ('an', 'DET'),\n",
       " ('online', 'ADP'),\n",
       " ('news', 'NOUN'),\n",
       " ('and', 'CONJ'),\n",
       " ('social', 'ADJ'),\n",
       " ('networking', 'NOUN'),\n",
       " ('service', 'NOUN'),\n",
       " ('on', 'ADP'),\n",
       " ('which', 'DET'),\n",
       " ('users', 'NOUN'),\n",
       " ('post', 'NOUN'),\n",
       " ('and', 'CONJ'),\n",
       " ('interact', 'ADP'),\n",
       " ('with', 'ADP'),\n",
       " ('messages', 'ADP'),\n",
       " ('known', 'ADJ'),\n",
       " ('as', 'ADP'),\n",
       " ('tweets', 'ADP'),\n",
       " ('.', '.'),\n",
       " ('Before', 'ADP'),\n",
       " ('entering', 'VERB'),\n",
       " ('politics', 'NOUN'),\n",
       " (',', '.'),\n",
       " ('Donald', 'NOUN'),\n",
       " ('Trump', 'NOUN'),\n",
       " ('was', 'VERB'),\n",
       " ('a', 'DET'),\n",
       " ('domineering', 'ADP'),\n",
       " ('businessman', 'NOUN'),\n",
       " ('and', 'CONJ'),\n",
       " ('a', 'DET'),\n",
       " ('television', 'NOUN'),\n",
       " ('personality', 'ADP'),\n",
       " ('.', '.'),\n",
       " ('The', 'DET'),\n",
       " ('2018', 'ADP'),\n",
       " ('FIFA', 'ADP'),\n",
       " ('World', 'NOUN'),\n",
       " ('Cup', 'ADP'),\n",
       " ('is', 'VERB'),\n",
       " ('the', 'DET'),\n",
       " ('21st', 'ADP'),\n",
       " ('FIFA', 'ADP'),\n",
       " ('World', 'NOUN'),\n",
       " ('Cup', 'ADP'),\n",
       " (',', '.'),\n",
       " ('an', 'DET'),\n",
       " ('international', 'ADJ'),\n",
       " ('football', 'NOUN'),\n",
       " ('tournament', 'ADP'),\n",
       " ('contested', 'ADP'),\n",
       " ('once', 'ADV'),\n",
       " ('every', 'DET'),\n",
       " ('four', 'NUM'),\n",
       " ('years', 'NOUN'),\n",
       " ('.', '.'),\n",
       " ('This', 'DET'),\n",
       " ('is', 'VERB'),\n",
       " ('the', 'DET'),\n",
       " ('first', 'ADJ'),\n",
       " ('World', 'NOUN'),\n",
       " ('Cup', 'ADP'),\n",
       " ('to', 'PRT'),\n",
       " ('be', 'VERB'),\n",
       " ('held', 'VERB'),\n",
       " ('in', 'ADP'),\n",
       " ('Eastern', 'NOUN'),\n",
       " ('Europe', 'NOUN'),\n",
       " ('and', 'CONJ'),\n",
       " ('the', 'DET'),\n",
       " ('11th', 'ADJ'),\n",
       " ('time', 'NOUN'),\n",
       " ('that', 'ADP'),\n",
       " ('it', 'PRON'),\n",
       " ('has', 'VERB'),\n",
       " ('been', 'VERB'),\n",
       " ('held', 'VERB'),\n",
       " ('in', 'ADP'),\n",
       " ('Europe', 'NOUN'),\n",
       " ('.', '.'),\n",
       " ('Show', 'NOUN'),\n",
       " ('me', 'PRON'),\n",
       " ('the', 'DET'),\n",
       " ('cheapest', 'ADJ'),\n",
       " ('round', 'NOUN'),\n",
       " ('trips', 'ADP'),\n",
       " ('from', 'ADP'),\n",
       " ('Dallas', 'NOUN'),\n",
       " ('to', 'PRT'),\n",
       " ('Atlanta', 'NOUN'),\n",
       " ('I', 'PRON'),\n",
       " ('would', 'VERB'),\n",
       " ('like', 'ADP'),\n",
       " ('to', 'PRT'),\n",
       " ('see', 'VERB'),\n",
       " ('flights', 'NOUN'),\n",
       " ('from', 'ADP'),\n",
       " ('Denver', 'NOUN'),\n",
       " ('to', 'PRT'),\n",
       " ('Philadelphia', 'NOUN'),\n",
       " ('.', '.'),\n",
       " ('Show', 'NOUN'),\n",
       " ('me', 'PRON'),\n",
       " ('the', 'DET'),\n",
       " ('price', 'NOUN'),\n",
       " ('of', 'ADP'),\n",
       " ('the', 'DET'),\n",
       " ('flights', 'NOUN'),\n",
       " ('leaving', 'VERB'),\n",
       " ('Atlanta', 'NOUN'),\n",
       " ('at', 'ADP'),\n",
       " ('about', 'ADP'),\n",
       " ('3', 'NUM'),\n",
       " ('in', 'ADP'),\n",
       " ('the', 'DET'),\n",
       " ('afternoon', 'NOUN'),\n",
       " ('and', 'CONJ'),\n",
       " ('arriving', 'ADP'),\n",
       " ('in', 'ADP'),\n",
       " ('San', 'NOUN'),\n",
       " ('Francisco', 'NOUN'),\n",
       " ('.', '.'),\n",
       " ('NASA', 'ADP'),\n",
       " ('invited', 'ADP'),\n",
       " ('social', 'ADJ'),\n",
       " ('media', 'NOUN'),\n",
       " ('users', 'NOUN'),\n",
       " ('to', 'PRT'),\n",
       " ('experience', 'NOUN'),\n",
       " ('the', 'DET'),\n",
       " ('launch', 'NOUN'),\n",
       " ('of', 'ADP'),\n",
       " ('ICESAT-2', 'ADP'),\n",
       " ('Satellite', 'ADP'),\n",
       " ('.', '.')]"
      ]
     },
     "execution_count": 33,
     "metadata": {},
     "output_type": "execute_result"
    }
   ],
   "source": [
    "#Get the predictions on the test sentences\n",
    "sample_pred_list =[]\n",
    "for line in test_lines:\n",
    "    sample_pred_list=sample_pred_list+list(Viterbi(word_tokenize(line)))\n",
    "sample_pred_list"
   ]
  },
  {
   "cell_type": "markdown",
   "metadata": {},
   "source": [
    "For words like 'Android','Google' the first tag in the training pos tagset is given. Let us see if these words exist in the training corpus"
   ]
  },
  {
   "cell_type": "code",
   "execution_count": 34,
   "metadata": {},
   "outputs": [],
   "source": [
    "#Get the tokens in the test file\n",
    "sample_words=[tokens for line in test_lines for tokens in word_tokenize(line)]"
   ]
  },
  {
   "cell_type": "code",
   "execution_count": 35,
   "metadata": {},
   "outputs": [
    {
     "data": {
      "text/plain": [
       "['21st',\n",
       " 'domineering',\n",
       " 'firehose',\n",
       " '2011',\n",
       " 'tweets',\n",
       " 'Google',\n",
       " 'online',\n",
       " '2018',\n",
       " 'Satellite',\n",
       " 'invited',\n",
       " 'worldwide',\n",
       " 'OS',\n",
       " 'FIFA',\n",
       " 'interact',\n",
       " 'tournament',\n",
       " 'smartphones',\n",
       " 'NASA',\n",
       " 'Twitter',\n",
       " 'arriving',\n",
       " 'ICESAT-2',\n",
       " 'personality',\n",
       " '2015',\n",
       " '2013',\n",
       " 'messages',\n",
       " 'Cup',\n",
       " 'trips',\n",
       " 'Android',\n",
       " 'contested']"
      ]
     },
     "execution_count": 35,
     "metadata": {},
     "output_type": "execute_result"
    }
   ],
   "source": [
    "#Get the list of words which are present in test lines but not in the training corpus\n",
    "words_not_in_corpus = list(set(sample_words) - set(tokens))\n",
    "words_not_in_corpus"
   ]
  },
  {
   "cell_type": "markdown",
   "metadata": {},
   "source": [
    "Clearly the words like 'Google','Android','Fifa' are not present in the training set and they are all tagged default tags."
   ]
  },
  {
   "cell_type": "code",
   "execution_count": 36,
   "metadata": {},
   "outputs": [
    {
     "data": {
      "text/plain": [
       "[('Android', 'ADP'),\n",
       " ('Google', 'ADP'),\n",
       " ('Android', 'ADP'),\n",
       " ('OS', 'ADP'),\n",
       " ('worldwide', 'ADP'),\n",
       " ('smartphones', 'ADP'),\n",
       " ('2011', 'ADP'),\n",
       " ('2013', 'ADP'),\n",
       " ('Google', 'ADP'),\n",
       " ('Twitter', 'ADP'),\n",
       " ('2015', 'ADP'),\n",
       " ('Google', 'ADP'),\n",
       " ('Twitter', 'ADP'),\n",
       " ('firehose', 'ADP'),\n",
       " ('Twitter', 'ADP'),\n",
       " ('online', 'ADP'),\n",
       " ('interact', 'ADP'),\n",
       " ('messages', 'ADP'),\n",
       " ('tweets', 'ADP'),\n",
       " ('domineering', 'ADP'),\n",
       " ('personality', 'ADP'),\n",
       " ('2018', 'ADP'),\n",
       " ('FIFA', 'ADP'),\n",
       " ('Cup', 'ADP'),\n",
       " ('21st', 'ADP'),\n",
       " ('FIFA', 'ADP'),\n",
       " ('Cup', 'ADP'),\n",
       " ('tournament', 'ADP'),\n",
       " ('contested', 'ADP'),\n",
       " ('Cup', 'ADP'),\n",
       " ('trips', 'ADP'),\n",
       " ('arriving', 'ADP'),\n",
       " ('NASA', 'ADP'),\n",
       " ('invited', 'ADP'),\n",
       " ('ICESAT-2', 'ADP'),\n",
       " ('Satellite', 'ADP')]"
      ]
     },
     "execution_count": 36,
     "metadata": {},
     "output_type": "execute_result"
    }
   ],
   "source": [
    "#Get the tags predicted for unknown words\n",
    "[tup for tup in sample_pred_list for word in words_not_in_corpus if tup[0]==word ]"
   ]
  },
  {
   "cell_type": "code",
   "execution_count": 37,
   "metadata": {},
   "outputs": [
    {
     "data": {
      "text/plain": [
       "Counter({'ADP': 9369,\n",
       "         'NOUN': 27502,\n",
       "         '.': 11137,\n",
       "         'DET': 8294,\n",
       "         'VERB': 12889,\n",
       "         'NUM': 3366,\n",
       "         'X': 6274,\n",
       "         'ADJ': 6089,\n",
       "         'CONJ': 2168,\n",
       "         'ADV': 3020,\n",
       "         'PRON': 2596,\n",
       "         'PRT': 3070})"
      ]
     },
     "execution_count": 37,
     "metadata": {},
     "output_type": "execute_result"
    }
   ],
   "source": [
    "#Let us see the count of all tags in the training set\n",
    "from collections import Counter\n",
    "tag_counts = Counter(pair[1] for pair in train_tagged_words)\n",
    "tag_counts"
   ]
  },
  {
   "cell_type": "code",
   "execution_count": 38,
   "metadata": {},
   "outputs": [
    {
     "data": {
      "text/plain": [
       "[('NOUN', 27502), ('VERB', 12889), ('.', 11137), ('ADP', 9369), ('DET', 8294)]"
      ]
     },
     "execution_count": 38,
     "metadata": {},
     "output_type": "execute_result"
    }
   ],
   "source": [
    "# see most common tags can in the training corpus\n",
    "tag_counts.most_common(5)"
   ]
  },
  {
   "cell_type": "code",
   "execution_count": 39,
   "metadata": {},
   "outputs": [
    {
     "data": {
      "text/plain": [
       "Counter({'ADP': 325,\n",
       "         'ADJ': 27,\n",
       "         'DET': 9,\n",
       "         'NOUN': 25,\n",
       "         'PRT': 7,\n",
       "         'VERB': 11,\n",
       "         'ADV': 17,\n",
       "         '.': 1,\n",
       "         'NUM': 1,\n",
       "         'CONJ': 2})"
      ]
     },
     "execution_count": 39,
     "metadata": {},
     "output_type": "execute_result"
    }
   ],
   "source": [
    "#Lets see count of incorrectly classfied words for each tag\n",
    "wrong_tag_counts = Counter(pair[1][0][1] for pair in incorrect_tagged_cases)\n",
    "wrong_tag_counts"
   ]
  },
  {
   "cell_type": "code",
   "execution_count": 40,
   "metadata": {},
   "outputs": [
    {
     "name": "stdout",
     "output_type": "stream",
     "text": [
      "0.20738614322290325\n"
     ]
    },
    {
     "data": {
      "text/plain": [
       "[('recorded', 'VERB'),\n",
       " ('agreed', 'VERB'),\n",
       " ('filed', 'VERB'),\n",
       " ('issued', 'VERB'),\n",
       " ('tried', 'VERB'),\n",
       " ('judged', 'VERB'),\n",
       " ('died', 'VERB'),\n",
       " ('failed', 'VERB'),\n",
       " ('filed', 'VERB'),\n",
       " ('pressed', 'VERB'),\n",
       " ('expected', 'VERB'),\n",
       " ('implemented', 'VERB'),\n",
       " ('reduced', 'VERB'),\n",
       " ('totaled', 'VERB'),\n",
       " ('disclosed', 'VERB'),\n",
       " ('required', 'VERB'),\n",
       " ('estimated', 'VERB'),\n",
       " ('angered', 'VERB'),\n",
       " ('reported', 'VERB'),\n",
       " ('threatened', 'VERB')]"
      ]
     },
     "execution_count": 40,
     "metadata": {},
     "output_type": "execute_result"
    }
   ],
   "source": [
    "# Let us see the percentage of verbs which are classifed as 'verb which end with 'ed'\n",
    "verbs = [pair for pair in train_tagged_words if pair[1]=='VERB']\n",
    "ed_verbs = [pair for pair in verbs if pair[0].endswith('ed')]\n",
    "print(len(ed_verbs) / len(verbs))\n",
    "ed_verbs[:20]\n"
   ]
  },
  {
   "cell_type": "markdown",
   "metadata": {},
   "source": [
    "Around 20% of words which end with 'ed' are verbs. Though it is 20% it is high because this is universal tagset and Verbs contain all the forms of verbs"
   ]
  },
  {
   "cell_type": "code",
   "execution_count": 41,
   "metadata": {},
   "outputs": [
    {
     "name": "stdout",
     "output_type": "stream",
     "text": [
      "0.10861975327798898\n"
     ]
    },
    {
     "data": {
      "text/plain": [
       "[('inching', 'VERB'),\n",
       " ('raising', 'VERB'),\n",
       " ('stressing', 'VERB'),\n",
       " ('going', 'VERB'),\n",
       " ('falling', 'VERB'),\n",
       " ('seeking', 'VERB'),\n",
       " ('trying', 'VERB'),\n",
       " ('fundraising', 'VERB'),\n",
       " ('planning', 'VERB'),\n",
       " ('adjusting', 'VERB'),\n",
       " ('emerging', 'VERB'),\n",
       " ('affecting', 'VERB'),\n",
       " ('facing', 'VERB'),\n",
       " ('growing', 'VERB'),\n",
       " ('reducing', 'VERB'),\n",
       " ('stemming', 'VERB'),\n",
       " ('belonging', 'VERB'),\n",
       " ('according', 'VERB'),\n",
       " ('remaining', 'VERB'),\n",
       " ('obtaining', 'VERB')]"
      ]
     },
     "execution_count": 41,
     "metadata": {},
     "output_type": "execute_result"
    }
   ],
   "source": [
    "# Let us see the percentage of verbs which are classifed as 'verb which end with 'ing'\n",
    "verbs = [pair for pair in train_tagged_words if pair[1]=='VERB']\n",
    "ing_verbs = [pair for pair in verbs if pair[0].endswith('ing')]\n",
    "print(len(ing_verbs) / len(verbs))\n",
    "ing_verbs[:20]"
   ]
  },
  {
   "cell_type": "code",
   "execution_count": 42,
   "metadata": {},
   "outputs": [
    {
     "name": "stdout",
     "output_type": "stream",
     "text": [
      "6089\n",
      "4274\n",
      "0.7019214977828871\n"
     ]
    }
   ],
   "source": [
    "#Lets see percentage of Adjective tags followed by nouns\n",
    "# create a list of all tags (without the words)\n",
    "tags = [pair[1] for pair in train_tagged_words]\n",
    "\n",
    "# create a list of Adj tags\n",
    "adj_tags = [t for t in tags if t == 'ADJ']\n",
    "\n",
    "# create a list of (ADJ, Noun) tags\n",
    "adj_noun_tags = [(t, tags[index+1]) for index, t in enumerate(tags) \n",
    "              if t=='ADJ' and tags[index+1]=='NOUN']\n",
    "\n",
    "print(len(adj_tags))\n",
    "print(len(adj_noun_tags))\n",
    "print(len(adj_noun_tags) / len(adj_tags))"
   ]
  },
  {
   "cell_type": "markdown",
   "metadata": {},
   "source": [
    "Around 70% of adjectives are followed by Nouns"
   ]
  },
  {
   "cell_type": "code",
   "execution_count": 43,
   "metadata": {},
   "outputs": [
    {
     "name": "stdout",
     "output_type": "stream",
     "text": [
      "8294\n",
      "5299\n",
      "0.6388955871714492\n"
     ]
    }
   ],
   "source": [
    "#Lets see percentage of Determinent tags followed by nouns\n",
    "dt_tags = [t for t in tags if t == 'DET']\n",
    "dt_noun_tags = [(t, tags[index+1]) for index, t in enumerate(tags) \n",
    "              if t=='DET' and tags[index+1]=='NOUN']\n",
    "\n",
    "print(len(dt_tags))\n",
    "print(len(dt_noun_tags))\n",
    "print(len(dt_noun_tags) / len(dt_tags))"
   ]
  },
  {
   "cell_type": "markdown",
   "metadata": {},
   "source": [
    "Around 64% of determinants are followed by Nouns"
   ]
  },
  {
   "cell_type": "code",
   "execution_count": 44,
   "metadata": {},
   "outputs": [
    {
     "name": "stdout",
     "output_type": "stream",
     "text": [
      "3020\n",
      "1043\n",
      "0.34536423841059605\n"
     ]
    }
   ],
   "source": [
    "#Lets see percentage of Adverbs tags followed by Verbs\n",
    "adv_tags = [t for t in tags if t == 'ADV']\n",
    "adv_vb_tags = [(t, tags[index+1]) for index, t in enumerate(tags) \n",
    "              if t=='ADV' and tags[index+1]=='VERB']\n",
    "\n",
    "print(len(adv_tags))\n",
    "print(len(adv_vb_tags))\n",
    "print(len(adv_vb_tags) / len(adv_tags))"
   ]
  },
  {
   "cell_type": "markdown",
   "metadata": {},
   "source": [
    "Around 35% of adverbs are followed by verbs.\n"
   ]
  },
  {
   "cell_type": "markdown",
   "metadata": {},
   "source": [
    "Lets use the EDA done above and also grammar to build our rules for regex based tagger"
   ]
  },
  {
   "cell_type": "code",
   "execution_count": 45,
   "metadata": {},
   "outputs": [],
   "source": [
    "# specify patterns for tagging\n",
    "patterns = [\n",
    "    (r'.*ing$', 'VERB'),              # gerund\n",
    "    (r'.*ed$', 'VERB'),               # past tense verbs\n",
    "    (r'.*es$', 'VERB'),               # singular present verbs\n",
    "    (r'.*ould$', 'VERB'),              # modal verbs\n",
    "    (r'.*\\'s$', 'NOUN'),              # possessive nouns\n",
    "    (r'.*s$', 'NOUN'),                # plural nouns\n",
    "    (r'^-?[0-9]+(.[0-9]+)?$', 'NUM'), # cardinal numbers\n",
    "    (r'(The|the|A|a|An|an)$', 'DET'),   # articles or determinants\n",
    "    (r'.*able$', 'ADJ'),                # adjectives\n",
    "    (r'.*ness$', 'NOUN'),                # nouns formed from adjectives\n",
    "    (r'.*ly$', 'ADV'),                  # adverbs\n",
    "    (r'.*', 'NOUN')                    # nouns\n",
    "]"
   ]
  },
  {
   "cell_type": "code",
   "execution_count": 46,
   "metadata": {},
   "outputs": [
    {
     "data": {
      "text/plain": [
       "0.9498164014687882"
      ]
     },
     "execution_count": 46,
     "metadata": {},
     "output_type": "execute_result"
    }
   ],
   "source": [
    "#Unigram rule based tagger\n",
    "rule_based_tagger = nltk.RegexpTagger(patterns)\n",
    "\n",
    "# lexicon backed up by the rule-based tagger\n",
    "lexicon_tagger = nltk.UnigramTagger(train_set, backoff=rule_based_tagger)\n",
    "\n",
    "lexicon_tagger.evaluate(test_set)"
   ]
  },
  {
   "cell_type": "code",
   "execution_count": 47,
   "metadata": {},
   "outputs": [
    {
     "name": "stdout",
     "output_type": "stream",
     "text": [
      "The accuracy of the Bigram Tagger is :  92.47246022031824\n"
     ]
    }
   ],
   "source": [
    "#Bigram rule based tagger\n",
    "bi_tagger = nltk.BigramTagger(train_set, backoff=rule_based_tagger)\n",
    "\n",
    "bi_tagger.evaluate(test_set)\n",
    "\n",
    "accuracy_bi_tagger = bi_tagger.evaluate(test_set)\n",
    "print(\"The accuracy of the Bigram Tagger is : \", accuracy_bi_tagger*100)\n"
   ]
  },
  {
   "cell_type": "code",
   "execution_count": 48,
   "metadata": {},
   "outputs": [
    {
     "name": "stdout",
     "output_type": "stream",
     "text": [
      "The accuracy of the Trigram Tagger is - 86.65850673194615\n"
     ]
    }
   ],
   "source": [
    "#Trigram rule based tagger\n",
    "tri_tagger = nltk.TrigramTagger(train_set, backoff = rule_based_tagger)\n",
    "\n",
    "tri_tagger.evaluate(test_set)\n",
    "\n",
    "acc_tri_tagger = tri_tagger.evaluate(test_set)\n",
    "\n",
    "print(\"The accuracy of the Trigram Tagger is -\", acc_tri_tagger*100)\n"
   ]
  },
  {
   "cell_type": "markdown",
   "metadata": {},
   "source": [
    "For a Unigram lexicon tagger backed up by a rule based tagger the accuracy is around 95%. Let us improve it further by using N-gram taggers"
   ]
  },
  {
   "cell_type": "markdown",
   "metadata": {},
   "source": [
    "#### Evaluating tagging accuracy"
   ]
  },
  {
   "cell_type": "code",
   "execution_count": 49,
   "metadata": {},
   "outputs": [],
   "source": [
    "#Trigram tagger backed by Bigram backed by Unigram which is backed by rule based tagger\n",
    "t0 = nltk.RegexpTagger(patterns)\n",
    "t1 = nltk.UnigramTagger(train_set, backoff=t0)\n",
    "t2 = nltk.BigramTagger(train_set, backoff=t1)\n",
    "t3 = nltk.TrigramTagger(train_set, backoff=t2)"
   ]
  },
  {
   "cell_type": "markdown",
   "metadata": {},
   "source": [
    "Let us use Brill algorithm as a base algorithm backed by the tagger created above"
   ]
  },
  {
   "cell_type": "code",
   "execution_count": 50,
   "metadata": {},
   "outputs": [],
   "source": [
    "#Import libraries for brill\n",
    "import nltk.tag\n",
    "from nltk.tag import brill\n",
    "from nltk.tag.brill import *\n",
    "from nltk.tbl.template import Template\n",
    "from nltk.tag import BrillTaggerTrainer\n",
    "\n",
    "#Clear existing templates if any\n",
    "Template._cleartemplates()\n",
    "\n",
    "#Load the fntbl37 template\n",
    "templates = fntbl37()\n",
    " \n",
    "#Train the Brill model\n",
    "trainer = BrillTaggerTrainer(t3, templates)\n",
    "brill_tagger = trainer.train(train_set, max_rules=100, min_score=3)"
   ]
  },
  {
   "cell_type": "markdown",
   "metadata": {},
   "source": [
    "The state probabilities for unknown words become zero and hence the Viterbi algorithm updates the unknown words by default with the first tag in the training set."
   ]
  },
  {
   "cell_type": "markdown",
   "metadata": {},
   "source": [
    "Now lets modify the Viterbi algorithm such that when the state probabilities become zero it updates the tag based on the tagger we created above"
   ]
  },
  {
   "cell_type": "code",
   "execution_count": 51,
   "metadata": {},
   "outputs": [],
   "source": [
    "# Viterbi Heuristic\n",
    "def Viterbi_updated(words, train_bag = train_tagged_words):\n",
    "    state = []\n",
    "    T = list(set([pair[1] for pair in train_bag]))\n",
    "    \n",
    "    for key, word in enumerate(words):\n",
    "        #initialise list of probability column for a given observation\n",
    "        p = [] \n",
    "        for tag in T:\n",
    "            if key == 0:\n",
    "                transition_p = tags_df.loc['.', tag]\n",
    "            else:\n",
    "                transition_p = tags_df.loc[state[-1], tag]\n",
    "                \n",
    "            # compute emission and state probabilities\n",
    "            emission_p = word_given_tag(words[key], tag)[0]/word_given_tag(words[key], tag)[1]\n",
    "            state_probability = emission_p * transition_p    \n",
    "            p.append(state_probability)\n",
    "            \n",
    "        pmax = max(p)\n",
    "       \n",
    "        #Check if state probability is zero\n",
    "        if(pmax==0.0):\n",
    "            #If state probability is zero i.e if the word is unknown if updates the tag based on the brill tagger\n",
    "            state_max = brill_tagger.tag([word])[0][1]\n",
    "        else:\n",
    "            # getting state for which probability is maximum\n",
    "            state_max = T[p.index(pmax)] \n",
    "        state.append(state_max)\n",
    "    return list(zip(words, state))"
   ]
  },
  {
   "cell_type": "markdown",
   "metadata": {},
   "source": [
    "### Compare the tagging accuracies of the modifications with the vanilla Viterbi algorithm"
   ]
  },
  {
   "cell_type": "code",
   "execution_count": 52,
   "metadata": {},
   "outputs": [
    {
     "name": "stdout",
     "output_type": "stream",
     "text": [
      "905.3831629753113\n"
     ]
    }
   ],
   "source": [
    "# tagging the test sentences with the updated Viterbi algorithm\n",
    "start = time.time()\n",
    "updated_tagged_seq = Viterbi_updated(test_tagged_words)\n",
    "end = time.time()\n",
    "difference = end-start\n",
    "#Print total time taken to train the algorithm\n",
    "print(difference)"
   ]
  },
  {
   "cell_type": "code",
   "execution_count": 53,
   "metadata": {},
   "outputs": [
    {
     "data": {
      "text/plain": [
       "0.9530803753569972"
      ]
     },
     "execution_count": 53,
     "metadata": {},
     "output_type": "execute_result"
    }
   ],
   "source": [
    "# Calculate the accuracy for the updated Viterbi algorithm\n",
    "check = [i for i, j in zip(updated_tagged_seq, test_run_base) if i == j] \n",
    "accuracy = len(check)/len(updated_tagged_seq)\n",
    "accuracy"
   ]
  },
  {
   "cell_type": "markdown",
   "metadata": {},
   "source": [
    "Accuracy is increased much by the updated Viterbi algorithm"
   ]
  },
  {
   "cell_type": "markdown",
   "metadata": {},
   "source": [
    "### List down cases which were incorrectly tagged by original POS tagger and got corrected by your modifications"
   ]
  },
  {
   "cell_type": "code",
   "execution_count": 54,
   "metadata": {},
   "outputs": [
    {
     "name": "stdout",
     "output_type": "stream",
     "text": [
      "[('Android', 'ADP'), ('is', 'VERB'), ('a', 'DET'), ('mobile', 'ADJ'), ('operating', 'NOUN'), ('system', 'NOUN'), ('developed', 'VERB'), ('by', 'ADP'), ('Google', 'ADP'), ('.', '.')]\n",
      "[('Android', 'ADP'), ('has', 'VERB'), ('been', 'VERB'), ('the', 'DET'), ('best-selling', 'ADJ'), ('OS', 'ADP'), ('worldwide', 'ADP'), ('on', 'ADP'), ('smartphones', 'ADP'), ('since', 'ADP'), ('2011', 'ADP'), ('and', 'CONJ'), ('on', 'ADP'), ('tablets', 'NOUN'), ('since', 'ADP'), ('2013', 'ADP'), ('.', '.')]\n",
      "[('Google', 'ADP'), ('and', 'CONJ'), ('Twitter', 'ADP'), ('made', 'VERB'), ('a', 'DET'), ('deal', 'NOUN'), ('in', 'ADP'), ('2015', 'ADP'), ('that', 'DET'), ('gave', 'VERB'), ('Google', 'ADP'), ('access', 'NOUN'), ('to', 'PRT'), ('Twitter', 'ADP'), (\"'s\", 'PRT'), ('firehose', 'ADP'), ('.', '.')]\n",
      "[('Twitter', 'ADP'), ('is', 'VERB'), ('an', 'DET'), ('online', 'ADP'), ('news', 'NOUN'), ('and', 'CONJ'), ('social', 'ADJ'), ('networking', 'NOUN'), ('service', 'NOUN'), ('on', 'ADP'), ('which', 'DET'), ('users', 'NOUN'), ('post', 'NOUN'), ('and', 'CONJ'), ('interact', 'ADP'), ('with', 'ADP'), ('messages', 'ADP'), ('known', 'ADJ'), ('as', 'ADP'), ('tweets', 'ADP'), ('.', '.')]\n",
      "[('Before', 'ADP'), ('entering', 'VERB'), ('politics', 'NOUN'), (',', '.'), ('Donald', 'NOUN'), ('Trump', 'NOUN'), ('was', 'VERB'), ('a', 'DET'), ('domineering', 'ADP'), ('businessman', 'NOUN'), ('and', 'CONJ'), ('a', 'DET'), ('television', 'NOUN'), ('personality', 'ADP'), ('.', '.')]\n",
      "[('The', 'DET'), ('2018', 'ADP'), ('FIFA', 'ADP'), ('World', 'NOUN'), ('Cup', 'ADP'), ('is', 'VERB'), ('the', 'DET'), ('21st', 'ADP'), ('FIFA', 'ADP'), ('World', 'NOUN'), ('Cup', 'ADP'), (',', '.'), ('an', 'DET'), ('international', 'ADJ'), ('football', 'NOUN'), ('tournament', 'ADP'), ('contested', 'ADP'), ('once', 'ADV'), ('every', 'DET'), ('four', 'NUM'), ('years', 'NOUN'), ('.', '.')]\n",
      "[('This', 'DET'), ('is', 'VERB'), ('the', 'DET'), ('first', 'ADJ'), ('World', 'NOUN'), ('Cup', 'ADP'), ('to', 'PRT'), ('be', 'VERB'), ('held', 'VERB'), ('in', 'ADP'), ('Eastern', 'NOUN'), ('Europe', 'NOUN'), ('and', 'CONJ'), ('the', 'DET'), ('11th', 'ADJ'), ('time', 'NOUN'), ('that', 'ADP'), ('it', 'PRON'), ('has', 'VERB'), ('been', 'VERB'), ('held', 'VERB'), ('in', 'ADP'), ('Europe', 'NOUN'), ('.', '.')]\n",
      "[('Show', 'NOUN'), ('me', 'PRON'), ('the', 'DET'), ('cheapest', 'ADJ'), ('round', 'NOUN'), ('trips', 'ADP'), ('from', 'ADP'), ('Dallas', 'NOUN'), ('to', 'PRT'), ('Atlanta', 'NOUN')]\n",
      "[('I', 'PRON'), ('would', 'VERB'), ('like', 'ADP'), ('to', 'PRT'), ('see', 'VERB'), ('flights', 'NOUN'), ('from', 'ADP'), ('Denver', 'NOUN'), ('to', 'PRT'), ('Philadelphia', 'NOUN'), ('.', '.')]\n",
      "[('Show', 'NOUN'), ('me', 'PRON'), ('the', 'DET'), ('price', 'NOUN'), ('of', 'ADP'), ('the', 'DET'), ('flights', 'NOUN'), ('leaving', 'VERB'), ('Atlanta', 'NOUN'), ('at', 'ADP'), ('about', 'ADP'), ('3', 'NUM'), ('in', 'ADP'), ('the', 'DET'), ('afternoon', 'NOUN'), ('and', 'CONJ'), ('arriving', 'ADP'), ('in', 'ADP'), ('San', 'NOUN'), ('Francisco', 'NOUN'), ('.', '.')]\n",
      "[('NASA', 'ADP'), ('invited', 'ADP'), ('social', 'ADJ'), ('media', 'NOUN'), ('users', 'NOUN'), ('to', 'PRT'), ('experience', 'NOUN'), ('the', 'DET'), ('launch', 'NOUN'), ('of', 'ADP'), ('ICESAT-2', 'ADP'), ('Satellite', 'ADP'), ('.', '.')]\n"
     ]
    }
   ],
   "source": [
    "#Let us print the test lines with the initial Viterbi algorithm\n",
    "for line in test_lines:\n",
    "    print(list(Viterbi(word_tokenize(line))))"
   ]
  },
  {
   "cell_type": "code",
   "execution_count": 55,
   "metadata": {},
   "outputs": [
    {
     "name": "stdout",
     "output_type": "stream",
     "text": [
      "[('Android', 'NOUN'), ('is', 'VERB'), ('a', 'DET'), ('mobile', 'ADJ'), ('operating', 'NOUN'), ('system', 'NOUN'), ('developed', 'VERB'), ('by', 'ADP'), ('Google', 'NOUN'), ('.', '.')]\n",
      "[('Android', 'NOUN'), ('has', 'VERB'), ('been', 'VERB'), ('the', 'DET'), ('best-selling', 'ADJ'), ('OS', 'NOUN'), ('worldwide', 'NOUN'), ('on', 'ADP'), ('smartphones', 'VERB'), ('since', 'ADP'), ('2011', 'NUM'), ('and', 'CONJ'), ('on', 'ADP'), ('tablets', 'NOUN'), ('since', 'ADP'), ('2013', 'NUM'), ('.', '.')]\n",
      "[('Google', 'NOUN'), ('and', 'CONJ'), ('Twitter', 'NOUN'), ('made', 'VERB'), ('a', 'DET'), ('deal', 'NOUN'), ('in', 'ADP'), ('2015', 'NUM'), ('that', 'ADP'), ('gave', 'VERB'), ('Google', 'NOUN'), ('access', 'NOUN'), ('to', 'PRT'), ('Twitter', 'NOUN'), (\"'s\", 'PRT'), ('firehose', 'NOUN'), ('.', '.')]\n",
      "[('Twitter', 'NOUN'), ('is', 'VERB'), ('an', 'DET'), ('online', 'NOUN'), ('news', 'NOUN'), ('and', 'CONJ'), ('social', 'ADJ'), ('networking', 'NOUN'), ('service', 'NOUN'), ('on', 'ADP'), ('which', 'DET'), ('users', 'NOUN'), ('post', 'NOUN'), ('and', 'CONJ'), ('interact', 'NOUN'), ('with', 'ADP'), ('messages', 'VERB'), ('known', 'VERB'), ('as', 'ADP'), ('tweets', 'NOUN'), ('.', '.')]\n",
      "[('Before', 'ADP'), ('entering', 'VERB'), ('politics', 'NOUN'), (',', '.'), ('Donald', 'NOUN'), ('Trump', 'NOUN'), ('was', 'VERB'), ('a', 'DET'), ('domineering', 'VERB'), ('businessman', 'NOUN'), ('and', 'CONJ'), ('a', 'DET'), ('television', 'NOUN'), ('personality', 'NOUN'), ('.', '.')]\n",
      "[('The', 'DET'), ('2018', 'NUM'), ('FIFA', 'NOUN'), ('World', 'NOUN'), ('Cup', 'NOUN'), ('is', 'VERB'), ('the', 'DET'), ('21st', 'NOUN'), ('FIFA', 'NOUN'), ('World', 'NOUN'), ('Cup', 'NOUN'), (',', '.'), ('an', 'DET'), ('international', 'ADJ'), ('football', 'NOUN'), ('tournament', 'NOUN'), ('contested', 'VERB'), ('once', 'ADV'), ('every', 'DET'), ('four', 'NUM'), ('years', 'NOUN'), ('.', '.')]\n",
      "[('This', 'DET'), ('is', 'VERB'), ('the', 'DET'), ('first', 'ADJ'), ('World', 'NOUN'), ('Cup', 'NOUN'), ('to', 'PRT'), ('be', 'VERB'), ('held', 'VERB'), ('in', 'ADP'), ('Eastern', 'NOUN'), ('Europe', 'NOUN'), ('and', 'CONJ'), ('the', 'DET'), ('11th', 'ADJ'), ('time', 'NOUN'), ('that', 'ADP'), ('it', 'PRON'), ('has', 'VERB'), ('been', 'VERB'), ('held', 'VERB'), ('in', 'ADP'), ('Europe', 'NOUN'), ('.', '.')]\n",
      "[('Show', 'NOUN'), ('me', 'PRON'), ('the', 'DET'), ('cheapest', 'ADJ'), ('round', 'NOUN'), ('trips', 'NOUN'), ('from', 'ADP'), ('Dallas', 'NOUN'), ('to', 'PRT'), ('Atlanta', 'NOUN')]\n",
      "[('I', 'PRON'), ('would', 'VERB'), ('like', 'ADP'), ('to', 'PRT'), ('see', 'VERB'), ('flights', 'NOUN'), ('from', 'ADP'), ('Denver', 'NOUN'), ('to', 'PRT'), ('Philadelphia', 'NOUN'), ('.', '.')]\n",
      "[('Show', 'NOUN'), ('me', 'PRON'), ('the', 'DET'), ('price', 'NOUN'), ('of', 'ADP'), ('the', 'DET'), ('flights', 'NOUN'), ('leaving', 'VERB'), ('Atlanta', 'NOUN'), ('at', 'ADP'), ('about', 'ADP'), ('3', 'NUM'), ('in', 'ADP'), ('the', 'DET'), ('afternoon', 'NOUN'), ('and', 'CONJ'), ('arriving', 'VERB'), ('in', 'ADP'), ('San', 'NOUN'), ('Francisco', 'NOUN'), ('.', '.')]\n",
      "[('NASA', 'NOUN'), ('invited', 'VERB'), ('social', 'ADJ'), ('media', 'NOUN'), ('users', 'NOUN'), ('to', 'PRT'), ('experience', 'NOUN'), ('the', 'DET'), ('launch', 'NOUN'), ('of', 'ADP'), ('ICESAT-2', 'NOUN'), ('Satellite', 'NOUN'), ('.', '.')]\n"
     ]
    }
   ],
   "source": [
    "#Let us print the test lines with the updated Viterbi algorithm\n",
    "for line in test_lines:\n",
    "    print(list(Viterbi_updated(word_tokenize(line))))"
   ]
  },
  {
   "cell_type": "markdown",
   "metadata": {},
   "source": [
    "The following sentences are corrected by the modified viterbi algorithm"
   ]
  },
  {
   "cell_type": "markdown",
   "metadata": {},
   "source": [
    "**'Android is a mobile operating system developed by Google.'**<br>\n",
    "Here 'Android', 'Google' are unknown words and are incorrectly tagged in the initial viterbi algorithm. However with the updated Viterbi algorithm 'Android' and 'Google' are correctly classified as Nouns though they are unknown words\n",
    "\n",
    "**'Android has been the best-selling OS worldwide on smartphones since 2011 and on tablets since 2013.'**<br>\n",
    "Here 'Android', 'Google',' worldwide' are unknown words and are incorrectly tagged in the initial viterbi algorithm. However with the updated Viterbi algorithm 'Android' and 'Google' are correctly classified as Nouns though they are unknown words.\n",
    "\n",
    "Also words like '2011' are incorrectly classified with the original algorithm. Because we used rule based tagger as backoff tagger and we have rule for indicating cardinal numbers '2011' is correctly tagged as 'NUM' in the updated viterbi algorithm\n",
    "\n",
    "**'NASA invited social media users to experience the launch of ICESAT-2 Satellite.'**<br>\n",
    "Here 'NASA', 'ICESAT-2',' Satellite' are unknown words and are incorrectly tagged in the initial viterbi algorithm. However with the updated Viterbi algorithm 'Android' and 'Google' are correctly classified as Nouns though they are unknown words.\n",
    "\n",
    "Also words like '2011' are incorrectly classified with the original algorithm. Because we used rule based tagger as backoff tagger and we have rule for indicating cardinal numbers '2011' is correctly tagged as 'NUM' in the updated viterbi algorithm"
   ]
  },
  {
   "cell_type": "code",
   "execution_count": 56,
   "metadata": {},
   "outputs": [],
   "source": [
    "# Viterbi Heuristic\n",
    "def Viterbi_updated2(words, train_bag = train_tagged_words):\n",
    "    state = []\n",
    "    T = list(set([pair[1] for pair in train_bag]))\n",
    "    \n",
    "    for key, word in enumerate(words):\n",
    "        #initialise list of probability column for a given observation\n",
    "        p = [] \n",
    "        for tag in T:\n",
    "            if key == 0:\n",
    "                transition_p = tags_df.loc['.', tag]\n",
    "            else:\n",
    "                transition_p = tags_df.loc[state[-1], tag]\n",
    "                \n",
    "            # compute emission and state probabilities\n",
    "            emission_p = word_given_tag(words[key], tag)[0]/word_given_tag(words[key], tag)[1]\n",
    "            state_probability = emission_p * transition_p    \n",
    "            p.append(state_probability)\n",
    "            \n",
    "        pmax = max(p)\n",
    "       \n",
    "        #Check if state probability is zero\n",
    "        if(pmax<0.001):\n",
    "            #If state probability is zero i.e if the word is unknown if updates the tag based on the brill tagger\n",
    "            state_max = brill_tagger.tag([word])[0][1]\n",
    "        else:\n",
    "            # getting state for which probability is maximum\n",
    "            state_max = T[p.index(pmax)] \n",
    "        state.append(state_max)\n",
    "    return list(zip(words, state))"
   ]
  },
  {
   "cell_type": "code",
   "execution_count": 57,
   "metadata": {},
   "outputs": [
    {
     "name": "stdout",
     "output_type": "stream",
     "text": [
      "913.8558928966522\n"
     ]
    }
   ],
   "source": [
    "# tagging the test sentences with the updated Viterbi algorithm\n",
    "start = time.time()\n",
    "updated_tagged_seq = Viterbi_updated2(test_tagged_words)\n",
    "end = time.time()\n",
    "difference = end-start\n",
    "#Print total time taken to train the algorithm\n",
    "print(difference)"
   ]
  },
  {
   "cell_type": "code",
   "execution_count": 58,
   "metadata": {},
   "outputs": [
    {
     "data": {
      "text/plain": [
       "0.9483884128926968"
      ]
     },
     "execution_count": 58,
     "metadata": {},
     "output_type": "execute_result"
    }
   ],
   "source": [
    "# Calculate the accuracy for the updated Viterbi algorithm\n",
    "check = [i for i, j in zip(updated_tagged_seq, test_run_base) if i == j] \n",
    "accuracy = len(check)/len(updated_tagged_seq)\n",
    "accuracy"
   ]
  },
  {
   "cell_type": "code",
   "execution_count": null,
   "metadata": {},
   "outputs": [],
   "source": []
  }
 ],
 "metadata": {
  "kernelspec": {
   "display_name": "Python 3",
   "language": "python",
   "name": "python3"
  },
  "language_info": {
   "codemirror_mode": {
    "name": "ipython",
    "version": 3
   },
   "file_extension": ".py",
   "mimetype": "text/x-python",
   "name": "python",
   "nbconvert_exporter": "python",
   "pygments_lexer": "ipython3",
   "version": "3.8.5"
  }
 },
 "nbformat": 4,
 "nbformat_minor": 2
}
