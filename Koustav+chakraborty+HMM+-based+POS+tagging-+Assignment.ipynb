{
 "cells": [
  {
   "cell_type": "markdown",
   "metadata": {},
   "source": [
    "## POS tagging using modified Viterbi \n",
    "####   Submitted by:- Koustav Chakraborty"
   ]
  },
  {
   "cell_type": "markdown",
   "metadata": {},
   "source": [
    "**Problem Statement**<br>\n",
    " The vanilla Viterbi algorithm we had written had resulted in ~87% accuracy. The approx. 13% loss of accuracy was majorly due to the fact that when the algorithm encountered an unknown word (i.e. not present in the training set, such as 'Twitter'), it assigned an incorrect tag arbitrarily. This is because, for unknown words, the emission probabilities for all candidate tags are 0, so the algorithm arbitrarily chooses (the first) tag.\n",
    "\n",
    "\n",
    "In this assignment, you need to modify the Viterbi algorithm to solve the problem of unknown words using at least two techniques. Though there could be multiple ways to solve this problem, you may use the following hints:\n",
    "\n",
    "Which tag class do you think most unknown words belong to? Can you identify rules (e.g. based on morphological cues) that can be used to tag unknown words? You may define separate python functions to exploit these rules so that they work in tandem with the original Viterbi algorithm.\n",
    "Why does the Viterbi algorithm choose a random tag on encountering an unknown word? Can you modify the Viterbi algorithm so that it considers only one of the transition or emission probabilities for unknown words?\n",
    " \n",
    "You have been given a 'test' file below containing some sample sentences with unknown words. Look at the sentences and try to observe rules which may be useful to tag unknown words. Your final model will be evaluated on a similar test file."
   ]
  },
  {
   "cell_type": "markdown",
   "metadata": {},
   "source": [
    "### Data Preparation"
   ]
  },
  {
   "cell_type": "markdown",
   "metadata": {},
   "source": [
    "#### Exploring Treebank Tagged Corpus"
   ]
  },
  {
   "cell_type": "code",
   "execution_count": 1,
   "metadata": {},
   "outputs": [],
   "source": [
    "#Importing libraries as required\n",
    "import nltk, re, pprint\n",
    "import numpy as np\n",
    "import pandas as pd\n",
    "import requests\n",
    "import matplotlib.pyplot as plt\n",
    "import seaborn as sns\n",
    "import pprint, time\n",
    "import random\n",
    "from sklearn.model_selection import train_test_split\n",
    "from nltk.tokenize import word_tokenize\n",
    "import codecs"
   ]
  },
  {
   "cell_type": "code",
   "execution_count": 2,
   "metadata": {},
   "outputs": [],
   "source": [
    "# reading the Treebank tagged sentences\n",
    "nltk_data = list(nltk.corpus.treebank.tagged_sents(tagset='universal'))"
   ]
  },
  {
   "cell_type": "code",
   "execution_count": 3,
   "metadata": {},
   "outputs": [
    {
     "data": {
      "text/plain": [
       "[[('Pierre', 'NOUN'),\n",
       "  ('Vinken', 'NOUN'),\n",
       "  (',', '.'),\n",
       "  ('61', 'NUM'),\n",
       "  ('years', 'NOUN'),\n",
       "  ('old', 'ADJ'),\n",
       "  (',', '.'),\n",
       "  ('will', 'VERB'),\n",
       "  ('join', 'VERB'),\n",
       "  ('the', 'DET'),\n",
       "  ('board', 'NOUN'),\n",
       "  ('as', 'ADP'),\n",
       "  ('a', 'DET'),\n",
       "  ('nonexecutive', 'ADJ'),\n",
       "  ('director', 'NOUN'),\n",
       "  ('Nov.', 'NOUN'),\n",
       "  ('29', 'NUM'),\n",
       "  ('.', '.')],\n",
       " [('Mr.', 'NOUN'),\n",
       "  ('Vinken', 'NOUN'),\n",
       "  ('is', 'VERB'),\n",
       "  ('chairman', 'NOUN'),\n",
       "  ('of', 'ADP'),\n",
       "  ('Elsevier', 'NOUN'),\n",
       "  ('N.V.', 'NOUN'),\n",
       "  (',', '.'),\n",
       "  ('the', 'DET'),\n",
       "  ('Dutch', 'NOUN'),\n",
       "  ('publishing', 'VERB'),\n",
       "  ('group', 'NOUN'),\n",
       "  ('.', '.')],\n",
       " [('Rudolph', 'NOUN'),\n",
       "  ('Agnew', 'NOUN'),\n",
       "  (',', '.'),\n",
       "  ('55', 'NUM'),\n",
       "  ('years', 'NOUN'),\n",
       "  ('old', 'ADJ'),\n",
       "  ('and', 'CONJ'),\n",
       "  ('former', 'ADJ'),\n",
       "  ('chairman', 'NOUN'),\n",
       "  ('of', 'ADP'),\n",
       "  ('Consolidated', 'NOUN'),\n",
       "  ('Gold', 'NOUN'),\n",
       "  ('Fields', 'NOUN'),\n",
       "  ('PLC', 'NOUN'),\n",
       "  (',', '.'),\n",
       "  ('was', 'VERB'),\n",
       "  ('named', 'VERB'),\n",
       "  ('*-1', 'X'),\n",
       "  ('a', 'DET'),\n",
       "  ('nonexecutive', 'ADJ'),\n",
       "  ('director', 'NOUN'),\n",
       "  ('of', 'ADP'),\n",
       "  ('this', 'DET'),\n",
       "  ('British', 'ADJ'),\n",
       "  ('industrial', 'ADJ'),\n",
       "  ('conglomerate', 'NOUN'),\n",
       "  ('.', '.')],\n",
       " [('A', 'DET'),\n",
       "  ('form', 'NOUN'),\n",
       "  ('of', 'ADP'),\n",
       "  ('asbestos', 'NOUN'),\n",
       "  ('once', 'ADV'),\n",
       "  ('used', 'VERB'),\n",
       "  ('*', 'X'),\n",
       "  ('*', 'X'),\n",
       "  ('to', 'PRT'),\n",
       "  ('make', 'VERB'),\n",
       "  ('Kent', 'NOUN'),\n",
       "  ('cigarette', 'NOUN'),\n",
       "  ('filters', 'NOUN'),\n",
       "  ('has', 'VERB'),\n",
       "  ('caused', 'VERB'),\n",
       "  ('a', 'DET'),\n",
       "  ('high', 'ADJ'),\n",
       "  ('percentage', 'NOUN'),\n",
       "  ('of', 'ADP'),\n",
       "  ('cancer', 'NOUN'),\n",
       "  ('deaths', 'NOUN'),\n",
       "  ('among', 'ADP'),\n",
       "  ('a', 'DET'),\n",
       "  ('group', 'NOUN'),\n",
       "  ('of', 'ADP'),\n",
       "  ('workers', 'NOUN'),\n",
       "  ('exposed', 'VERB'),\n",
       "  ('*', 'X'),\n",
       "  ('to', 'PRT'),\n",
       "  ('it', 'PRON'),\n",
       "  ('more', 'ADV'),\n",
       "  ('than', 'ADP'),\n",
       "  ('30', 'NUM'),\n",
       "  ('years', 'NOUN'),\n",
       "  ('ago', 'ADP'),\n",
       "  (',', '.'),\n",
       "  ('researchers', 'NOUN'),\n",
       "  ('reported', 'VERB'),\n",
       "  ('0', 'X'),\n",
       "  ('*T*-1', 'X'),\n",
       "  ('.', '.')],\n",
       " [('The', 'DET'),\n",
       "  ('asbestos', 'NOUN'),\n",
       "  ('fiber', 'NOUN'),\n",
       "  (',', '.'),\n",
       "  ('crocidolite', 'NOUN'),\n",
       "  (',', '.'),\n",
       "  ('is', 'VERB'),\n",
       "  ('unusually', 'ADV'),\n",
       "  ('resilient', 'ADJ'),\n",
       "  ('once', 'ADP'),\n",
       "  ('it', 'PRON'),\n",
       "  ('enters', 'VERB'),\n",
       "  ('the', 'DET'),\n",
       "  ('lungs', 'NOUN'),\n",
       "  (',', '.'),\n",
       "  ('with', 'ADP'),\n",
       "  ('even', 'ADV'),\n",
       "  ('brief', 'ADJ'),\n",
       "  ('exposures', 'NOUN'),\n",
       "  ('to', 'PRT'),\n",
       "  ('it', 'PRON'),\n",
       "  ('causing', 'VERB'),\n",
       "  ('symptoms', 'NOUN'),\n",
       "  ('that', 'DET'),\n",
       "  ('*T*-1', 'X'),\n",
       "  ('show', 'VERB'),\n",
       "  ('up', 'PRT'),\n",
       "  ('decades', 'NOUN'),\n",
       "  ('later', 'ADJ'),\n",
       "  (',', '.'),\n",
       "  ('researchers', 'NOUN'),\n",
       "  ('said', 'VERB'),\n",
       "  ('0', 'X'),\n",
       "  ('*T*-2', 'X'),\n",
       "  ('.', '.')]]"
      ]
     },
     "execution_count": 3,
     "metadata": {},
     "output_type": "execute_result"
    }
   ],
   "source": [
    "#First five tagged sentences in the dataset\n",
    "nltk_data[:5]\n"
   ]
  },
  {
   "cell_type": "code",
   "execution_count": 4,
   "metadata": {},
   "outputs": [
    {
     "name": "stdout",
     "output_type": "stream",
     "text": [
      "3718\n",
      "196\n"
     ]
    }
   ],
   "source": [
    "#Now setting the random seed\n",
    "random.seed(1234)\n",
    "\n",
    "#Splitting into train and test\n",
    "train_set, test_set = train_test_split(nltk_data,train_size=0.95) # as mentioned in the question to use 95:5 ratio for train and test.\n",
    "\n",
    "#Get the length of training and test sets\n",
    "print(len(train_set))\n",
    "print(len(test_set))"
   ]
  },
  {
   "cell_type": "code",
   "execution_count": 5,
   "metadata": {},
   "outputs": [
    {
     "name": "stdout",
     "output_type": "stream",
     "text": [
      "[[('The', 'DET'), ('funding', 'NOUN'), ('mechanism', 'NOUN'), (',', '.'), ('which', 'DET'), ('*T*-80', 'X'), ('has', 'VERB'), ('received', 'VERB'), ('congressional', 'ADJ'), ('approval', 'NOUN'), ('and', 'CONJ'), ('is', 'VERB'), ('expected', 'VERB'), ('*-1', 'X'), ('to', 'PRT'), ('be', 'VERB'), ('signed', 'VERB'), ('*-83', 'X'), ('by', 'ADP'), ('President', 'NOUN'), ('Bush', 'NOUN'), (',', '.'), ('would', 'VERB'), ('affect', 'VERB'), ('the', 'DET'), ('antitrust', 'ADJ'), ('operations', 'NOUN'), ('of', 'ADP'), ('the', 'DET'), ('Justice', 'NOUN'), ('Department', 'NOUN'), ('and', 'CONJ'), ('the', 'DET'), ('Federal', 'NOUN'), ('Trade', 'NOUN'), ('Commission', 'NOUN'), ('.', '.')], [('A', 'DET'), ('White', 'NOUN'), ('House', 'NOUN'), ('spokesman', 'NOUN'), ('said', 'VERB'), ('last', 'ADJ'), ('week', 'NOUN'), ('that', 'ADP'), ('the', 'DET'), ('president', 'NOUN'), ('is', 'VERB'), ('considering', 'VERB'), ('*-1', 'X'), ('declaring', 'VERB'), ('that', 'ADP'), ('the', 'DET'), ('Constitution', 'NOUN'), ('implicitly', 'ADV'), ('gives', 'VERB'), ('him', 'PRON'), ('the', 'DET'), ('authority', 'NOUN'), ('for', 'ADP'), ('a', 'DET'), ('line-item', 'ADJ'), ('veto', 'NOUN'), ('*-2', 'X'), ('to', 'PRT'), ('provoke', 'VERB'), ('a', 'DET'), ('test', 'NOUN'), ('case', 'NOUN'), ('.', '.')], [('And', 'CONJ'), ('in', 'ADP'), ('the', 'DET'), ('Chicago', 'NOUN'), ('district', 'NOUN'), (',', '.'), ('the', 'DET'), ('report', 'NOUN'), ('said', 'VERB'), ('0', 'X'), ('*T*-1', 'X'), (',', '.'), ('``', '.'), ('a', 'DET'), ('manufacturer', 'NOUN'), ('of', 'ADP'), ('capital', 'NOUN'), ('goods', 'NOUN'), ('noted', 'VERB'), ('slower', 'ADJ'), ('orders', 'NOUN'), ('for', 'ADP'), ('some', 'DET'), ('types', 'NOUN'), (',', '.'), ('including', 'VERB'), ('defense', 'NOUN'), ('equipment', 'NOUN'), (',', '.'), ('petroleum', 'NOUN'), ('equipment', 'NOUN'), (',', '.'), ('food', 'NOUN'), ('packaging', 'NOUN'), ('machinery', 'NOUN'), ('and', 'CONJ'), ('material', 'NOUN'), ('handling', 'NOUN'), ('equipment', 'NOUN'), ('.', '.'), (\"''\", '.')], [('The', 'DET'), ('others', 'NOUN'), ('here', 'ADV'), ('today', 'NOUN'), ('live', 'VERB'), ('elsewhere', 'ADV'), ('.', '.')], [('Life', 'NOUN'), ('of', 'ADP'), ('Georgia', 'NOUN'), ('is', 'VERB'), ('part', 'NOUN'), ('of', 'ADP'), ('the', 'DET'), ('Nationale', 'NOUN'), ('Nederlanden', 'NOUN'), ('Group', 'NOUN'), (',', '.'), ('based', 'VERB'), ('*', 'X'), ('in', 'ADP'), ('the', 'DET'), ('Netherlands', 'NOUN'), ('.', '.')]]\n"
     ]
    }
   ],
   "source": [
    "print(train_set[:5])"
   ]
  },
  {
   "cell_type": "code",
   "execution_count": 6,
   "metadata": {},
   "outputs": [
    {
     "data": {
      "text/plain": [
       "95571"
      ]
     },
     "execution_count": 6,
     "metadata": {},
     "output_type": "execute_result"
    }
   ],
   "source": [
    "# To get list of tagged words in training set\n",
    "train_tagged_words = [tup for sent in train_set for tup in sent]\n",
    "#To get the length of the total tagged words in training set\n",
    "len(train_tagged_words)"
   ]
  },
  {
   "cell_type": "code",
   "execution_count": 7,
   "metadata": {},
   "outputs": [
    {
     "data": {
      "text/plain": [
       "['The',\n",
       " 'funding',\n",
       " 'mechanism',\n",
       " ',',\n",
       " 'which',\n",
       " '*T*-80',\n",
       " 'has',\n",
       " 'received',\n",
       " 'congressional',\n",
       " 'approval']"
      ]
     },
     "execution_count": 7,
     "metadata": {},
     "output_type": "execute_result"
    }
   ],
   "source": [
    "#Now let's see the first 10 tokens/words in the training set\n",
    "tokens = [pair[0] for pair in train_tagged_words]\n",
    "tokens[:10]"
   ]
  },
  {
   "cell_type": "code",
   "execution_count": 8,
   "metadata": {},
   "outputs": [
    {
     "name": "stdout",
     "output_type": "stream",
     "text": [
      "12112\n"
     ]
    }
   ],
   "source": [
    "# Vocabulary\n",
    "V = set(tokens)\n",
    "print(len(V))"
   ]
  },
  {
   "cell_type": "code",
   "execution_count": 9,
   "metadata": {},
   "outputs": [
    {
     "name": "stdout",
     "output_type": "stream",
     "text": [
      "12\n"
     ]
    }
   ],
   "source": [
    "# number of pos tags in the training corpus\n",
    "T = set([pair[1] for pair in train_tagged_words])\n",
    "print(len(T))"
   ]
  },
  {
   "cell_type": "code",
   "execution_count": 10,
   "metadata": {},
   "outputs": [
    {
     "name": "stdout",
     "output_type": "stream",
     "text": [
      "{'PRT', 'ADP', 'VERB', 'PRON', 'ADV', 'ADJ', 'DET', '.', 'NUM', 'X', 'NOUN', 'CONJ'}\n"
     ]
    }
   ],
   "source": [
    "print(T)"
   ]
  },
  {
   "cell_type": "markdown",
   "metadata": {},
   "source": [
    "We got expected outcome as there are 12 tags which are part of universal tagset"
   ]
  },
  {
   "cell_type": "markdown",
   "metadata": {},
   "source": [
    "### Build the vanilla Viterbi based POS tagger"
   ]
  },
  {
   "cell_type": "markdown",
   "metadata": {},
   "source": [
    "We'll use the HMM algorithm to tag the words. Given a sequence of words to be tagged, the task is to assign the most probable tag to the word.\n",
    "\n",
    "In other words, to every word w, assign the tag t that maximises the likelihood P(t/w). Since P(t/w) = P(w/t). P(t) / P(w), after ignoring P(w), we have to compute P(w/t) and P(t).\n",
    "\n",
    "P(w/t) is basically the probability that given a tag (say NN), what is the probability of it being w (say 'building'). This can be computed by computing the fraction of all NNs which are equal to w, i.e.\n",
    "\n",
    "P(w/t) = count(w, t) / count(t).\n",
    "\n",
    "The term P(t) is the probability of tag t, and in a tagging task, we assume that a tag will depend only on the previous tag. In other words, the probability of a tag being NN will depend only on the previous tag t(n-1). So for e.g. if t(n-1) is a JJ, then t(n) is likely to be an NN since adjectives often precede a noun (blue coat, tall building etc.).\n",
    "\n",
    "Given the penn treebank tagged dataset, we can compute the two terms P(w/t) and P(t) and store them in two large matrices. The matrix of P(w/t) will be sparse, since each word will not be seen with most tags ever, and those terms will thus be zero."
   ]
  },
  {
   "cell_type": "markdown",
   "metadata": {},
   "source": [
    "#### Emission Probabilities"
   ]
  },
  {
   "cell_type": "code",
   "execution_count": 11,
   "metadata": {},
   "outputs": [],
   "source": [
    "#Now let's Create numpy array of no of pos tags by total vocabulary\n",
    "t = len(T)\n",
    "v = len(V)\n",
    "w_given_t = np.zeros((t, v))"
   ]
  },
  {
   "cell_type": "code",
   "execution_count": 12,
   "metadata": {},
   "outputs": [],
   "source": [
    "# compute word given tag: Emission Probability\n",
    "def word_given_tag(word, tag, train_bag = train_tagged_words):\n",
    "    tag_list = [pair for pair in train_bag if pair[1]==tag]\n",
    "    count_tag = len(tag_list)\n",
    "    w_given_tag_list = [pair[0] for pair in tag_list if pair[0]==word]\n",
    "    count_w_given_tag = len(w_given_tag_list)\n",
    "    \n",
    "    return (count_w_given_tag, count_tag)"
   ]
  },
  {
   "cell_type": "markdown",
   "metadata": {},
   "source": [
    "#### Transition Probabilities"
   ]
  },
  {
   "cell_type": "code",
   "execution_count": 13,
   "metadata": {},
   "outputs": [],
   "source": [
    "# compute tag given tag: tag2(t2) given tag1 (t1), i.e. Transition Probability\n",
    "\n",
    "def t2_given_t1(t2, t1, train_bag = train_tagged_words):\n",
    "    tags = [pair[1] for pair in train_bag]\n",
    "    count_t1 = len([t for t in tags if t==t1])\n",
    "    count_t2_t1 = 0\n",
    "    for index in range(len(tags)-1):\n",
    "        if tags[index]==t1 and tags[index+1] == t2:\n",
    "            count_t2_t1 += 1\n",
    "    return (count_t2_t1, count_t1)"
   ]
  },
  {
   "cell_type": "code",
   "execution_count": 14,
   "metadata": {},
   "outputs": [],
   "source": [
    "# creating t x t (pos tags x pos tags)transition matrix of tags\n",
    "# each column is t2, each row is t1\n",
    "# thus M(i, j) represents P(tj given ti)\n",
    "\n",
    "tags_matrix = np.zeros((len(T), len(T)), dtype='float32')\n",
    "for i, t1 in enumerate(list(T)):\n",
    "    for j, t2 in enumerate(list(T)): \n",
    "        tags_matrix[i, j] = t2_given_t1(t2, t1)[0]/t2_given_t1(t2, t1)[1]"
   ]
  },
  {
   "cell_type": "code",
   "execution_count": 15,
   "metadata": {},
   "outputs": [
    {
     "data": {
      "text/plain": [
       "array([[1.64041994e-03, 2.09973752e-02, 4.01246727e-01, 1.77165363e-02,\n",
       "        1.04986876e-02, 8.46456662e-02, 9.97375324e-02, 4.42913398e-02,\n",
       "        5.61023615e-02, 1.31233595e-02, 2.48031497e-01, 1.96850393e-03],\n",
       "       [1.49444921e-03, 1.70794185e-02, 7.89923128e-03, 6.88514113e-02,\n",
       "        1.34500423e-02, 1.05572164e-01, 3.25362951e-01, 3.98163944e-02,\n",
       "        6.19128942e-02, 3.45858224e-02, 3.23228002e-01, 7.47224607e-04],\n",
       "       [3.07548922e-02, 9.13327113e-02, 1.69695556e-01, 3.53370607e-02,\n",
       "        8.06927606e-02, 6.58589602e-02, 1.33892506e-01, 3.49487402e-02,\n",
       "        2.27555148e-02, 2.18546137e-01, 1.10593349e-01, 5.59179857e-03],\n",
       "       [1.23552121e-02, 2.23938227e-02, 4.85714287e-01, 8.10810830e-03,\n",
       "        3.24324332e-02, 7.25868717e-02, 9.26640909e-03, 4.09266427e-02,\n",
       "        7.33590731e-03, 9.34362933e-02, 2.10038617e-01, 5.40540554e-03],\n",
       "       [1.37537736e-02, 1.18752100e-01, 3.45186174e-01, 1.44246900e-02,\n",
       "        7.81616941e-02, 1.30493119e-01, 6.77624941e-02, 1.36866823e-01,\n",
       "        3.01912110e-02, 2.41529681e-02, 3.28748748e-02, 7.38007389e-03],\n",
       "       [1.07260728e-02, 7.77227730e-02, 1.18811885e-02, 6.60066027e-04,\n",
       "        4.45544533e-03, 6.65016472e-02, 4.78547858e-03, 6.48514852e-02,\n",
       "        2.09570955e-02, 2.12871283e-02, 6.99009895e-01, 1.71617158e-02],\n",
       "       [2.42042835e-04, 9.68171377e-03, 3.96950245e-02, 3.50962114e-03,\n",
       "        1.27072493e-02, 2.04042122e-01, 5.56698535e-03, 1.76691283e-02,\n",
       "        2.16628350e-02, 4.58671190e-02, 6.38872087e-01, 4.84085671e-04],\n",
       "       [2.52047880e-03, 9.10072923e-02, 8.87568668e-02, 6.54424354e-02,\n",
       "        5.19398674e-02, 4.41983975e-02, 1.73192903e-01, 9.19074640e-02,\n",
       "        8.20055827e-02, 2.72751823e-02, 2.23872542e-01, 5.77909797e-02],\n",
       "       [2.64802147e-02, 3.48110683e-02, 1.78518295e-02, 1.48765254e-03,\n",
       "        2.97530508e-03, 3.24308239e-02, 3.57036595e-03, 1.16334423e-01,\n",
       "        1.85063973e-01, 2.12139249e-01, 3.53763759e-01, 1.30913416e-02],\n",
       "       [1.84419706e-01, 1.44992054e-01, 2.04928458e-01, 5.58028631e-02,\n",
       "        2.57551670e-02, 1.71701107e-02, 5.40540554e-02, 1.63910970e-01,\n",
       "        2.70270277e-03, 7.40858540e-02, 6.16852157e-02, 1.04928454e-02],\n",
       "       [4.39072326e-02, 1.76684752e-01, 1.46794334e-01, 4.73295245e-03,\n",
       "        1.68929994e-02, 1.21236397e-02, 1.29974149e-02, 2.39596605e-01,\n",
       "        9.61153395e-03, 2.87981946e-02, 2.65045315e-01, 4.28150147e-02],\n",
       "       [4.63392027e-03, 5.18999062e-02, 1.57553285e-01, 5.83873950e-02,\n",
       "        5.65338284e-02, 1.19555146e-01, 1.16774790e-01, 3.42910103e-02,\n",
       "        4.07784991e-02, 7.87766464e-03, 3.51251155e-01, 4.63392033e-04]],\n",
       "      dtype=float32)"
      ]
     },
     "execution_count": 15,
     "metadata": {},
     "output_type": "execute_result"
    }
   ],
   "source": [
    "tags_matrix"
   ]
  },
  {
   "cell_type": "code",
   "execution_count": 16,
   "metadata": {},
   "outputs": [],
   "source": [
    "# convert the matrix to a df for better readability\n",
    "tags_df = pd.DataFrame(tags_matrix, columns = list(T), index=list(T))"
   ]
  },
  {
   "cell_type": "code",
   "execution_count": 17,
   "metadata": {},
   "outputs": [
    {
     "data": {
      "text/html": [
       "<div>\n",
       "<style scoped>\n",
       "    .dataframe tbody tr th:only-of-type {\n",
       "        vertical-align: middle;\n",
       "    }\n",
       "\n",
       "    .dataframe tbody tr th {\n",
       "        vertical-align: top;\n",
       "    }\n",
       "\n",
       "    .dataframe thead th {\n",
       "        text-align: right;\n",
       "    }\n",
       "</style>\n",
       "<table border=\"1\" class=\"dataframe\">\n",
       "  <thead>\n",
       "    <tr style=\"text-align: right;\">\n",
       "      <th></th>\n",
       "      <th>PRT</th>\n",
       "      <th>ADP</th>\n",
       "      <th>VERB</th>\n",
       "      <th>PRON</th>\n",
       "      <th>ADV</th>\n",
       "      <th>ADJ</th>\n",
       "      <th>DET</th>\n",
       "      <th>.</th>\n",
       "      <th>NUM</th>\n",
       "      <th>X</th>\n",
       "      <th>NOUN</th>\n",
       "      <th>CONJ</th>\n",
       "    </tr>\n",
       "  </thead>\n",
       "  <tbody>\n",
       "    <tr>\n",
       "      <th>PRT</th>\n",
       "      <td>0.001640</td>\n",
       "      <td>0.020997</td>\n",
       "      <td>0.401247</td>\n",
       "      <td>0.017717</td>\n",
       "      <td>0.010499</td>\n",
       "      <td>0.084646</td>\n",
       "      <td>0.099738</td>\n",
       "      <td>0.044291</td>\n",
       "      <td>0.056102</td>\n",
       "      <td>0.013123</td>\n",
       "      <td>0.248031</td>\n",
       "      <td>0.001969</td>\n",
       "    </tr>\n",
       "    <tr>\n",
       "      <th>ADP</th>\n",
       "      <td>0.001494</td>\n",
       "      <td>0.017079</td>\n",
       "      <td>0.007899</td>\n",
       "      <td>0.068851</td>\n",
       "      <td>0.013450</td>\n",
       "      <td>0.105572</td>\n",
       "      <td>0.325363</td>\n",
       "      <td>0.039816</td>\n",
       "      <td>0.061913</td>\n",
       "      <td>0.034586</td>\n",
       "      <td>0.323228</td>\n",
       "      <td>0.000747</td>\n",
       "    </tr>\n",
       "    <tr>\n",
       "      <th>VERB</th>\n",
       "      <td>0.030755</td>\n",
       "      <td>0.091333</td>\n",
       "      <td>0.169696</td>\n",
       "      <td>0.035337</td>\n",
       "      <td>0.080693</td>\n",
       "      <td>0.065859</td>\n",
       "      <td>0.133893</td>\n",
       "      <td>0.034949</td>\n",
       "      <td>0.022756</td>\n",
       "      <td>0.218546</td>\n",
       "      <td>0.110593</td>\n",
       "      <td>0.005592</td>\n",
       "    </tr>\n",
       "    <tr>\n",
       "      <th>PRON</th>\n",
       "      <td>0.012355</td>\n",
       "      <td>0.022394</td>\n",
       "      <td>0.485714</td>\n",
       "      <td>0.008108</td>\n",
       "      <td>0.032432</td>\n",
       "      <td>0.072587</td>\n",
       "      <td>0.009266</td>\n",
       "      <td>0.040927</td>\n",
       "      <td>0.007336</td>\n",
       "      <td>0.093436</td>\n",
       "      <td>0.210039</td>\n",
       "      <td>0.005405</td>\n",
       "    </tr>\n",
       "    <tr>\n",
       "      <th>ADV</th>\n",
       "      <td>0.013754</td>\n",
       "      <td>0.118752</td>\n",
       "      <td>0.345186</td>\n",
       "      <td>0.014425</td>\n",
       "      <td>0.078162</td>\n",
       "      <td>0.130493</td>\n",
       "      <td>0.067762</td>\n",
       "      <td>0.136867</td>\n",
       "      <td>0.030191</td>\n",
       "      <td>0.024153</td>\n",
       "      <td>0.032875</td>\n",
       "      <td>0.007380</td>\n",
       "    </tr>\n",
       "    <tr>\n",
       "      <th>ADJ</th>\n",
       "      <td>0.010726</td>\n",
       "      <td>0.077723</td>\n",
       "      <td>0.011881</td>\n",
       "      <td>0.000660</td>\n",
       "      <td>0.004455</td>\n",
       "      <td>0.066502</td>\n",
       "      <td>0.004785</td>\n",
       "      <td>0.064851</td>\n",
       "      <td>0.020957</td>\n",
       "      <td>0.021287</td>\n",
       "      <td>0.699010</td>\n",
       "      <td>0.017162</td>\n",
       "    </tr>\n",
       "    <tr>\n",
       "      <th>DET</th>\n",
       "      <td>0.000242</td>\n",
       "      <td>0.009682</td>\n",
       "      <td>0.039695</td>\n",
       "      <td>0.003510</td>\n",
       "      <td>0.012707</td>\n",
       "      <td>0.204042</td>\n",
       "      <td>0.005567</td>\n",
       "      <td>0.017669</td>\n",
       "      <td>0.021663</td>\n",
       "      <td>0.045867</td>\n",
       "      <td>0.638872</td>\n",
       "      <td>0.000484</td>\n",
       "    </tr>\n",
       "    <tr>\n",
       "      <th>.</th>\n",
       "      <td>0.002520</td>\n",
       "      <td>0.091007</td>\n",
       "      <td>0.088757</td>\n",
       "      <td>0.065442</td>\n",
       "      <td>0.051940</td>\n",
       "      <td>0.044198</td>\n",
       "      <td>0.173193</td>\n",
       "      <td>0.091907</td>\n",
       "      <td>0.082006</td>\n",
       "      <td>0.027275</td>\n",
       "      <td>0.223873</td>\n",
       "      <td>0.057791</td>\n",
       "    </tr>\n",
       "    <tr>\n",
       "      <th>NUM</th>\n",
       "      <td>0.026480</td>\n",
       "      <td>0.034811</td>\n",
       "      <td>0.017852</td>\n",
       "      <td>0.001488</td>\n",
       "      <td>0.002975</td>\n",
       "      <td>0.032431</td>\n",
       "      <td>0.003570</td>\n",
       "      <td>0.116334</td>\n",
       "      <td>0.185064</td>\n",
       "      <td>0.212139</td>\n",
       "      <td>0.353764</td>\n",
       "      <td>0.013091</td>\n",
       "    </tr>\n",
       "    <tr>\n",
       "      <th>X</th>\n",
       "      <td>0.184420</td>\n",
       "      <td>0.144992</td>\n",
       "      <td>0.204928</td>\n",
       "      <td>0.055803</td>\n",
       "      <td>0.025755</td>\n",
       "      <td>0.017170</td>\n",
       "      <td>0.054054</td>\n",
       "      <td>0.163911</td>\n",
       "      <td>0.002703</td>\n",
       "      <td>0.074086</td>\n",
       "      <td>0.061685</td>\n",
       "      <td>0.010493</td>\n",
       "    </tr>\n",
       "    <tr>\n",
       "      <th>NOUN</th>\n",
       "      <td>0.043907</td>\n",
       "      <td>0.176685</td>\n",
       "      <td>0.146794</td>\n",
       "      <td>0.004733</td>\n",
       "      <td>0.016893</td>\n",
       "      <td>0.012124</td>\n",
       "      <td>0.012997</td>\n",
       "      <td>0.239597</td>\n",
       "      <td>0.009612</td>\n",
       "      <td>0.028798</td>\n",
       "      <td>0.265045</td>\n",
       "      <td>0.042815</td>\n",
       "    </tr>\n",
       "    <tr>\n",
       "      <th>CONJ</th>\n",
       "      <td>0.004634</td>\n",
       "      <td>0.051900</td>\n",
       "      <td>0.157553</td>\n",
       "      <td>0.058387</td>\n",
       "      <td>0.056534</td>\n",
       "      <td>0.119555</td>\n",
       "      <td>0.116775</td>\n",
       "      <td>0.034291</td>\n",
       "      <td>0.040778</td>\n",
       "      <td>0.007878</td>\n",
       "      <td>0.351251</td>\n",
       "      <td>0.000463</td>\n",
       "    </tr>\n",
       "  </tbody>\n",
       "</table>\n",
       "</div>"
      ],
      "text/plain": [
       "           PRT       ADP      VERB      PRON       ADV       ADJ       DET  \\\n",
       "PRT   0.001640  0.020997  0.401247  0.017717  0.010499  0.084646  0.099738   \n",
       "ADP   0.001494  0.017079  0.007899  0.068851  0.013450  0.105572  0.325363   \n",
       "VERB  0.030755  0.091333  0.169696  0.035337  0.080693  0.065859  0.133893   \n",
       "PRON  0.012355  0.022394  0.485714  0.008108  0.032432  0.072587  0.009266   \n",
       "ADV   0.013754  0.118752  0.345186  0.014425  0.078162  0.130493  0.067762   \n",
       "ADJ   0.010726  0.077723  0.011881  0.000660  0.004455  0.066502  0.004785   \n",
       "DET   0.000242  0.009682  0.039695  0.003510  0.012707  0.204042  0.005567   \n",
       ".     0.002520  0.091007  0.088757  0.065442  0.051940  0.044198  0.173193   \n",
       "NUM   0.026480  0.034811  0.017852  0.001488  0.002975  0.032431  0.003570   \n",
       "X     0.184420  0.144992  0.204928  0.055803  0.025755  0.017170  0.054054   \n",
       "NOUN  0.043907  0.176685  0.146794  0.004733  0.016893  0.012124  0.012997   \n",
       "CONJ  0.004634  0.051900  0.157553  0.058387  0.056534  0.119555  0.116775   \n",
       "\n",
       "             .       NUM         X      NOUN      CONJ  \n",
       "PRT   0.044291  0.056102  0.013123  0.248031  0.001969  \n",
       "ADP   0.039816  0.061913  0.034586  0.323228  0.000747  \n",
       "VERB  0.034949  0.022756  0.218546  0.110593  0.005592  \n",
       "PRON  0.040927  0.007336  0.093436  0.210039  0.005405  \n",
       "ADV   0.136867  0.030191  0.024153  0.032875  0.007380  \n",
       "ADJ   0.064851  0.020957  0.021287  0.699010  0.017162  \n",
       "DET   0.017669  0.021663  0.045867  0.638872  0.000484  \n",
       ".     0.091907  0.082006  0.027275  0.223873  0.057791  \n",
       "NUM   0.116334  0.185064  0.212139  0.353764  0.013091  \n",
       "X     0.163911  0.002703  0.074086  0.061685  0.010493  \n",
       "NOUN  0.239597  0.009612  0.028798  0.265045  0.042815  \n",
       "CONJ  0.034291  0.040778  0.007878  0.351251  0.000463  "
      ]
     },
     "execution_count": 17,
     "metadata": {},
     "output_type": "execute_result"
    }
   ],
   "source": [
    "tags_df"
   ]
  },
  {
   "cell_type": "code",
   "execution_count": 18,
   "metadata": {},
   "outputs": [
    {
     "data": {
      "text/plain": [
       "PRT     0.002520\n",
       "ADP     0.091007\n",
       "VERB    0.088757\n",
       "PRON    0.065442\n",
       "ADV     0.051940\n",
       "ADJ     0.044198\n",
       "DET     0.173193\n",
       ".       0.091907\n",
       "NUM     0.082006\n",
       "X       0.027275\n",
       "NOUN    0.223873\n",
       "CONJ    0.057791\n",
       "Name: ., dtype: float32"
      ]
     },
     "execution_count": 18,
     "metadata": {},
     "output_type": "execute_result"
    }
   ],
   "source": [
    "tags_df.loc['.', :]"
   ]
  },
  {
   "cell_type": "code",
   "execution_count": 19,
   "metadata": {},
   "outputs": [
    {
     "data": {
      "image/png": "[encoded data removed]",
      "text/plain": [
       "<Figure size 1296x864 with 2 Axes>"
      ]
     },
     "metadata": {
      "needs_background": "light"
     },
     "output_type": "display_data"
    }
   ],
   "source": [
    "# heatmap of tags matrix\n",
    "# T(i, j) indicates P(tag j given tag i)\n",
    "plt.figure(figsize=(18, 12))\n",
    "sns.heatmap(tags_df)\n",
    "plt.show()"
   ]
  },
  {
   "cell_type": "code",
   "execution_count": 20,
   "metadata": {},
   "outputs": [
    {
     "data": {
      "image/png": "[encoded data removed]",
      "text/plain": [
       "<Figure size 1296x864 with 2 Axes>"
      ]
     },
     "metadata": {
      "needs_background": "light"
     },
     "output_type": "display_data"
    }
   ],
   "source": [
    "# frequent tags\n",
    "# filter the df to get P(t2, t1) > 0.5\n",
    "tags_frequent = tags_df[tags_df>0.5]\n",
    "plt.figure(figsize=(18, 12))\n",
    "sns.heatmap(tags_frequent)\n",
    "plt.show()"
   ]
  },
  {
   "cell_type": "markdown",
   "metadata": {},
   "source": [
    "According to the expectation Noun and Adjective and Noun and Determiner are highly correlated."
   ]
  },
  {
   "cell_type": "markdown",
   "metadata": {},
   "source": [
    "#### Viterbi Algorithm"
   ]
  },
  {
   "cell_type": "markdown",
   "metadata": {},
   "source": [
    "Let's now use the computed probabilities P(w, tag) and P(t2, t1) to assign tags to each word in the document. We'll run through each word w and compute P(tag/w)=P(w/tag).P(tag) for each tag in the tag set, and then assign the tag having the max P(tag/w).\n",
    "\n",
    "We'll store the assigned tags in a list of tuples, similar to the list 'train_tagged_words'. Each tuple will be a (token, assigned_tag). As we progress further in the list, each tag to be assigned will use the tag of the previous token.\n",
    "\n",
    "Note: P(tag|start) = P(tag|'.')"
   ]
  },
  {
   "cell_type": "code",
   "execution_count": 21,
   "metadata": {},
   "outputs": [
    {
     "data": {
      "text/plain": [
       "95571"
      ]
     },
     "execution_count": 21,
     "metadata": {},
     "output_type": "execute_result"
    }
   ],
   "source": [
    "#Let's see the total length of tagged words in training corpus\n",
    "len(train_tagged_words)"
   ]
  },
  {
   "cell_type": "code",
   "execution_count": 22,
   "metadata": {},
   "outputs": [],
   "source": [
    "# Viterbi Heuristic\n",
    "def Viterbi(words, train_bag = train_tagged_words):\n",
    "    state = []\n",
    "    T = list(set([pair[1] for pair in train_bag]))\n",
    "    \n",
    "    for key, word in enumerate(words):\n",
    "        #initialise list of probability column for a given observation\n",
    "        p = [] \n",
    "        for tag in T:\n",
    "            if key == 0:\n",
    "                transition_p = tags_df.loc['.', tag]\n",
    "            else:\n",
    "                transition_p = tags_df.loc[state[-1], tag]\n",
    "                \n",
    "            # compute emission and state probabilities\n",
    "            emission_p = word_given_tag(words[key], tag)[0]/word_given_tag(words[key], tag)[1]\n",
    "            state_probability = emission_p * transition_p    \n",
    "            p.append(state_probability)\n",
    "            \n",
    "        pmax = max(p)\n",
    "        # getting state for which probability is maximum\n",
    "        state_max = T[p.index(pmax)] \n",
    "        state.append(state_max)\n",
    "    return list(zip(words, state))"
   ]
  },
  {
   "cell_type": "markdown",
   "metadata": {},
   "source": [
    "#### Evaluating on Test Set"
   ]
  },
  {
   "cell_type": "code",
   "execution_count": 23,
   "metadata": {},
   "outputs": [],
   "source": [
    "# Running on entire test dataset would take more than 3-4hrs. \n",
    "# Let's test our Viterbi algorithm on a few sample sentences of test dataset\n",
    "random.seed(1234)\n",
    "\n",
    "# list of tagged words in test set\n",
    "test_run_base = [tup for sent in test_set for tup in sent]\n",
    "\n",
    "# list of  words which are untagged in test set\n",
    "test_tagged_words = [tup[0] for sent in test_set for tup in sent]"
   ]
  },
  {
   "cell_type": "code",
   "execution_count": 24,
   "metadata": {},
   "outputs": [],
   "source": [
    "# tagging the test sentences\n",
    "start = time.time()\n",
    "tagged_seq = Viterbi(test_tagged_words)\n",
    "end = time.time()\n",
    "difference = end-start"
   ]
  },
  {
   "cell_type": "code",
   "execution_count": 25,
   "metadata": {},
   "outputs": [
    {
     "name": "stdout",
     "output_type": "stream",
     "text": [
      "Time taken in seconds:  964.6715772151947\n",
      "[('In', 'ADP'), ('1989', 'NUM'), (',', '.'), ('as', 'ADP'), ('often', 'ADV'), ('as', 'ADP'), ('not', 'ADV'), (',', '.'), ('the', 'DET'), ('principal', 'NOUN'), ('fights', 'PRT'), ('in', 'ADP'), ('the', 'DET'), ('major', 'ADJ'), ('campaigns', 'NOUN'), ('are', 'VERB'), ('prompted', 'VERB'), ('*-1', 'X'), ('by', 'ADP'), ('the', 'DET'), ('ads', 'NOUN'), ('themselves', 'PRON'), ('.', '.'), ('If', 'ADP'), ('President', 'NOUN'), ('Bush', 'NOUN'), ('fails', 'VERB'), ('*-1', 'X'), ('to', 'PRT'), ('do', 'VERB'), ('so', 'ADV'), ('in', 'ADP'), ('his', 'PRON'), ('first', 'ADJ'), ('year', 'NOUN'), (',', '.'), ('he', 'PRON'), ('will', 'VERB'), ('invite', 'PRT'), ('Congress', 'NOUN'), (',', '.'), ('for', 'ADP'), ('the', 'DET'), ('remainder', 'NOUN'), ('of', 'ADP'), ('his', 'PRON'), ('presidency', 'NOUN'), (',', '.'), ('*-2', 'X'), ('to', 'PRT'), ('rewrite', 'VERB'), ('Article', 'NOUN'), ('II', 'NOUN'), ('of', 'ADP'), ('the', 'DET'), ('Constitution', 'NOUN'), ('*-3', 'X'), ('to', 'PRT'), ('suit', 'NOUN'), ('its', 'PRON'), ('purposes', 'PRT'), ('.', '.'), ('The', 'DET'), ('Dow', 'NOUN'), ('Jones', 'NOUN'), ('Industrial', 'NOUN'), ('Average', 'NOUN'), ('finished', 'VERB'), ('less', 'ADJ'), ('than', 'ADP'), ('a', 'DET'), ('point', 'NOUN'), ('higher', 'ADJ'), ('*-1', 'X'), ('to', 'PRT'), ('close', 'VERB'), ('at', 'ADP'), ('2645.90', 'NUM'), ('in', 'ADP'), ('moderate', 'ADJ'), ('trading', 'NOUN'), ('.', '.'), ('``', '.'), ('In', 'ADP'), ('addition', 'NOUN'), (',', '.'), ('recent', 'ADJ'), ('industry', 'NOUN'), ('forecasts', 'NOUN'), ('for', 'ADP'), ('1990', 'NUM'), ('indicate', 'VERB'), ('a', 'DET'), ('slow', 'ADJ'), ('environment', 'NOUN'), (',', '.'), ('at', 'ADP'), ('least', 'ADJ'), ('until', 'ADP'), ('midyear', 'PRT'), ('.', '.'), (\"''\", '.'), ('The', 'DET'), ('announced', 'VERB'), ('sale', 'NOUN'), ('of', 'ADP'), ('the', 'DET'), ('reserves', 'NOUN'), ('was', 'VERB'), ('followed', 'VERB'), ('*-1', 'X'), ('by', 'ADP'), ('news', 'NOUN'), ('that', 'ADP'), ('investor', 'NOUN'), ('Carl', 'NOUN'), ('Icahn', 'NOUN'), ('had', 'VERB'), ('increased', 'VERB'), ('his', 'PRON'), ('stake', 'NOUN'), ('in', 'ADP'), ('USX', 'NOUN'), ('to', 'PRT'), ('13.1', 'PRT'), ('%', 'NOUN'), ('and', 'CONJ'), ('threatened', 'VERB'), ('a', 'DET'), ('takeover', 'NOUN'), ('or', 'CONJ'), ('other', 'ADJ'), ('business', 'NOUN'), ('combination', 'NOUN'), ('.', '.'), ('But', 'CONJ'), ('a', 'DET'), ('1948', 'NUM'), ('law', 'NOUN'), ('barred', 'VERB'), ('the', 'DET'), ('``', '.'), ('dissemination', 'NOUN'), (\"''\", '.'), ('of', 'ADP'), ('that', 'DET'), ('material', 'NOUN'), ('in', 'ADP'), ('the', 'DET'), ('U.S.', 'NOUN'), ('.', '.'), ('``', '.'), ('No', 'DET'), ('one', 'NUM'), ('wants', 'VERB'), ('the', 'DET'), ('U.S.', 'NOUN'), ('to', 'PRT'), ('pick', 'VERB'), ('up', 'ADV'), ('its', 'PRON'), ('marbles', 'PRT'), ('and', 'CONJ'), ('go', 'VERB'), ('home', 'NOUN'), (',', '.'), (\"''\", '.'), ('Mr.', 'NOUN'), ('Hormats', 'NOUN'), ('says', 'VERB'), ('*T*-1', 'X'), ('.', '.'), ('Academically', 'PRT'), (',', '.'), ('Mrs.', 'NOUN'), ('Ward', 'NOUN'), ('says', 'VERB'), ('0', 'X'), ('*T*-1', 'X'), (',', '.'), ('the', 'DET'), ('school', 'NOUN'), ('was', 'VERB'), ('having', 'VERB'), ('trouble', 'NOUN'), ('*-2', 'X'), ('serving', 'VERB'), ('in', 'ADP'), ('harmony', 'NOUN'), ('its', 'PRON'), ('two', 'NUM'), ('disparate', 'PRT'), (',', '.'), ('and', 'CONJ'), ('evenly', 'ADV'), ('split', 'VERB'), (',', '.'), ('student', 'NOUN'), ('groups', 'NOUN'), (':', '.'), ('a', 'DET'), ('privileged', 'PRT'), ('white', 'ADJ'), ('elite', 'PRT'), ('from', 'ADP'), ('old', 'ADJ'), ('monied', 'PRT'), ('neighborhoods', 'PRT'), ('and', 'CONJ'), ('blacks', 'NOUN'), (',', '.'), ('many', 'ADJ'), ('of', 'ADP'), ('them', 'PRON'), ('poor', 'ADJ'), (',', '.'), ('from', 'ADP'), ('run-down', 'ADJ'), (',', '.'), ('inner', 'PRT'), ('city', 'NOUN'), ('neighborhoods', 'PRT'), ('.', '.'), ('*', 'X'), ('Depending', 'PRT'), ('upon', 'ADP'), ('how', 'ADV'), ('many', 'ADJ'), ('warrants', 'NOUN'), ('and', 'CONJ'), ('options', 'NOUN'), ('*T*-2', 'X'), ('are', 'VERB'), ('exercised', 'VERB'), ('*-1', 'X'), ('prior', 'ADV'), ('to', 'PRT'), ('completion', 'NOUN'), ('of', 'ADP'), ('the', 'DET'), ('transaction', 'NOUN'), (',', '.'), ('Heritage', 'NOUN'), ('would', 'VERB'), ('issue', 'NOUN'), ('between', 'ADP'), ('1.8', 'NUM'), ('million', 'NUM'), ('and', 'CONJ'), ('2.35', 'PRT'), ('million', 'NUM'), ('preferred', 'ADJ'), ('shares', 'NOUN'), (',', '.'), ('a', 'DET'), ('Heritage', 'NOUN'), ('spokesman', 'NOUN'), ('estimated', 'VERB'), ('0', 'X'), ('*T*-3', 'X'), ('.', '.'), ('Japanese', 'ADJ'), ('investment', 'NOUN'), ('in', 'ADP'), ('Southeast', 'NOUN'), ('Asia', 'NOUN'), ('is', 'VERB'), ('propelling', 'PRT'), ('the', 'DET'), ('region', 'NOUN'), ('toward', 'ADP'), ('economic', 'ADJ'), ('integration', 'NOUN'), ('.', '.'), ('Almost', 'PRT'), ('all', 'DET'), ('new', 'ADJ'), ('regulation', 'NOUN'), ('is', 'VERB'), ('introduced', 'VERB'), ('*-81', 'X'), ('in', 'ADP'), ('the', 'DET'), ('interests', 'NOUN'), ('of', 'ADP'), ('*', 'X'), ('protecting', 'VERB'), ('the', 'DET'), ('little', 'ADJ'), ('guy', 'PRT'), (',', '.'), ('and', 'CONJ'), ('he', 'PRON'), ('invariably', 'PRT'), ('is', 'VERB'), ('the', 'DET'), ('one', 'NUM'), ('least', 'ADJ'), ('able', 'ADJ'), ('*', 'X'), ('to', 'PRT'), ('cope', 'VERB'), ('with', 'ADP'), ('its', 'PRON'), ('consequences', 'NOUN'), ('.', '.'), ('But', 'CONJ'), ('the', 'DET'), ('presidency', 'NOUN'), ('would', 'VERB'), ('be', 'VERB'), ('no', 'DET'), ('worse', 'ADJ'), ('off', 'ADP'), ('than', 'ADP'), ('it', 'PRON'), ('is', 'VERB'), ('*?*', 'X'), ('now', 'ADV'), ('.', '.'), ('She', 'PRON'), ('says', 'VERB'), ('0', 'X'), ('she', 'PRON'), ('offered', 'VERB'), ('Mrs.', 'NOUN'), ('Yeargin', 'NOUN'), ('a', 'DET'), ('quiet', 'ADJ'), ('resignation', 'NOUN'), ('and', 'CONJ'), ('thought', 'VERB'), ('0', 'X'), ('she', 'PRON'), ('could', 'VERB'), ('help', 'VERB'), ('*-1', 'X'), ('save', 'VERB'), ('her', 'PRON'), ('teaching', 'NOUN'), ('certificate', 'NOUN'), ('.', '.'), ('``', '.'), ('When', 'ADV'), ('you', 'PRON'), ('do', 'VERB'), ('that', 'ADP'), ('*T*-1', 'X'), (',', '.'), ('there', 'DET'), ('is', 'VERB'), ('not', 'ADV'), ('a', 'DET'), ('cut', 'VERB'), (',', '.'), ('but', 'CONJ'), ('there', 'DET'), ('is', 'VERB'), ('in', 'ADP'), ('fact', 'NOUN'), ('a', 'DET'), ('program', 'NOUN'), ('increase', 'NOUN'), ('of', 'ADP'), ('$', '.'), ('5', 'NUM'), ('million', 'NUM'), ('*U*', 'X'), (\"''\", '.'), ('each', 'DET'), ('for', 'ADP'), ('the', 'DET'), ('FTC', 'NOUN'), ('and', 'CONJ'), ('the', 'DET'), ('Justice', 'NOUN'), ('Department', 'NOUN'), (',', '.'), ('Rep.', 'NOUN'), ('Neal', 'NOUN'), ('Smith', 'NOUN'), ('-LRB-', '.'), ('D.', 'NOUN'), (',', '.'), ('Iowa', 'NOUN'), ('-RRB-', '.'), ('said', 'VERB'), ('0', 'X'), ('*T*-2', 'X'), ('during', 'ADP'), ('House', 'NOUN'), ('debate', 'NOUN'), ('.', '.'), ('So', 'ADV'), ('can', 'VERB'), ('a', 'DET'), ('magazine', 'NOUN'), ('survive', 'VERB'), ('by', 'ADP'), ('*-1', 'X'), ('downright', 'PRT'), ('thumbing', 'PRT'), ('its', 'PRON'), ('nose', 'NOUN'), ('at', 'ADP'), ('major', 'ADJ'), ('advertisers', 'NOUN'), ('?', '.'), ('Lord', 'NOUN'), ('Chilver', 'PRT'), (',', '.'), ('63-year-old', 'PRT'), ('chairman', 'NOUN'), ('of', 'ADP'), ('English', 'ADJ'), ('China', 'NOUN'), ('Clays', 'PRT'), ('PLC', 'NOUN'), (',', '.'), ('was', 'VERB'), ('named', 'VERB'), ('*-39', 'X'), ('a', 'DET'), ('nonexecutive', 'ADJ'), ('director', 'NOUN'), ('of', 'ADP'), ('this', 'DET'), ('British', 'ADJ'), ('chemical', 'NOUN'), ('company', 'NOUN'), ('.', '.'), ('``', '.'), ('It', 'PRON'), ('is', 'VERB'), ('the', 'DET'), ('very', 'ADV'), ('building', 'VERB'), ('of', 'ADP'), ('it', 'PRON'), ('*ICH*-4', 'X'), ('that', 'ADP'), ('*T*-2', 'X'), ('is', 'VERB'), ('important', 'ADJ'), (',', '.'), ('not', 'ADV'), ('how', 'ADV'), ('much', 'ADV'), ('of', 'ADP'), ('it', 'PRON'), ('*T*-3', 'X'), ('is', 'VERB'), ('used', 'VERB'), ('*-1', 'X'), ('or', 'CONJ'), ('its', 'PRON'), ('economics', 'NOUN'), ('.', '.'), (\"''\", '.'), ('Mr.', 'NOUN'), ('Nemeth', 'NOUN'), ('said', 'VERB'), ('in', 'ADP'), ('parliament', 'NOUN'), ('that', 'ADP'), ('Czechoslovakia', 'NOUN'), ('and', 'CONJ'), ('Hungary', 'NOUN'), ('would', 'VERB'), ('suffer', 'VERB'), ('environmental', 'ADJ'), ('damage', 'NOUN'), ('if', 'ADP'), ('the', 'DET'), ('twin', 'PRT'), ('dams', 'PRT'), ('were', 'VERB'), ('built', 'VERB'), ('*-67', 'X'), ('as', 'ADP'), ('*', 'X'), ('planned', 'VERB'), ('*-2', 'X'), ('.', '.'), ('A', 'DET'), ('Lorillard', 'NOUN'), ('spokewoman', 'PRT'), ('said', 'VERB'), (',', '.'), ('``', '.'), ('This', 'DET'), ('is', 'VERB'), ('an', 'DET'), ('old', 'ADJ'), ('story', 'NOUN'), ('.', '.'), ('The', 'DET'), ('March', 'NOUN'), ('and', 'CONJ'), ('May', 'NOUN'), ('contracts', 'NOUN'), ('rose', 'VERB'), ('to', 'PRT'), ('fresh', 'ADJ'), ('life-of-contract', 'PRT'), ('highs', 'NOUN'), ('of', 'ADP'), ('14.54', 'PRT'), ('cents', 'NOUN'), ('and', 'CONJ'), ('14.28', 'PRT'), ('cents', 'NOUN'), ('at', 'ADP'), ('their', 'PRON'), ('best', 'ADJ'), ('levels', 'NOUN'), ('of', 'ADP'), ('the', 'DET'), ('day', 'NOUN'), ('.', '.'), ('Ringers', 'NOUN'), (',', '.'), ('she', 'PRON'), ('added', 'VERB'), ('0', 'X'), ('*T*-2', 'X'), (',', '.'), ('are', 'VERB'), ('``', '.'), ('filled', 'PRT'), ('*-1', 'X'), ('with', 'ADP'), ('the', 'DET'), ('solemn', 'PRT'), ('intoxication', 'PRT'), ('that', 'DET'), ('*T*-226', 'PRT'), ('comes', 'VERB'), ('of', 'ADP'), ('intricate', 'PRT'), ('ritual', 'PRT'), ('faultlessly', 'PRT'), ('performed', 'VERB'), ('*', 'X'), ('.', '.'), (\"''\", '.'), ('Miami', 'NOUN'), ('Dolphins', 'PRT'), ('owner', 'NOUN'), ('Joe', 'NOUN'), ('Robbie', 'NOUN'), ('disagrees', 'PRT'), (',', '.'), ('and', 'CONJ'), ('he', 'PRON'), ('can', 'VERB'), ('prove', 'VERB'), ('it', 'PRON'), ('.', '.'), ('Several', 'ADJ'), ('Fed', 'NOUN'), ('governors', 'NOUN'), ('in', 'ADP'), ('Washington', 'NOUN'), ('have', 'VERB'), ('been', 'VERB'), ('pushing', 'PRT'), ('for', 'ADP'), ('easier', 'ADJ'), ('credit', 'NOUN'), (';', '.'), ('but', 'CONJ'), ('many', 'ADJ'), ('of', 'ADP'), ('the', 'DET'), ('regional', 'ADJ'), ('Fed', 'NOUN'), ('presidents', 'NOUN'), ('have', 'VERB'), ('been', 'VERB'), ('resisting', 'PRT'), ('such', 'ADJ'), ('a', 'DET'), ('move', 'NOUN'), ('.', '.'), ('The', 'DET'), ('percentage', 'NOUN'), ('change', 'NOUN'), ('is', 'VERB'), ('since', 'ADP'), ('year-end', 'NOUN'), ('.', '.'), ('Ed', 'NOUN'), ('Macheski', 'PRT'), (',', '.'), ('a', 'DET'), ('Wilton', 'PRT'), (',', '.'), ('Conn.', 'NOUN'), (',', '.'), ('money', 'NOUN'), ('manager', 'NOUN'), ('who', 'PRON'), ('*T*-120', 'PRT'), ('follows', 'VERB'), ('bank', 'NOUN'), ('stocks', 'NOUN'), (',', '.'), ('said', 'VERB'), ('0', 'X'), ('the', 'DET'), ('announcement', 'NOUN'), ('effectively', 'ADV'), ('gives', 'VERB'), ('the', 'DET'), ('deal', 'NOUN'), ('``', '.'), ('the', 'DET'), ('green', 'ADJ'), ('light', 'ADJ'), ('.', '.'), (\"''\", '.'), ('``', '.'), ('They', 'PRON'), ('are', 'VERB'), (\"n't\", 'ADV'), ('really', 'ADV'), ('a', 'DET'), ('thrift', 'NOUN'), (',', '.'), (\"''\", '.'), ('says', 'VERB'), ('*T*-1', 'X'), ('Jonathan', 'NOUN'), ('Gray', 'NOUN'), (',', '.'), ('a', 'DET'), ('Sanford', 'PRT'), ('C.', 'NOUN'), ('Bernstein', 'NOUN'), ('analyst', 'NOUN'), ('.', '.'), ('Valley', 'NOUN'), ('Federal', 'NOUN'), ('Savings', 'NOUN'), ('&', 'CONJ'), ('Loan', 'NOUN'), ('Association', 'NOUN'), ('took', 'VERB'), ('an', 'DET'), ('$', '.'), ('89.9', 'NUM'), ('million', 'NUM'), ('*U*', 'X'), ('charge', 'VERB'), ('as', 'ADP'), ('it', 'PRON'), ('reported', 'VERB'), ('a', 'DET'), ('third-quarter', 'NOUN'), ('loss', 'NOUN'), ('of', 'ADP'), ('$', '.'), ('70.7', 'NUM'), ('million', 'NUM'), ('*U*', 'X'), (',', '.'), ('or', 'CONJ'), ('$', '.'), ('12.09', 'PRT'), ('*U*', 'X'), ('a', 'DET'), ('share', 'NOUN'), ('.', '.'), ('The', 'DET'), ('two', 'NUM'), ('professors', 'NOUN'), ('represent', 'VERB'), ('different', 'ADJ'), ('ends', 'VERB'), ('of', 'ADP'), ('the', 'DET'), ('political', 'ADJ'), ('spectrum', 'PRT'), ('--', '.'), ('Mr.', 'NOUN'), ('Kurland', 'NOUN'), ('is', 'VERB'), ('a', 'DET'), ('conservative', 'ADJ'), ('and', 'CONJ'), ('Mr.', 'NOUN'), ('Tribe', 'NOUN'), ('is', 'VERB'), ('a', 'DET'), ('liberal', 'ADJ'), ('.', '.'), ('UAL', 'NOUN'), (\"'s\", 'PRT'), ('announcement', 'NOUN'), ('came', 'VERB'), ('after', 'ADP'), ('the', 'DET'), ('market', 'NOUN'), ('closed', 'VERB'), ('yesterday', 'NOUN'), ('.', '.'), ('As', 'ADP'), ('a', 'DET'), ('result', 'NOUN'), (',', '.'), ('Upjohn', 'NOUN'), ('will', 'VERB'), ('likely', 'ADJ'), ('trim', 'PRT'), ('only', 'ADV'), ('about', 'ADP'), ('275', 'PRT'), ('to', 'PRT'), ('350', 'PRT'), ('of', 'ADP'), ('its', 'PRON'), ('more', 'ADJ'), ('than', 'ADP'), ('21,000', 'PRT'), ('jobs', 'NOUN'), ('world-wide', 'ADJ'), ('.', '.'), ('A', 'DET'), ('few', 'ADJ'), ('years', 'NOUN'), ('ago', 'ADP'), (',', '.'), ('the', 'DET'), ('company', 'NOUN'), ('offered', 'VERB'), ('two', 'NUM'), ('round-trip', 'PRT'), ('tickets', 'NOUN'), ('on', 'ADP'), ('Trans', 'PRT'), ('World', 'NOUN'), ('Airlines', 'NOUN'), ('to', 'PRT'), ('buyers', 'NOUN'), ('of', 'ADP'), ('its', 'PRON'), ('Riviera', 'NOUN'), ('luxury', 'NOUN'), ('car', 'NOUN'), ('.', '.'), ('Some', 'DET'), ('researchers', 'NOUN'), ('have', 'VERB'), ('charged', 'VERB'), ('that', 'ADP'), ('the', 'DET'), ('administration', 'NOUN'), ('is', 'VERB'), ('imposing', 'PRT'), ('new', 'ADJ'), ('ideological', 'ADJ'), ('tests', 'NOUN'), ('for', 'ADP'), ('top', 'ADJ'), ('scientific', 'ADJ'), ('posts', 'NOUN'), ('.', '.'), ('The', 'DET'), ('percent', 'PRT'), ('difference', 'NOUN'), ('compares', 'VERB'), ('actual', 'ADJ'), ('profit', 'NOUN'), ('with', 'ADP'), ('the', 'DET'), ('30-day', 'ADJ'), ('estimate', 'NOUN'), ('where', 'ADV'), ('at', 'ADP'), ('least', 'ADJ'), ('three', 'NUM'), ('analysts', 'NOUN'), ('have', 'VERB'), ('issues', 'NOUN'), ('forecasts', 'NOUN'), ('in', 'ADP'), ('the', 'DET'), ('past', 'ADJ'), ('30', 'NUM'), ('days', 'NOUN'), ('*T*-1', 'X'), ('.', '.'), ('*-1', 'X'), ('No', 'DET'), ('dummies', 'PRT'), (',', '.'), ('the', 'DET'), ('drivers', 'NOUN'), ('pointed', 'VERB'), ('out', 'PRT'), ('0', 'X'), ('they', 'PRON'), ('still', 'ADV'), ('had', 'VERB'), ('space', 'NOUN'), ('on', 'ADP'), ('their', 'PRON'), ('machines', 'NOUN'), ('for', 'ADP'), ('another', 'DET'), ('sponsor', 'NOUN'), (\"'s\", 'PRT'), ('name', 'NOUN'), ('or', 'CONJ'), ('two', 'NUM'), ('.', '.'), ('Mr.', 'NOUN'), ('McGovern', 'NOUN'), (',', '.'), ('63', 'NUM'), (',', '.'), ('had', 'VERB'), ('been', 'VERB'), ('under', 'ADP'), ('intense', 'ADJ'), ('pressure', 'NOUN'), ('*ICH*-1', 'X'), ('from', 'ADP'), ('the', 'DET'), ('board', 'NOUN'), ('*', 'X'), ('to', 'PRT'), ('boost', 'VERB'), ('Campbell', 'NOUN'), (\"'s\", 'PRT'), ('mediocre', 'PRT'), ('performance', 'NOUN'), ('to', 'PRT'), ('the', 'DET'), ('level', 'NOUN'), ('of', 'ADP'), ('other', 'ADJ'), ('food', 'NOUN'), ('companies', 'NOUN'), ('.', '.'), ('Now', 'ADV'), (',', '.'), ('he', 'PRON'), ('plans', 'VERB'), ('*-1', 'X'), ('to', 'PRT'), ('sell', 'VERB'), ('all', 'DET'), ('his', 'PRON'), ('stocks', 'NOUN'), ('by', 'ADP'), ('the', 'DET'), ('first', 'ADJ'), ('quarter', 'NOUN'), ('of', 'ADP'), ('1990', 'NUM'), ('.', '.'), ('But', 'CONJ'), ('Rep.', 'NOUN'), ('Hammerschmidt', 'NOUN'), ('said', 'VERB'), ('that', 'ADP'), ('the', 'DET'), ('provision', 'NOUN'), (',', '.'), ('which', 'DET'), ('he', 'PRON'), ('dubbed', 'PRT'), ('*T*-2', 'X'), ('a', 'DET'), ('``', '.'), ('special', 'ADJ'), ('interest', 'NOUN'), (\"''\", '.'), ('amendment', 'NOUN'), (',', '.'), ('was', 'VERB'), ('likely', 'ADJ'), ('*-1', 'X'), ('to', 'PRT'), ('make', 'VERB'), ('the', 'DET'), ('bill', 'NOUN'), ('even', 'ADV'), ('more', 'ADJ'), ('controversial', 'ADJ'), ('.', '.'), ('A', 'DET'), ('drop', 'NOUN'), ('below', 'ADP'), ('that', 'DET'), ('3', 'NUM'), ('%', 'NOUN'), ('benchmark', 'NOUN'), ('``', '.'), ('has', 'VERB'), ('always', 'ADV'), ('been', 'VERB'), ('a', 'DET'), ('strong', 'ADJ'), ('warning', 'NOUN'), ('sign', 'NOUN'), ('that', 'ADP'), ('stocks', 'NOUN'), ('are', 'VERB'), ('fully', 'ADV'), ('valued', 'VERB'), ('*-2', 'X'), (',', '.'), (\"''\", '.'), ('says', 'VERB'), ('0', 'X'), ('*T*-1', 'X'), ('Mr.', 'NOUN'), ('Boesel', 'NOUN'), ('of', 'ADP'), ('T.', 'NOUN'), ('Rowe', 'NOUN'), ('Price', 'NOUN'), ('.', '.'), ('That', 'DET'), ('can', 'VERB'), ('be', 'VERB'), ('a', 'DET'), ('trap', 'PRT'), ('for', 'ADP'), ('unwary', 'PRT'), ('investors', 'NOUN'), (',', '.'), ('says', 'VERB'), ('0', 'X'), ('*T*-1', 'X'), ('Richard', 'NOUN'), ('Bernstein', 'NOUN'), (',', '.'), ('senior', 'ADJ'), ('quantitative', 'PRT'), ('analyst', 'NOUN'), ('at', 'ADP'), ('Merrill', 'NOUN'), ('Lynch', 'NOUN'), ('&', 'CONJ'), ('Co', 'NOUN'), ('.', '.'), ('By', 'ADP'), ('this', 'DET'), ('September', 'NOUN'), (',', '.'), ('program', 'NOUN'), ('traders', 'NOUN'), ('were', 'VERB'), ('doing', 'VERB'), ('a', 'DET'), ('record', 'NOUN'), ('13.8', 'NUM'), ('%', 'NOUN'), ('of', 'ADP'), ('the', 'DET'), ('Big', 'NOUN'), ('Board', 'NOUN'), (\"'s\", 'PRT'), ('average', 'ADJ'), ('daily', 'ADJ'), ('trading', 'NOUN'), ('volume', 'NOUN'), ('.', '.'), ('The', 'DET'), ('company', 'NOUN'), ('earlier', 'ADJ'), ('this', 'DET'), ('year', 'NOUN'), ('adopted', 'VERB'), ('a', 'DET'), ('shareholder-rights', 'PRT'), ('plan', 'NOUN'), ('*-1', 'X'), ('to', 'PRT'), ('ward', 'VERB'), ('off', 'PRT'), ('unwanted', 'PRT'), ('suitors', 'PRT'), ('.', '.'), ('But', 'CONJ'), ('Mr.', 'NOUN'), ('Boesel', 'NOUN'), ('of', 'ADP'), ('T.', 'NOUN'), ('Rowe', 'NOUN'), ('Price', 'NOUN'), (',', '.'), ('who', 'PRON'), ('*T*-235', 'PRT'), ('also', 'ADV'), ('expects', 'VERB'), ('12', 'NUM'), ('%', 'NOUN'), ('growth', 'NOUN'), ('in', 'ADP'), ('dividends', 'NOUN'), ('next', 'ADP'), ('year', 'NOUN'), (',', '.'), ('does', 'VERB'), (\"n't\", 'ADV'), ('think', 'VERB'), ('0', 'X'), ('it', 'PRON'), ('will', 'VERB'), ('help', 'VERB'), ('the', 'DET'), ('overall', 'ADJ'), ('market', 'NOUN'), ('all', 'DET'), ('that', 'ADP'), ('much', 'ADJ'), ('.', '.'), ('The', 'DET'), ('7', 'NUM'), ('3\\\\/8', 'NUM'), ('%', 'NOUN'), ('term', 'NOUN'), ('bonds', 'NOUN'), ('due', 'ADJ'), ('2009', 'NUM'), ('are', 'VERB'), ('priced', 'VERB'), ('*-1', 'X'), ('at', 'ADP'), ('99', 'NUM'), ('1\\\\/2', 'NUM'), ('*', 'X'), ('to', 'PRT'), ('yield', 'VERB'), ('7.422', 'PRT'), ('%', 'NOUN'), (',', '.'), ('and', 'CONJ'), ('7', 'NUM'), ('3\\\\/8', 'NUM'), ('%', 'NOUN'), ('term', 'NOUN'), ('bonds', 'NOUN'), ('due', 'ADJ'), ('2019', 'NUM'), ('are', 'VERB'), ('priced', 'VERB'), ('*-2', 'X'), ('at', 'ADP'), ('99', 'NUM'), ('*', 'X'), ('to', 'PRT'), ('yield', 'VERB'), ('7.458', 'NUM'), ('%', 'NOUN'), ('.', '.'), ('Program', 'NOUN'), ('trading', 'NOUN'), ('is', 'VERB'), ('``', '.'), ('a', 'DET'), ('racket', 'NOUN'), (',', '.'), (\"''\", '.'), ('complains', 'VERB'), ('0', 'X'), ('*T*-1', 'X'), ('Edward', 'NOUN'), ('Egnuss', 'NOUN'), (',', '.'), ('a', 'DET'), ('White', 'NOUN'), ('Plains', 'NOUN'), (',', '.'), ('N.Y.', 'NOUN'), (',', '.'), ('investor', 'NOUN'), ('and', 'CONJ'), ('electronics', 'NOUN'), ('sales', 'NOUN'), ('executive', 'NOUN'), (',', '.'), ('``', '.'), ('and', 'CONJ'), ('it', 'PRON'), (\"'s\", 'VERB'), ('not', 'ADV'), ('to', 'PRT'), ('the', 'DET'), ('benefit', 'NOUN'), ('of', 'ADP'), ('the', 'DET'), ('small', 'ADJ'), ('investor', 'NOUN'), (',', '.'), ('that', 'DET'), (\"'s\", 'VERB'), ('for', 'ADP'), ('sure', 'ADJ'), ('.', '.'), (\"''\", '.'), ('It', 'PRON'), ('also', 'ADV'), ('said', 'VERB'), ('that', 'ADP'), ('in', 'ADP'), ('July', 'NOUN'), (',', '.'), ('it', 'PRON'), ('bid', 'NOUN'), ('10,000', 'NUM'), ('yen', 'NOUN'), ('*-2', 'X'), ('to', 'PRT'), ('design', 'NOUN'), ('a', 'DET'), ('system', 'NOUN'), ('for', 'ADP'), ('the', 'DET'), ('Saitama', 'PRT'), ('prefectural', 'PRT'), ('library', 'NOUN'), (',', '.'), ('and', 'CONJ'), ('two', 'NUM'), ('years', 'NOUN'), ('ago', 'ADP'), (',', '.'), ('it', 'PRON'), ('bid', 'NOUN'), ('one', 'NUM'), ('yen', 'NOUN'), ('*-1', 'X'), ('to', 'PRT'), ('plan', 'NOUN'), ('the', 'DET'), ('telecommunications', 'NOUN'), ('system', 'NOUN'), ('for', 'ADP'), ('Wakayama', 'PRT'), ('prefecture', 'NOUN'), ('.', '.'), ('An', 'DET'), ('Upjohn', 'NOUN'), ('spokesman', 'NOUN'), ('said', 'VERB'), ('0', 'X'), ('he', 'PRON'), ('had', 'VERB'), ('``', '.'), ('heard', 'VERB'), ('nothing', 'NOUN'), (\"''\", '.'), ('0', 'X'), ('*T*-3', 'X'), ('to', 'PRT'), ('suggest', 'VERB'), ('0', 'X'), ('the', 'DET'), ('early', 'ADJ'), ('retirement', 'NOUN'), ('package', 'NOUN'), ('was', 'VERB'), ('spurred', 'VERB'), ('*-1', 'X'), ('by', 'ADP'), ('shareholder', 'NOUN'), ('pressure', 'NOUN'), ('or', 'CONJ'), ('a', 'DET'), ('potential', 'ADJ'), ('bidder', 'PRT'), ('for', 'ADP'), ('the', 'DET'), ('company', 'NOUN'), (',', '.'), ('which', 'DET'), ('*T*-2', 'X'), ('occasionally', 'ADV'), ('has', 'VERB'), ('been', 'VERB'), ('the', 'DET'), ('target', 'NOUN'), ('of', 'ADP'), ('takeover', 'NOUN'), ('speculation', 'NOUN'), ('.', '.'), ('Among', 'ADP'), ('segments', 'NOUN'), ('that', 'ADP'), ('*T*-1', 'X'), ('continue', 'VERB'), ('*-2', 'X'), ('to', 'PRT'), ('operate', 'VERB'), (',', '.'), ('though', 'ADP'), (',', '.'), ('the', 'DET'), ('company', 'NOUN'), (\"'s\", 'PRT'), ('steel', 'NOUN'), ('division', 'NOUN'), ('continued', 'VERB'), ('*-3', 'X'), ('to', 'PRT'), ('suffer', 'VERB'), ('from', 'ADP'), ('soft', 'ADJ'), ('demand', 'NOUN'), ('for', 'ADP'), ('its', 'PRON'), ('tubular', 'ADJ'), ('goods', 'NOUN'), ('serving', 'VERB'), ('the', 'DET'), ('oil', 'NOUN'), ('industry', 'NOUN'), ('and', 'CONJ'), ('other', 'ADJ'), ('markets', 'NOUN'), ('.', '.'), ('Friends', 'NOUN'), ('told', 'VERB'), ('her', 'PRON'), ('0', 'X'), ('she', 'PRON'), ('was', 'VERB'), ('pushing', 'PRT'), ('too', 'ADV'), ('hard', 'ADJ'), ('.', '.'), ('Health', 'NOUN'), ('officials', 'NOUN'), ('plan', 'NOUN'), ('*-1', 'X'), ('to', 'PRT'), ('extend', 'VERB'), ('a', 'DET'), ('moratorium', 'NOUN'), ('on', 'ADP'), ('federal', 'ADJ'), ('funding', 'NOUN'), ('of', 'ADP'), ('research', 'NOUN'), ('involving', 'VERB'), ('fetal-tissue', 'ADJ'), ('transplants', 'NOUN'), ('.', '.'), ('On', 'ADP'), ('London', 'NOUN'), (\"'s\", 'PRT'), ('Stock', 'NOUN'), ('Exchange', 'NOUN'), (',', '.'), ('Reuters', 'NOUN'), ('shares', 'NOUN'), ('rose', 'VERB'), ('five', 'NUM'), ('pence', 'NOUN'), ('to', 'PRT'), ('913', 'PRT'), ('pence', 'NOUN'), ('-LRB-', '.'), ('$', '.'), ('14.43', 'PRT'), ('*U*', 'X'), ('-RRB-', '.'), ('.', '.'), ('Mr.', 'NOUN'), ('Nixon', 'NOUN'), (',', '.'), ('the', 'DET'), ('most', 'ADJ'), ('prominent', 'ADJ'), ('American', 'NOUN'), ('0', 'X'), ('*T*-1', 'X'), ('to', 'PRT'), ('come', 'VERB'), ('to', 'PRT'), ('China', 'NOUN'), ('since', 'ADP'), ('Beijing', 'NOUN'), (\"'s\", 'PRT'), ('bloody', 'PRT'), ('suppression', 'PRT'), ('of', 'ADP'), ('pro-democracy', 'ADJ'), ('demonstrators', 'NOUN'), ('in', 'ADP'), ('June', 'NOUN'), (',', '.'), ('harped', 'PRT'), ('on', 'ADP'), ('international', 'ADJ'), ('outrage', 'PRT'), ('over', 'ADP'), ('the', 'DET'), ('massacre', 'PRT'), ('.', '.'), ('Eaton', 'NOUN'), ('is', 'VERB'), ('an', 'DET'), ('automotive', 'ADJ'), ('parts', 'NOUN'), (',', '.'), ('controls', 'NOUN'), ('and', 'CONJ'), ('aerospace', 'NOUN'), ('electronics', 'NOUN'), ('concern', 'NOUN'), ('.', '.'), ('On', 'ADP'), ('the', 'DET'), ('Toronto', 'NOUN'), ('Stock', 'NOUN'), ('Exchange', 'NOUN'), ('yesterday', 'NOUN'), (',', '.'), ('Magna', 'NOUN'), ('shares', 'NOUN'), ('closed', 'VERB'), ('up', 'ADV'), ('37.5', 'NUM'), ('Canadian', 'ADJ'), ('cents', 'NOUN'), ('to', 'PRT'), ('C$', '.'), ('9.625', 'PRT'), ('*U*', 'X'), ('.', '.'), ('His', 'PRON'), ('wife', 'NOUN'), ('also', 'ADV'), ('works', 'VERB'), ('for', 'ADP'), ('the', 'DET'), ('paper', 'NOUN'), (',', '.'), ('as', 'ADP'), ('did', 'VERB'), ('his', 'PRON'), ('father', 'NOUN'), ('.', '.'), ('He', 'PRON'), ('had', 'VERB'), ('been', 'VERB'), ('a', 'DET'), ('sales', 'NOUN'), ('and', 'CONJ'), ('marketing', 'NOUN'), ('executive', 'NOUN'), ('with', 'ADP'), ('Chrysler', 'NOUN'), ('for', 'ADP'), ('20', 'NUM'), ('years', 'NOUN'), ('.', '.'), ('In', 'ADP'), ('addition', 'NOUN'), (',', '.'), ('Shearson', 'NOUN'), (\"'s\", 'PRT'), ('listed', 'VERB'), ('$', '.'), ('2', 'NUM'), ('billion', 'NUM'), ('*U*', 'X'), ('of', 'ADP'), ('capital', 'NOUN'), ('is', 'VERB'), ('overstated', 'PRT'), ('*-1', 'X'), (',', '.'), ('according', 'VERB'), ('to', 'PRT'), ('the', 'DET'), ('rating', 'NOUN'), ('concerns', 'NOUN'), (',', '.'), ('because', 'ADP'), ('it', 'PRON'), ('includes', 'VERB'), ('$', '.'), ('1.7', 'NUM'), ('billion', 'NUM'), ('*U*', 'X'), ('of', 'ADP'), ('goodwill', 'NOUN'), ('.', '.'), ('Or', 'CONJ'), (',', '.'), ('as', 'ADP'), ('Dorothy', 'NOUN'), ('Arighi', 'NOUN'), (',', '.'), ('an', 'DET'), ('interior', 'PRT'), ('decorator', 'PRT'), ('in', 'ADP'), ('Arnold', 'NOUN'), (',', '.'), ('Calif.', 'NOUN'), (',', '.'), ('puts', 'VERB'), ('it', 'PRON'), (':', '.'), ('``', '.'), ('All', 'DET'), ('kinds', 'NOUN'), ('of', 'ADP'), ('funny', 'ADJ'), ('things', 'NOUN'), ('spook', 'PRT'), ('the', 'DET'), ('market', 'NOUN'), ('these', 'DET'), ('days', 'NOUN'), ('.', '.'), (\"''\", '.'), ('``', '.'), ('Lighthouse', 'PRT'), ('II', 'NOUN'), (\"''\", '.'), ('was', 'VERB'), ('painted', 'PRT'), ('*-1', 'X'), ('in', 'ADP'), ('oils', 'PRT'), ('by', 'ADP'), ('the', 'DET'), ('playwright', 'PRT'), ('in', 'ADP'), ('1901', 'PRT'), ('...', '.'), ('Silver', 'NOUN'), ('is', 'VERB'), ('also', 'ADV'), ('under', 'ADP'), ('pressure', 'NOUN'), ('of', 'ADP'), ('``', '.'), ('extremely', 'ADV'), ('high', 'ADJ'), (\"''\", '.'), ('inventories', 'NOUN'), ('in', 'ADP'), ('warehouses', 'PRT'), ('of', 'ADP'), ('the', 'DET'), ('Commodity', 'NOUN'), ('Exchange', 'NOUN'), (',', '.'), ('he', 'PRON'), ('said', 'VERB'), ('0', 'X'), ('*T*-1', 'X'), ('.', '.'), ('Terms', 'NOUN'), ('were', 'VERB'), (\"n't\", 'ADV'), ('disclosed', 'VERB'), ('*-1', 'X'), ('.', '.'), ('Gasoline', 'NOUN'), ('futures', 'NOUN'), ('were', 'VERB'), ('mixed', 'VERB'), ('to', 'PRT'), ('unchanged', 'ADJ'), ('.', '.'), ('In', 'ADP'), ('early', 'ADJ'), ('trading', 'NOUN'), ('in', 'ADP'), ('Tokyo', 'NOUN'), ('Thursday', 'NOUN'), (',', '.'), ('the', 'DET'), ('Nikkei', 'NOUN'), ('index', 'NOUN'), ('fell', 'VERB'), ('63.79', 'PRT'), ('points', 'NOUN'), ('to', 'PRT'), ('35500.64', 'PRT'), ('.', '.'), ('20', 'NUM'), ('million', 'NUM'), ('Swiss', 'ADJ'), ('francs', 'NOUN'), ('of', 'ADP'), ('6', 'NUM'), ('1\\\\/2', 'NUM'), ('%', 'NOUN'), ('privately', 'ADV'), ('placed', 'VERB'), ('notes', 'NOUN'), ('due', 'ADJ'), ('Nov.', 'NOUN'), ('29', 'NUM'), (',', '.'), ('1996', 'PRT'), (',', '.'), ('priced', 'VERB'), ('*', 'X'), ('at', 'ADP'), ('99', 'NUM'), ('1\\\\/2', 'NUM'), ('via', 'ADP'), ('Dai-Ichi', 'NOUN'), ('Kangyo', 'NOUN'), ('Bank', 'NOUN'), ('-LRB-', '.'), ('Schweiz', 'PRT'), ('-RRB-', '.'), ('.', '.'), ('The', 'DET'), ('art', 'NOUN'), ('of', 'ADP'), ('change-ringing', 'PRT'), ('is', 'VERB'), ('peculiar', 'PRT'), ('to', 'PRT'), ('the', 'DET'), ('English', 'ADJ'), (',', '.'), ('and', 'CONJ'), (',', '.'), ('like', 'ADP'), ('most', 'ADJ'), ('English', 'NOUN'), ('peculiarities', 'PRT'), (',', '.'), ('unintelligible', 'PRT'), ('to', 'PRT'), ('the', 'DET'), ('rest', 'NOUN'), ('of', 'ADP'), ('the', 'DET'), ('world', 'NOUN'), ('.', '.'), ('GenCorp', 'NOUN'), ('tumbled', 'VERB'), ('2', 'NUM'), ('to', 'PRT'), ('14', 'NUM'), ('.', '.'), ('The', 'DET'), ('six', 'NUM'), ('wines', 'NOUN'), ('of', 'ADP'), ('the', 'DET'), ('Domaine', 'PRT'), ('de', 'ADP'), ('la', 'PRT'), ('Romanee-Conti', 'NOUN'), (',', '.'), ('72', 'NUM'), ('of', 'ADP'), ('the', 'DET'), ('most', 'ADJ'), ('precious', 'ADJ'), ('acres', 'NOUN'), ('of', 'ADP'), ('vineyard', 'PRT'), ('anywhere', 'PRT'), ('in', 'ADP'), ('the', 'DET'), ('world', 'NOUN'), (',', '.'), ('have', 'VERB'), ('commanded', 'PRT'), ('three-digit', 'PRT'), ('price', 'NOUN'), ('tags', 'PRT'), ('for', 'ADP'), ('several', 'ADJ'), ('years', 'NOUN'), ('now', 'ADV'), ('.', '.'), ('The', 'DET'), ('purchase', 'NOUN'), ('price', 'NOUN'), ('includes', 'VERB'), ('two', 'NUM'), ('ancillary', 'PRT'), ('companies', 'NOUN'), ('.', '.'), ('The', 'DET'), ('AT&T', 'NOUN'), ('team', 'NOUN'), ('also', 'ADV'), ('is', 'VERB'), ('trying', 'VERB'), ('*-1', 'X'), ('to', 'PRT'), ('combine', 'PRT'), ('their', 'PRON'), ('latest', 'ADJ'), ('superconductor', 'NOUN'), ('process', 'NOUN'), ('with', 'ADP'), ('``', '.'), ('melt-textured', 'PRT'), ('growth', 'NOUN'), (',', '.'), (\"''\", '.'), ('a', 'DET'), ('process', 'NOUN'), ('discovered', 'VERB'), ('*', 'X'), ('earlier', 'ADV'), ('at', 'ADP'), ('Bell', 'NOUN'), ('Laboratories', 'NOUN'), ('.', '.'), ('In', 'ADP'), ('addition', 'NOUN'), ('to', 'PRT'), ('the', 'DET'), ('extra', 'ADJ'), ('privacy', 'NOUN'), ('of', 'ADP'), ('these', 'DET'), ('trades', 'NOUN'), (',', '.'), ('the', 'DET'), ('transactions', 'NOUN'), ('can', 'VERB'), ('often', 'ADV'), ('be', 'VERB'), ('less', 'ADJ'), ('expensive', 'ADJ'), ('*', 'X'), ('to', 'PRT'), ('execute', 'VERB'), (',', '.'), ('because', 'ADP'), ('the', 'DET'), ('parties', 'NOUN'), ('do', 'VERB'), (\"n't\", 'ADV'), ('have', 'VERB'), ('*-1', 'X'), ('to', 'PRT'), ('pay', 'VERB'), ('a', 'DET'), ('floor', 'NOUN'), ('brokerage', 'NOUN'), ('fee', 'NOUN'), ('or', 'CONJ'), ('a', 'DET'), ('specialist', 'NOUN'), (\"'s\", 'PRT'), ('fee', 'NOUN'), ('.', '.'), ('It', 'PRON'), ('also', 'ADV'), ('would', 'VERB'), ('junk', 'NOUN'), ('an', 'DET'), ('innovative', 'PRT'), ('market-based', 'PRT'), ('system', 'NOUN'), ('for', 'ADP'), ('*', 'X'), ('trading', 'NOUN'), ('emissions', 'NOUN'), ('credits', 'NOUN'), ('among', 'ADP'), ('polluters', 'PRT'), ('.', '.'), ('Retail', 'PRT'), ('sales', 'NOUN'), ('also', 'ADV'), ('were', 'VERB'), ('reported', 'VERB'), ('*-1', 'X'), ('*-2', 'X'), ('slow', 'VERB'), ('in', 'ADP'), ('most', 'ADJ'), ('districts', 'NOUN'), (',', '.'), ('particularly', 'ADV'), ('``', '.'), ('for', 'ADP'), ('discretionary', 'ADJ'), (',', '.'), ('big-ticket', 'PRT'), ('items', 'NOUN'), ('such', 'ADJ'), ('as', 'ADP'), ('furniture', 'NOUN'), (',', '.'), ('home', 'NOUN'), ('appliances', 'NOUN'), ('and', 'CONJ'), ('consumer', 'NOUN'), ('electronics', 'NOUN'), ('.', '.'), (\"''\", '.'), ('The', 'DET'), ('scientists', 'NOUN'), ('said', 'VERB'), ('0', 'X'), ('they', 'PRON'), ('created', 'VERB'), ('small', 'ADJ'), ('changes', 'NOUN'), ('in', 'ADP'), ('the', 'DET'), ('crystal-lattice', 'NOUN'), ('structures', 'NOUN'), ('of', 'ADP'), ('the', 'DET'), ('superconductors', 'NOUN'), ('*-2', 'X'), ('to', 'PRT'), ('raise', 'VERB'), ('the', 'DET'), ('amount', 'NOUN'), ('of', 'ADP'), ('current', 'ADJ'), ('that', 'ADP'), ('single', 'ADJ'), ('crystals', 'NOUN'), ('could', 'VERB'), ('carry', 'VERB'), ('*T*-1', 'X'), ('to', 'PRT'), ('600,000', 'NUM'), ('amps', 'PRT'), ('per', 'ADP'), ('square', 'ADJ'), ('centimeter', 'PRT'), ('in', 'ADP'), ('a', 'DET'), ('moderately', 'ADV'), ('strong', 'ADJ'), ('magnetic', 'ADJ'), ('field', 'NOUN'), ('.', '.'), ('Mr.', 'NOUN'), ('Allen', 'NOUN'), (\"'s\", 'PRT'), ('Pittsburgh', 'NOUN'), ('firm', 'NOUN'), (',', '.'), ('Advanced', 'NOUN'), ('Investment', 'NOUN'), ('Management', 'NOUN'), ('Inc.', 'NOUN'), (',', '.'), ('executes', 'PRT'), ('program', 'NOUN'), ('trades', 'NOUN'), ('for', 'ADP'), ('institutions', 'NOUN'), ('.', '.'), ('United', 'NOUN'), ('Illuminating', 'NOUN'), ('is', 'VERB'), ('based', 'VERB'), ('*-13', 'X'), ('in', 'ADP'), ('New', 'NOUN'), ('Haven', 'NOUN'), (',', '.'), ('Conn.', 'NOUN'), (',', '.'), ('and', 'CONJ'), ('Northeast', 'NOUN'), ('is', 'VERB'), ('based', 'VERB'), ('*-14', 'X'), ('in', 'ADP'), ('Hartford', 'NOUN'), (',', '.'), ('Conn', 'NOUN'), ('.', '.'), ('The', 'DET'), ('new', 'ADJ'), ('company', 'NOUN'), ('said', 'VERB'), ('0', 'X'), ('it', 'PRON'), ('believes', 'VERB'), ('0', 'X'), ('there', 'DET'), ('are', 'VERB'), ('fewer', 'ADJ'), ('than', 'ADP'), ('100', 'NUM'), ('potential', 'ADJ'), ('customers', 'NOUN'), ('for', 'ADP'), ('supercomputers', 'NOUN'), ('priced', 'VERB'), ('*', 'X'), ('between', 'ADP'), ('$', '.'), ('15', 'NUM'), ('million', 'NUM'), ('and', 'CONJ'), ('$', '.'), ('30', 'NUM'), ('million', 'NUM'), ('*U*', 'X'), ('--', '.'), ('presumably', 'ADV'), ('the', 'DET'), ('Cray-3', 'NOUN'), ('price', 'NOUN'), ('range', 'NOUN'), ('.', '.'), ('Giant', 'NOUN'), ('Group', 'NOUN'), ('is', 'VERB'), ('led', 'VERB'), ('*-1', 'X'), ('by', 'ADP'), ('three', 'NUM'), ('Rally', 'NOUN'), (\"'s\", 'PRT'), ('directors', 'NOUN'), (',', '.'), ('Burt', 'NOUN'), ('Sugarman', 'NOUN'), (',', '.'), ('James', 'NOUN'), ('M.', 'NOUN'), ('Trotter', 'NOUN'), ('III', 'NOUN'), ('and', 'CONJ'), ('William', 'NOUN'), ('E.', 'NOUN'), ('Trotter', 'NOUN'), ('II', 'NOUN'), (',', '.'), ('who', 'PRON'), ('earlier', 'ADJ'), ('this', 'DET'), ('month', 'NOUN'), ('*T*-2', 'X'), ('indicated', 'VERB'), ('0', 'X'), ('they', 'PRON'), ('had', 'VERB'), ('a', 'DET'), ('42.5', 'NUM'), ('%', 'NOUN'), ('stake', 'NOUN'), ('in', 'ADP'), ('Rally', 'NOUN'), (\"'s\", 'PRT'), ('and', 'CONJ'), ('planned', 'VERB'), ('*-3', 'X'), ('to', 'PRT'), ('seek', 'VERB'), ('a', 'DET'), ('majority', 'NOUN'), ('of', 'ADP'), ('seats', 'NOUN'), ('on', 'ADP'), ('Rally', 'NOUN'), (\"'s\", 'PRT'), ('nine-member', 'ADJ'), ('board', 'NOUN'), ('.', '.'), ('``', '.'), ('I', 'PRON'), (\"'m\", 'VERB'), ('doing', 'VERB'), ('the', 'DET'), ('main', 'ADJ'), ('story', 'NOUN'), (',', '.'), ('and', 'CONJ'), ('I', 'PRON'), (\"'m\", 'VERB'), ('already', 'ADV'), ('two', 'NUM'), ('beers', 'PRT'), ('drunk', 'PRT'), (',', '.'), (\"''\", '.'), ('said', 'VERB'), ('*T*-1', 'X'), ('reporter', 'NOUN'), ('Andy', 'PRT'), ('Furillo', 'PRT'), (',', '.'), ('whom', 'PRON'), ('the', 'DET'), ('Times', 'NOUN'), ('hired', 'VERB'), ('*T*-50', 'X'), ('away', 'PRT'), ('several', 'ADJ'), ('years', 'NOUN'), ('ago', 'ADP'), ('but', 'CONJ'), ('who', 'PRON'), ('*T*-49', 'X'), ('returned', 'VERB'), ('to', 'PRT'), ('the', 'DET'), ('Herald', 'NOUN'), ('out', 'PRT'), ('of', 'ADP'), ('preference', 'NOUN'), ('.', '.'), ('Ms.', 'NOUN'), ('Kirkpatrick', 'PRT'), (',', '.'), ('the', 'DET'), ('Journal', 'NOUN'), (\"'s\", 'PRT'), ('deputy', 'NOUN'), ('editorial', 'NOUN'), ('features', 'NOUN'), ('editor', 'NOUN'), (',', '.'), ('worked', 'VERB'), ('in', 'ADP'), ('Tokyo', 'NOUN'), ('for', 'ADP'), ('three', 'NUM'), ('years', 'NOUN'), ('.', '.'), ('She', 'PRON'), ('had', 'VERB'), ('gone', 'VERB'), ('so', 'ADV'), ('far', 'ADV'), ('as', 'ADP'), ('*-1', 'X'), ('to', 'PRT'), ('display', 'PRT'), ('the', 'DET'), ('questions', 'NOUN'), ('on', 'ADP'), ('an', 'DET'), ('overhead', 'ADJ'), ('projector', 'PRT'), ('and', 'CONJ'), ('underline', 'PRT'), ('the', 'DET'), ('answers', 'NOUN'), ('.', '.'), ('Second', 'NOUN'), (',', '.'), ('they', 'PRON'), ('channel', 'PRT'), ('monthly', 'ADJ'), ('mortgage', 'NOUN'), ('payments', 'NOUN'), ('into', 'ADP'), ('semiannual', 'ADJ'), ('payments', 'NOUN'), (',', '.'), ('*-1', 'X'), ('reducing', 'VERB'), ('the', 'DET'), ('administrative', 'ADJ'), ('burden', 'NOUN'), ('on', 'ADP'), ('investors', 'NOUN'), ('.', '.'), ('In', 'ADP'), ('a', 'DET'), ('recent', 'ADJ'), ('report', 'NOUN'), (',', '.'), ('Moody', 'NOUN'), (\"'s\", 'PRT'), ('said', 'VERB'), ('0', 'X'), ('it', 'PRON'), ('``', '.'), ('expects', 'VERB'), ('intense', 'ADJ'), ('competition', 'NOUN'), ('to', 'PRT'), ('occur', 'VERB'), ('through', 'ADP'), ('the', 'DET'), ('rest', 'NOUN'), ('of', 'ADP'), ('the', 'DET'), ('century', 'NOUN'), ('in', 'ADP'), ('the', 'DET'), ('securities', 'NOUN'), ('industry', 'NOUN'), (',', '.'), ('which', 'DET'), ('*T*-1', 'X'), (',', '.'), ('combined', 'VERB'), ('with', 'ADP'), ('overcapacity', 'PRT'), (',', '.'), ('will', 'VERB'), ('create', 'VERB'), ('poor', 'ADJ'), ('prospects', 'NOUN'), ('for', 'ADP'), ('profitability', 'NOUN'), ('.', '.'), (\"''\", '.'), ('He', 'PRON'), ('said', 'VERB'), ('0', 'X'), ('Chrysler', 'NOUN'), ('fully', 'ADV'), ('expects', 'VERB'), ('*-1', 'X'), ('to', 'PRT'), ('have', 'VERB'), ('them', 'PRON'), ('installed', 'VERB'), ('*-2', 'X'), ('across', 'ADP'), ('its', 'PRON'), ('light-truck', 'ADJ'), ('line', 'NOUN'), ('by', 'ADP'), ('the', 'DET'), ('Sept.', 'NOUN'), ('1', 'NUM'), (',', '.'), ('1991', 'NUM'), (',', '.'), ('deadline', 'NOUN'), ('.', '.'), ('Stock-index', 'NOUN'), ('futures', 'NOUN'), ('--', '.'), ('Contracts', 'NOUN'), ('*', 'X'), ('to', 'PRT'), ('buy', 'VERB'), ('or', 'CONJ'), ('sell', 'VERB'), ('the', 'DET'), ('cash', 'NOUN'), ('value', 'NOUN'), ('of', 'ADP'), ('a', 'DET'), ('stock', 'NOUN'), ('index', 'NOUN'), ('by', 'ADP'), ('a', 'DET'), ('certain', 'ADJ'), ('date', 'NOUN'), ('.', '.'), ('Ad', 'PRT'), ('Notes', 'PRT'), ('...', '.'), ('.', '.'), ('``', '.'), ('We', 'PRON'), (\"'re\", 'VERB'), ('coming', 'VERB'), ('closer', 'ADJ'), ('to', 'PRT'), ('*', 'X'), ('achieving', 'PRT'), ('the', 'DET'), ('stated', 'VERB'), ('objective', 'NOUN'), ('of', 'ADP'), ('*', 'X'), ('slowing', 'VERB'), ('the', 'DET'), ('economy', 'NOUN'), ('to', 'PRT'), ('a', 'DET'), ('point', 'NOUN'), ('where', 'ADV'), ('hopefully', 'ADV'), ('some', 'DET'), ('downward', 'ADV'), ('trend', 'NOUN'), ('in', 'ADP'), ('prices', 'NOUN'), ('will', 'VERB'), ('occur', 'VERB'), ('*T*-1', 'X'), (',', '.'), (\"''\", '.'), ('said', 'VERB'), ('Mr.', 'NOUN'), ('Guffey', 'NOUN'), ('.', '.'), ('I', 'PRON'), ('loved', 'VERB'), ('the', 'DET'), ('school', 'NOUN'), (',', '.'), ('its', 'PRON'), ('history', 'NOUN'), ('.', '.'), ('Intelogic', 'NOUN'), ('Trace', 'PRT'), ('Inc.', 'NOUN'), (',', '.'), ('San', 'NOUN'), ('Antonio', 'NOUN'), (',', '.'), ('Texas', 'NOUN'), (',', '.'), ('said', 'VERB'), ('0', 'X'), ('it', 'PRON'), ('bought', 'VERB'), ('2.7', 'NUM'), ('million', 'NUM'), ('shares', 'NOUN'), ('*RNR*-1', 'X'), (',', '.'), ('or', 'CONJ'), ('about', 'ADP'), ('18', 'NUM'), ('%', 'NOUN'), ('*RNR*-1', 'X'), (',', '.'), ('of', 'ADP'), ('its', 'PRON'), ('common', 'ADJ'), ('stock', 'NOUN'), ('from', 'ADP'), ('an', 'DET'), ('unaffiliated', 'PRT'), ('shareholder', 'NOUN'), ('for', 'ADP'), ('$', '.'), ('3.625', 'PRT'), ('*U*', 'X'), ('a', 'DET'), ('share', 'NOUN'), (',', '.'), ('or', 'CONJ'), ('$', '.'), ('9.9', 'NUM'), ('million', 'NUM'), ('*U*', 'X'), ('.', '.'), ('The', 'DET'), ('compromise', 'NOUN'), ('sets', 'NOUN'), ('the', 'DET'), ('training', 'NOUN'), ('wage', 'NOUN'), ('at', 'ADP'), ('$', '.'), ('3.35', 'NUM'), ('*U*', 'X'), ('an', 'DET'), ('hour', 'NOUN'), ('next', 'ADP'), ('April', 'NOUN'), (',', '.'), ('and', 'CONJ'), ('at', 'ADP'), ('$', '.'), ('3.61', 'PRT'), ('*U*', 'X'), ('an', 'DET'), ('hour', 'NOUN'), (',', '.'), ('or', 'CONJ'), ('85', 'NUM'), ('%', 'NOUN'), ('of', 'ADP'), ('the', 'DET'), ('minimum', 'ADJ'), ('wage', 'NOUN'), (',', '.'), ('in', 'ADP'), ('April', 'NOUN'), ('1991', 'NUM'), ('.', '.'), ('I', 'PRON'), (\"'m\", 'VERB'), ('not', 'ADV'), ('saying', 'VERB'), ('0', 'X'), ('advertising', 'VERB'), ('revenue', 'NOUN'), ('is', 'VERB'), (\"n't\", 'ADV'), ('important', 'ADJ'), (',', '.'), (\"''\", '.'), ('she', 'PRON'), ('says', 'VERB'), ('0', 'X'), ('*T*-1', 'X'), (',', '.'), ('``', '.'), ('but', 'CONJ'), ('I', 'PRON'), ('could', 'VERB'), (\"n't\", 'ADV'), ('sleep', 'VERB'), ('at', 'ADP'), ('night', 'NOUN'), (\"''\", '.'), ('if', 'ADP'), ('the', 'DET'), ('magazine', 'NOUN'), ('bowed', 'VERB'), ('to', 'PRT'), ('a', 'DET'), ('company', 'NOUN'), ('because', 'ADP'), ('they', 'PRON'), ('once', 'ADV'), ('took', 'VERB'), ('out', 'PRT'), ('an', 'DET'), ('ad', 'NOUN'), ('.', '.'), ('Freeport-McMoRan', 'NOUN'), (',', '.'), ('the', 'DET'), ('parent', 'NOUN'), ('company', 'NOUN'), (',', '.'), ('holds', 'VERB'), ('roughly', 'ADV'), ('80', 'NUM'), ('%', 'NOUN'), ('of', 'ADP'), ('the', 'DET'), ('units', 'NOUN'), ('outstanding', 'ADJ'), ('.', '.'), ('Some', 'DET'), ('fellow', 'ADJ'), ('teachers', 'NOUN'), (',', '.'), ('however', 'ADV'), (',', '.'), ('viewed', 'VERB'), ('Mrs.', 'NOUN'), ('Yeargin', 'NOUN'), ('as', 'ADP'), ('cocky', 'PRT'), ('and', 'CONJ'), ('too', 'ADV'), ('yielding', 'VERB'), ('to', 'PRT'), ('students', 'NOUN'), ('.', '.'), ('``', '.'), ('Feeding', 'NOUN'), ('Frenzy', 'NOUN'), (\"''\", '.'), ('does', 'VERB'), ('provide', 'VERB'), ('a', 'DET'), ('few', 'ADJ'), ('clues', 'NOUN'), ('.', '.'), ('Adds', 'VERB'), ('*ICH*-1', 'X'), ('Takeshi', 'PRT'), ('Kondo', 'PRT'), (',', '.'), ('senior', 'ADJ'), ('vice', 'NOUN'), ('president', 'NOUN'), ('of', 'ADP'), ('C.', 'NOUN'), ('Itoh', 'NOUN'), ('America', 'NOUN'), ('Inc.', 'NOUN'), (':', '.'), ('``', '.'), ('We', 'PRON'), ('have', 'VERB'), ('a', 'DET'), ('great', 'ADJ'), ('interest', 'NOUN'), ('in', 'ADP'), ('*', 'X'), ('making', 'VERB'), ('investments', 'NOUN'), (',', '.'), ('particularly', 'ADV'), ('in', 'ADP'), ('new', 'ADJ'), ('ventures', 'NOUN'), ('.', '.'), (\"''\", '.'), ('This', 'DET'), ('is', 'VERB'), ('the', 'DET'), ('real', 'ADJ'), ('issue', 'NOUN'), ('raised', 'VERB'), ('*', 'X'), ('by', 'ADP'), ('the', 'DET'), ('Wedtech', 'NOUN'), ('scandal', 'NOUN'), ('.', '.'), ('Japanese', 'ADJ'), ('companies', 'NOUN'), ('have', 'VERB'), ('long', 'ADV'), ('had', 'VERB'), ('a', 'DET'), ('reputation', 'NOUN'), ('for', 'ADP'), ('*-2', 'X'), ('sacrificing', 'PRT'), ('short-term', 'ADJ'), ('profits', 'NOUN'), ('*-1', 'X'), ('to', 'PRT'), ('make', 'VERB'), ('a', 'DET'), ('sale', 'NOUN'), ('that', 'ADP'), ('*T*-140', 'PRT'), ('may', 'VERB'), ('have', 'VERB'), ('long-term', 'ADJ'), ('benefits', 'NOUN'), ('.', '.'), ('An', 'DET'), ('index-arbitrage', 'ADJ'), ('trade', 'NOUN'), ('is', 'VERB'), ('never', 'ADV'), ('executed', 'VERB'), ('unless', 'ADP'), ('there', 'DET'), ('is', 'VERB'), ('sufficient', 'PRT'), ('difference', 'NOUN'), ('between', 'ADP'), ('the', 'DET'), ('markets', 'NOUN'), ('in', 'ADP'), ('New', 'NOUN'), ('York', 'NOUN'), ('and', 'CONJ'), ('Chicago', 'NOUN'), ('0', 'X'), ('*T*-1', 'X'), ('to', 'PRT'), ('cover', 'VERB'), ('all', 'DET'), ('transaction', 'NOUN'), ('costs', 'NOUN'), ('.', '.'), ('Japan', 'NOUN'), (\"'s\", 'PRT'), ('swelling', 'PRT'), ('investment', 'NOUN'), ('in', 'ADP'), ('Southeast', 'NOUN'), ('Asia', 'NOUN'), ('is', 'VERB'), ('part', 'NOUN'), ('of', 'ADP'), ('its', 'PRON'), ('economic', 'ADJ'), ('evolution', 'NOUN'), ('.', '.'), ('``', '.'), ('Today', 'NOUN'), (',', '.'), ('a', 'DET'), ('banker', 'NOUN'), ('is', 'VERB'), ('worrying', 'PRT'), ('about', 'ADP'), ('local', 'ADJ'), (',', '.'), ('regional', 'ADJ'), ('and', 'CONJ'), ('money-center', 'PRT'), ('-LCB-', '.'), ('banks', 'NOUN'), ('-RCB-', '.'), (',', '.'), ('as', 'ADP'), ('well', 'ADV'), ('as', 'ADP'), ('thrifts', 'NOUN'), ('and', 'CONJ'), ('credit', 'NOUN'), ('unions', 'NOUN'), (',', '.'), (\"''\", '.'), ('says', 'VERB'), ('*T*-1', 'X'), ('Ms.', 'NOUN'), ('Moore', 'NOUN'), ('at', 'ADP'), ('Synergistics', 'NOUN'), ('Research', 'NOUN'), ('.', '.'), ('The', 'DET'), ('materials', 'NOUN'), ('in', 'ADP'), ('each', 'DET'), ('set', 'VERB'), ('reach', 'VERB'), ('about', 'ADP'), ('90', 'NUM'), ('students', 'NOUN'), ('.', '.'), ('The', 'DET'), ('asbestos', 'NOUN'), ('fiber', 'PRT'), (',', '.'), ('crocidolite', 'NOUN'), (',', '.'), ('is', 'VERB'), ('unusually', 'ADV'), ('resilient', 'PRT'), ('once', 'ADV'), ('it', 'PRON'), ('enters', 'VERB'), ('the', 'DET'), ('lungs', 'PRT'), (',', '.'), ('with', 'ADP'), ('even', 'ADV'), ('brief', 'ADJ'), ('exposures', 'NOUN'), ('to', 'PRT'), ('it', 'PRON'), ('causing', 'VERB'), ('symptoms', 'PRT'), ('that', 'DET'), ('*T*-1', 'X'), ('show', 'VERB'), ('up', 'ADV'), ('decades', 'NOUN'), ('later', 'ADJ'), (',', '.'), ('researchers', 'NOUN'), ('said', 'VERB'), ('0', 'X'), ('*T*-2', 'X'), ('.', '.'), ('Even', 'ADV'), ('a', 'DET'), ('low-tech', 'PRT'), ('product', 'NOUN'), ('like', 'ADP'), ('plate', 'NOUN'), ('glass', 'NOUN'), ('can', 'VERB'), ('catch', 'NOUN'), ('a', 'DET'), ('trading', 'NOUN'), ('company', 'NOUN'), (\"'s\", 'PRT'), ('fancy', 'PRT'), ('if', 'ADP'), ('there', 'DET'), (\"'s\", 'VERB'), ('a', 'DET'), ('strategic', 'PRT'), ('fit', 'ADJ'), ('.', '.'), ('--', '.'), ('Dorothy', 'NOUN'), ('L.', 'NOUN'), ('Sayers', 'NOUN'), (',', '.'), ('``', '.'), ('The', 'DET'), ('Nine', 'PRT'), ('Tailors', 'PRT'), (\"''\", '.'), ('In', 'ADP'), ('August', 'NOUN'), (',', '.'), ('the', 'DET'), ('company', 'NOUN'), ('took', 'VERB'), ('a', 'DET'), ('$', '.'), ('343', 'PRT'), ('million', 'NUM'), ('*U*', 'X'), ('pretax', 'NOUN'), ('charge', 'NOUN'), ('against', 'ADP'), ('fiscal', 'ADJ'), ('1989', 'NUM'), ('earnings', 'NOUN'), ('when', 'ADV'), ('it', 'PRON'), ('announced', 'VERB'), ('a', 'DET'), ('world-wide', 'ADJ'), ('restructuring', 'NOUN'), ('plan', 'NOUN'), ('*T*-1', 'X'), ('.', '.'), ('I', 'PRON'), ('get', 'VERB'), ('the', 'DET'), ('impression', 'PRT'), ('that', 'DET'), ('some', 'DET'), ('Japanese', 'ADJ'), ('managers', 'NOUN'), ('believe', 'VERB'), ('0', 'X'), ('*', 'X'), ('working', 'VERB'), ('harder', 'ADJ'), ('for', 'ADP'), ('less', 'ADJ'), ('money', 'NOUN'), ('is', 'VERB'), ('beautiful', 'ADJ'), ('.', '.'), ('Other', 'ADJ'), ('rumored', 'VERB'), ('takeover', 'NOUN'), ('and', 'CONJ'), ('restructuring', 'NOUN'), ('candidates', 'NOUN'), ('0', 'X'), ('*T*-2', 'X'), ('to', 'PRT'), ('attract', 'VERB'), ('buyers', 'NOUN'), ('included', 'VERB'), ('Woolworth', 'PRT'), (',', '.'), ('which', 'DET'), ('*T*-1', 'X'), ('went', 'VERB'), ('up', 'ADV'), ('1', 'NUM'), ('3\\\\/4', 'NUM'), ('to', 'PRT'), ('59', 'NUM'), ('1\\\\/2', 'NUM'), (';', '.'), ('Avon', 'NOUN'), ('Products', 'PRT'), (',', '.'), ('up', 'ADV'), ('1', 'NUM'), ('3\\\\/4', 'NUM'), ('to', 'PRT'), ('29', 'NUM'), ('1\\\\/4', 'NUM'), (';', '.'), ('Paramount', 'PRT'), ('Communications', 'NOUN'), (',', '.'), ('up', 'ADV'), ('2', 'NUM'), ('to', 'PRT'), ('57', 'NUM'), ('7\\\\/8', 'NUM'), (',', '.'), ('and', 'CONJ'), ('Ferro', 'PRT'), (',', '.'), ('up', 'ADV'), ('2', 'NUM'), ('5\\\\/8', 'NUM'), ('to', 'PRT'), ('28', 'NUM'), ('3\\\\/4', 'NUM'), ('.', '.'), ('The', 'DET'), ('bank', 'NOUN'), ('stocks', 'NOUN'), ('got', 'VERB'), ('a', 'DET'), ('boost', 'NOUN'), ('when', 'ADV'), ('Connecticut', 'NOUN'), ('Bank', 'NOUN'), ('&', 'CONJ'), ('Trust', 'NOUN'), ('and', 'CONJ'), ('Bank', 'NOUN'), ('of', 'ADP'), ('New', 'NOUN'), ('England', 'NOUN'), ('said', 'VERB'), ('0', 'X'), ('they', 'PRON'), ('no', 'ADV'), ('longer', 'ADV'), ('oppose', 'VERB'), ('pending', 'VERB'), ('legislation', 'NOUN'), ('that', 'ADP'), ('*T*-1', 'X'), ('would', 'VERB'), ('permit', 'VERB'), ('banks', 'NOUN'), ('from', 'ADP'), ('other', 'ADJ'), ('regions', 'NOUN'), ('to', 'PRT'), ('merge', 'VERB'), ('with', 'ADP'), ('Connecticut', 'NOUN'), ('and', 'CONJ'), ('Massachusetts', 'NOUN'), ('banks', 'NOUN'), ('*T*-2', 'X'), ('.', '.'), ('``', '.'), ('I', 'PRON'), ('think', 'VERB'), ('0', 'X'), ('the', 'DET'), ('stock', 'NOUN'), ('is', 'VERB'), ('dead', 'ADJ'), ('money', 'NOUN'), ('for', 'ADP'), ('a', 'DET'), ('while', 'ADP'), ('.', '.'), (\"''\", '.'), ('The', 'DET'), ('ultimate', 'ADJ'), ('result', 'NOUN'), ('came', 'VERB'), ('in', 'ADP'), ('Hymowitz', 'NOUN'), ('v.', 'CONJ'), ('Lilly', 'PRT'), (',', '.'), ('where', 'ADV'), ('the', 'DET'), ('highest', 'ADJ'), ('New', 'NOUN'), ('York', 'NOUN'), ('court', 'NOUN'), ('expanded', 'VERB'), ('the', 'DET'), ('market-share', 'ADJ'), ('approach', 'NOUN'), ('for', 'ADP'), ('the', 'DET'), ('first', 'ADJ'), ('time', 'NOUN'), ('*', 'X'), ('to', 'PRT'), ('say', 'VERB'), ('that', 'ADP'), ('drug', 'NOUN'), ('makers', 'NOUN'), ('that', 'ADP'), ('*T*-1', 'X'), ('could', 'VERB'), ('prove', 'VERB'), ('0', 'X'), ('Mindy', 'PRT'), ('Hymowitz', 'NOUN'), (\"'s\", 'PRT'), ('mother', 'NOUN'), ('did', 'VERB'), (\"n't\", 'ADV'), ('use', 'VERB'), ('their', 'PRON'), ('pill', 'NOUN'), ('must', 'VERB'), ('still', 'ADV'), ('pay', 'VERB'), ('their', 'PRON'), ('share', 'NOUN'), ('of', 'ADP'), ('any', 'DET'), ('damages', 'NOUN'), ('*T*-2', 'X'), ('.', '.'), ('Temple', 'NOUN'), (',', '.'), ('however', 'ADV'), (',', '.'), ('harshly', 'ADV'), ('criticized', 'VERB'), ('Sea', 'NOUN'), ('Containers', 'NOUN'), (\"'\", 'PRT'), ('plan', 'NOUN'), ('yesterday', 'NOUN'), (',', '.'), ('*-1', 'X'), ('characterizing', 'PRT'), ('it', 'PRON'), ('as', 'ADP'), ('a', 'DET'), ('``', '.'), ('highly', 'ADV'), ('conditional', 'ADJ'), ('device', 'NOUN'), ('designed', 'VERB'), ('*', 'X'), ('*-2', 'X'), ('to', 'PRT'), ('entrench', 'PRT'), ('management', 'NOUN'), (',', '.'), ('confuse', 'PRT'), ('shareholders', 'NOUN'), ('and', 'CONJ'), ('prevent', 'VERB'), ('them', 'PRON'), ('from', 'ADP'), ('*-3', 'X'), ('accepting', 'VERB'), ('our', 'PRON'), ('superior', 'ADJ'), ('cash', 'NOUN'), ('offer', 'NOUN'), ('.', '.'), (\"''\", '.'), ('According', 'VERB'), ('to', 'PRT'), ('reports', 'NOUN'), ('carried', 'VERB'), ('*', 'X'), ('by', 'ADP'), ('various', 'ADJ'), ('news', 'NOUN'), ('services', 'NOUN'), (',', '.'), ('the', 'DET'), ('Brazilian', 'ADJ'), ('government', 'NOUN'), ('told', 'VERB'), ('its', 'PRON'), ('sugar', 'NOUN'), ('producers', 'NOUN'), ('that', 'ADP'), ('they', 'PRON'), ('wo', 'VERB'), (\"n't\", 'ADV'), ('be', 'VERB'), ('allowed', 'VERB'), ('*-1', 'X'), ('to', 'PRT'), ('export', 'NOUN'), ('sugar', 'NOUN'), ('during', 'ADP'), ('the', 'DET'), ('current', 'ADJ'), ('1989-90', 'NUM'), ('season', 'NOUN'), (',', '.'), ('which', 'DET'), ('*T*-92', 'X'), ('began', 'VERB'), ('May', 'NOUN'), ('1', 'NUM'), (',', '.'), ('and', 'CONJ'), ('the', 'DET'), ('1990-91', 'PRT'), ('season', 'NOUN'), ('so', 'ADV'), ('that', 'ADP'), ('it', 'PRON'), ('can', 'VERB'), ('be', 'VERB'), ('used', 'VERB'), ('*-2', 'X'), ('*', 'X'), ('to', 'PRT'), ('produce', 'VERB'), ('alcohol', 'NOUN'), ('for', 'ADP'), ('automobile', 'PRT'), ('fuel', 'VERB'), ('.', '.'), ('But', 'CONJ'), ('consumers', 'NOUN'), ('who', 'PRON'), ('*T*-169', 'PRT'), ('buy', 'VERB'), ('at', 'ADP'), ('this', 'DET'), ('level', 'NOUN'), ('are', 'VERB'), ('also', 'ADV'), ('more', 'ADJ'), ('knowledgeable', 'PRT'), ('than', 'ADP'), ('they', 'PRON'), ('were', 'VERB'), ('*?*', 'X'), ('a', 'DET'), ('few', 'ADJ'), ('years', 'NOUN'), ('ago', 'ADP'), ('.', '.'), ('Deregulation', 'PRT'), ('has', 'VERB'), ('effectively', 'ADV'), ('removed', 'VERB'), ('all', 'DET'), ('restrictions', 'NOUN'), ('on', 'ADP'), ('what', 'PRON'), ('banks', 'NOUN'), ('can', 'VERB'), ('pay', 'VERB'), ('*T*-201', 'PRT'), ('for', 'ADP'), ('deposits', 'NOUN'), (',', '.'), ('as', 'ADP'), ('well', 'ADV'), ('as', 'ADP'), ('opened', 'VERB'), ('up', 'ADV'), ('the', 'DET'), ('field', 'NOUN'), ('for', 'ADP'), ('new', 'ADJ'), ('products', 'NOUN'), ('such', 'ADJ'), ('as', 'ADP'), ('high-rate', 'PRT'), ('CDs', 'PRT'), ('.', '.'), ('Telerate', 'NOUN'), (\"'s\", 'PRT'), ('two', 'NUM'), ('independent', 'ADJ'), ('directors', 'NOUN'), ('have', 'VERB'), ('rejected', 'VERB'), ('the', 'DET'), ('offer', 'NOUN'), ('as', 'ADP'), ('inadequate', 'ADJ'), ('.', '.'), ('School', 'NOUN'), ('officials', 'NOUN'), ('and', 'CONJ'), ('prosecutors', 'NOUN'), ('say', 'VERB'), ('0', 'X'), ('Mrs.', 'NOUN'), ('Yeargin', 'NOUN'), ('is', 'VERB'), ('lying', 'VERB'), ('.', '.'), ('It', 'PRON'), ('all', 'DET'), ('adds', 'VERB'), ('up', 'ADV'), ('to', 'PRT'), ('a', 'DET'), ('barrier', 'NOUN'), ('to', 'PRT'), ('American-style', 'PRT'), ('index', 'NOUN'), ('arbitrage', 'NOUN'), (',', '.'), ('the', 'DET'), ('most', 'ADJ'), ('popular', 'ADJ'), ('form', 'NOUN'), ('of', 'ADP'), ('U.S.', 'NOUN'), ('program', 'NOUN'), ('trading', 'NOUN'), ('that', 'ADP'), ('*T*-253', 'PRT'), ('seeks', 'VERB'), ('*-1', 'X'), ('to', 'PRT'), ('exploit', 'PRT'), ('brief', 'VERB'), ('differences', 'NOUN'), ('between', 'ADP'), ('prices', 'NOUN'), ('of', 'ADP'), ('stocks', 'NOUN'), ('in', 'ADP'), ('New', 'NOUN'), ('York', 'NOUN'), ('and', 'CONJ'), ('the', 'DET'), ('price', 'NOUN'), ('of', 'ADP'), ('a', 'DET'), ('futures', 'NOUN'), ('contract', 'NOUN'), ('in', 'ADP'), ('Chicago', 'NOUN'), ('based', 'VERB'), ('on', 'ADP'), ('those', 'DET'), ('stocks', 'NOUN'), ('.', '.'), ('About', 'ADP'), ('a', 'DET'), ('quarter', 'NOUN'), ('of', 'ADP'), ('this', 'DET'), ('share', 'NOUN'), ('has', 'VERB'), ('already', 'ADV'), ('been', 'VERB'), ('reallocated', 'PRT'), ('*-9', 'X'), (',', '.'), ('according', 'VERB'), ('to', 'PRT'), ('the', 'DET'), ('industry', 'NOUN'), (',', '.'), ('but', 'CONJ'), ('the', 'DET'), ('remaining', 'VERB'), ('23,403', 'PRT'), ('tons', 'NOUN'), ('are', 'VERB'), ('still', 'ADV'), ('a', 'DET'), ('lucrative', 'ADJ'), ('target', 'NOUN'), ('for', 'ADP'), ('growers', 'PRT'), ('because', 'ADP'), ('the', 'DET'), ('current', 'ADJ'), ('U.S.', 'NOUN'), ('price', 'NOUN'), ('of', 'ADP'), ('18', 'NUM'), ('cents', 'NOUN'), ('a', 'DET'), ('pound', 'NOUN'), ('runs', 'VERB'), ('as', 'ADP'), ('much', 'ADJ'), ('as', 'ADP'), ('a', 'DET'), ('nickel', 'NOUN'), ('a', 'DET'), ('pound', 'NOUN'), ('above', 'ADP'), ('the', 'DET'), ('world', 'NOUN'), ('rate', 'NOUN'), ('.', '.'), ('She', 'PRON'), ('says', 'VERB'), ('0', 'X'), ('individual', 'ADJ'), ('Barnett', 'NOUN'), ('branches', 'NOUN'), ('can', 'VERB'), ('add', 'VERB'), ('different', 'ADJ'), ('benefits', 'NOUN'), ('*ICH*-1', 'X'), ('to', 'PRT'), ('their', 'PRON'), ('Seniors', 'NOUN'), ('Partners', 'NOUN'), ('package', 'NOUN'), ('--', '.'), ('such', 'ADJ'), ('as', 'ADP'), ('athletic', 'PRT'), ('activities', 'NOUN'), ('or', 'CONJ'), ('travel', 'NOUN'), ('clubs', 'NOUN'), ('--', '.'), ('*-2', 'X'), ('to', 'PRT'), ('appeal', 'VERB'), ('to', 'PRT'), ('local', 'ADJ'), ('market', 'NOUN'), ('interests', 'NOUN'), ('.', '.'), ('But', 'CONJ'), ('there', 'DET'), ('still', 'ADV'), ('are', 'VERB'), (\"n't\", 'ADV'), ('enough', 'ADV'), ('ringers', 'NOUN'), ('0', 'X'), ('*T*-1', 'X'), ('to', 'PRT'), ('ring', 'VERB'), ('more', 'ADV'), ('than', 'ADP'), ('six', 'NUM'), ('of', 'ADP'), ('the', 'DET'), ('eight', 'NUM'), ('bells', 'NOUN'), ('.', '.'), ('``', '.'), ('We', 'PRON'), ('have', 'VERB'), ('no', 'DET'), ('useful', 'ADJ'), ('information', 'NOUN'), ('on', 'ADP'), ('whether', 'ADP'), ('users', 'NOUN'), ('are', 'VERB'), ('at', 'ADP'), ('risk', 'NOUN'), (',', '.'), (\"''\", '.'), ('said', 'VERB'), ('*T*-1', 'X'), ('James', 'NOUN'), ('A.', 'NOUN'), ('Talcott', 'NOUN'), ('of', 'ADP'), ('Boston', 'NOUN'), (\"'s\", 'PRT'), ('Dana-Farber', 'PRT'), ('Cancer', 'NOUN'), ('Institute', 'NOUN'), ('.', '.'), ('According', 'VERB'), ('to', 'PRT'), ('Dr.', 'NOUN'), ('Wright', 'NOUN'), (',', '.'), ('homelessness', 'NOUN'), ('is', 'VERB'), ('``', '.'), ('simultaneously', 'PRT'), ('a', 'DET'), ('housing', 'PRT'), ('problem', 'NOUN'), (',', '.'), ('an', 'DET'), ('employment', 'NOUN'), ('problem', 'NOUN'), (',', '.'), ('a', 'DET'), ('demographic', 'ADJ'), ('problem', 'NOUN'), (',', '.'), ('a', 'DET'), ('problem', 'NOUN'), ('of', 'ADP'), ('social', 'ADJ'), ('disaffiliation', 'PRT'), (',', '.'), ('a', 'DET'), ('mental', 'ADJ'), ('health', 'NOUN'), ('problem', 'NOUN'), (',', '.'), ('a', 'DET'), ('family', 'NOUN'), ('violence', 'NOUN'), ('problem', 'NOUN'), (',', '.'), ('a', 'DET'), ('problem', 'NOUN'), ('created', 'VERB'), ('*', 'X'), ('by', 'ADP'), ('the', 'DET'), ('cutbacks', 'NOUN'), ('in', 'ADP'), ('social', 'ADJ'), ('welfare', 'PRT'), ('spending', 'NOUN'), (',', '.'), ('a', 'DET'), ('problem', 'NOUN'), ('resulting', 'VERB'), ('from', 'ADP'), ('the', 'DET'), ('decay', 'PRT'), ('of', 'ADP'), ('the', 'DET'), ('traditional', 'ADJ'), ('nuclear', 'ADJ'), ('family', 'NOUN'), (',', '.'), ('and', 'CONJ'), ('a', 'DET'), ('problem', 'NOUN'), ('intimately', 'PRT'), ('connected', 'VERB'), ('to', 'PRT'), ('the', 'DET'), ('recent', 'ADJ'), ('increase', 'NOUN'), ('in', 'ADP'), ('the', 'DET'), ('number', 'NOUN'), ('of', 'ADP'), ('persons', 'NOUN'), ('living', 'NOUN'), ('below', 'ADP'), ('the', 'DET'), ('poverty', 'NOUN'), ('level', 'NOUN'), ('.', '.'), (\"''\", '.'), ('-LRB-', '.'), ('It', 'PRON'), ('is', 'VERB'), (',', '.'), ('of', 'ADP'), ('course', 'NOUN'), (',', '.'), ('printed', 'VERB'), ('*-1', 'X'), ('on', 'ADP'), ('recycled', 'PRT'), ('paper', 'NOUN'), ('.', '.'), ('-RRB-', '.'), ('Stockholders', 'PRT'), ('who', 'PRON'), ('*T*-233', 'PRT'), ('took', 'VERB'), ('the', 'DET'), ('hint', 'PRT'), ('and', 'CONJ'), ('sold', 'VERB'), ('shares', 'NOUN'), ('escaped', 'PRT'), ('the', 'DET'), ('October', 'NOUN'), ('debacle', 'PRT'), ('.', '.'), ('PRECIOUS', 'PRT'), ('METALS', 'PRT'), (':', '.'), ('Futures', 'NOUN'), ('prices', 'NOUN'), ('eased', 'VERB'), ('as', 'ADP'), ('increased', 'VERB'), ('stability', 'NOUN'), ('and', 'CONJ'), ('strength', 'NOUN'), ('came', 'VERB'), ('into', 'ADP'), ('the', 'DET'), ('securities', 'NOUN'), ('markets', 'NOUN'), ('.', '.'), ('But', 'CONJ'), ('the', 'DET'), ('ratings', 'NOUN'), ('are', 'VERB'), ('considerably', 'ADV'), ('below', 'ADP'), ('expectations', 'NOUN'), (',', '.'), ('and', 'CONJ'), ('some', 'DET'), ('stations', 'NOUN'), ('say', 'VERB'), ('0', 'X'), ('they', 'PRON'), ('may', 'VERB'), ('not', 'ADV'), ('buy', 'VERB'), ('new', 'ADJ'), ('episodes', 'NOUN'), ('when', 'ADV'), ('their', 'PRON'), ('current', 'ADJ'), ('contracts', 'NOUN'), ('expire', 'VERB'), ('*T*-1', 'X'), ('.', '.'), ('``', '.'), ('These', 'DET'), ('days', 'NOUN'), (',', '.'), ('banking', 'NOUN'), ('customers', 'NOUN'), ('walk', 'VERB'), ('in', 'ADP'), ('the', 'DET'), ('door', 'NOUN'), ('*-1', 'X'), ('expecting', 'VERB'), ('you', 'PRON'), ('to', 'PRT'), ('have', 'VERB'), ('a', 'DET'), ('package', 'NOUN'), ('especially', 'ADV'), ('for', 'ADP'), ('them', 'PRON'), (',', '.'), (\"''\", '.'), ('Ms.', 'NOUN'), ('Moore', 'NOUN'), ('says', 'VERB'), ('*T*-2', 'X'), ('.', '.'), ('``', '.'), ('The', 'DET'), ('events', 'NOUN'), ('of', 'ADP'), ('April', 'NOUN'), ('through', 'ADP'), ('June', 'NOUN'), ('damaged', 'VERB'), ('the', 'DET'), ('respect', 'NOUN'), ('and', 'CONJ'), ('confidence', 'NOUN'), ('which', 'DET'), ('most', 'ADJ'), ('Americans', 'NOUN'), ('previously', 'ADV'), ('had', 'VERB'), ('*T*-1', 'X'), ('for', 'ADP'), ('the', 'DET'), ('leaders', 'NOUN'), ('of', 'ADP'), ('China', 'NOUN'), ('.', '.'), (\"''\", '.'), ('Also', 'ADV'), (',', '.'), ('substantially', 'ADV'), ('lower', 'ADJ'), ('Dutch', 'NOUN'), ('corporate', 'ADJ'), ('tax', 'NOUN'), ('rates', 'NOUN'), ('helped', 'VERB'), ('the', 'DET'), ('company', 'NOUN'), ('keep', 'VERB'), ('its', 'PRON'), ('tax', 'NOUN'), ('outlay', 'PRT'), ('flat', 'ADJ'), ('relative', 'ADJ'), ('to', 'PRT'), ('earnings', 'NOUN'), ('growth', 'NOUN'), (',', '.'), ('the', 'DET'), ('company', 'NOUN'), ('added', 'VERB'), ('0', 'X'), ('*T*-1', 'X'), ('.', '.'), ('Japan', 'NOUN'), (\"'s\", 'PRT'), ('Finance', 'NOUN'), ('Ministry', 'NOUN'), ('had', 'VERB'), ('set', 'VERB'), ('up', 'ADV'), ('mechanisms', 'PRT'), ('0', 'X'), ('*-1', 'X'), ('to', 'PRT'), ('limit', 'NOUN'), ('how', 'ADV'), ('far', 'ADV'), ('futures', 'NOUN'), ('prices', 'NOUN'), ('could', 'VERB'), ('fall', 'VERB'), ('*T*-2', 'X'), ('in', 'ADP'), ('a', 'DET'), ('single', 'ADJ'), ('session', 'NOUN'), ('and', 'CONJ'), ('*-1', 'X'), ('to', 'PRT'), ('give', 'VERB'), ('market', 'NOUN'), ('operators', 'NOUN'), ('the', 'DET'), ('authority', 'NOUN'), ('*', 'X'), ('to', 'PRT'), ('suspend', 'VERB'), ('trading', 'NOUN'), ('in', 'ADP'), ('futures', 'NOUN'), ('at', 'ADP'), ('any', 'DET'), ('time', 'NOUN'), ('.', '.'), ('As', 'ADP'), ('banks', 'NOUN'), (\"'\", 'PRT'), ('earnings', 'NOUN'), ('were', 'VERB'), ('squeezed', 'VERB'), ('*-122', 'PRT'), ('in', 'ADP'), ('the', 'DET'), ('mid-1970s', 'PRT'), (',', '.'), ('the', 'DET'), ('emphasis', 'NOUN'), ('switched', 'VERB'), ('to', 'PRT'), ('*', 'X'), ('finding', 'VERB'), ('ways', 'NOUN'), ('0', 'X'), ('*', 'X'), ('to', 'PRT'), ('cut', 'VERB'), ('costs', 'NOUN'), ('*T*-1', 'X'), ('.', '.'), ('Profit', 'NOUN'), ('per', 'ADP'), ('ton', 'NOUN'), ('of', 'ADP'), ('steel', 'NOUN'), ('shipped', 'VERB'), ('*', 'X'), ('dropped', 'VERB'), ('to', 'PRT'), ('about', 'ADP'), ('$', '.'), ('33', 'NUM'), ('*U*', 'X'), ('a', 'DET'), ('ton', 'NOUN'), ('from', 'ADP'), ('$', '.'), ('42', 'NUM'), ('*U*', 'X'), ('a', 'DET'), ('ton', 'NOUN'), ('last', 'ADJ'), ('year', 'NOUN'), ('and', 'CONJ'), ('$', '.'), ('53', 'NUM'), ('*U*', 'X'), ('a', 'DET'), ('ton', 'NOUN'), ('in', 'ADP'), ('the', 'DET'), ('second', 'ADJ'), ('quarter', 'NOUN'), (',', '.'), ('analysts', 'NOUN'), ('said', 'VERB'), ('0', 'X'), ('*T*-1', 'X'), ('.', '.'), ('The', 'DET'), ('Labor', 'NOUN'), ('Department', 'NOUN'), ('cited', 'VERB'), ('USX', 'NOUN'), ('Corp.', 'NOUN'), ('for', 'ADP'), ('numerous', 'ADJ'), ('health', 'NOUN'), ('and', 'CONJ'), ('safety', 'NOUN'), ('violations', 'NOUN'), ('at', 'ADP'), ('two', 'NUM'), ('Pennsylvania', 'NOUN'), ('plants', 'NOUN'), (',', '.'), ('and', 'CONJ'), ('proposed', 'VERB'), ('$', '.'), ('7.3', 'NUM'), ('million', 'NUM'), ('*U*', 'X'), ('in', 'ADP'), ('fines', 'NOUN'), (',', '.'), ('the', 'DET'), ('largest', 'ADJ'), ('penalty', 'NOUN'), ('ever', 'ADV'), ('proposed', 'VERB'), ('*', 'X'), ('for', 'ADP'), ('alleged', 'ADJ'), ('workplace', 'PRT'), ('violations', 'NOUN'), ('by', 'ADP'), ('an', 'DET'), ('employer', 'NOUN'), ('.', '.'), ('Hours', 'PRT'), ('after', 'ADP'), ('the', 'DET'), ('announcement', 'NOUN'), (',', '.'), ('representatives', 'PRT'), ('of', 'ADP'), ('the', 'DET'), ('Orange', 'NOUN'), ('County', 'NOUN'), ('Register', 'NOUN'), ('were', 'VERB'), ('in', 'ADP'), ('a', 'DET'), ('bar', 'NOUN'), ('across', 'ADP'), ('the', 'DET'), ('street', 'NOUN'), ('*-1', 'X'), ('recruiting', 'PRT'), ('.', '.'), ('Net', 'ADJ'), ('cash', 'NOUN'), ('income', 'NOUN'), ('--', '.'), ('the', 'DET'), ('amount', 'NOUN'), ('left', 'VERB'), ('*', 'X'), ('in', 'ADP'), ('farmers', 'NOUN'), (\"'\", 'PRT'), ('pockets', 'NOUN'), ('after', 'ADP'), ('*', 'X'), ('deducting', 'PRT'), ('expenses', 'NOUN'), ('from', 'ADP'), ('gross', 'PRT'), ('cash', 'NOUN'), ('income', 'NOUN'), ('--', '.'), ('increased', 'VERB'), ('in', 'ADP'), ('33', 'NUM'), ('states', 'NOUN'), ('in', 'ADP'), ('1988', 'NUM'), (',', '.'), ('as', 'ADP'), ('the', 'DET'), ('drought', 'NOUN'), ('cut', 'VERB'), ('into', 'ADP'), ('crop', 'NOUN'), ('yields', 'NOUN'), ('and', 'CONJ'), ('drove', 'VERB'), ('up', 'ADV'), ('commodity', 'NOUN'), ('prices', 'NOUN'), (',', '.'), ('the', 'DET'), ('department', 'NOUN'), (\"'s\", 'PRT'), ('Economic', 'NOUN'), ('Research', 'NOUN'), ('Service', 'NOUN'), ('reported', 'VERB'), ('0', 'X'), ('*T*-1', 'X'), ('yesterday', 'NOUN'), ('.', '.'), ('At', 'ADP'), ('the', 'DET'), ('same', 'ADJ'), ('time', 'NOUN'), (',', '.'), ('Viacom', 'NOUN'), ('is', 'VERB'), ('trying', 'VERB'), ('*-1', 'X'), ('to', 'PRT'), ('persuade', 'VERB'), ('stations', 'NOUN'), ('*-2', 'X'), ('to', 'PRT'), ('make', 'VERB'), ('commitments', 'NOUN'), ('to', 'PRT'), ('``', '.'), ('A', 'DET'), ('Different', 'PRT'), ('World', 'NOUN'), (',', '.'), (\"''\", '.'), ('a', 'DET'), ('spin-off', 'PRT'), ('of', 'ADP'), ('``', '.'), ('Cosby', 'NOUN'), (\"''\", '.'), ('whose', 'PRON'), ('reruns', 'NOUN'), ('*T*-151', 'PRT'), ('will', 'VERB'), ('become', 'VERB'), ('available', 'ADJ'), ('in', 'ADP'), ('1991', 'NUM'), ('.', '.'), ('Last', 'ADJ'), ('year', 'NOUN'), (',', '.'), ('it', 'PRON'), ('had', 'VERB'), ('*-1', 'X'), ('to', 'PRT'), ('buy', 'VERB'), ('sugar', 'NOUN'), ('on', 'ADP'), ('the', 'DET'), ('world', 'NOUN'), ('market', 'NOUN'), ('*-2', 'X'), ('to', 'PRT'), ('meet', 'VERB'), ('export', 'NOUN'), ('commitments', 'NOUN'), (',', '.'), ('they', 'PRON'), ('noted', 'VERB'), ('0', 'X'), ('*T*-3', 'X'), ('.', '.'), ('``', '.'), ('They', 'PRON'), ('said', 'VERB'), ('universally', 'PRT'), (',', '.'), ('without', 'ADP'), ('a', 'DET'), ('single', 'ADJ'), ('exception', 'NOUN'), (':', '.'), ('*', 'X'), ('Do', 'VERB'), (\"n't\", 'ADV'), ('even', 'ADV'), ('compromise', 'VERB'), ('.', '.'), ('Groups', 'PRT'), ('have', 'VERB'), ('accused', 'VERB'), ('him', 'PRON'), ('of', 'ADP'), ('*', 'X'), ('advocating', 'PRT'), ('policies', 'NOUN'), ('that', 'ADP'), ('*T*-1', 'X'), ('narrowed', 'VERB'), ('rights', 'NOUN'), ('of', 'ADP'), ('older', 'ADJ'), ('workers', 'NOUN'), ('and', 'CONJ'), ('of', 'ADP'), ('*', 'X'), ('ignoring', 'VERB'), ('discrimination', 'PRT'), ('by', 'ADP'), ('large', 'ADJ'), ('companies', 'NOUN'), ('.', '.'), ('Until', 'ADP'), ('last', 'ADJ'), ('week', 'NOUN'), (',', '.'), ('the', 'DET'), ('IRS', 'NOUN'), ('rarely', 'PRT'), ('acted', 'PRT'), ('on', 'ADP'), ('the', 'DET'), ('incomplete', 'ADJ'), ('forms', 'NOUN'), ('.', '.'), ('Soon', 'ADV'), (',', '.'), ('T-shirts', 'PRT'), ('*ICH*-1', 'X'), ('appeared', 'VERB'), ('in', 'ADP'), ('the', 'DET'), ('corridors', 'PRT'), ('that', 'DET'), ('*T*-2', 'X'), ('carried', 'VERB'), ('the', 'DET'), ('school', 'NOUN'), (\"'s\", 'PRT'), ('familiar', 'ADJ'), ('red-and-white', 'PRT'), ('GHS', 'PRT'), ('logo', 'PRT'), ('on', 'ADP'), ('the', 'DET'), ('front', 'NOUN'), ('.', '.'), ('But', 'CONJ'), ('a', 'DET'), ('Soviet', 'ADJ'), ('bank', 'NOUN'), ('here', 'ADV'), ('would', 'VERB'), ('be', 'VERB'), ('crippled', 'VERB'), ('*-51', 'X'), ('unless', 'ADP'), ('Moscow', 'NOUN'), ('found', 'VERB'), ('a', 'DET'), ('way', 'NOUN'), ('0', 'X'), ('*', 'X'), ('to', 'PRT'), ('settle', 'VERB'), ('the', 'DET'), ('$', '.'), ('188', 'NUM'), ('million', 'NUM'), ('*U*', 'X'), ('debt', 'NOUN'), (',', '.'), ('which', 'DET'), ('*T*-1', 'X'), ('was', 'VERB'), ('lent', 'VERB'), ('*-52', 'X'), ('to', 'PRT'), ('the', 'DET'), ('country', 'NOUN'), (\"'s\", 'PRT'), ('short-lived', 'PRT'), ('democratic', 'ADJ'), ('Kerensky', 'PRT'), ('government', 'NOUN'), ('before', 'ADP'), ('the', 'DET'), ('Communists', 'PRT'), ('seized', 'PRT'), ('power', 'NOUN'), ('in', 'ADP'), ('1917', 'PRT'), ('*T*-2', 'X'), ('.', '.'), ('``', '.'), ('When', 'ADV'), ('I', 'PRON'), ('see', 'VERB'), ('prints', 'NOUN'), ('going', 'VERB'), ('into', 'ADP'), ('the', 'DET'), ('hands', 'NOUN'), ('of', 'ADP'), ('institutions', 'NOUN'), ('*T*-1', 'X'), (',', '.'), ('I', 'PRON'), ('know', 'VERB'), ('0', 'X'), ('they', 'PRON'), ('are', 'VERB'), (\"n't\", 'ADV'), ('going', 'VERB'), ('*-2', 'X'), ('to', 'PRT'), ('come', 'VERB'), ('back', 'ADV'), ('on', 'ADP'), ('the', 'DET'), ('market', 'NOUN'), ('.', '.'), (\"''\", '.'), ('In', 'ADP'), ('mid-October', 'PRT'), (',', '.'), ('Time', 'NOUN'), ('magazine', 'NOUN'), ('lowered', 'VERB'), ('its', 'PRON'), ('guaranteed', 'PRT'), ('circulation', 'NOUN'), ('rate', 'NOUN'), ('base', 'NOUN'), ('for', 'ADP'), ('1990', 'NUM'), ('while', 'ADP'), ('*-1', 'X'), ('not', 'ADV'), ('increasing', 'VERB'), ('ad', 'NOUN'), ('page', 'NOUN'), ('rates', 'NOUN'), (';', '.'), ('with', 'ADP'), ('a', 'DET'), ('lower', 'ADJ'), ('circulation', 'NOUN'), ('base', 'NOUN'), (',', '.'), ('Time', 'NOUN'), (\"'s\", 'PRT'), ('ad', 'NOUN'), ('rate', 'NOUN'), ('*ICH*-2', 'X'), ('will', 'VERB'), ('be', 'VERB'), ('effectively', 'ADV'), ('7.5', 'NUM'), ('%', 'NOUN'), ('higher', 'ADJ'), ('per', 'ADP'), ('subscriber', 'PRT'), (';', '.'), ('a', 'DET'), ('full', 'ADJ'), ('page', 'NOUN'), ('in', 'ADP'), ('Time', 'NOUN'), ('costs', 'NOUN'), ('about', 'ADP'), ('$', '.'), ('120,000', 'PRT'), ('*U*', 'X'), ('.', '.'), ('Mr.', 'NOUN'), ('Whelen', 'NOUN'), ('denied', 'VERB'), ('0', 'X'), ('the', 'DET'), ('firm', 'NOUN'), ('had', 'VERB'), ('sold', 'VERB'), ('securities', 'NOUN'), ('at', 'ADP'), ('unfair', 'ADJ'), ('prices', 'NOUN'), ('and', 'CONJ'), ('suggested', 'VERB'), ('that', 'ADP'), ('the', 'DET'), ('examination', 'NOUN'), ('practices', 'NOUN'), ('of', 'ADP'), ('the', 'DET'), ('NASD', 'NOUN'), ('need', 'VERB'), ('improvement', 'NOUN'), ('.', '.'), ('The', 'DET'), ('beds', 'PRT'), ('at', 'ADP'), ('the', 'DET'), ('Bowery', 'PRT'), ('Mission', 'PRT'), ('seem', 'VERB'), ('far', 'ADV'), ('drearier', 'PRT'), ('when', 'ADV'), ('he', 'PRON'), ('has', 'VERB'), ('*-1', 'X'), ('to', 'PRT'), ('tuck', 'PRT'), ('a', 'DET'), ('little', 'ADJ'), ('girl', 'NOUN'), ('into', 'ADP'), ('one', 'NUM'), ('of', 'ADP'), ('them', 'PRON'), ('at', 'ADP'), ('night', 'NOUN'), ('*T*-2', 'X'), ('.', '.'), ('And', 'CONJ'), ('several', 'ADJ'), ('new', 'ADJ'), ('funds', 'NOUN'), ('that', 'ADP'), ('*T*-44', 'X'), ('are', 'VERB'), (\"n't\", 'ADV'), ('even', 'ADV'), ('fully', 'ADV'), ('invested', 'VERB'), ('yet', 'ADV'), ('have', 'VERB'), ('jumped', 'VERB'), ('*-1', 'X'), ('to', 'PRT'), ('trade', 'NOUN'), ('at', 'ADP'), ('big', 'ADJ'), ('premiums', 'NOUN'), ('.', '.'), ('Average', 'NOUN'), ('of', 'ADP'), ('top', 'ADJ'), ('rates', 'NOUN'), ('paid', 'VERB'), ('*', 'X'), ('by', 'ADP'), ('major', 'ADJ'), ('New', 'NOUN'), ('York', 'NOUN'), ('banks', 'NOUN'), ('on', 'ADP'), ('primary', 'ADJ'), ('new', 'ADJ'), ('issues', 'NOUN'), ('of', 'ADP'), ('negotiable', 'PRT'), ('C.D.s', 'PRT'), (',', '.'), ('usually', 'ADV'), ('on', 'ADP'), ('amounts', 'NOUN'), ('of', 'ADP'), ('$', '.'), ('1', 'NUM'), ('million', 'NUM'), ('and', 'CONJ'), ('more', 'ADJ'), ('*U*', 'X'), ('.', '.'), ('Along', 'ADP'), ('with', 'ADP'), ('the', 'DET'), ('note', 'NOUN'), (',', '.'), ('Cray', 'NOUN'), ('Research', 'NOUN'), ('is', 'VERB'), ('transferring', 'VERB'), ('about', 'ADP'), ('$', '.'), ('53', 'NUM'), ('million', 'NUM'), ('*U*', 'X'), ('in', 'ADP'), ('assets', 'NOUN'), (',', '.'), ('primarily', 'ADV'), ('those', 'DET'), ('related', 'ADJ'), ('to', 'PRT'), ('the', 'DET'), ('Cray-3', 'NOUN'), ('development', 'NOUN'), (',', '.'), ('which', 'DET'), ('*T*-25', 'X'), ('has', 'VERB'), ('been', 'VERB'), ('a', 'DET'), ('drain', 'NOUN'), ('on', 'ADP'), ('Cray', 'NOUN'), ('Research', 'NOUN'), (\"'s\", 'PRT'), ('earnings', 'NOUN'), ('.', '.'), ('In', 'ADP'), ('addition', 'NOUN'), (',', '.'), ('the', 'DET'), ('U.S.', 'NOUN'), ('this', 'DET'), ('year', 'NOUN'), ('offered', 'VERB'), ('its', 'PRON'), ('own', 'ADJ'), ('plan', 'NOUN'), ('for', 'ADP'), ('cooperation', 'NOUN'), ('around', 'ADP'), ('the', 'DET'), ('Pacific', 'NOUN'), ('rim', 'PRT'), ('in', 'ADP'), ('a', 'DET'), ('major', 'ADJ'), ('speech', 'NOUN'), ('by', 'ADP'), ('Secretary', 'NOUN'), ('of', 'ADP'), ('State', 'NOUN'), ('James', 'NOUN'), ('Baker', 'NOUN'), (',', '.'), ('following', 'VERB'), ('up', 'ADV'), ('a', 'DET'), ('proposal', 'NOUN'), ('made', 'VERB'), ('*', 'X'), ('in', 'ADP'), ('January', 'NOUN'), ('by', 'ADP'), ('Australian', 'ADJ'), ('Prime', 'NOUN'), ('Minister', 'NOUN'), ('Bob', 'NOUN'), ('Hawke', 'PRT'), ('.', '.'), ('Many', 'ADJ'), ('attorneys', 'NOUN'), ('have', 'VERB'), ('returned', 'VERB'), ('incomplete', 'ADJ'), ('forms', 'NOUN'), ('to', 'PRT'), ('the', 'DET'), ('IRS', 'NOUN'), ('in', 'ADP'), ('recent', 'ADJ'), ('years', 'NOUN'), (',', '.'), ('*-1', 'X'), ('citing', 'VERB'), ('attorney-client', 'ADJ'), ('privilege', 'NOUN'), ('.', '.'), ('``', '.'), ('If', 'ADP'), ('we', 'PRON'), ('have', 'VERB'), ('a', 'DET'), ('real', 'ADJ'), ('bad', 'ADJ'), ('day', 'NOUN'), (',', '.'), ('the', 'DET'), ('program', 'NOUN'), ('would', 'VERB'), ('say', 'VERB'), (',', '.'), ('`', '.'), ('*', 'X'), ('Buy', 'VERB'), (',', '.'), (\"'\", '.'), (\"''\", '.'), ('he', 'PRON'), ('explains', 'VERB'), ('*T*-1', 'X'), ('.', '.'), ('The', 'DET'), ('Philadelphia', 'NOUN'), ('Fed', 'NOUN'), (',', '.'), ('for', 'ADP'), ('instance', 'NOUN'), (',', '.'), ('reported', 'VERB'), ('that', 'ADP'), ('manufacturing', 'NOUN'), ('activity', 'NOUN'), ('``', '.'), ('continues', 'VERB'), ('*-1', 'X'), ('to', 'PRT'), ('decline', 'VERB'), (\"''\", '.'), ('for', 'ADP'), ('the', 'DET'), ('fourth', 'ADJ'), ('month', 'NOUN'), ('in', 'ADP'), ('a', 'DET'), ('row', 'NOUN'), ('.', '.'), ('Many', 'ADJ'), ('felt', 'VERB'), ('0', 'X'), ('Hearst', 'NOUN'), ('kept', 'VERB'), ('the', 'DET'), ('paper', 'NOUN'), ('alive', 'ADJ'), ('as', 'ADP'), ('long', 'ADJ'), ('as', 'ADP'), ('it', 'PRON'), ('did', 'VERB'), (',', '.'), ('if', 'ADP'), ('marginally', 'ADV'), (',', '.'), ('because', 'ADP'), ('of', 'ADP'), ('its', 'PRON'), ('place', 'NOUN'), ('in', 'ADP'), ('family', 'NOUN'), ('history', 'NOUN'), ('.', '.'), ('Now', 'ADV'), (',', '.'), ('on', 'ADP'), ('a', 'DET'), ('good', 'ADJ'), ('day', 'NOUN'), (',', '.'), ('Chicago', 'NOUN'), (\"'s\", 'PRT'), ('stock-index', 'ADJ'), ('traders', 'NOUN'), ('trade', 'NOUN'), ('more', 'ADV'), ('dollars', 'NOUN'), ('worth', 'ADP'), ('of', 'ADP'), ('stock', 'NOUN'), ('futures', 'NOUN'), ('than', 'ADP'), ('the', 'DET'), ('Big', 'NOUN'), ('Board', 'NOUN'), ('trades', 'NOUN'), ('in', 'ADP'), ('stock', 'NOUN'), ('.', '.'), ('``', '.'), ('I', 'PRON'), ('never', 'ADV'), ('had', 'VERB'), ('any', 'DET'), ('clients', 'NOUN'), ('at', 'ADP'), ('all', 'DET'), ('.', '.'), ('The', 'DET'), ('index', 'NOUN'), ('was', 'VERB'), ('116.9', 'PRT'), ('in', 'ADP'), ('October', 'NOUN'), ('1988', 'NUM'), ('and', 'CONJ'), ('in', 'ADP'), ('the', 'DET'), ('past', 'ADJ'), ('year', 'NOUN'), ('has', 'VERB'), ('ranged', 'VERB'), ('from', 'ADP'), ('a', 'DET'), ('low', 'ADJ'), ('of', 'ADP'), ('112.9', 'PRT'), ('to', 'PRT'), ('a', 'DET'), ('high', 'ADJ'), ('of', 'ADP'), ('120.7', 'PRT'), ('.', '.'), ('We', 'PRON'), ('have', 'VERB'), ('no', 'DET'), ('doubt', 'NOUN'), ('0', 'X'), ('this', 'DET'), ('is', 'VERB'), ('one', 'NUM'), ('reason', 'NOUN'), ('0', 'X'), ('judges', 'NOUN'), ('in', 'ADP'), ('New', 'NOUN'), ('York', 'NOUN'), ('and', 'CONJ'), ('justices', 'NOUN'), ('on', 'ADP'), ('the', 'DET'), ('Supreme', 'NOUN'), ('Court', 'NOUN'), ('are', 'VERB'), ('willing', 'ADJ'), ('*-1', 'X'), ('to', 'PRT'), ('trash', 'PRT'), ('the', 'DET'), ('law', 'NOUN'), ('in', 'ADP'), ('the', 'DET'), ('DES', 'NOUN'), ('cases', 'NOUN'), ('.', '.'), ('South', 'NOUN'), ('Korea', 'NOUN'), ('registered', 'VERB'), ('a', 'DET'), ('trade', 'NOUN'), ('deficit', 'NOUN'), ('of', 'ADP'), ('$', '.'), ('101', 'NUM'), ('million', 'NUM'), ('*U*', 'X'), ('in', 'ADP'), ('October', 'NOUN'), (',', '.'), ('*', 'X'), ('reflecting', 'VERB'), ('the', 'DET'), ('country', 'NOUN'), (\"'s\", 'PRT'), ('economic', 'ADJ'), ('sluggishness', 'PRT'), (',', '.'), ('according', 'VERB'), ('to', 'PRT'), ('government', 'NOUN'), ('figures', 'NOUN'), ('released', 'VERB'), ('*', 'X'), ('Wednesday', 'NOUN'), ('.', '.'), ('Individual', 'PRT'), ('copies', 'NOUN'), ('of', 'ADP'), ('the', 'DET'), ('magazine', 'NOUN'), ('sell', 'VERB'), ('for', 'ADP'), ('$', '.'), ('2.95', 'PRT'), ('*U*', 'X'), ('and', 'CONJ'), ('yearly', 'PRT'), ('subscriptions', 'NOUN'), ('cost', 'NOUN'), ('$', '.'), ('21', 'NUM'), ('*U*', 'X'), ('.', '.'), ('Mr.', 'NOUN'), ('Jennison', 'NOUN'), ('said', 'VERB'), ('0', 'X'), ('Northeast', 'NOUN'), ('Bancorp', 'NOUN'), ('also', 'ADV'), ('fared', 'VERB'), ('well', 'ADV'), ('because', 'ADP'), ('takeover', 'NOUN'), ('stocks', 'NOUN'), ('have', 'VERB'), ('returned', 'VERB'), ('to', 'PRT'), ('favor', 'NOUN'), ('among', 'ADP'), ('investors', 'NOUN'), ('.', '.'), ('But', 'CONJ'), ('despite', 'ADP'), ('the', 'DET'), ('sensational', 'PRT'), ('nature', 'NOUN'), ('of', 'ADP'), ('the', 'DET'), ('revelations', 'PRT'), ('and', 'CONJ'), ('the', 'DET'), ('breezy', 'PRT'), (',', '.'), ('easy-to-read', 'PRT'), ('tabloid', 'ADJ'), ('writing', 'VERB'), ('style', 'NOUN'), (',', '.'), ('``', '.'), ('Feeding', 'NOUN'), ('Frenzy', 'NOUN'), (\"''\", '.'), ('often', 'ADV'), ('falls', 'VERB'), ('short', 'ADJ'), ('of', 'ADP'), ('gripping', 'PRT'), ('reading', 'NOUN'), ('.', '.'), ('The', 'DET'), ('December', 'NOUN'), ('contract', 'NOUN'), ('advanced', 'VERB'), ('2.50', 'NUM'), ('cents', 'NOUN'), ('a', 'DET'), ('pound', 'NOUN'), ('to', 'PRT'), ('$', '.'), ('1.1650', 'PRT'), ('*U*', 'X'), ('.', '.'), ('That', 'DET'), ('can', 'VERB'), ('pay', 'VERB'), ('off', 'PRT'), ('down', 'ADV'), ('the', 'DET'), ('road', 'NOUN'), ('as', 'ADP'), ('customers', 'NOUN'), (',', '.'), ('especially', 'ADV'), ('the', 'DET'), ('younger', 'ADJ'), ('ones', 'NOUN'), (',', '.'), ('change', 'NOUN'), ('from', 'ADP'), ('borrowers', 'PRT'), ('to', 'PRT'), ('savers\\\\/investors', 'PRT'), ('.', '.'), ('But', 'CONJ'), ('the', 'DET'), ('exact', 'ADJ'), ('amount', 'NOUN'), ('of', 'ADP'), ('Reliance', 'NOUN'), (\"'s\", 'PRT'), ('current', 'ADJ'), ('holding', 'NOUN'), ('has', 'VERB'), (\"n't\", 'ADV'), ('been', 'VERB'), ('formally', 'ADV'), ('disclosed', 'VERB'), ('*-1', 'X'), ('.', '.'), ('Such', 'ADJ'), ('an', 'DET'), ('application', 'NOUN'), ('for', 'ADP'), ('federal', 'ADJ'), ('antitrust', 'ADJ'), ('clearance', 'NOUN'), ('is', 'VERB'), ('necessary', 'ADJ'), ('for', 'ADP'), ('any', 'DET'), ('investor', 'NOUN'), ('that', 'ADP'), ('*T*-1', 'X'), ('might', 'VERB'), ('seek', 'VERB'), ('control', 'NOUN'), ('.', '.'), ('Paul', 'NOUN'), ('Sandifer', 'PRT'), (',', '.'), ('director', 'NOUN'), ('of', 'ADP'), ('testing', 'NOUN'), ('for', 'ADP'), ('the', 'DET'), ('South', 'NOUN'), ('Carolina', 'NOUN'), ('department', 'NOUN'), ('of', 'ADP'), ('education', 'NOUN'), (',', '.'), ('says', 'VERB'), ('0', 'X'), ('Mr.', 'NOUN'), ('Cannell', 'NOUN'), (\"'s\", 'PRT'), ('allegations', 'NOUN'), ('of', 'ADP'), ('cheating', 'NOUN'), ('``', '.'), ('are', 'VERB'), ('purely', 'PRT'), ('without', 'ADP'), ('foundation', 'PRT'), (',', '.'), (\"''\", '.'), ('and', 'CONJ'), ('based', 'VERB'), ('on', 'ADP'), ('unfair', 'ADJ'), ('inferences', 'PRT'), ('.', '.'), ('When', 'ADV'), ('the', 'DET'), ('stock', 'NOUN'), ('market', 'NOUN'), ('dropped', 'VERB'), ('nearly', 'ADV'), ('7', 'NUM'), ('%', 'NOUN'), ('Oct.', 'NOUN'), ('13', 'NUM'), ('*T*-1', 'X'), (',', '.'), ('for', 'ADP'), ('instance', 'NOUN'), (',', '.'), ('the', 'DET'), ('Mexico', 'NOUN'), ('Fund', 'NOUN'), ('plunged', 'VERB'), ('about', 'ADP'), ('18', 'NUM'), ('%', 'NOUN'), ('and', 'CONJ'), ('the', 'DET'), ('Spain', 'NOUN'), ('Fund', 'NOUN'), ('fell', 'VERB'), ('16', 'NUM'), ('%', 'NOUN'), ('.', '.'), ('The', 'DET'), ('PLO', 'PRT'), ('in', 'ADP'), ('recent', 'ADJ'), ('months', 'NOUN'), ('has', 'VERB'), ('been', 'VERB'), ('trying', 'VERB'), ('*-1', 'X'), ('to', 'PRT'), ('join', 'VERB'), ('international', 'ADJ'), ('organizations', 'NOUN'), ('but', 'CONJ'), ('failed', 'VERB'), ('earlier', 'ADJ'), ('this', 'DET'), ('year', 'NOUN'), ('*-1', 'X'), ('to', 'PRT'), ('win', 'VERB'), ('membership', 'NOUN'), ('in', 'ADP'), ('the', 'DET'), ('World', 'NOUN'), ('Health', 'NOUN'), ('Organization', 'NOUN'), ('and', 'CONJ'), ('the', 'DET'), ('World', 'NOUN'), ('Tourism', 'PRT'), ('Organization', 'NOUN'), ('.', '.'), ('The', 'DET'), ('department', 'NOUN'), (\"'s\", 'PRT'), ('Occupational', 'NOUN'), ('Safety', 'NOUN'), ('and', 'CONJ'), ('Health', 'NOUN'), ('Administration', 'NOUN'), ('proposed', 'VERB'), ('fines', 'NOUN'), ('of', 'ADP'), ('$', '.'), ('6.1', 'NUM'), ('million', 'NUM'), ('*U*', 'X'), ('for', 'ADP'), ('alleged', 'ADJ'), ('violations', 'NOUN'), ('at', 'ADP'), ('the', 'DET'), ('company', 'NOUN'), (\"'s\", 'PRT'), ('Fairless', 'NOUN'), ('Hills', 'NOUN'), (',', '.'), ('Pa.', 'NOUN'), (',', '.'), ('steel', 'NOUN'), ('mill', 'PRT'), (';', '.'), ('that', 'DET'), ('was', 'VERB'), ('a', 'DET'), ('record', 'NOUN'), ('for', 'ADP'), ('proposed', 'VERB'), ('penalties', 'NOUN'), ('at', 'ADP'), ('any', 'DET'), ('single', 'ADJ'), ('facility', 'NOUN'), ('.', '.'), ('``', '.'), ('*', 'X'), ('Being', 'PRT'), ('a', 'DET'), ('teacher', 'NOUN'), ('just', 'ADV'), ('became', 'VERB'), ('my', 'PRON'), ('life', 'NOUN'), (',', '.'), (\"''\", '.'), ('says', 'VERB'), ('*T*-1', 'X'), ('the', 'DET'), ('37-year-old', 'PRT'), ('Mrs.', 'NOUN'), ('Yeargin', 'NOUN'), (',', '.'), ('a', 'DET'), ('teacher', 'NOUN'), ('for', 'ADP'), ('12', 'NUM'), ('years', 'NOUN'), ('before', 'ADP'), ('her', 'PRON'), ('dismissal', 'PRT'), ('.', '.'), ('``', '.'), ('The', 'DET'), ('declaration', 'PRT'), ('by', 'ADP'), ('Economy', 'PRT'), ('Minister', 'NOUN'), ('Nestor', 'PRT'), ('Rapanelli', 'NOUN'), ('is', 'VERB'), ('believed', 'VERB'), ('*-1', 'X'), ('to', 'PRT'), ('be', 'VERB'), ('the', 'DET'), ('first', 'ADJ'), ('time', 'NOUN'), ('0', 'X'), ('such', 'ADJ'), ('an', 'DET'), ('action', 'NOUN'), ('has', 'VERB'), ('been', 'VERB'), ('called', 'VERB'), ('for', 'ADP'), ('*-3', 'X'), ('by', 'ADP'), ('an', 'DET'), ('Argentine', 'ADJ'), ('official', 'NOUN'), ('of', 'ADP'), ('such', 'ADJ'), ('stature', 'NOUN'), ('*T*-2', 'X'), ('.', '.'), ('But', 'CONJ'), ('in', 'ADP'), ('August', 'NOUN'), (',', '.'), ('First', 'NOUN'), ('Atlanta', 'NOUN'), ('National', 'NOUN'), ('Bank', 'NOUN'), ('introduced', 'VERB'), ('its', 'PRON'), ('Crown', 'NOUN'), ('Account', 'NOUN'), (',', '.'), ('a', 'DET'), ('package', 'NOUN'), ('designed', 'VERB'), ('*', 'X'), ('*-1', 'X'), ('to', 'PRT'), ('lure', 'VERB'), ('customers', 'NOUN'), ('such', 'ADJ'), ('as', 'ADP'), ('Ms.', 'NOUN'), ('Driskill', 'NOUN'), ('.', '.'), ('The', 'DET'), ('rifles', 'NOUN'), ('were', 'VERB'), (\"n't\", 'ADV'), ('loaded', 'VERB'), ('*-1', 'X'), ('.', '.'), ('The', 'DET'), ('judge', 'NOUN'), ('declined', 'VERB'), ('*-1', 'X'), ('to', 'PRT'), ('discuss', 'VERB'), ('his', 'PRON'), ('salary', 'NOUN'), ('in', 'ADP'), ('detail', 'PRT'), (',', '.'), ('but', 'CONJ'), ('said', 'VERB'), (':', '.'), ('``', '.'), ('I', 'PRON'), (\"'m\", 'VERB'), ('going', 'VERB'), ('*-2', 'X'), ('to', 'PRT'), ('be', 'VERB'), ('a', 'DET'), ('high-priced', 'ADJ'), ('lawyer', 'NOUN'), ('.', '.'), (\"''\", '.'), ('The', 'DET'), ('judge', 'NOUN'), ('was', 'VERB'), ('quoted', 'VERB'), ('*-1', 'X'), ('as', 'ADP'), ('*-4', 'X'), ('referring', 'PRT'), ('to', 'PRT'), ('the', 'DET'), ('victims', 'NOUN'), ('as', 'ADP'), ('``', '.'), ('queers', 'PRT'), (\"''\", '.'), ('and', 'CONJ'), ('*-4', 'X'), ('saying', 'VERB'), ('0', 'X'), ('they', 'PRON'), ('would', 'VERB'), (\"n't\", 'ADV'), ('have', 'VERB'), ('been', 'VERB'), ('killed', 'VERB'), ('*-2', 'X'), ('``', '.'), ('if', 'ADP'), ('they', 'PRON'), ('had', 'VERB'), (\"n't\", 'ADV'), ('been', 'VERB'), ('cruising', 'PRT'), ('the', 'DET'), ('streets', 'NOUN'), ('*-3', 'X'), ('picking', 'PRT'), ('up', 'ADV'), ('teenage', 'PRT'), ('boys', 'NOUN'), ('.', '.'), (\"''\", '.'), ('The', 'DET'), ('Ginnie', 'NOUN'), ('Mae', 'NOUN'), ('9', 'NUM'), ('%', 'NOUN'), ('securities', 'NOUN'), ('were', 'VERB'), ('yielding', 'VERB'), ('9.32', 'PRT'), ('%', 'NOUN'), ('to', 'PRT'), ('a', 'DET'), ('12-year', 'PRT'), ('average', 'ADJ'), ('life', 'NOUN'), ('.', '.'), ('None', 'NOUN'), ('of', 'ADP'), ('the', 'DET'), ('securities', 'NOUN'), ('will', 'VERB'), ('be', 'VERB'), ('eligible', 'ADJ'), ('for', 'ADP'), ('when-issued', 'PRT'), ('trading', 'NOUN'), ('until', 'ADP'), ('Congress', 'NOUN'), ('approves', 'PRT'), ('an', 'DET'), ('increase', 'NOUN'), ('in', 'ADP'), ('the', 'DET'), ('debt', 'NOUN'), ('ceiling', 'NOUN'), (',', '.'), ('*-1', 'X'), ('clearing', 'PRT'), ('the', 'DET'), ('way', 'NOUN'), ('for', 'ADP'), ('a', 'DET'), ('formal', 'ADJ'), ('offering', 'NOUN'), (',', '.'), ('Mr.', 'NOUN'), ('Basham', 'NOUN'), ('said', 'VERB'), ('0', 'X'), ('*T*-2', 'X'), ('.', '.'), ('Packages', 'PRT'), ('encourage', 'VERB'), ('loyalty', 'NOUN'), ('by', 'ADP'), ('*-1', 'X'), ('rewarding', 'PRT'), ('customers', 'NOUN'), ('for', 'ADP'), ('*', 'X'), ('doing', 'VERB'), ('the', 'DET'), ('bulk', 'NOUN'), ('of', 'ADP'), ('their', 'PRON'), ('banking', 'NOUN'), ('in', 'ADP'), ('one', 'NUM'), ('place', 'NOUN'), ('.', '.'), ('The', 'DET'), ('recent', 'ADJ'), ('quarter', 'NOUN'), ('includes', 'VERB'), ('pretax', 'ADJ'), ('gains', 'NOUN'), ('of', 'ADP'), ('$', '.'), ('98', 'NUM'), ('million', 'NUM'), ('*U*', 'X'), ('from', 'ADP'), ('asset', 'NOUN'), ('sales', 'NOUN'), (',', '.'), ('while', 'ADP'), ('like', 'ADP'), ('gains', 'NOUN'), ('in', 'ADP'), ('the', 'DET'), ('year-earlier', 'ADJ'), ('quarter', 'NOUN'), ('totaled', 'VERB'), ('$', '.'), ('61', 'NUM'), ('million', 'NUM'), ('*U*', 'X'), ('.', '.'), ('Moody', 'NOUN'), (\"'s\", 'PRT'), ('said', 'VERB'), ('0', 'X'), ('those', 'DET'), ('returns', 'NOUN'), ('compare', 'PRT'), ('with', 'ADP'), ('a', 'DET'), ('3.8', 'NUM'), ('%', 'NOUN'), ('total', 'NOUN'), ('return', 'NOUN'), ('for', 'ADP'), ('longer-term', 'ADJ'), ('Treasury', 'NOUN'), ('notes', 'NOUN'), ('and', 'CONJ'), ('bonds', 'NOUN'), ('.', '.'), ('Mr.', 'NOUN'), ('Baum', 'NOUN'), (',', '.'), ('a', 'DET'), ('seasoned', 'PRT'), ('marketer', 'NOUN'), ('who', 'PRON'), ('*T*-29', 'X'), ('is', 'VERB'), ('said', 'VERB'), ('*-1', 'X'), ('to', 'PRT'), ('have', 'VERB'), ('a', 'DET'), ('good', 'ADJ'), ('rapport', 'PRT'), ('with', 'ADP'), ('Campbell', 'NOUN'), ('employees', 'NOUN'), (',', '.'), ('will', 'VERB'), ('have', 'VERB'), ('responsibility', 'NOUN'), ('for', 'ADP'), ('all', 'DET'), ('domestic', 'ADJ'), ('operations', 'NOUN'), ('except', 'ADP'), ('the', 'DET'), ('Pepperidge', 'NOUN'), ('Farm', 'NOUN'), ('unit', 'NOUN'), ('.', '.'), ('Program', 'NOUN'), ('traders', 'NOUN'), ('are', 'VERB'), ('fond', 'PRT'), ('of', 'ADP'), ('*-1', 'X'), ('predicting', 'VERB'), ('that', 'ADP'), ('if', 'ADP'), ('they', 'PRON'), ('are', 'VERB'), ('blocked', 'PRT'), ('*-159', 'PRT'), ('in', 'ADP'), ('the', 'DET'), ('U.S.', 'NOUN'), (',', '.'), ('they', 'PRON'), ('will', 'VERB'), ('simply', 'ADV'), ('emigrate', 'PRT'), ('to', 'PRT'), ('foreign', 'ADJ'), ('stock', 'NOUN'), ('markets', 'NOUN'), ('.', '.'), ('While', 'ADP'), ('*-1', 'X'), ('acknowledging', 'PRT'), ('0', 'X'), ('one', 'NUM'), ('month', 'NOUN'), (\"'s\", 'PRT'), ('figures', 'NOUN'), ('do', 'VERB'), (\"n't\", 'ADV'), ('prove', 'VERB'), ('a', 'DET'), ('trend', 'NOUN'), (',', '.'), ('Mr.', 'NOUN'), ('Bretz', 'NOUN'), ('said', 'VERB'), (',', '.'), ('``', '.'), ('It', 'PRON'), ('does', 'VERB'), ('lead', 'VERB'), ('you', 'PRON'), ('to', 'PRT'), ('suspect', 'VERB'), ('0', 'X'), ('imports', 'NOUN'), ('are', 'VERB'), ('going', 'VERB'), ('down', 'ADV'), (',', '.'), ('or', 'CONJ'), ('at', 'ADP'), ('least', 'ADJ'), ('not', 'ADV'), ('increasing', 'VERB'), ('that', 'ADP'), ('much', 'ADJ'), ('.', '.'), (\"''\", '.'), ('The', 'DET'), ('year-ago', 'ADJ'), ('results', 'NOUN'), ('included', 'VERB'), ('a', 'DET'), ('$', '.'), ('415', 'PRT'), ('million', 'NUM'), ('*U*', 'X'), ('charge', 'VERB'), ('in', 'ADP'), ('the', 'DET'), ('1988', 'NUM'), ('second', 'ADJ'), ('quarter', 'NOUN'), ('for', 'ADP'), ('underperforming', 'PRT'), ('real', 'ADJ'), ('estate', 'NOUN'), ('and', 'CONJ'), ('mortgage', 'NOUN'), ('loans', 'NOUN'), ('.', '.'), ('It', 'PRON'), ('*EXP*-1', 'X'), ('was', 'VERB'), (\"n't\", 'ADV'), ('clear', 'ADJ'), ('how', 'ADV'), ('NL', 'NOUN'), ('and', 'CONJ'), ('Mr.', 'NOUN'), ('Simmons', 'NOUN'), ('would', 'VERB'), ('respond', 'VERB'), ('*T*-2', 'X'), ('if', 'ADP'), ('Georgia', 'NOUN'), ('Gulf', 'NOUN'), ('spurns', 'PRT'), ('them', 'PRON'), ('again', 'ADV'), ('.', '.'), ('The', 'DET'), ('department', 'NOUN'), ('placed', 'VERB'), ('a', 'DET'), ('moratorium', 'NOUN'), ('on', 'ADP'), ('the', 'DET'), ('research', 'NOUN'), (',', '.'), ('*', 'X'), ('pending', 'VERB'), ('a', 'DET'), ('review', 'NOUN'), ('of', 'ADP'), ('scientific', 'ADJ'), (',', '.'), ('legal', 'ADJ'), ('and', 'CONJ'), ('ethical', 'ADJ'), ('issues', 'NOUN'), ('.', '.'), ('In', 'ADP'), ('some', 'DET'), ('cases', 'NOUN'), (',', '.'), ('the', 'DET'), ('IRS', 'NOUN'), ('asked', 'VERB'), ('for', 'ADP'), ('information', 'NOUN'), ('dating', 'PRT'), ('back', 'ADV'), ('to', 'PRT'), ('forms', 'NOUN'), ('0', 'X'), ('it', 'PRON'), ('received', 'VERB'), ('*T*-1', 'X'), ('in', 'ADP'), ('1985', 'NUM'), ('.', '.'), ('Ms.', 'NOUN'), ('Ensrud', 'PRT'), ('is', 'VERB'), ('a', 'DET'), ('free-lance', 'PRT'), ('wine', 'NOUN'), ('writer', 'NOUN'), ('in', 'ADP'), ('New', 'NOUN'), ('York', 'NOUN'), ('.', '.'), ('While', 'ADP'), ('he', 'PRON'), ('reaffirmed', 'PRT'), ('support', 'VERB'), ('for', 'ADP'), ('the', 'DET'), ('country', 'NOUN'), (\"'s\", 'PRT'), ('Feb.', 'NOUN'), ('25', 'NUM'), ('elections', 'NOUN'), (',', '.'), ('Ortega', 'PRT'), ('indicated', 'VERB'), ('that', 'ADP'), ('renewed', 'VERB'), ('U.S.', 'NOUN'), ('military', 'ADJ'), ('aid', 'NOUN'), ('to', 'PRT'), ('the', 'DET'), ('Contras', 'NOUN'), ('could', 'VERB'), ('thwart', 'PRT'), ('the', 'DET'), ('balloting', 'NOUN'), ('.', '.'), ('Index', 'NOUN'), ('arbitrage', 'NOUN'), ('is', 'VERB'), ('a', 'DET'), ('common', 'ADJ'), ('form', 'NOUN'), ('of', 'ADP'), ('program', 'NOUN'), ('trading', 'NOUN'), ('.', '.'), ('Attorneys', 'NOUN'), ('have', 'VERB'), ('argued', 'VERB'), ('since', 'ADP'), ('1985', 'NUM'), (',', '.'), ('when', 'ADV'), ('the', 'DET'), ('law', 'NOUN'), ('took', 'VERB'), ('effect', 'NOUN'), ('*T*-1', 'X'), (',', '.'), ('that', 'DET'), ('they', 'PRON'), ('can', 'VERB'), ('not', 'ADV'), ('provide', 'VERB'), ('information', 'NOUN'), ('about', 'ADP'), ('clients', 'NOUN'), ('who', 'PRON'), ('*T*-127', 'PRT'), ('do', 'VERB'), (\"n't\", 'ADV'), ('wish', 'VERB'), ('their', 'PRON'), ('identities', 'PRT'), ('to', 'PRT'), ('be', 'VERB'), ('known', 'VERB'), ('*-3', 'X'), ('.', '.'), ('The', 'DET'), ('economists', 'NOUN'), ('forecast', 'NOUN'), ('a', 'DET'), ('0.1', 'NUM'), ('%', 'NOUN'), ('rise', 'VERB'), ('in', 'ADP'), ('the', 'DET'), ('unemployment', 'NOUN'), ('rate', 'NOUN'), ('to', 'PRT'), ('5.4', 'NUM'), ('%', 'NOUN'), ('.', '.'), ('The', 'DET'), ('big', 'ADJ'), ('problem', 'NOUN'), (',', '.'), ('however', 'ADV'), (',', '.'), ('is', 'VERB'), ('that', 'ADP'), ('there', 'DET'), (\"'s\", 'VERB'), ('no', 'DET'), ('guarantee', 'VERB'), ('that', 'ADP'), ('this', 'DET'), ('reasoning', 'NOUN'), ('will', 'VERB'), ('be', 'VERB'), ('limited', 'VERB'), ('*-1', 'X'), ('to', 'PRT'), ('DES', 'NOUN'), ('or', 'CONJ'), ('to', 'PRT'), ('drugs', 'NOUN'), ('.', '.'), ('In', 'ADP'), ('late', 'ADJ'), ('New', 'NOUN'), ('York', 'NOUN'), ('trading', 'NOUN'), ('yesterday', 'NOUN'), (',', '.'), ('the', 'DET'), ('dollar', 'NOUN'), ('was', 'VERB'), ('quoted', 'VERB'), ('*-1', 'X'), ('at', 'ADP'), ('1.8500', 'NUM'), ('marks', 'NOUN'), (',', '.'), ('up', 'ADV'), ('from', 'ADP'), ('1.8415', 'NUM'), ('marks', 'NOUN'), ('late', 'ADJ'), ('Tuesday', 'NOUN'), (',', '.'), ('and', 'CONJ'), ('at', 'ADP'), ('143.80', 'NUM'), ('yen', 'NOUN'), (',', '.'), ('up', 'ADV'), ('from', 'ADP'), ('142.85', 'NUM'), ('yen', 'NOUN'), ('late', 'ADJ'), ('Tuesday', 'NOUN'), ('.', '.'), ('The', 'DET'), ('Herald', 'NOUN'), (\"'s\", 'PRT'), ('sports', 'NOUN'), ('coverage', 'PRT'), ('and', 'CONJ'), ('arts', 'PRT'), ('criticism', 'PRT'), ('were', 'VERB'), ('also', 'ADV'), ('highly', 'ADV'), ('regarded', 'VERB'), ('.', '.'), ('Campbell', 'NOUN'), ('Soup', 'NOUN'), (',', '.'), ('not', 'ADV'), ('surprisingly', 'ADV'), (',', '.'), ('does', 'VERB'), (\"n't\", 'ADV'), ('have', 'VERB'), ('any', 'DET'), ('plans', 'NOUN'), ('*', 'X'), ('to', 'PRT'), ('advertise', 'VERB'), ('in', 'ADP'), ('the', 'DET'), ('magazine', 'NOUN'), (',', '.'), ('according', 'VERB'), ('to', 'PRT'), ('its', 'PRON'), ('spokesman', 'NOUN'), ('.', '.'), ('``', '.'), ('Who', 'PRON'), ('*T*-1', 'X'), (\"'s\", 'PRT'), ('really', 'ADV'), ('lying', 'VERB'), ('?', '.'), (\"''\", '.'), ('asks', 'VERB'), ('*T*-2', 'X'), ('a', 'DET'), ('female', 'ADJ'), ('voice', 'NOUN'), ('.', '.')]\n"
     ]
    }
   ],
   "source": [
    "#Print total time taken to train the algorithm\n",
    "print(\"Time taken in seconds: \", difference)\n",
    "print(tagged_seq)"
   ]
  },
  {
   "cell_type": "code",
   "execution_count": 26,
   "metadata": {},
   "outputs": [
    {
     "name": "stdout",
     "output_type": "stream",
     "text": [
      "0.9145935357492654\n"
     ]
    }
   ],
   "source": [
    "#Accuracy of model\n",
    "check = [i for i, j in zip(tagged_seq, test_run_base) if i == j] \n",
    "accuracy = len(check)/len(tagged_seq)\n",
    "print(accuracy)"
   ]
  },
  {
   "cell_type": "markdown",
   "metadata": {},
   "source": [
    "We are getting around 90% of accuracy with the default Viterbi algorithm.\n",
    "\n",
    "Let's compare with the test sentences and see how it tagged the sentences."
   ]
  },
  {
   "cell_type": "code",
   "execution_count": 33,
   "metadata": {},
   "outputs": [
    {
     "name": "stdout",
     "output_type": "stream",
     "text": [
      "Android is a mobile operating system developed by Google.\r\n",
      "\n",
      "Android has been the best-selling OS worldwide on smartphones since 2011 and on tablets since 2013.\r\n",
      "\n",
      "Google and Twitter made a deal in 2015 that gave Google access to Twitter's firehose.\r\n",
      "\n",
      "Twitter is an online news and social networking service on which users post and interact with messages known as tweets.\r\n",
      "\n",
      "Before entering politics, Donald Trump was a domineering businessman and a television personality.\r\n",
      "\n",
      "The 2018 FIFA World Cup is the 21st FIFA World Cup, an international football tournament contested once every four years.\r\n",
      "\n",
      "This is the first World Cup to be held in Eastern Europe and the 11th time that it has been held in Europe.\r\n",
      "\n",
      "Show me the cheapest round trips from Dallas to Atlanta\r\n",
      "\n",
      "I would like to see flights from Denver to Philadelphia.\r\n",
      "\n",
      "Show me the price of the flights leaving Atlanta at about 3 in the afternoon and arriving in San Francisco.\r\n",
      "\n",
      "NASA invited social media users to experience the launch of ICESAT-2 Satellite.\n"
     ]
    }
   ],
   "source": [
    "#Read the text file\n",
    "lines=[]\n",
    "f = codecs.open(\"C:\\\\Users\\\\koustav\\\\Desktop\\\\Sample test sentences.txt\", encoding='utf-8')\n",
    "for line in f:\n",
    "    print(line)\n",
    "    lines.append(line)"
   ]
  },
  {
   "cell_type": "markdown",
   "metadata": {},
   "source": [
    "### Solve the problem of unknown words"
   ]
  },
  {
   "cell_type": "code",
   "execution_count": 34,
   "metadata": {},
   "outputs": [
    {
     "data": {
      "text/plain": [
       "['Android is a mobile operating system developed by Google.\\r\\n',\n",
       " 'Android has been the best-selling OS worldwide on smartphones since 2011 and on tablets since 2013.\\r\\n',\n",
       " \"Google and Twitter made a deal in 2015 that gave Google access to Twitter's firehose.\\r\\n\",\n",
       " 'Twitter is an online news and social networking service on which users post and interact with messages known as tweets.\\r\\n',\n",
       " 'Before entering politics, Donald Trump was a domineering businessman and a television personality.\\r\\n',\n",
       " 'The 2018 FIFA World Cup is the 21st FIFA World Cup, an international football tournament contested once every four years.\\r\\n',\n",
       " 'This is the first World Cup to be held in Eastern Europe and the 11th time that it has been held in Europe.\\r\\n',\n",
       " 'Show me the cheapest round trips from Dallas to Atlanta\\r\\n',\n",
       " 'I would like to see flights from Denver to Philadelphia.\\r\\n',\n",
       " 'Show me the price of the flights leaving Atlanta at about 3 in the afternoon and arriving in San Francisco.\\r\\n',\n",
       " 'NASA invited social media users to experience the launch of ICESAT-2 Satellite.']"
      ]
     },
     "execution_count": 34,
     "metadata": {},
     "output_type": "execute_result"
    }
   ],
   "source": [
    "lines"
   ]
  },
  {
   "cell_type": "code",
   "execution_count": 35,
   "metadata": {},
   "outputs": [
    {
     "data": {
      "text/plain": [
       "['Android is a mobile operating system developed by Google.',\n",
       " 'Android has been the best-selling OS worldwide on smartphones since 2011 and on tablets since 2013.',\n",
       " \"Google and Twitter made a deal in 2015 that gave Google access to Twitter's firehose.\",\n",
       " 'Twitter is an online news and social networking service on which users post and interact with messages known as tweets.',\n",
       " 'Before entering politics, Donald Trump was a domineering businessman and a television personality.',\n",
       " 'The 2018 FIFA World Cup is the 21st FIFA World Cup, an international football tournament contested once every four years.',\n",
       " 'This is the first World Cup to be held in Eastern Europe and the 11th time that it has been held in Europe.',\n",
       " 'Show me the cheapest round trips from Dallas to Atlanta',\n",
       " 'I would like to see flights from Denver to Philadelphia.',\n",
       " 'Show me the price of the flights leaving Atlanta at about 3 in the afternoon and arriving in San Francisco.',\n",
       " 'NASA invited social media users to experience the launch of ICESAT-2 Satellite.']"
      ]
     },
     "execution_count": 35,
     "metadata": {},
     "output_type": "execute_result"
    }
   ],
   "source": [
    "#Strip the special characters and empty strings in the list file\n",
    "test_lines =[sent.rstrip() for sent in lines if sent.rstrip()!='']\n",
    "test_lines"
   ]
  },
  {
   "cell_type": "code",
   "execution_count": 36,
   "metadata": {},
   "outputs": [
    {
     "data": {
      "text/plain": [
       "[[(',', '.'), (('as', 'ADP'), ('as', 'ADV'))],\n",
       " [('the', 'DET'), (('principal', 'NOUN'), ('principal', 'ADJ'))],\n",
       " [('principal', 'ADJ'), (('fights', 'PRT'), ('fights', 'NOUN'))],\n",
       " [('will', 'VERB'), (('invite', 'PRT'), ('invite', 'VERB'))],\n",
       " [('to', 'PRT'), (('suit', 'NOUN'), ('suit', 'VERB'))],\n",
       " [('its', 'PRON'), (('purposes', 'PRT'), ('purposes', 'NOUN'))],\n",
       " [('point', 'NOUN'), (('higher', 'ADJ'), ('higher', 'ADV'))],\n",
       " [('moderate', 'ADJ'), (('trading', 'NOUN'), ('trading', 'VERB'))],\n",
       " [('until', 'ADP'), (('midyear', 'PRT'), ('midyear', 'NOUN'))],\n",
       " [('to', 'PRT'), (('13.1', 'PRT'), ('13.1', 'NUM'))],\n",
       " [('No', 'DET'), (('one', 'NUM'), ('one', 'NOUN'))],\n",
       " [('pick', 'VERB'), (('up', 'ADV'), ('up', 'PRT'))],\n",
       " [('its', 'PRON'), (('marbles', 'PRT'), ('marbles', 'NOUN'))],\n",
       " [('go', 'VERB'), (('home', 'NOUN'), ('home', 'ADV'))],\n",
       " [('.', '.'), (('Academically', 'PRT'), ('Academically', 'ADV'))],\n",
       " [('two', 'NUM'), (('disparate', 'PRT'), ('disparate', 'ADJ'))],\n",
       " [('evenly', 'ADV'), (('split', 'VERB'), ('split', 'ADJ'))],\n",
       " [('a', 'DET'), (('privileged', 'PRT'), ('privileged', 'ADJ'))],\n",
       " [('white', 'ADJ'), (('elite', 'PRT'), ('elite', 'NOUN'))],\n",
       " [('old', 'ADJ'), (('monied', 'PRT'), ('monied', 'ADJ'))],\n",
       " [('monied', 'ADJ'), (('neighborhoods', 'PRT'), ('neighborhoods', 'NOUN'))],\n",
       " [(',', '.'), (('inner', 'PRT'), ('inner', 'ADJ'))],\n",
       " [('city', 'NOUN'), (('neighborhoods', 'PRT'), ('neighborhoods', 'NOUN'))],\n",
       " [('*', 'X'), (('Depending', 'PRT'), ('Depending', 'VERB'))],\n",
       " [('would', 'VERB'), (('issue', 'NOUN'), ('issue', 'VERB'))],\n",
       " [('and', 'CONJ'), (('2.35', 'PRT'), ('2.35', 'NUM'))],\n",
       " [('million', 'NUM'), (('preferred', 'ADJ'), ('preferred', 'VERB'))],\n",
       " [('is', 'VERB'), (('propelling', 'PRT'), ('propelling', 'VERB'))],\n",
       " [('.', '.'), (('Almost', 'PRT'), ('Almost', 'ADV'))],\n",
       " [('little', 'ADJ'), (('guy', 'PRT'), ('guy', 'NOUN'))],\n",
       " [('he', 'PRON'), (('invariably', 'PRT'), ('invariably', 'ADV'))],\n",
       " [('be', 'VERB'), (('no', 'DET'), ('no', 'ADV'))],\n",
       " [('do', 'VERB'), (('that', 'ADP'), ('that', 'DET'))],\n",
       " [('a', 'DET'), (('cut', 'VERB'), ('cut', 'NOUN'))],\n",
       " [('*-1', 'X'), (('downright', 'PRT'), ('downright', 'ADV'))],\n",
       " [('downright', 'ADV'), (('thumbing', 'PRT'), ('thumbing', 'VERB'))],\n",
       " [('Lord', 'NOUN'), (('Chilver', 'PRT'), ('Chilver', 'NOUN'))],\n",
       " [(',', '.'), (('63-year-old', 'PRT'), ('63-year-old', 'ADJ'))],\n",
       " [('of', 'ADP'), (('English', 'ADJ'), ('English', 'NOUN'))],\n",
       " [('China', 'NOUN'), (('Clays', 'PRT'), ('Clays', 'NOUN'))],\n",
       " [('the', 'DET'), (('very', 'ADV'), ('very', 'ADJ'))],\n",
       " [('very', 'ADJ'), (('building', 'VERB'), ('building', 'NOUN'))],\n",
       " [('*ICH*-4', 'X'), (('that', 'ADP'), ('that', 'DET'))],\n",
       " [('the', 'DET'), (('twin', 'PRT'), ('twin', 'NOUN'))],\n",
       " [('twin', 'NOUN'), (('dams', 'PRT'), ('dams', 'NOUN'))],\n",
       " [('Lorillard', 'NOUN'), (('spokewoman', 'PRT'), ('spokewoman', 'NOUN'))],\n",
       " [('fresh', 'ADJ'),\n",
       "  (('life-of-contract', 'PRT'), ('life-of-contract', 'ADJ'))],\n",
       " [('of', 'ADP'), (('14.54', 'PRT'), ('14.54', 'NUM'))],\n",
       " [('and', 'CONJ'), (('14.28', 'PRT'), ('14.28', 'NUM'))],\n",
       " [('``', '.'), (('filled', 'PRT'), ('filled', 'VERB'))],\n",
       " [('the', 'DET'), (('solemn', 'PRT'), ('solemn', 'ADJ'))],\n",
       " [('solemn', 'ADJ'), (('intoxication', 'PRT'), ('intoxication', 'NOUN'))],\n",
       " [('that', 'DET'), (('*T*-226', 'PRT'), ('*T*-226', 'X'))],\n",
       " [('of', 'ADP'), (('intricate', 'PRT'), ('intricate', 'ADJ'))],\n",
       " [('intricate', 'ADJ'), (('ritual', 'PRT'), ('ritual', 'NOUN'))],\n",
       " [('ritual', 'NOUN'), (('faultlessly', 'PRT'), ('faultlessly', 'ADV'))],\n",
       " [('Miami', 'NOUN'), (('Dolphins', 'PRT'), ('Dolphins', 'NOUN'))],\n",
       " [('Robbie', 'NOUN'), (('disagrees', 'PRT'), ('disagrees', 'VERB'))],\n",
       " [('been', 'VERB'), (('pushing', 'PRT'), ('pushing', 'VERB'))],\n",
       " [('been', 'VERB'), (('resisting', 'PRT'), ('resisting', 'VERB'))],\n",
       " [('Ed', 'NOUN'), (('Macheski', 'PRT'), ('Macheski', 'NOUN'))],\n",
       " [('a', 'DET'), (('Wilton', 'PRT'), ('Wilton', 'NOUN'))],\n",
       " [('who', 'PRON'), (('*T*-120', 'PRT'), ('*T*-120', 'X'))],\n",
       " [('green', 'ADJ'), (('light', 'ADJ'), ('light', 'NOUN'))],\n",
       " [('a', 'DET'), (('Sanford', 'PRT'), ('Sanford', 'NOUN'))],\n",
       " [('*U*', 'X'), (('charge', 'VERB'), ('charge', 'NOUN'))],\n",
       " [('$', '.'), (('12.09', 'PRT'), ('12.09', 'NUM'))],\n",
       " [('different', 'ADJ'), (('ends', 'VERB'), ('ends', 'NOUN'))],\n",
       " [('political', 'ADJ'), (('spectrum', 'PRT'), ('spectrum', 'NOUN'))],\n",
       " [('a', 'DET'), (('liberal', 'ADJ'), ('liberal', 'NOUN'))],\n",
       " [('will', 'VERB'), (('likely', 'ADJ'), ('likely', 'ADV'))],\n",
       " [('likely', 'ADV'), (('trim', 'PRT'), ('trim', 'VERB'))],\n",
       " [('about', 'ADP'), (('275', 'PRT'), ('275', 'NUM'))],\n",
       " [('to', 'PRT'), (('350', 'PRT'), ('350', 'NUM'))],\n",
       " [('than', 'ADP'), (('21,000', 'PRT'), ('21,000', 'NUM'))],\n",
       " [('two', 'NUM'), (('round-trip', 'PRT'), ('round-trip', 'ADJ'))],\n",
       " [('on', 'ADP'), (('Trans', 'PRT'), ('Trans', 'NOUN'))],\n",
       " [('is', 'VERB'), (('imposing', 'PRT'), ('imposing', 'VERB'))],\n",
       " [('The', 'DET'), (('percent', 'PRT'), ('percent', 'NOUN'))],\n",
       " [('No', 'DET'), (('dummies', 'PRT'), ('dummies', 'NOUN'))],\n",
       " [(\"'s\", 'PRT'), (('mediocre', 'PRT'), ('mediocre', 'ADJ'))],\n",
       " [('he', 'PRON'), (('dubbed', 'PRT'), ('dubbed', 'VERB'))],\n",
       " [('even', 'ADV'), (('more', 'ADJ'), ('more', 'ADV'))],\n",
       " [('a', 'DET'), (('trap', 'PRT'), ('trap', 'NOUN'))],\n",
       " [('for', 'ADP'), (('unwary', 'PRT'), ('unwary', 'ADJ'))],\n",
       " [('senior', 'ADJ'), (('quantitative', 'PRT'), ('quantitative', 'ADJ'))],\n",
       " [('company', 'NOUN'), (('earlier', 'ADJ'), ('earlier', 'ADV'))],\n",
       " [('a', 'DET'),\n",
       "  (('shareholder-rights', 'PRT'), ('shareholder-rights', 'ADJ'))],\n",
       " [('off', 'PRT'), (('unwanted', 'PRT'), ('unwanted', 'ADJ'))],\n",
       " [('unwanted', 'ADJ'), (('suitors', 'PRT'), ('suitors', 'NOUN'))],\n",
       " [('who', 'PRON'), (('*T*-235', 'PRT'), ('*T*-235', 'X'))],\n",
       " [('all', 'DET'), (('that', 'ADP'), ('that', 'DET'))],\n",
       " [('yield', 'VERB'), (('7.422', 'PRT'), ('7.422', 'NUM'))],\n",
       " [('for', 'ADP'), (('sure', 'ADJ'), ('sure', 'ADV'))],\n",
       " [('it', 'PRON'), (('bid', 'NOUN'), ('bid', 'VERB'))],\n",
       " [('to', 'PRT'), (('design', 'NOUN'), ('design', 'VERB'))],\n",
       " [('the', 'DET'), (('Saitama', 'PRT'), ('Saitama', 'NOUN'))],\n",
       " [('Saitama', 'NOUN'), (('prefectural', 'PRT'), ('prefectural', 'ADJ'))],\n",
       " [('years', 'NOUN'), (('ago', 'ADP'), ('ago', 'ADV'))],\n",
       " [('it', 'PRON'), (('bid', 'NOUN'), ('bid', 'VERB'))],\n",
       " [('to', 'PRT'), (('plan', 'NOUN'), ('plan', 'VERB'))],\n",
       " [('for', 'ADP'), (('Wakayama', 'PRT'), ('Wakayama', 'NOUN'))],\n",
       " [('potential', 'ADJ'), (('bidder', 'PRT'), ('bidder', 'NOUN'))],\n",
       " [('segments', 'NOUN'), (('that', 'ADP'), ('that', 'DET'))],\n",
       " [(',', '.'), (('though', 'ADP'), ('though', 'ADV'))],\n",
       " [('was', 'VERB'), (('pushing', 'PRT'), ('pushing', 'VERB'))],\n",
       " [('too', 'ADV'), (('hard', 'ADJ'), ('hard', 'ADV'))],\n",
       " [('officials', 'NOUN'), (('plan', 'NOUN'), ('plan', 'VERB'))],\n",
       " [('involving', 'VERB'), (('fetal-tissue', 'ADJ'), ('fetal-tissue', 'NOUN'))],\n",
       " [('to', 'PRT'), (('913', 'PRT'), ('913', 'NUM'))],\n",
       " [('$', '.'), (('14.43', 'PRT'), ('14.43', 'NUM'))],\n",
       " [('the', 'DET'), (('most', 'ADJ'), ('most', 'ADV'))],\n",
       " [(\"'s\", 'PRT'), (('bloody', 'PRT'), ('bloody', 'ADJ'))],\n",
       " [('bloody', 'ADJ'), (('suppression', 'PRT'), ('suppression', 'NOUN'))],\n",
       " [(',', '.'), (('harped', 'PRT'), ('harped', 'VERB'))],\n",
       " [('international', 'ADJ'), (('outrage', 'PRT'), ('outrage', 'NOUN'))],\n",
       " [('the', 'DET'), (('massacre', 'PRT'), ('massacre', 'NOUN'))],\n",
       " [('C$', '.'), (('9.625', 'PRT'), ('9.625', 'NUM'))],\n",
       " [('is', 'VERB'), (('overstated', 'PRT'), ('overstated', 'VERB'))],\n",
       " [('an', 'DET'), (('interior', 'PRT'), ('interior', 'ADJ'))],\n",
       " [('interior', 'ADJ'), (('decorator', 'PRT'), ('decorator', 'NOUN'))],\n",
       " [('things', 'NOUN'), (('spook', 'PRT'), ('spook', 'VERB'))],\n",
       " [('``', '.'), (('Lighthouse', 'PRT'), ('Lighthouse', 'NOUN'))],\n",
       " [('was', 'VERB'), (('painted', 'PRT'), ('painted', 'VERB'))],\n",
       " [('in', 'ADP'), (('oils', 'PRT'), ('oils', 'NOUN'))],\n",
       " [('the', 'DET'), (('playwright', 'PRT'), ('playwright', 'NOUN'))],\n",
       " [('in', 'ADP'), (('1901', 'PRT'), ('1901', 'NUM'))],\n",
       " [('in', 'ADP'), (('warehouses', 'PRT'), ('warehouses', 'NOUN'))],\n",
       " [('In', 'ADP'), (('early', 'ADJ'), ('early', 'ADV'))],\n",
       " [('fell', 'VERB'), (('63.79', 'PRT'), ('63.79', 'NUM'))],\n",
       " [('to', 'PRT'), (('35500.64', 'PRT'), ('35500.64', 'NUM'))],\n",
       " [(',', '.'), (('1996', 'PRT'), ('1996', 'NUM'))],\n",
       " [('-LRB-', '.'), (('Schweiz', 'PRT'), ('Schweiz', 'NOUN'))],\n",
       " [('of', 'ADP'), (('change-ringing', 'PRT'), ('change-ringing', 'NOUN'))],\n",
       " [('is', 'VERB'), (('peculiar', 'PRT'), ('peculiar', 'ADJ'))],\n",
       " [('the', 'DET'), (('English', 'ADJ'), ('English', 'NOUN'))],\n",
       " [('most', 'ADJ'), (('English', 'NOUN'), ('English', 'ADJ'))],\n",
       " [('English', 'ADJ'), (('peculiarities', 'PRT'), ('peculiarities', 'NOUN'))],\n",
       " [(',', '.'), (('unintelligible', 'PRT'), ('unintelligible', 'ADJ'))],\n",
       " [('the', 'DET'), (('Domaine', 'PRT'), ('Domaine', 'NOUN'))],\n",
       " [('de', 'ADP'), (('la', 'PRT'), ('la', 'DET'))],\n",
       " [('the', 'DET'), (('most', 'ADJ'), ('most', 'ADV'))],\n",
       " [('of', 'ADP'), (('vineyard', 'PRT'), ('vineyard', 'NOUN'))],\n",
       " [('vineyard', 'NOUN'), (('anywhere', 'PRT'), ('anywhere', 'ADV'))],\n",
       " [('have', 'VERB'), (('commanded', 'PRT'), ('commanded', 'VERB'))],\n",
       " [('commanded', 'VERB'), (('three-digit', 'PRT'), ('three-digit', 'ADJ'))],\n",
       " [('price', 'NOUN'), (('tags', 'PRT'), ('tags', 'NOUN'))],\n",
       " [('two', 'NUM'), (('ancillary', 'PRT'), ('ancillary', 'ADJ'))],\n",
       " [('to', 'PRT'), (('combine', 'PRT'), ('combine', 'VERB'))],\n",
       " [('``', '.'), (('melt-textured', 'PRT'), ('melt-textured', 'ADJ'))],\n",
       " [('*', 'X'), (('earlier', 'ADV'), ('earlier', 'ADJ'))],\n",
       " [('be', 'VERB'), (('less', 'ADJ'), ('less', 'ADV'))],\n",
       " [('would', 'VERB'), (('junk', 'NOUN'), ('junk', 'VERB'))],\n",
       " [('an', 'DET'), (('innovative', 'PRT'), ('innovative', 'ADJ'))],\n",
       " [('innovative', 'ADJ'), (('market-based', 'PRT'), ('market-based', 'ADJ'))],\n",
       " [('*', 'X'), (('trading', 'NOUN'), ('trading', 'VERB'))],\n",
       " [('among', 'ADP'), (('polluters', 'PRT'), ('polluters', 'NOUN'))],\n",
       " [('.', '.'), (('Retail', 'PRT'), ('Retail', 'ADJ'))],\n",
       " [('*-2', 'X'), (('slow', 'VERB'), ('slow', 'ADV'))],\n",
       " [(',', '.'), (('big-ticket', 'PRT'), ('big-ticket', 'ADJ'))],\n",
       " [('the', 'DET'), (('crystal-lattice', 'NOUN'), ('crystal-lattice', 'ADJ'))],\n",
       " [('of', 'ADP'), (('current', 'ADJ'), ('current', 'NOUN'))],\n",
       " [('600,000', 'NUM'), (('amps', 'PRT'), ('amps', 'NOUN'))],\n",
       " [('square', 'ADJ'), (('centimeter', 'PRT'), ('centimeter', 'NOUN'))],\n",
       " [(',', '.'), (('executes', 'PRT'), ('executes', 'VERB'))],\n",
       " [('who', 'PRON'), (('earlier', 'ADJ'), ('earlier', 'ADV'))],\n",
       " [('two', 'NUM'), (('beers', 'PRT'), ('beers', 'NOUN'))],\n",
       " [('beers', 'NOUN'), (('drunk', 'PRT'), ('drunk', 'ADJ'))],\n",
       " [('reporter', 'NOUN'), (('Andy', 'PRT'), ('Andy', 'NOUN'))],\n",
       " [('Andy', 'NOUN'), (('Furillo', 'PRT'), ('Furillo', 'NOUN'))],\n",
       " [('*T*-50', 'X'), (('away', 'PRT'), ('away', 'ADV'))],\n",
       " [('Herald', 'NOUN'), (('out', 'PRT'), ('out', 'ADP'))],\n",
       " [('Ms.', 'NOUN'), (('Kirkpatrick', 'PRT'), ('Kirkpatrick', 'NOUN'))],\n",
       " [('to', 'PRT'), (('display', 'PRT'), ('display', 'VERB'))],\n",
       " [('overhead', 'ADJ'), (('projector', 'PRT'), ('projector', 'NOUN'))],\n",
       " [('and', 'CONJ'), (('underline', 'PRT'), ('underline', 'VERB'))],\n",
       " [('.', '.'), (('Second', 'NOUN'), ('Second', 'ADJ'))],\n",
       " [('they', 'PRON'), (('channel', 'PRT'), ('channel', 'VERB'))],\n",
       " [('with', 'ADP'), (('overcapacity', 'PRT'), ('overcapacity', 'NOUN'))],\n",
       " [('.', '.'), (('Ad', 'PRT'), ('Ad', 'NOUN'))],\n",
       " [('Ad', 'NOUN'), (('Notes', 'PRT'), ('Notes', 'NOUN'))],\n",
       " [('coming', 'VERB'), (('closer', 'ADJ'), ('closer', 'ADV'))],\n",
       " [('*', 'X'), (('achieving', 'PRT'), ('achieving', 'VERB'))],\n",
       " [('some', 'DET'), (('downward', 'ADV'), ('downward', 'ADJ'))],\n",
       " [('Intelogic', 'NOUN'), (('Trace', 'PRT'), ('Trace', 'NOUN'))],\n",
       " [('an', 'DET'), (('unaffiliated', 'PRT'), ('unaffiliated', 'ADJ'))],\n",
       " [('$', '.'), (('3.625', 'PRT'), ('3.625', 'NUM'))],\n",
       " [('compromise', 'NOUN'), (('sets', 'NOUN'), ('sets', 'VERB'))],\n",
       " [('$', '.'), (('3.61', 'PRT'), ('3.61', 'NUM'))],\n",
       " [('0', 'X'), (('advertising', 'VERB'), ('advertising', 'NOUN'))],\n",
       " [('as', 'ADP'), (('cocky', 'PRT'), ('cocky', 'ADJ'))],\n",
       " [('too', 'ADV'), (('yielding', 'VERB'), ('yielding', 'ADJ'))],\n",
       " [('*ICH*-1', 'X'), (('Takeshi', 'PRT'), ('Takeshi', 'NOUN'))],\n",
       " [('Takeshi', 'NOUN'), (('Kondo', 'PRT'), ('Kondo', 'NOUN'))],\n",
       " [('*-2', 'X'), (('sacrificing', 'PRT'), ('sacrificing', 'VERB'))],\n",
       " [('sale', 'NOUN'), (('that', 'ADP'), ('that', 'DET'))],\n",
       " [('that', 'DET'), (('*T*-140', 'PRT'), ('*T*-140', 'X'))],\n",
       " [('is', 'VERB'), (('sufficient', 'PRT'), ('sufficient', 'ADJ'))],\n",
       " [(\"'s\", 'PRT'), (('swelling', 'PRT'), ('swelling', 'VERB'))],\n",
       " [('is', 'VERB'), (('worrying', 'PRT'), ('worrying', 'VERB'))],\n",
       " [('and', 'CONJ'), (('money-center', 'PRT'), ('money-center', 'ADJ'))],\n",
       " [(',', '.'), (('as', 'ADP'), ('as', 'ADV'))],\n",
       " [('each', 'DET'), (('set', 'VERB'), ('set', 'NOUN'))],\n",
       " [('asbestos', 'NOUN'), (('fiber', 'PRT'), ('fiber', 'NOUN'))],\n",
       " [('unusually', 'ADV'), (('resilient', 'PRT'), ('resilient', 'ADJ'))],\n",
       " [('resilient', 'ADJ'), (('once', 'ADV'), ('once', 'ADP'))],\n",
       " [('the', 'DET'), (('lungs', 'PRT'), ('lungs', 'NOUN'))],\n",
       " [('causing', 'VERB'), (('symptoms', 'PRT'), ('symptoms', 'NOUN'))],\n",
       " [('show', 'VERB'), (('up', 'ADV'), ('up', 'PRT'))],\n",
       " [('a', 'DET'), (('low-tech', 'PRT'), ('low-tech', 'ADJ'))],\n",
       " [('can', 'VERB'), (('catch', 'NOUN'), ('catch', 'VERB'))],\n",
       " [(\"'s\", 'PRT'), (('fancy', 'PRT'), ('fancy', 'NOUN'))],\n",
       " [('a', 'DET'), (('strategic', 'PRT'), ('strategic', 'ADJ'))],\n",
       " [('strategic', 'ADJ'), (('fit', 'ADJ'), ('fit', 'NOUN'))],\n",
       " [('The', 'DET'), (('Nine', 'PRT'), ('Nine', 'NUM'))],\n",
       " [('Nine', 'NUM'), (('Tailors', 'PRT'), ('Tailors', 'NOUN'))],\n",
       " [('$', '.'), (('343', 'PRT'), ('343', 'NUM'))],\n",
       " [('world-wide', 'ADJ'),\n",
       "  (('restructuring', 'NOUN'), ('restructuring', 'VERB'))],\n",
       " [('the', 'DET'), (('impression', 'PRT'), ('impression', 'NOUN'))],\n",
       " [('impression', 'NOUN'), (('that', 'DET'), ('that', 'ADP'))],\n",
       " [('working', 'VERB'), (('harder', 'ADJ'), ('harder', 'ADV'))],\n",
       " [('and', 'CONJ'), (('restructuring', 'NOUN'), ('restructuring', 'VERB'))],\n",
       " [('included', 'VERB'), (('Woolworth', 'PRT'), ('Woolworth', 'NOUN'))],\n",
       " [('Avon', 'NOUN'), (('Products', 'PRT'), ('Products', 'NOUN'))],\n",
       " [(';', '.'), (('Paramount', 'PRT'), ('Paramount', 'NOUN'))],\n",
       " [('and', 'CONJ'), (('Ferro', 'PRT'), ('Ferro', 'NOUN'))],\n",
       " [('legislation', 'NOUN'), (('that', 'ADP'), ('that', 'DET'))],\n",
       " [('a', 'DET'), (('while', 'ADP'), ('while', 'NOUN'))],\n",
       " [('v.', 'CONJ'), (('Lilly', 'PRT'), ('Lilly', 'NOUN'))],\n",
       " [('makers', 'NOUN'), (('that', 'ADP'), ('that', 'DET'))],\n",
       " [('0', 'X'), (('Mindy', 'PRT'), ('Mindy', 'NOUN'))],\n",
       " [('*-1', 'X'), (('characterizing', 'PRT'), ('characterizing', 'VERB'))],\n",
       " [('to', 'PRT'), (('entrench', 'PRT'), ('entrench', 'VERB'))],\n",
       " [(',', '.'), (('confuse', 'PRT'), ('confuse', 'VERB'))],\n",
       " [('to', 'PRT'), (('export', 'NOUN'), ('export', 'VERB'))],\n",
       " [('the', 'DET'), (('1990-91', 'PRT'), ('1990-91', 'NUM'))],\n",
       " [('season', 'NOUN'), (('so', 'ADV'), ('so', 'ADP'))],\n",
       " [('for', 'ADP'), (('automobile', 'PRT'), ('automobile', 'NOUN'))],\n",
       " [('automobile', 'NOUN'), (('fuel', 'VERB'), ('fuel', 'NOUN'))],\n",
       " [('who', 'PRON'), (('*T*-169', 'PRT'), ('*T*-169', 'X'))],\n",
       " [('also', 'ADV'), (('more', 'ADJ'), ('more', 'ADV'))],\n",
       " [('more', 'ADV'), (('knowledgeable', 'PRT'), ('knowledgeable', 'ADJ'))],\n",
       " [('years', 'NOUN'), (('ago', 'ADP'), ('ago', 'ADV'))],\n",
       " [('.', '.'), (('Deregulation', 'PRT'), ('Deregulation', 'NOUN'))],\n",
       " [('pay', 'VERB'), (('*T*-201', 'PRT'), ('*T*-201', 'X'))],\n",
       " [(',', '.'), (('as', 'ADP'), ('as', 'ADV'))],\n",
       " [('opened', 'VERB'), (('up', 'ADV'), ('up', 'PRT'))],\n",
       " [('as', 'ADP'), (('high-rate', 'PRT'), ('high-rate', 'ADJ'))],\n",
       " [('high-rate', 'ADJ'), (('CDs', 'PRT'), ('CDs', 'NOUN'))],\n",
       " [('adds', 'VERB'), (('up', 'ADV'), ('up', 'PRT'))],\n",
       " [('to', 'PRT'), (('American-style', 'PRT'), ('American-style', 'ADJ'))],\n",
       " [('the', 'DET'), (('most', 'ADJ'), ('most', 'ADV'))],\n",
       " [('trading', 'NOUN'), (('that', 'ADP'), ('that', 'DET'))],\n",
       " [('that', 'DET'), (('*T*-253', 'PRT'), ('*T*-253', 'X'))],\n",
       " [('to', 'PRT'), (('exploit', 'PRT'), ('exploit', 'VERB'))],\n",
       " [('exploit', 'VERB'), (('brief', 'VERB'), ('brief', 'ADJ'))],\n",
       " [('been', 'VERB'), (('reallocated', 'PRT'), ('reallocated', 'VERB'))],\n",
       " [('remaining', 'VERB'), (('23,403', 'PRT'), ('23,403', 'NUM'))],\n",
       " [('for', 'ADP'), (('growers', 'PRT'), ('growers', 'NOUN'))],\n",
       " [('runs', 'VERB'), (('as', 'ADP'), ('as', 'ADV'))],\n",
       " [('as', 'ADP'), (('athletic', 'PRT'), ('athletic', 'ADJ'))],\n",
       " [('*-2', 'X'), (('to', 'PRT'), ('to', 'ADJ'))],\n",
       " [('to', 'ADJ'), (('appeal', 'VERB'), ('appeal', 'NOUN'))],\n",
       " [(\"n't\", 'ADV'), (('enough', 'ADV'), ('enough', 'ADJ'))],\n",
       " [('ring', 'VERB'), (('more', 'ADV'), ('more', 'ADJ'))],\n",
       " [(\"'s\", 'PRT'), (('Dana-Farber', 'PRT'), ('Dana-Farber', 'NOUN'))],\n",
       " [('``', '.'), (('simultaneously', 'PRT'), ('simultaneously', 'ADV'))],\n",
       " [('a', 'DET'), (('housing', 'PRT'), ('housing', 'NOUN'))],\n",
       " [('social', 'ADJ'), (('disaffiliation', 'PRT'), ('disaffiliation', 'NOUN'))],\n",
       " [('social', 'ADJ'), (('welfare', 'PRT'), ('welfare', 'NOUN'))],\n",
       " [('the', 'DET'), (('decay', 'PRT'), ('decay', 'NOUN'))],\n",
       " [('problem', 'NOUN'), (('intimately', 'PRT'), ('intimately', 'ADV'))],\n",
       " [('persons', 'NOUN'), (('living', 'NOUN'), ('living', 'VERB'))],\n",
       " [('on', 'ADP'), (('recycled', 'PRT'), ('recycled', 'VERB'))],\n",
       " [('-RRB-', '.'), (('Stockholders', 'PRT'), ('Stockholders', 'NOUN'))],\n",
       " [('who', 'PRON'), (('*T*-233', 'PRT'), ('*T*-233', 'X'))],\n",
       " [('the', 'DET'), (('hint', 'PRT'), ('hint', 'NOUN'))],\n",
       " [('shares', 'NOUN'), (('escaped', 'PRT'), ('escaped', 'VERB'))],\n",
       " [('October', 'NOUN'), (('debacle', 'PRT'), ('debacle', 'NOUN'))],\n",
       " [('.', '.'), (('PRECIOUS', 'PRT'), ('PRECIOUS', 'NOUN'))],\n",
       " [('PRECIOUS', 'NOUN'), (('METALS', 'PRT'), ('METALS', 'NOUN'))],\n",
       " [('eased', 'VERB'), (('as', 'ADP'), ('as', 'ADV'))],\n",
       " [('lower', 'ADJ'), (('Dutch', 'NOUN'), ('Dutch', 'ADJ'))],\n",
       " [('tax', 'NOUN'), (('outlay', 'PRT'), ('outlay', 'NOUN'))],\n",
       " [('set', 'VERB'), (('up', 'ADV'), ('up', 'PRT'))],\n",
       " [('up', 'PRT'), (('mechanisms', 'PRT'), ('mechanisms', 'NOUN'))],\n",
       " [('to', 'PRT'), (('limit', 'NOUN'), ('limit', 'VERB'))],\n",
       " [('how', 'ADV'), (('far', 'ADV'), ('far', 'ADJ'))],\n",
       " [('squeezed', 'VERB'), (('*-122', 'PRT'), ('*-122', 'X'))],\n",
       " [('the', 'DET'), (('mid-1970s', 'PRT'), ('mid-1970s', 'NUM'))],\n",
       " [('for', 'ADP'), (('alleged', 'ADJ'), ('alleged', 'VERB'))],\n",
       " [('alleged', 'VERB'), (('workplace', 'PRT'), ('workplace', 'NOUN'))],\n",
       " [('.', '.'), (('Hours', 'PRT'), ('Hours', 'NOUN'))],\n",
       " [(',', '.'), (('representatives', 'PRT'), ('representatives', 'NOUN'))],\n",
       " [('*-1', 'X'), (('recruiting', 'PRT'), ('recruiting', 'VERB'))],\n",
       " [('*', 'X'), (('deducting', 'PRT'), ('deducting', 'VERB'))],\n",
       " [('from', 'ADP'), (('gross', 'PRT'), ('gross', 'ADJ'))],\n",
       " [('drove', 'VERB'), (('up', 'ADV'), ('up', 'PRT'))],\n",
       " [('A', 'DET'), (('Different', 'PRT'), ('Different', 'NOUN'))],\n",
       " [('a', 'DET'), (('spin-off', 'PRT'), ('spin-off', 'NOUN'))],\n",
       " [('reruns', 'NOUN'), (('*T*-151', 'PRT'), ('*T*-151', 'X'))],\n",
       " [('said', 'VERB'), (('universally', 'PRT'), ('universally', 'ADV'))],\n",
       " [('.', '.'), (('Groups', 'PRT'), ('Groups', 'NOUN'))],\n",
       " [('*', 'X'), (('advocating', 'PRT'), ('advocating', 'VERB'))],\n",
       " [('policies', 'NOUN'), (('that', 'ADP'), ('that', 'DET'))],\n",
       " [('ignoring', 'VERB'),\n",
       "  (('discrimination', 'PRT'), ('discrimination', 'NOUN'))],\n",
       " [('IRS', 'NOUN'), (('rarely', 'PRT'), ('rarely', 'ADV'))],\n",
       " [('rarely', 'ADV'), (('acted', 'PRT'), ('acted', 'VERB'))],\n",
       " [(',', '.'), (('T-shirts', 'PRT'), ('T-shirts', 'NOUN'))],\n",
       " [('the', 'DET'), (('corridors', 'PRT'), ('corridors', 'NOUN'))],\n",
       " [('familiar', 'ADJ'), (('red-and-white', 'PRT'), ('red-and-white', 'ADJ'))],\n",
       " [('red-and-white', 'ADJ'), (('GHS', 'PRT'), ('GHS', 'NOUN'))],\n",
       " [('GHS', 'NOUN'), (('logo', 'PRT'), ('logo', 'NOUN'))],\n",
       " [(\"'s\", 'PRT'), (('short-lived', 'PRT'), ('short-lived', 'ADJ'))],\n",
       " [('democratic', 'ADJ'), (('Kerensky', 'PRT'), ('Kerensky', 'NOUN'))],\n",
       " [('the', 'DET'), (('Communists', 'PRT'), ('Communists', 'NOUN'))],\n",
       " [('Communists', 'NOUN'), (('seized', 'PRT'), ('seized', 'VERB'))],\n",
       " [('in', 'ADP'), (('1917', 'PRT'), ('1917', 'NUM'))],\n",
       " [('In', 'ADP'), (('mid-October', 'PRT'), ('mid-October', 'NOUN'))],\n",
       " [('its', 'PRON'), (('guaranteed', 'PRT'), ('guaranteed', 'VERB'))],\n",
       " [('per', 'ADP'), (('subscriber', 'PRT'), ('subscriber', 'NOUN'))],\n",
       " [('Time', 'NOUN'), (('costs', 'NOUN'), ('costs', 'VERB'))],\n",
       " [('$', '.'), (('120,000', 'PRT'), ('120,000', 'NUM'))],\n",
       " [('The', 'DET'), (('beds', 'PRT'), ('beds', 'NOUN'))],\n",
       " [('the', 'DET'), (('Bowery', 'PRT'), ('Bowery', 'NOUN'))],\n",
       " [('Bowery', 'NOUN'), (('Mission', 'PRT'), ('Mission', 'NOUN'))],\n",
       " [('seem', 'VERB'), (('far', 'ADV'), ('far', 'ADJ'))],\n",
       " [('far', 'ADJ'), (('drearier', 'PRT'), ('drearier', 'ADV'))],\n",
       " [('to', 'PRT'), (('tuck', 'PRT'), ('tuck', 'VERB'))],\n",
       " [('funds', 'NOUN'), (('that', 'ADP'), ('that', 'DET'))],\n",
       " [('to', 'PRT'), (('trade', 'NOUN'), ('trade', 'VERB'))],\n",
       " [('.', '.'), (('Average', 'NOUN'), ('Average', 'ADJ'))],\n",
       " [('of', 'ADP'), (('negotiable', 'PRT'), ('negotiable', 'ADJ'))],\n",
       " [('negotiable', 'ADJ'), (('C.D.s', 'PRT'), ('C.D.s', 'NOUN'))],\n",
       " [('those', 'DET'), (('related', 'ADJ'), ('related', 'VERB'))],\n",
       " [('the', 'DET'), (('Cray-3', 'NOUN'), ('Cray-3', 'NUM'))],\n",
       " [('Pacific', 'NOUN'), (('rim', 'PRT'), ('rim', 'NOUN'))],\n",
       " [('following', 'VERB'), (('up', 'ADV'), ('up', 'PRT'))],\n",
       " [('by', 'ADP'), (('Australian', 'ADJ'), ('Australian', 'NOUN'))],\n",
       " [('Bob', 'NOUN'), (('Hawke', 'PRT'), ('Hawke', 'NOUN'))],\n",
       " [('as', 'ADP'), (('long', 'ADJ'), ('long', 'ADV'))],\n",
       " [(\"'s\", 'PRT'), (('stock-index', 'ADJ'), ('stock-index', 'NOUN'))],\n",
       " [('traders', 'NOUN'), (('trade', 'NOUN'), ('trade', 'VERB'))],\n",
       " [('trade', 'VERB'), (('more', 'ADV'), ('more', 'ADJ'))],\n",
       " [('dollars', 'NOUN'), (('worth', 'ADP'), ('worth', 'NOUN'))],\n",
       " [('Board', 'NOUN'), (('trades', 'NOUN'), ('trades', 'VERB'))],\n",
       " [('was', 'VERB'), (('116.9', 'PRT'), ('116.9', 'NUM'))],\n",
       " [('the', 'DET'), (('past', 'ADJ'), ('past', 'NOUN'))],\n",
       " [('of', 'ADP'), (('112.9', 'PRT'), ('112.9', 'NUM'))],\n",
       " [('of', 'ADP'), (('120.7', 'PRT'), ('120.7', 'NUM'))],\n",
       " [('to', 'PRT'), (('trash', 'PRT'), ('trash', 'VERB'))],\n",
       " [('economic', 'ADJ'), (('sluggishness', 'PRT'), ('sluggishness', 'NOUN'))],\n",
       " [('.', '.'), (('Individual', 'PRT'), ('Individual', 'ADJ'))],\n",
       " [('$', '.'), (('2.95', 'PRT'), ('2.95', 'NUM'))],\n",
       " [('and', 'CONJ'), (('yearly', 'PRT'), ('yearly', 'ADJ'))],\n",
       " [('to', 'PRT'), (('favor', 'NOUN'), ('favor', 'VERB'))],\n",
       " [('the', 'DET'), (('sensational', 'PRT'), ('sensational', 'ADJ'))],\n",
       " [('the', 'DET'), (('revelations', 'PRT'), ('revelations', 'NOUN'))],\n",
       " [('the', 'DET'), (('breezy', 'PRT'), ('breezy', 'ADJ'))],\n",
       " [(',', '.'), (('easy-to-read', 'PRT'), ('easy-to-read', 'ADJ'))],\n",
       " [('tabloid', 'ADJ'), (('writing', 'VERB'), ('writing', 'NOUN'))],\n",
       " [('of', 'ADP'), (('gripping', 'PRT'), ('gripping', 'ADJ'))],\n",
       " [('$', '.'), (('1.1650', 'PRT'), ('1.1650', 'NUM'))],\n",
       " [('off', 'PRT'), (('down', 'ADV'), ('down', 'ADP'))],\n",
       " [(',', '.'), (('change', 'NOUN'), ('change', 'VERB'))],\n",
       " [('from', 'ADP'), (('borrowers', 'PRT'), ('borrowers', 'NOUN'))],\n",
       " [('to', 'PRT'),\n",
       "  (('savers\\\\/investors', 'PRT'), ('savers\\\\/investors', 'NOUN'))],\n",
       " [('.', '.'), (('Such', 'ADJ'), ('Such', 'DET'))],\n",
       " [('investor', 'NOUN'), (('that', 'ADP'), ('that', 'DET'))],\n",
       " [('Paul', 'NOUN'), (('Sandifer', 'PRT'), ('Sandifer', 'NOUN'))],\n",
       " [('are', 'VERB'), (('purely', 'PRT'), ('purely', 'ADV'))],\n",
       " [('without', 'ADP'), (('foundation', 'PRT'), ('foundation', 'NOUN'))],\n",
       " [('unfair', 'ADJ'), (('inferences', 'PRT'), ('inferences', 'NOUN'))],\n",
       " [('plunged', 'VERB'), (('about', 'ADP'), ('about', 'ADV'))],\n",
       " [('The', 'DET'), (('PLO', 'PRT'), ('PLO', 'NOUN'))],\n",
       " [('failed', 'VERB'), (('earlier', 'ADJ'), ('earlier', 'ADV'))],\n",
       " [('World', 'NOUN'), (('Tourism', 'PRT'), ('Tourism', 'NOUN'))],\n",
       " [('for', 'ADP'), (('alleged', 'ADJ'), ('alleged', 'VERB'))],\n",
       " [('steel', 'NOUN'), (('mill', 'PRT'), ('mill', 'NOUN'))],\n",
       " [('*', 'X'), (('Being', 'PRT'), ('Being', 'VERB'))],\n",
       " [('the', 'DET'), (('37-year-old', 'PRT'), ('37-year-old', 'ADJ'))],\n",
       " [('her', 'PRON'), (('dismissal', 'PRT'), ('dismissal', 'NOUN'))],\n",
       " [('The', 'DET'), (('declaration', 'PRT'), ('declaration', 'NOUN'))],\n",
       " [('by', 'ADP'), (('Economy', 'PRT'), ('Economy', 'NOUN'))],\n",
       " [('Minister', 'NOUN'), (('Nestor', 'PRT'), ('Nestor', 'NOUN'))],\n",
       " [(',', '.'), (('First', 'NOUN'), ('First', 'ADJ'))],\n",
       " [('in', 'ADP'), (('detail', 'PRT'), ('detail', 'NOUN'))],\n",
       " [('*-4', 'X'), (('referring', 'PRT'), ('referring', 'VERB'))],\n",
       " [('``', '.'), (('queers', 'PRT'), ('queers', 'NOUN'))],\n",
       " [('been', 'VERB'), (('cruising', 'PRT'), ('cruising', 'VERB'))],\n",
       " [('*-3', 'X'), (('picking', 'PRT'), ('picking', 'VERB'))],\n",
       " [('picking', 'VERB'), (('up', 'ADV'), ('up', 'PRT'))],\n",
       " [('up', 'PRT'), (('teenage', 'PRT'), ('teenage', 'ADJ'))],\n",
       " [('yielding', 'VERB'), (('9.32', 'PRT'), ('9.32', 'NUM'))],\n",
       " [('a', 'DET'), (('12-year', 'PRT'), ('12-year', 'ADJ'))],\n",
       " [('12-year', 'ADJ'), (('average', 'ADJ'), ('average', 'NOUN'))],\n",
       " [('for', 'ADP'), (('when-issued', 'PRT'), ('when-issued', 'ADJ'))],\n",
       " [('when-issued', 'ADJ'), (('trading', 'NOUN'), ('trading', 'VERB'))],\n",
       " [('Congress', 'NOUN'), (('approves', 'PRT'), ('approves', 'VERB'))],\n",
       " [('*-1', 'X'), (('clearing', 'PRT'), ('clearing', 'VERB'))],\n",
       " [('.', '.'), (('Packages', 'PRT'), ('Packages', 'NOUN'))],\n",
       " [('*-1', 'X'), (('rewarding', 'PRT'), ('rewarding', 'VERB'))],\n",
       " [('includes', 'VERB'), (('pretax', 'ADJ'), ('pretax', 'NOUN'))],\n",
       " [('while', 'ADP'), (('like', 'ADP'), ('like', 'ADJ'))],\n",
       " [('returns', 'NOUN'), (('compare', 'PRT'), ('compare', 'VERB'))],\n",
       " [('%', 'NOUN'), (('total', 'NOUN'), ('total', 'ADJ'))],\n",
       " [('a', 'DET'), (('seasoned', 'PRT'), ('seasoned', 'ADJ'))],\n",
       " [('good', 'ADJ'), (('rapport', 'PRT'), ('rapport', 'NOUN'))],\n",
       " [('are', 'VERB'), (('fond', 'PRT'), ('fond', 'ADJ'))],\n",
       " [('are', 'VERB'), (('blocked', 'PRT'), ('blocked', 'VERB'))],\n",
       " [('blocked', 'VERB'), (('*-159', 'PRT'), ('*-159', 'X'))],\n",
       " [('simply', 'ADV'), (('emigrate', 'PRT'), ('emigrate', 'VERB'))],\n",
       " [('*-1', 'X'), (('acknowledging', 'PRT'), ('acknowledging', 'VERB'))],\n",
       " [('increasing', 'VERB'), (('that', 'ADP'), ('that', 'ADV'))],\n",
       " [('that', 'ADV'), (('much', 'ADJ'), ('much', 'ADV'))],\n",
       " [('$', '.'), (('415', 'PRT'), ('415', 'NUM'))],\n",
       " [('*U*', 'X'), (('charge', 'VERB'), ('charge', 'NOUN'))],\n",
       " [('for', 'ADP'), (('underperforming', 'PRT'), ('underperforming', 'VERB'))],\n",
       " [('Gulf', 'NOUN'), (('spurns', 'PRT'), ('spurns', 'VERB'))],\n",
       " [('information', 'NOUN'), (('dating', 'PRT'), ('dating', 'VERB'))],\n",
       " [('Ms.', 'NOUN'), (('Ensrud', 'PRT'), ('Ensrud', 'NOUN'))],\n",
       " [('a', 'DET'), (('free-lance', 'PRT'), ('free-lance', 'ADJ'))],\n",
       " [('he', 'PRON'), (('reaffirmed', 'PRT'), ('reaffirmed', 'VERB'))],\n",
       " [('reaffirmed', 'VERB'), (('support', 'VERB'), ('support', 'NOUN'))],\n",
       " [(',', '.'), (('Ortega', 'PRT'), ('Ortega', 'NOUN'))],\n",
       " [('could', 'VERB'), (('thwart', 'PRT'), ('thwart', 'VERB'))],\n",
       " [(',', '.'), (('that', 'DET'), ('that', 'ADP'))],\n",
       " [('who', 'PRON'), (('*T*-127', 'PRT'), ('*T*-127', 'X'))],\n",
       " [('their', 'PRON'), (('identities', 'PRT'), ('identities', 'NOUN'))],\n",
       " [('economists', 'NOUN'), (('forecast', 'NOUN'), ('forecast', 'VERB'))],\n",
       " [('%', 'NOUN'), (('rise', 'VERB'), ('rise', 'NOUN'))],\n",
       " [('no', 'DET'), (('guarantee', 'VERB'), ('guarantee', 'NOUN'))],\n",
       " [('sports', 'NOUN'), (('coverage', 'PRT'), ('coverage', 'NOUN'))],\n",
       " [('and', 'CONJ'), (('arts', 'PRT'), ('arts', 'NOUN'))],\n",
       " [('arts', 'NOUN'), (('criticism', 'PRT'), ('criticism', 'NOUN'))],\n",
       " [('*T*-1', 'X'), ((\"'s\", 'PRT'), (\"'s\", 'VERB'))]]"
      ]
     },
     "execution_count": 36,
     "metadata": {},
     "output_type": "execute_result"
    }
   ],
   "source": [
    "#Get the words in the test set which are incorrectly classified\n",
    "incorrect_tagged_cases = [[test_run_base[i-1],j] for i, j in enumerate(zip(tagged_seq, test_run_base)) if j[0]!=j[1]]\n",
    "incorrect_tagged_cases"
   ]
  },
  {
   "cell_type": "markdown",
   "metadata": {},
   "source": [
    "Most of the words which are not present in training set are simply assigned the first pos tag in the training pos tagset\n",
    "\n",
    "Let us do the analysis on the test file which we read before"
   ]
  },
  {
   "cell_type": "code",
   "execution_count": 37,
   "metadata": {},
   "outputs": [
    {
     "data": {
      "text/plain": [
       "[('Android', 'PRT'),\n",
       " ('is', 'VERB'),\n",
       " ('a', 'DET'),\n",
       " ('mobile', 'ADJ'),\n",
       " ('operating', 'NOUN'),\n",
       " ('system', 'NOUN'),\n",
       " ('developed', 'VERB'),\n",
       " ('by', 'ADP'),\n",
       " ('Google', 'PRT'),\n",
       " ('.', '.'),\n",
       " ('Android', 'PRT'),\n",
       " ('has', 'VERB'),\n",
       " ('been', 'VERB'),\n",
       " ('the', 'DET'),\n",
       " ('best-selling', 'ADJ'),\n",
       " ('OS', 'PRT'),\n",
       " ('worldwide', 'PRT'),\n",
       " ('on', 'ADP'),\n",
       " ('smartphones', 'PRT'),\n",
       " ('since', 'ADP'),\n",
       " ('2011', 'PRT'),\n",
       " ('and', 'CONJ'),\n",
       " ('on', 'ADP'),\n",
       " ('tablets', 'NOUN'),\n",
       " ('since', 'ADP'),\n",
       " ('2013', 'PRT'),\n",
       " ('.', '.'),\n",
       " ('Google', 'PRT'),\n",
       " ('and', 'CONJ'),\n",
       " ('Twitter', 'PRT'),\n",
       " ('made', 'VERB'),\n",
       " ('a', 'DET'),\n",
       " ('deal', 'NOUN'),\n",
       " ('in', 'ADP'),\n",
       " ('2015', 'PRT'),\n",
       " ('that', 'DET'),\n",
       " ('gave', 'VERB'),\n",
       " ('Google', 'PRT'),\n",
       " ('access', 'NOUN'),\n",
       " ('to', 'PRT'),\n",
       " ('Twitter', 'PRT'),\n",
       " (\"'s\", 'VERB'),\n",
       " ('firehose', 'PRT'),\n",
       " ('.', '.'),\n",
       " ('Twitter', 'PRT'),\n",
       " ('is', 'VERB'),\n",
       " ('an', 'DET'),\n",
       " ('online', 'PRT'),\n",
       " ('news', 'NOUN'),\n",
       " ('and', 'CONJ'),\n",
       " ('social', 'ADJ'),\n",
       " ('networking', 'NOUN'),\n",
       " ('service', 'NOUN'),\n",
       " ('on', 'ADP'),\n",
       " ('which', 'DET'),\n",
       " ('users', 'NOUN'),\n",
       " ('post', 'NOUN'),\n",
       " ('and', 'CONJ'),\n",
       " ('interact', 'PRT'),\n",
       " ('with', 'ADP'),\n",
       " ('messages', 'PRT'),\n",
       " ('known', 'VERB'),\n",
       " ('as', 'ADP'),\n",
       " ('tweets', 'PRT'),\n",
       " ('.', '.'),\n",
       " ('Before', 'ADP'),\n",
       " ('entering', 'VERB'),\n",
       " ('politics', 'NOUN'),\n",
       " (',', '.'),\n",
       " ('Donald', 'NOUN'),\n",
       " ('Trump', 'NOUN'),\n",
       " ('was', 'VERB'),\n",
       " ('a', 'DET'),\n",
       " ('domineering', 'PRT'),\n",
       " ('businessman', 'NOUN'),\n",
       " ('and', 'CONJ'),\n",
       " ('a', 'DET'),\n",
       " ('television', 'NOUN'),\n",
       " ('personality', 'PRT'),\n",
       " ('.', '.'),\n",
       " ('The', 'DET'),\n",
       " ('2018', 'PRT'),\n",
       " ('FIFA', 'PRT'),\n",
       " ('World', 'NOUN'),\n",
       " ('Cup', 'PRT'),\n",
       " ('is', 'VERB'),\n",
       " ('the', 'DET'),\n",
       " ('21st', 'PRT'),\n",
       " ('FIFA', 'PRT'),\n",
       " ('World', 'NOUN'),\n",
       " ('Cup', 'PRT'),\n",
       " (',', '.'),\n",
       " ('an', 'DET'),\n",
       " ('international', 'ADJ'),\n",
       " ('football', 'NOUN'),\n",
       " ('tournament', 'PRT'),\n",
       " ('contested', 'PRT'),\n",
       " ('once', 'ADV'),\n",
       " ('every', 'DET'),\n",
       " ('four', 'NUM'),\n",
       " ('years', 'NOUN'),\n",
       " ('.', '.'),\n",
       " ('This', 'DET'),\n",
       " ('is', 'VERB'),\n",
       " ('the', 'DET'),\n",
       " ('first', 'ADJ'),\n",
       " ('World', 'NOUN'),\n",
       " ('Cup', 'PRT'),\n",
       " ('to', 'PRT'),\n",
       " ('be', 'VERB'),\n",
       " ('held', 'VERB'),\n",
       " ('in', 'ADP'),\n",
       " ('Eastern', 'NOUN'),\n",
       " ('Europe', 'NOUN'),\n",
       " ('and', 'CONJ'),\n",
       " ('the', 'DET'),\n",
       " ('11th', 'ADJ'),\n",
       " ('time', 'NOUN'),\n",
       " ('that', 'ADP'),\n",
       " ('it', 'PRON'),\n",
       " ('has', 'VERB'),\n",
       " ('been', 'VERB'),\n",
       " ('held', 'VERB'),\n",
       " ('in', 'ADP'),\n",
       " ('Europe', 'NOUN'),\n",
       " ('.', '.'),\n",
       " ('Show', 'NOUN'),\n",
       " ('me', 'PRON'),\n",
       " ('the', 'DET'),\n",
       " ('cheapest', 'ADJ'),\n",
       " ('round', 'NOUN'),\n",
       " ('trips', 'PRT'),\n",
       " ('from', 'ADP'),\n",
       " ('Dallas', 'NOUN'),\n",
       " ('to', 'PRT'),\n",
       " ('Atlanta', 'NOUN'),\n",
       " ('I', 'PRON'),\n",
       " ('would', 'VERB'),\n",
       " ('like', 'ADP'),\n",
       " ('to', 'PRT'),\n",
       " ('see', 'VERB'),\n",
       " ('flights', 'NOUN'),\n",
       " ('from', 'ADP'),\n",
       " ('Denver', 'NOUN'),\n",
       " ('to', 'PRT'),\n",
       " ('Philadelphia', 'NOUN'),\n",
       " ('.', '.'),\n",
       " ('Show', 'NOUN'),\n",
       " ('me', 'PRON'),\n",
       " ('the', 'DET'),\n",
       " ('price', 'NOUN'),\n",
       " ('of', 'ADP'),\n",
       " ('the', 'DET'),\n",
       " ('flights', 'NOUN'),\n",
       " ('leaving', 'VERB'),\n",
       " ('Atlanta', 'NOUN'),\n",
       " ('at', 'ADP'),\n",
       " ('about', 'ADP'),\n",
       " ('3', 'NUM'),\n",
       " ('in', 'ADP'),\n",
       " ('the', 'DET'),\n",
       " ('afternoon', 'NOUN'),\n",
       " ('and', 'CONJ'),\n",
       " ('arriving', 'PRT'),\n",
       " ('in', 'ADP'),\n",
       " ('San', 'NOUN'),\n",
       " ('Francisco', 'NOUN'),\n",
       " ('.', '.'),\n",
       " ('NASA', 'PRT'),\n",
       " ('invited', 'PRT'),\n",
       " ('social', 'ADJ'),\n",
       " ('media', 'NOUN'),\n",
       " ('users', 'NOUN'),\n",
       " ('to', 'PRT'),\n",
       " ('experience', 'NOUN'),\n",
       " ('the', 'DET'),\n",
       " ('launch', 'NOUN'),\n",
       " ('of', 'ADP'),\n",
       " ('ICESAT-2', 'PRT'),\n",
       " ('Satellite', 'PRT'),\n",
       " ('.', '.')]"
      ]
     },
     "execution_count": 37,
     "metadata": {},
     "output_type": "execute_result"
    }
   ],
   "source": [
    "#Get the predictions on the test sentences\n",
    "sample_pred_list =[]\n",
    "for line in test_lines:\n",
    "    sample_pred_list=sample_pred_list+list(Viterbi(word_tokenize(line)))\n",
    "sample_pred_list"
   ]
  },
  {
   "cell_type": "markdown",
   "metadata": {},
   "source": [
    "For words like 'Android','Google' the first tag in the training pos tagset is given. Let us see if these words exist in the training corpus"
   ]
  },
  {
   "cell_type": "code",
   "execution_count": 38,
   "metadata": {},
   "outputs": [],
   "source": [
    "#Get the tokens in the test file\n",
    "sample_words=[tokens for line in test_lines for tokens in word_tokenize(line)]"
   ]
  },
  {
   "cell_type": "code",
   "execution_count": 39,
   "metadata": {},
   "outputs": [
    {
     "data": {
      "text/plain": [
       "['personality',\n",
       " '21st',\n",
       " '2018',\n",
       " 'worldwide',\n",
       " 'messages',\n",
       " 'invited',\n",
       " 'Satellite',\n",
       " 'online',\n",
       " 'firehose',\n",
       " 'Google',\n",
       " 'tournament',\n",
       " '2013',\n",
       " 'OS',\n",
       " 'smartphones',\n",
       " '2011',\n",
       " 'NASA',\n",
       " 'tweets',\n",
       " 'FIFA',\n",
       " 'arriving',\n",
       " 'Android',\n",
       " 'interact',\n",
       " 'contested',\n",
       " 'ICESAT-2',\n",
       " 'trips',\n",
       " 'Twitter',\n",
       " 'domineering',\n",
       " '2015',\n",
       " 'Cup']"
      ]
     },
     "execution_count": 39,
     "metadata": {},
     "output_type": "execute_result"
    }
   ],
   "source": [
    "#Get the list of words which are present in test lines but not in the training corpus\n",
    "words_not_in_corpus = list(set(sample_words) - set(tokens))\n",
    "words_not_in_corpus"
   ]
  },
  {
   "cell_type": "markdown",
   "metadata": {},
   "source": [
    "Clearly the words like 'Google','Android','Fifa' are not present in the training set and they are all tagged default tags."
   ]
  },
  {
   "cell_type": "code",
   "execution_count": 40,
   "metadata": {},
   "outputs": [
    {
     "data": {
      "text/plain": [
       "[('Android', 'PRT'),\n",
       " ('Google', 'PRT'),\n",
       " ('Android', 'PRT'),\n",
       " ('OS', 'PRT'),\n",
       " ('worldwide', 'PRT'),\n",
       " ('smartphones', 'PRT'),\n",
       " ('2011', 'PRT'),\n",
       " ('2013', 'PRT'),\n",
       " ('Google', 'PRT'),\n",
       " ('Twitter', 'PRT'),\n",
       " ('2015', 'PRT'),\n",
       " ('Google', 'PRT'),\n",
       " ('Twitter', 'PRT'),\n",
       " ('firehose', 'PRT'),\n",
       " ('Twitter', 'PRT'),\n",
       " ('online', 'PRT'),\n",
       " ('interact', 'PRT'),\n",
       " ('messages', 'PRT'),\n",
       " ('tweets', 'PRT'),\n",
       " ('domineering', 'PRT'),\n",
       " ('personality', 'PRT'),\n",
       " ('2018', 'PRT'),\n",
       " ('FIFA', 'PRT'),\n",
       " ('Cup', 'PRT'),\n",
       " ('21st', 'PRT'),\n",
       " ('FIFA', 'PRT'),\n",
       " ('Cup', 'PRT'),\n",
       " ('tournament', 'PRT'),\n",
       " ('contested', 'PRT'),\n",
       " ('Cup', 'PRT'),\n",
       " ('trips', 'PRT'),\n",
       " ('arriving', 'PRT'),\n",
       " ('NASA', 'PRT'),\n",
       " ('invited', 'PRT'),\n",
       " ('ICESAT-2', 'PRT'),\n",
       " ('Satellite', 'PRT')]"
      ]
     },
     "execution_count": 40,
     "metadata": {},
     "output_type": "execute_result"
    }
   ],
   "source": [
    "#Get the tags predicted for unknown words\n",
    "[tup for tup in sample_pred_list for word in words_not_in_corpus if tup[0]==word ]"
   ]
  },
  {
   "cell_type": "code",
   "execution_count": 41,
   "metadata": {},
   "outputs": [
    {
     "data": {
      "text/plain": [
       "Counter({'DET': 8263,\n",
       "         'NOUN': 27467,\n",
       "         '.': 11109,\n",
       "         'X': 6290,\n",
       "         'VERB': 12876,\n",
       "         'ADJ': 6060,\n",
       "         'CONJ': 2158,\n",
       "         'PRT': 3048,\n",
       "         'ADP': 9368,\n",
       "         'ADV': 2981,\n",
       "         'PRON': 2590,\n",
       "         'NUM': 3361})"
      ]
     },
     "execution_count": 41,
     "metadata": {},
     "output_type": "execute_result"
    }
   ],
   "source": [
    "#Let us see the count of all tags in the training set\n",
    "from collections import Counter\n",
    "tag_counts = Counter(pair[1] for pair in train_tagged_words)\n",
    "tag_counts"
   ]
  },
  {
   "cell_type": "code",
   "execution_count": 42,
   "metadata": {},
   "outputs": [
    {
     "data": {
      "text/plain": [
       "[('NOUN', 27467), ('VERB', 12876), ('.', 11109), ('ADP', 9368), ('DET', 8263)]"
      ]
     },
     "execution_count": 42,
     "metadata": {},
     "output_type": "execute_result"
    }
   ],
   "source": [
    "# see most common tags can in the training corpus\n",
    "tag_counts.most_common(5)"
   ]
  },
  {
   "cell_type": "code",
   "execution_count": 43,
   "metadata": {},
   "outputs": [
    {
     "data": {
      "text/plain": [
       "Counter({'ADP': 24,\n",
       "         'NOUN': 35,\n",
       "         'PRT': 302,\n",
       "         'ADJ': 35,\n",
       "         'NUM': 1,\n",
       "         'ADV': 19,\n",
       "         'VERB': 17,\n",
       "         'DET': 3})"
      ]
     },
     "execution_count": 43,
     "metadata": {},
     "output_type": "execute_result"
    }
   ],
   "source": [
    "#Lets see count of incorrectly classfied words for each tag\n",
    "wrong_tag_counts = Counter(pair[1][0][1] for pair in incorrect_tagged_cases)\n",
    "wrong_tag_counts"
   ]
  },
  {
   "cell_type": "code",
   "execution_count": 44,
   "metadata": {},
   "outputs": [
    {
     "name": "stdout",
     "output_type": "stream",
     "text": [
      "0.206430568499534\n"
     ]
    },
    {
     "data": {
      "text/plain": [
       "[('received', 'VERB'),\n",
       " ('expected', 'VERB'),\n",
       " ('signed', 'VERB'),\n",
       " ('noted', 'VERB'),\n",
       " ('based', 'VERB'),\n",
       " ('owned', 'VERB'),\n",
       " ('offered', 'VERB'),\n",
       " ('curled', 'VERB'),\n",
       " ('designed', 'VERB'),\n",
       " ('complained', 'VERB'),\n",
       " ('disputed', 'VERB'),\n",
       " ('noted', 'VERB'),\n",
       " ('concluded', 'VERB'),\n",
       " ('engineered', 'VERB'),\n",
       " ('conducted', 'VERB'),\n",
       " ('predicted', 'VERB'),\n",
       " ('produced', 'VERB'),\n",
       " ('worked', 'VERB'),\n",
       " ('announced', 'VERB'),\n",
       " ('bothered', 'VERB')]"
      ]
     },
     "execution_count": 44,
     "metadata": {},
     "output_type": "execute_result"
    }
   ],
   "source": [
    "# Let us see the percentage of verbs which are classifed as 'verb which end with 'ed'\n",
    "verbs = [pair for pair in train_tagged_words if pair[1]=='VERB']\n",
    "ed_verbs = [pair for pair in verbs if pair[0].endswith('ed')]\n",
    "print(len(ed_verbs) / len(verbs))\n",
    "ed_verbs[:20]\n"
   ]
  },
  {
   "cell_type": "markdown",
   "metadata": {},
   "source": [
    "Around 20% of words which end with 'ed' are verbs. Though it is 20% it is high because this is universal tagset and Verbs contain all the forms of verbs"
   ]
  },
  {
   "cell_type": "code",
   "execution_count": 45,
   "metadata": {},
   "outputs": [
    {
     "name": "stdout",
     "output_type": "stream",
     "text": [
      "0.10826343584964275\n"
     ]
    },
    {
     "data": {
      "text/plain": [
       "[('considering', 'VERB'),\n",
       " ('declaring', 'VERB'),\n",
       " ('including', 'VERB'),\n",
       " ('leveling', 'VERB'),\n",
       " ('selling', 'VERB'),\n",
       " ('ignoring', 'VERB'),\n",
       " ('taking', 'VERB'),\n",
       " ('pealing', 'VERB'),\n",
       " ('covering', 'VERB'),\n",
       " ('naming', 'VERB'),\n",
       " ('devouring', 'VERB'),\n",
       " ('soliciting', 'VERB'),\n",
       " ('giving', 'VERB'),\n",
       " ('involving', 'VERB'),\n",
       " ('Determining', 'VERB'),\n",
       " ('bring', 'VERB'),\n",
       " ('contributing', 'VERB'),\n",
       " ('purchasing', 'VERB'),\n",
       " ('purchasing', 'VERB'),\n",
       " ('saying', 'VERB')]"
      ]
     },
     "execution_count": 45,
     "metadata": {},
     "output_type": "execute_result"
    }
   ],
   "source": [
    "# Let us see the percentage of verbs which are classifed as 'verb which end with 'ing'\n",
    "verbs = [pair for pair in train_tagged_words if pair[1]=='VERB']\n",
    "ing_verbs = [pair for pair in verbs if pair[0].endswith('ing')]\n",
    "print(len(ing_verbs) / len(verbs))\n",
    "ing_verbs[:20]"
   ]
  },
  {
   "cell_type": "code",
   "execution_count": 46,
   "metadata": {},
   "outputs": [
    {
     "name": "stdout",
     "output_type": "stream",
     "text": [
      "6060\n",
      "4236\n",
      "0.699009900990099\n"
     ]
    }
   ],
   "source": [
    "#Lets see percentage of Adjective tags followed by nouns\n",
    "# create a list of all tags (without the words)\n",
    "tags = [pair[1] for pair in train_tagged_words]\n",
    "\n",
    "# create a list of Adj tags\n",
    "adj_tags = [t for t in tags if t == 'ADJ']\n",
    "\n",
    "# create a list of (ADJ, Noun) tags\n",
    "adj_noun_tags = [(t, tags[index+1]) for index, t in enumerate(tags) \n",
    "              if t=='ADJ' and tags[index+1]=='NOUN']\n",
    "\n",
    "print(len(adj_tags))\n",
    "print(len(adj_noun_tags))\n",
    "print(len(adj_noun_tags) / len(adj_tags))"
   ]
  },
  {
   "cell_type": "markdown",
   "metadata": {},
   "source": [
    "Around 70% of adjectives are followed by Nouns"
   ]
  },
  {
   "cell_type": "code",
   "execution_count": 47,
   "metadata": {},
   "outputs": [
    {
     "name": "stdout",
     "output_type": "stream",
     "text": [
      "8263\n",
      "5279\n",
      "0.6388720803582234\n"
     ]
    }
   ],
   "source": [
    "#Lets see percentage of Determinent tags followed by nouns\n",
    "dt_tags = [t for t in tags if t == 'DET']\n",
    "dt_noun_tags = [(t, tags[index+1]) for index, t in enumerate(tags) \n",
    "              if t=='DET' and tags[index+1]=='NOUN']\n",
    "\n",
    "print(len(dt_tags))\n",
    "print(len(dt_noun_tags))\n",
    "print(len(dt_noun_tags) / len(dt_tags))"
   ]
  },
  {
   "cell_type": "markdown",
   "metadata": {},
   "source": [
    "Around 64% of determinants are followed by Nouns"
   ]
  },
  {
   "cell_type": "code",
   "execution_count": 48,
   "metadata": {},
   "outputs": [
    {
     "name": "stdout",
     "output_type": "stream",
     "text": [
      "2981\n",
      "1029\n",
      "0.3451861791345186\n"
     ]
    }
   ],
   "source": [
    "#Lets see percentage of Adverbs tags followed by Verbs\n",
    "adv_tags = [t for t in tags if t == 'ADV']\n",
    "adv_vb_tags = [(t, tags[index+1]) for index, t in enumerate(tags) \n",
    "              if t=='ADV' and tags[index+1]=='VERB']\n",
    "\n",
    "print(len(adv_tags))\n",
    "print(len(adv_vb_tags))\n",
    "print(len(adv_vb_tags) / len(adv_tags))"
   ]
  },
  {
   "cell_type": "markdown",
   "metadata": {},
   "source": [
    "Around 35% of adverbs are followed by verbs.\n"
   ]
  },
  {
   "cell_type": "markdown",
   "metadata": {},
   "source": [
    "Lets use the EDA done above and also grammar to build our rules for regex based tagger"
   ]
  },
  {
   "cell_type": "code",
   "execution_count": 49,
   "metadata": {},
   "outputs": [],
   "source": [
    "# specify patterns for tagging\n",
    "patterns = [\n",
    "    (r'.*ing$', 'VERB'),              # gerund\n",
    "    (r'.*ed$', 'VERB'),               # past tense verbs\n",
    "    (r'.*es$', 'VERB'),               # singular present verbs\n",
    "    (r'.*ould$', 'VERB'),              # modal verbs\n",
    "    (r'.*\\'s$', 'NOUN'),              # possessive nouns\n",
    "    (r'.*s$', 'NOUN'),                # plural nouns\n",
    "    (r'^-?[0-9]+(.[0-9]+)?$', 'NUM'), # cardinal numbers\n",
    "    (r'(The|the|A|a|An|an)$', 'DET'),   # articles or determinants\n",
    "    (r'.*able$', 'ADJ'),                # adjectives\n",
    "    (r'.*ness$', 'NOUN'),                # nouns formed from adjectives\n",
    "    (r'.*ly$', 'ADV'),                  # adverbs\n",
    "    (r'.*', 'NOUN')                    # nouns\n",
    "]"
   ]
  },
  {
   "cell_type": "code",
   "execution_count": 50,
   "metadata": {},
   "outputs": [
    {
     "data": {
      "text/plain": [
       "0.9504407443682664"
      ]
     },
     "execution_count": 50,
     "metadata": {},
     "output_type": "execute_result"
    }
   ],
   "source": [
    "# rule based tagger\n",
    "rule_based_tagger = nltk.RegexpTagger(patterns)\n",
    "\n",
    "# lexicon backed up by the rule-based tagger\n",
    "lexicon_tagger = nltk.UnigramTagger(train_set, backoff=rule_based_tagger)\n",
    "\n",
    "lexicon_tagger.evaluate(test_set)"
   ]
  },
  {
   "cell_type": "markdown",
   "metadata": {},
   "source": [
    "For a Unigram lexicon tagger backed up by a rule based tagger the accuracy is around 95%. Let us improve it further by using N-gram taggers"
   ]
  },
  {
   "cell_type": "markdown",
   "metadata": {},
   "source": [
    "#### Evaluating tagging accuracy"
   ]
  },
  {
   "cell_type": "code",
   "execution_count": 51,
   "metadata": {},
   "outputs": [],
   "source": [
    "#Trigram tagger backed by Bigram backed by Unigram which is backed by rule based tagger\n",
    "t0 = nltk.RegexpTagger(patterns)\n",
    "t1 = nltk.UnigramTagger(train_set, backoff=t0)\n",
    "t2 = nltk.BigramTagger(train_set, backoff=t1)\n",
    "t3 = nltk.TrigramTagger(train_set, backoff=t2)"
   ]
  },
  {
   "cell_type": "markdown",
   "metadata": {},
   "source": [
    "Let us use Brill algorithm as a base algorithm backed by the tagger created above"
   ]
  },
  {
   "cell_type": "code",
   "execution_count": 52,
   "metadata": {},
   "outputs": [],
   "source": [
    "#Import libraries for brill\n",
    "import nltk.tag\n",
    "from nltk.tag import brill\n",
    "from nltk.tag.brill import *\n",
    "from nltk.tbl.template import Template\n",
    "from nltk.tag import BrillTaggerTrainer\n",
    "\n",
    "#Clear existing templates if any\n",
    "Template._cleartemplates()\n",
    "\n",
    "#Load the fntbl37 template\n",
    "templates = fntbl37()\n",
    " \n",
    "#Train the Brill model\n",
    "trainer = BrillTaggerTrainer(t3, templates)\n",
    "brill_tagger = trainer.train(train_set, max_rules=100, min_score=3)"
   ]
  },
  {
   "cell_type": "markdown",
   "metadata": {},
   "source": [
    "The state probabilities for unknown words become zero and hence the Viterbi algorithm updates the unknown words by default with the first tag in the training set."
   ]
  },
  {
   "cell_type": "markdown",
   "metadata": {},
   "source": [
    "Now lets modify the Viterbi algorithm such that when the state probabilities become zero it updates the tag based on the tagger we created above"
   ]
  },
  {
   "cell_type": "code",
   "execution_count": 53,
   "metadata": {},
   "outputs": [],
   "source": [
    "# Viterbi Heuristic\n",
    "def Viterbi_updated(words, train_bag = train_tagged_words):\n",
    "    state = []\n",
    "    T = list(set([pair[1] for pair in train_bag]))\n",
    "    \n",
    "    for key, word in enumerate(words):\n",
    "        #initialise list of probability column for a given observation\n",
    "        p = [] \n",
    "        for tag in T:\n",
    "            if key == 0:\n",
    "                transition_p = tags_df.loc['.', tag]\n",
    "            else:\n",
    "                transition_p = tags_df.loc[state[-1], tag]\n",
    "                \n",
    "            # compute emission and state probabilities\n",
    "            emission_p = word_given_tag(words[key], tag)[0]/word_given_tag(words[key], tag)[1]\n",
    "            state_probability = emission_p * transition_p    \n",
    "            p.append(state_probability)\n",
    "            \n",
    "        pmax = max(p)\n",
    "       \n",
    "        #Check if state probability is zero\n",
    "        if(pmax==0.0):\n",
    "            #If state probability is zero i.e if the word is unknown if updates the tag based on the brill tagger\n",
    "            state_max = brill_tagger.tag([word])[0][1]\n",
    "        else:\n",
    "            # getting state for which probability is maximum\n",
    "            state_max = T[p.index(pmax)] \n",
    "        state.append(state_max)\n",
    "    return list(zip(words, state))"
   ]
  },
  {
   "cell_type": "markdown",
   "metadata": {},
   "source": [
    "### Compare the tagging accuracies of the modifications with the vanilla Viterbi algorithm"
   ]
  },
  {
   "cell_type": "code",
   "execution_count": 54,
   "metadata": {},
   "outputs": [
    {
     "name": "stdout",
     "output_type": "stream",
     "text": [
      "935.7924003601074\n"
     ]
    }
   ],
   "source": [
    "# tagging the test sentences with the updated Viterbi algorithm\n",
    "start = time.time()\n",
    "updated_tagged_seq = Viterbi_updated(test_tagged_words)\n",
    "end = time.time()\n",
    "difference = end-start\n",
    "#Print total time taken to train the algorithm\n",
    "print(difference)"
   ]
  },
  {
   "cell_type": "code",
   "execution_count": 55,
   "metadata": {},
   "outputs": [
    {
     "data": {
      "text/plain": [
       "0.9533790401567092"
      ]
     },
     "execution_count": 55,
     "metadata": {},
     "output_type": "execute_result"
    }
   ],
   "source": [
    "# Calculate the accuracy for the updated Viterbi algorithm\n",
    "check = [i for i, j in zip(updated_tagged_seq, test_run_base) if i == j] \n",
    "accuracy = len(check)/len(updated_tagged_seq)\n",
    "accuracy"
   ]
  },
  {
   "cell_type": "markdown",
   "metadata": {},
   "source": [
    "Accuracy is increased much by the updated Viterbi algorithm"
   ]
  },
  {
   "cell_type": "markdown",
   "metadata": {},
   "source": [
    "### List down cases which were incorrectly tagged by original POS tagger and got corrected by your modifications"
   ]
  },
  {
   "cell_type": "code",
   "execution_count": 56,
   "metadata": {},
   "outputs": [
    {
     "name": "stdout",
     "output_type": "stream",
     "text": [
      "[('Android', 'PRT'), ('is', 'VERB'), ('a', 'DET'), ('mobile', 'ADJ'), ('operating', 'NOUN'), ('system', 'NOUN'), ('developed', 'VERB'), ('by', 'ADP'), ('Google', 'PRT'), ('.', '.')]\n",
      "[('Android', 'PRT'), ('has', 'VERB'), ('been', 'VERB'), ('the', 'DET'), ('best-selling', 'ADJ'), ('OS', 'PRT'), ('worldwide', 'PRT'), ('on', 'ADP'), ('smartphones', 'PRT'), ('since', 'ADP'), ('2011', 'PRT'), ('and', 'CONJ'), ('on', 'ADP'), ('tablets', 'NOUN'), ('since', 'ADP'), ('2013', 'PRT'), ('.', '.')]\n",
      "[('Google', 'PRT'), ('and', 'CONJ'), ('Twitter', 'PRT'), ('made', 'VERB'), ('a', 'DET'), ('deal', 'NOUN'), ('in', 'ADP'), ('2015', 'PRT'), ('that', 'DET'), ('gave', 'VERB'), ('Google', 'PRT'), ('access', 'NOUN'), ('to', 'PRT'), ('Twitter', 'PRT'), (\"'s\", 'VERB'), ('firehose', 'PRT'), ('.', '.')]\n",
      "[('Twitter', 'PRT'), ('is', 'VERB'), ('an', 'DET'), ('online', 'PRT'), ('news', 'NOUN'), ('and', 'CONJ'), ('social', 'ADJ'), ('networking', 'NOUN'), ('service', 'NOUN'), ('on', 'ADP'), ('which', 'DET'), ('users', 'NOUN'), ('post', 'NOUN'), ('and', 'CONJ'), ('interact', 'PRT'), ('with', 'ADP'), ('messages', 'PRT'), ('known', 'VERB'), ('as', 'ADP'), ('tweets', 'PRT'), ('.', '.')]\n",
      "[('Before', 'ADP'), ('entering', 'VERB'), ('politics', 'NOUN'), (',', '.'), ('Donald', 'NOUN'), ('Trump', 'NOUN'), ('was', 'VERB'), ('a', 'DET'), ('domineering', 'PRT'), ('businessman', 'NOUN'), ('and', 'CONJ'), ('a', 'DET'), ('television', 'NOUN'), ('personality', 'PRT'), ('.', '.')]\n",
      "[('The', 'DET'), ('2018', 'PRT'), ('FIFA', 'PRT'), ('World', 'NOUN'), ('Cup', 'PRT'), ('is', 'VERB'), ('the', 'DET'), ('21st', 'PRT'), ('FIFA', 'PRT'), ('World', 'NOUN'), ('Cup', 'PRT'), (',', '.'), ('an', 'DET'), ('international', 'ADJ'), ('football', 'NOUN'), ('tournament', 'PRT'), ('contested', 'PRT'), ('once', 'ADV'), ('every', 'DET'), ('four', 'NUM'), ('years', 'NOUN'), ('.', '.')]\n",
      "[('This', 'DET'), ('is', 'VERB'), ('the', 'DET'), ('first', 'ADJ'), ('World', 'NOUN'), ('Cup', 'PRT'), ('to', 'PRT'), ('be', 'VERB'), ('held', 'VERB'), ('in', 'ADP'), ('Eastern', 'NOUN'), ('Europe', 'NOUN'), ('and', 'CONJ'), ('the', 'DET'), ('11th', 'ADJ'), ('time', 'NOUN'), ('that', 'ADP'), ('it', 'PRON'), ('has', 'VERB'), ('been', 'VERB'), ('held', 'VERB'), ('in', 'ADP'), ('Europe', 'NOUN'), ('.', '.')]\n",
      "[('Show', 'NOUN'), ('me', 'PRON'), ('the', 'DET'), ('cheapest', 'ADJ'), ('round', 'NOUN'), ('trips', 'PRT'), ('from', 'ADP'), ('Dallas', 'NOUN'), ('to', 'PRT'), ('Atlanta', 'NOUN')]\n",
      "[('I', 'PRON'), ('would', 'VERB'), ('like', 'ADP'), ('to', 'PRT'), ('see', 'VERB'), ('flights', 'NOUN'), ('from', 'ADP'), ('Denver', 'NOUN'), ('to', 'PRT'), ('Philadelphia', 'NOUN'), ('.', '.')]\n",
      "[('Show', 'NOUN'), ('me', 'PRON'), ('the', 'DET'), ('price', 'NOUN'), ('of', 'ADP'), ('the', 'DET'), ('flights', 'NOUN'), ('leaving', 'VERB'), ('Atlanta', 'NOUN'), ('at', 'ADP'), ('about', 'ADP'), ('3', 'NUM'), ('in', 'ADP'), ('the', 'DET'), ('afternoon', 'NOUN'), ('and', 'CONJ'), ('arriving', 'PRT'), ('in', 'ADP'), ('San', 'NOUN'), ('Francisco', 'NOUN'), ('.', '.')]\n",
      "[('NASA', 'PRT'), ('invited', 'PRT'), ('social', 'ADJ'), ('media', 'NOUN'), ('users', 'NOUN'), ('to', 'PRT'), ('experience', 'NOUN'), ('the', 'DET'), ('launch', 'NOUN'), ('of', 'ADP'), ('ICESAT-2', 'PRT'), ('Satellite', 'PRT'), ('.', '.')]\n"
     ]
    }
   ],
   "source": [
    "#Let us print the test lines with the initial Viterbi algorithm\n",
    "for line in test_lines:\n",
    "    print(list(Viterbi(word_tokenize(line))))"
   ]
  },
  {
   "cell_type": "code",
   "execution_count": 57,
   "metadata": {},
   "outputs": [
    {
     "name": "stdout",
     "output_type": "stream",
     "text": [
      "[('Android', 'NOUN'), ('is', 'VERB'), ('a', 'DET'), ('mobile', 'ADJ'), ('operating', 'NOUN'), ('system', 'NOUN'), ('developed', 'VERB'), ('by', 'ADP'), ('Google', 'NOUN'), ('.', '.')]\n",
      "[('Android', 'NOUN'), ('has', 'VERB'), ('been', 'VERB'), ('the', 'DET'), ('best-selling', 'ADJ'), ('OS', 'NOUN'), ('worldwide', 'NOUN'), ('on', 'ADP'), ('smartphones', 'VERB'), ('since', 'ADP'), ('2011', 'NUM'), ('and', 'CONJ'), ('on', 'ADP'), ('tablets', 'NOUN'), ('since', 'ADP'), ('2013', 'NUM'), ('.', '.')]\n",
      "[('Google', 'NOUN'), ('and', 'CONJ'), ('Twitter', 'NOUN'), ('made', 'VERB'), ('a', 'DET'), ('deal', 'NOUN'), ('in', 'ADP'), ('2015', 'NUM'), ('that', 'ADP'), ('gave', 'VERB'), ('Google', 'NOUN'), ('access', 'NOUN'), ('to', 'PRT'), ('Twitter', 'NOUN'), (\"'s\", 'PRT'), ('firehose', 'NOUN'), ('.', '.')]\n",
      "[('Twitter', 'NOUN'), ('is', 'VERB'), ('an', 'DET'), ('online', 'NOUN'), ('news', 'NOUN'), ('and', 'CONJ'), ('social', 'ADJ'), ('networking', 'NOUN'), ('service', 'NOUN'), ('on', 'ADP'), ('which', 'DET'), ('users', 'NOUN'), ('post', 'NOUN'), ('and', 'CONJ'), ('interact', 'NOUN'), ('with', 'ADP'), ('messages', 'VERB'), ('known', 'VERB'), ('as', 'ADP'), ('tweets', 'NOUN'), ('.', '.')]\n",
      "[('Before', 'ADP'), ('entering', 'VERB'), ('politics', 'NOUN'), (',', '.'), ('Donald', 'NOUN'), ('Trump', 'NOUN'), ('was', 'VERB'), ('a', 'DET'), ('domineering', 'VERB'), ('businessman', 'NOUN'), ('and', 'CONJ'), ('a', 'DET'), ('television', 'NOUN'), ('personality', 'NOUN'), ('.', '.')]\n",
      "[('The', 'DET'), ('2018', 'NUM'), ('FIFA', 'NOUN'), ('World', 'NOUN'), ('Cup', 'NOUN'), ('is', 'VERB'), ('the', 'DET'), ('21st', 'NOUN'), ('FIFA', 'NOUN'), ('World', 'NOUN'), ('Cup', 'NOUN'), (',', '.'), ('an', 'DET'), ('international', 'ADJ'), ('football', 'NOUN'), ('tournament', 'NOUN'), ('contested', 'VERB'), ('once', 'ADV'), ('every', 'DET'), ('four', 'NUM'), ('years', 'NOUN'), ('.', '.')]\n",
      "[('This', 'DET'), ('is', 'VERB'), ('the', 'DET'), ('first', 'ADJ'), ('World', 'NOUN'), ('Cup', 'NOUN'), ('to', 'PRT'), ('be', 'VERB'), ('held', 'VERB'), ('in', 'ADP'), ('Eastern', 'NOUN'), ('Europe', 'NOUN'), ('and', 'CONJ'), ('the', 'DET'), ('11th', 'ADJ'), ('time', 'NOUN'), ('that', 'ADP'), ('it', 'PRON'), ('has', 'VERB'), ('been', 'VERB'), ('held', 'VERB'), ('in', 'ADP'), ('Europe', 'NOUN'), ('.', '.')]\n",
      "[('Show', 'NOUN'), ('me', 'PRON'), ('the', 'DET'), ('cheapest', 'ADJ'), ('round', 'NOUN'), ('trips', 'NOUN'), ('from', 'ADP'), ('Dallas', 'NOUN'), ('to', 'PRT'), ('Atlanta', 'NOUN')]\n",
      "[('I', 'PRON'), ('would', 'VERB'), ('like', 'ADP'), ('to', 'PRT'), ('see', 'VERB'), ('flights', 'NOUN'), ('from', 'ADP'), ('Denver', 'NOUN'), ('to', 'PRT'), ('Philadelphia', 'NOUN'), ('.', '.')]\n",
      "[('Show', 'NOUN'), ('me', 'PRON'), ('the', 'DET'), ('price', 'NOUN'), ('of', 'ADP'), ('the', 'DET'), ('flights', 'NOUN'), ('leaving', 'VERB'), ('Atlanta', 'NOUN'), ('at', 'ADP'), ('about', 'ADP'), ('3', 'NUM'), ('in', 'ADP'), ('the', 'DET'), ('afternoon', 'NOUN'), ('and', 'CONJ'), ('arriving', 'VERB'), ('in', 'ADP'), ('San', 'NOUN'), ('Francisco', 'NOUN'), ('.', '.')]\n",
      "[('NASA', 'NOUN'), ('invited', 'VERB'), ('social', 'ADJ'), ('media', 'NOUN'), ('users', 'NOUN'), ('to', 'PRT'), ('experience', 'NOUN'), ('the', 'DET'), ('launch', 'NOUN'), ('of', 'ADP'), ('ICESAT-2', 'NOUN'), ('Satellite', 'NOUN'), ('.', '.')]\n"
     ]
    }
   ],
   "source": [
    "#Let us print the test lines with the updated Viterbi algorithm\n",
    "for line in test_lines:\n",
    "    print(list(Viterbi_updated(word_tokenize(line))))"
   ]
  },
  {
   "cell_type": "markdown",
   "metadata": {},
   "source": [
    "The following sentences are corrected by the modified viterbi algorithm"
   ]
  },
  {
   "cell_type": "markdown",
   "metadata": {},
   "source": [
    "**'Android is a mobile operating system developed by Google.'**<br>\n",
    "Here 'Android', 'Google' are unknown words and are incorrectly tagged in the initial viterbi algorithm. However with the updated Viterbi algorithm 'Android' and 'Google' are correctly classified as Nouns though they are unknown words\n",
    "\n",
    "**'Android has been the best-selling OS worldwide on smartphones since 2011 and on tablets since 2013.'**<br>\n",
    "Here 'Android', 'Google',' worldwide' are unknown words and are incorrectly tagged in the initial viterbi algorithm. However with the updated Viterbi algorithm 'Android' and 'Google' are correctly classified as Nouns though they are unknown words.\n",
    "\n",
    "Also words like '2011' are incorrectly classified with the original algorithm. Because we used rule based tagger as backoff tagger and we have rule for indicating cardinal numbers '2011' is correctly tagged as 'NUM' in the updated viterbi algorithm\n",
    "\n",
    "**'NASA invited social media users to experience the launch of ICESAT-2 Satellite.'**<br>\n",
    "Here 'NASA', 'ICESAT-2',' Satellite' are unknown words and are incorrectly tagged in the initial viterbi algorithm. However with the updated Viterbi algorithm 'Android' and 'Google' are correctly classified as Nouns though they are unknown words.\n",
    "\n",
    "Also words like '2011' are incorrectly classified with the original algorithm. Because we used rule based tagger as backoff tagger and we have rule for indicating cardinal numbers '2011' is correctly tagged as 'NUM' in the updated viterbi algorithm"
   ]
  },
  {
   "cell_type": "code",
   "execution_count": 58,
   "metadata": {},
   "outputs": [],
   "source": [
    "# Viterbi Heuristic\n",
    "def Viterbi_updated2(words, train_bag = train_tagged_words):\n",
    "    state = []\n",
    "    T = list(set([pair[1] for pair in train_bag]))\n",
    "    \n",
    "    for key, word in enumerate(words):\n",
    "        #initialise list of probability column for a given observation\n",
    "        p = [] \n",
    "        for tag in T:\n",
    "            if key == 0:\n",
    "                transition_p = tags_df.loc['.', tag]\n",
    "            else:\n",
    "                transition_p = tags_df.loc[state[-1], tag]\n",
    "                \n",
    "            # compute emission and state probabilities\n",
    "            emission_p = word_given_tag(words[key], tag)[0]/word_given_tag(words[key], tag)[1]\n",
    "            state_probability = emission_p * transition_p    \n",
    "            p.append(state_probability)\n",
    "            \n",
    "        pmax = max(p)\n",
    "       \n",
    "        #Check if state probability is zero\n",
    "        if(pmax<0.001):\n",
    "            #If state probability is zero i.e if the word is unknown if updates the tag based on the brill tagger\n",
    "            state_max = brill_tagger.tag([word])[0][1]\n",
    "        else:\n",
    "            # getting state for which probability is maximum\n",
    "            state_max = T[p.index(pmax)] \n",
    "        state.append(state_max)\n",
    "    return list(zip(words, state))"
   ]
  },
  {
   "cell_type": "code",
   "execution_count": 59,
   "metadata": {},
   "outputs": [
    {
     "name": "stdout",
     "output_type": "stream",
     "text": [
      "912.756956577301\n"
     ]
    }
   ],
   "source": [
    "# tagging the test sentences with the updated Viterbi algorithm\n",
    "start = time.time()\n",
    "updated_tagged_seq = Viterbi_updated2(test_tagged_words)\n",
    "end = time.time()\n",
    "difference = end-start\n",
    "#Print total time taken to train the algorithm\n",
    "print(difference)"
   ]
  },
  {
   "cell_type": "code",
   "execution_count": 60,
   "metadata": {},
   "outputs": [
    {
     "data": {
      "text/plain": [
       "0.9476983349657199"
      ]
     },
     "execution_count": 60,
     "metadata": {},
     "output_type": "execute_result"
    }
   ],
   "source": [
    "# Calculate the accuracy for the updated Viterbi algorithm\n",
    "check = [i for i, j in zip(updated_tagged_seq, test_run_base) if i == j] \n",
    "accuracy = len(check)/len(updated_tagged_seq)\n",
    "accuracy"
   ]
  },
  {
   "cell_type": "code",
   "execution_count": null,
   "metadata": {},
   "outputs": [],
   "source": []
  }
 ],
 "metadata": {
  "kernelspec": {
   "display_name": "Python 3",
   "language": "python",
   "name": "python3"
  },
  "language_info": {
   "codemirror_mode": {
    "name": "ipython",
    "version": 3
   },
   "file_extension": ".py",
   "mimetype": "text/x-python",
   "name": "python",
   "nbconvert_exporter": "python",
   "pygments_lexer": "ipython3",
   "version": "3.8.5"
  }
 },
 "nbformat": 4,
 "nbformat_minor": 2
}
